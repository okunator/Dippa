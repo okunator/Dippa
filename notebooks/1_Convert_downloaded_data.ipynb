{
 "cells": [
  {
   "cell_type": "markdown",
   "metadata": {},
   "source": [
    "# File format and folder structure\n",
    "\n",
    "The folder structure for this project is designed so that there won't be any hassling with folders and paths when using these codes. \n",
    "\n",
    "Images in these datasets are .png and .tif files which cv2 can read and the masks will be converted into the same format as in the the HoVer-Net paper which is:\n",
    "\n",
    "- .mat files\n",
    "- 'inst_map' is the key for accessing the nuclei instance maps\n",
    "- 'type_map' is the key for accessing the nuclei type maps if the dataset contains them.\n",
    "- .mat files will contain keys: 'inst_map', 'type_map', 'inst_centroid', 'inst_bbox', 'inst_type' for each dataset. If there are no cell type labels then the type maps are just binary masks\n",
    "\n",
    "By running these, also the instance and type map overlays can be drawn to their corresponding folders for further visual investigations..."
   ]
  },
  {
   "cell_type": "code",
   "execution_count": 1,
   "metadata": {},
   "outputs": [],
   "source": [
    "from src.conf.config import CONFIG\n",
    "from src.utils.data_downloader import Downloader"
   ]
  },
  {
   "cell_type": "code",
   "execution_count": 2,
   "metadata": {},
   "outputs": [],
   "source": [
    "config = CONFIG"
   ]
  },
  {
   "source": [
    "# First download all the data files from the internet. Make sure you have enough memory on disk."
   ],
   "cell_type": "markdown",
   "metadata": {}
  },
  {
   "cell_type": "code",
   "execution_count": 3,
   "metadata": {},
   "outputs": [],
   "source": [
    "Downloader.download_datasets()"
   ]
  },
  {
   "cell_type": "markdown",
   "metadata": {},
   "source": [
    "# Kumar\n",
    "\n",
    "This moves the raw data to it's own folder and and writes .mat masks and copies images to their own folders"
   ]
  },
  {
   "source": [
    "config.dataset_args.dataset = \"kumar\"\n",
    "downloader_kumar = Downloader.from_conf(config)\n",
    "downloader_kumar.handle_raw_data(rm_zips=False, overlays=True)"
   ],
   "cell_type": "code",
   "metadata": {},
   "execution_count": 3,
   "outputs": []
  },
  {
   "cell_type": "markdown",
   "metadata": {},
   "source": [
    "# Consep\n",
    "\n",
    "This moves the raw original data to it's own folder and copies the .mat masks and images to right folders"
   ]
  },
  {
   "cell_type": "code",
   "execution_count": 9,
   "metadata": {},
   "outputs": [],
   "source": [
    "config.dataset_args.dataset = \"consep\"\n",
    "downloader_consep = Downloader.from_conf(config)\n",
    "downloader_consep.handle_raw_data(rm_zips=False, overlays=True)"
   ]
  },
  {
   "cell_type": "markdown",
   "metadata": {},
   "source": [
    "# Pannuke\n",
    "\n",
    "This converts the .npy files to png and .mat files and moves them to their corresponding folders\n",
    "- Takes a couple of mins"
   ]
  },
  {
   "cell_type": "code",
   "execution_count": 3,
   "metadata": {
    "scrolled": true
   },
   "outputs": [],
   "source": [
    "config.dataset_args.dataset = \"pannuke\"\n",
    "downloader_pannuke = Downloader.from_conf(config)\n",
    "downloader_pannuke.handle_raw_data(\n",
    "    rm_zips=False, \n",
    "    overlays=True,\n",
    "    pannuke_folds={\"fold1\":\"train\", \"fold2\":\"valid\", \"fold3\":\"test\"}\n",
    ")"
   ]
  }
 ],
 "metadata": {
  "kernelspec": {
   "display_name": "Python 3",
   "language": "python",
   "name": "python3"
  },
  "language_info": {
   "codemirror_mode": {
    "name": "ipython",
    "version": 3
   },
   "file_extension": ".py",
   "mimetype": "text/x-python",
   "name": "python",
   "nbconvert_exporter": "python",
   "pygments_lexer": "ipython3",
   "version": "3.6.9-final"
  }
 },
 "nbformat": 4,
 "nbformat_minor": 4
}