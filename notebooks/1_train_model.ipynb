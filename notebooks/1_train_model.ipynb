{
 "cells": [
  {
   "cell_type": "code",
   "execution_count": 1,
   "metadata": {
    "tags": []
   },
   "outputs": [],
   "source": [
    "import src.dl.lightning as lightning\n",
    "from src.config import CONFIG"
   ]
  },
  {
   "cell_type": "markdown",
   "metadata": {},
   "source": [
    "# Train your pytorch model"
   ]
  },
  {
   "cell_type": "code",
   "execution_count": 2,
   "metadata": {
    "tags": []
   },
   "outputs": [],
   "source": [
    "# Get data module\n",
    "# from src.dl.lightning import PannukeDataModule\n",
    "# config = CONFIG\n",
    "# pannuke_module = PannukeDataModule.from_conf(config)\n",
    "# pannuke_module.prepare_data()\n",
    "# pannuke_module.setup(stage=\"fit\")"
   ]
  },
  {
   "cell_type": "code",
   "execution_count": 3,
   "metadata": {},
   "outputs": [
    {
     "output_type": "stream",
     "name": "stderr",
     "text": [
      "GPU available: True, used: True\n",
      "TPU available: False, using: 0 TPU cores\n"
     ]
    }
   ],
   "source": [
    "# Insert the model to pytorch lightning\n",
    "config = CONFIG\n",
    "lightning_model = lightning.SegModel.from_conf(config)\n",
    "trainer = lightning.SegTrainer.from_conf(config)"
   ]
  },
  {
   "cell_type": "code",
   "execution_count": 4,
   "metadata": {
    "tags": []
   },
   "outputs": [],
   "source": [
    "# %load_ext tensorboard\n",
    "# %tensorboard --logdir {trainer.logging_dir}\n",
    "# lightning_model"
   ]
  },
  {
   "cell_type": "markdown",
   "metadata": {},
   "source": [
    "# Train the model"
   ]
  },
  {
   "cell_type": "code",
   "execution_count": 5,
   "metadata": {},
   "outputs": [],
   "source": [
    "# lightning_model"
   ]
  },
  {
   "cell_type": "code",
   "execution_count": 6,
   "metadata": {},
   "outputs": [],
   "source": [
    "# from src.dl.lightning.lightning_utils import ModelSummary\n",
    "# summarizer = ModelSummary(lightning_model, mode='full')\n",
    "# summarizer"
   ]
  },
  {
   "cell_type": "code",
   "execution_count": 8,
   "metadata": {
    "tags": []
   },
   "outputs": [
    {
     "output_type": "stream",
     "name": "stderr",
     "text": [
      "LOCAL_RANK: 0 - CUDA_VISIBLE_DEVICES: [0]\n"
     ]
    }
   ],
   "source": [
    "trainer.fit(lightning_model)"
   ]
  },
  {
   "cell_type": "code",
   "execution_count": 8,
   "metadata": {
    "tags": []
   },
   "outputs": [
    {
     "output_type": "stream",
     "name": "stderr",
     "text": [
      "LOCAL_RANK: 0 - CUDA_VISIBLE_DEVICES: [0]\n",
      "Testing: 100%|██████████| 341/341 [01:54<00:00,  2.98it/s]\n",
      "--------------------------------------------------------------------------------\n",
      "DATALOADER:0 TEST RESULTS\n",
      "{'avg_test_accuracy': 0.9220884442329407,\n",
      " 'avg_test_iou': 0.708455502986908,\n",
      " 'avg_test_loss': 0.6432276964187622,\n",
      " 'test_accuracy': 0.943145751953125,\n",
      " 'test_accuracy_epoch': 0.9220420122146606,\n",
      " 'test_loss': 0.5385181903839111,\n",
      " 'test_loss_epoch': 0.6434585452079773,\n",
      " 'test_mean_iou': 0.8046309351921082,\n",
      " 'test_mean_iou_epoch': 0.7082435488700867}\n",
      "--------------------------------------------------------------------------------\n"
     ]
    },
    {
     "output_type": "execute_result",
     "data": {
      "text/plain": [
       "[{'test_loss_epoch': 0.6434585452079773,\n",
       "  'test_accuracy_epoch': 0.9220420122146606,\n",
       "  'test_mean_iou_epoch': 0.7082435488700867,\n",
       "  'test_loss': 0.5385181903839111,\n",
       "  'test_accuracy': 0.943145751953125,\n",
       "  'test_mean_iou': 0.8046309351921082,\n",
       "  'avg_test_loss': 0.6432276964187622,\n",
       "  'avg_test_accuracy': 0.9220884442329407,\n",
       "  'avg_test_iou': 0.708455502986908}]"
      ]
     },
     "metadata": {},
     "execution_count": 8
    }
   ],
   "source": [
    "trainer.test(\n",
    "    model=lightning_model,\n",
    "    ckpt_path=lightning_model.fm.get_model_checkpoint(\"last\").as_posix(),\n",
    ")"
   ]
  }
 ],
 "metadata": {
  "kernelspec": {
   "name": "python369jvsc74a57bd03ea01dde592f11f139bb8a18f7472b919436c8f8399691d376fd4b0010891aeb",
   "display_name": "Python 3.6.9 64-bit ('DippaEnv')"
  },
  "language_info": {
   "codemirror_mode": {
    "name": "ipython",
    "version": 3
   },
   "file_extension": ".py",
   "mimetype": "text/x-python",
   "name": "python",
   "nbconvert_exporter": "python",
   "pygments_lexer": "ipython3",
   "version": "3.6.9"
  }
 },
 "nbformat": 4,
 "nbformat_minor": 4
}