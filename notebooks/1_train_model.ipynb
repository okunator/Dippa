{
 "cells": [
  {
   "cell_type": "code",
   "execution_count": 1,
   "metadata": {
    "tags": []
   },
   "outputs": [],
   "source": [
    "import src.dl.lightning as lightning\n",
    "from src.config import CONFIG"
   ]
  },
  {
   "cell_type": "markdown",
   "metadata": {},
   "source": [
    "# Train your pytorch model"
   ]
  },
  {
   "cell_type": "code",
   "execution_count": 2,
   "metadata": {
    "tags": []
   },
   "outputs": [
    {
     "output_type": "stream",
     "name": "stderr",
     "text": [
      "GPU available: True, used: True\n",
      "TPU available: None, using: 0 TPU cores\n",
      "LOCAL_RANK: 0 - CUDA_VISIBLE_DEVICES: [0]\n"
     ]
    }
   ],
   "source": [
    "# get the experiment.yml config file\n",
    "config = CONFIG\n",
    "\n",
    "# Insert the model to pytorch lightning framework. (Simplifies the training and other stuff)\n",
    "lightning_model = lightning.SegModel.from_conf(config)\n",
    "trainer = lightning.SegTrainer.from_conf(config)"
   ]
  },
  {
   "cell_type": "code",
   "execution_count": 3,
   "metadata": {
    "tags": []
   },
   "outputs": [],
   "source": [
    "# %load_ext tensorboard\n",
    "# %tensorboard --logdir {trainer.logging_dir}\n",
    "# lightning_model"
   ]
  },
  {
   "cell_type": "markdown",
   "metadata": {},
   "source": [
    "# Train the model"
   ]
  },
  {
   "cell_type": "code",
   "execution_count": 4,
   "metadata": {},
   "outputs": [],
   "source": [
    "# from src.dl.lightning.utils import ModelSummary\n",
    "# summarizer = ModelSummary(lightning_model, mode='full')\n",
    "# summarizer"
   ]
  },
  {
   "cell_type": "code",
   "execution_count": 5,
   "metadata": {
    "tags": []
   },
   "outputs": [
    {
     "output_type": "stream",
     "name": "stderr",
     "text": [
      "\n",
      "  | Name      | Type          | Params\n",
      "--------------------------------------------\n",
      "0 | model     | Model         | 65.7 M\n",
      "1 | criterion | MultiTaskLoss | 0     \n",
      "--------------------------------------------\n",
      "42.2 M    Trainable params\n",
      "23.5 M    Non-trainable params\n",
      "65.7 M    Total params\n",
      "Epoch 0:  13%|█▎        | 79/599 [00:47<05:11,  1.67it/s, loss=2.88, v_num=eze2, val_loss_epoch=3.88e+4, val_accuracy_epoch=0.0017, val_mean_iou_epoch=0.0264, avg_val_loss=3.88e+4, avg_val_accuracy=0.0017, avg_val_iou=0.0264, train_loss_step=2.92, train_accuracy_step=0.0133, train_mean_iou_step=0.205]"
     ]
    }
   ],
   "source": [
    "trainer.fit(lightning_model)"
   ]
  },
  {
   "cell_type": "code",
   "execution_count": 6,
   "metadata": {
    "tags": []
   },
   "outputs": [
    {
     "output_type": "stream",
     "name": "stdout",
     "text": [
      "Testing: 100%|██████████| 28/28 [00:15<00:00,  1.77it/s]\n",
      "--------------------------------------------------------------------------------\n",
      "DATALOADER:0 TEST RESULTS\n",
      "{'avg_test_accuracy': 0.022952871397137642,\n",
      " 'avg_test_iou': 0.629642903804779,\n",
      " 'avg_test_loss': 0.7017623782157898,\n",
      " 'test_accuracy': 0.02383747138082981,\n",
      " 'test_accuracy_epoch': 0.022952871397137642,\n",
      " 'test_loss': 0.4408591389656067,\n",
      " 'test_loss_epoch': 0.7017623782157898,\n",
      " 'test_mean_iou': 0.8173713684082031,\n",
      " 'test_mean_iou_epoch': 0.629642903804779}\n",
      "--------------------------------------------------------------------------------\n"
     ]
    },
    {
     "output_type": "execute_result",
     "data": {
      "text/plain": [
       "[{'avg_test_loss': 0.7017623782157898,\n",
       "  'test_loss_epoch': 0.7017623782157898,\n",
       "  'test_accuracy_epoch': 0.022952871397137642,\n",
       "  'test_mean_iou_epoch': 0.629642903804779,\n",
       "  'test_loss': 0.4408591389656067,\n",
       "  'test_accuracy': 0.02383747138082981,\n",
       "  'test_mean_iou': 0.8173713684082031,\n",
       "  'avg_test_accuracy': 0.022952871397137642,\n",
       "  'avg_test_iou': 0.629642903804779}]"
      ]
     },
     "metadata": {},
     "execution_count": 6
    }
   ],
   "source": [
    "trainer.test(\n",
    "    model=lightning_model,\n",
    "    ckpt_path=lightning_model.fm.get_model_checkpoint(\"last\").as_posix()\n",
    ")"
   ]
  }
 ],
 "metadata": {
  "kernelspec": {
   "name": "python3",
   "display_name": "Python 3.6.9 64-bit ('DippaEnv')",
   "metadata": {
    "interpreter": {
     "hash": "3ea01dde592f11f139bb8a18f7472b919436c8f8399691d376fd4b0010891aeb"
    }
   }
  },
  "language_info": {
   "codemirror_mode": {
    "name": "ipython",
    "version": 3
   },
   "file_extension": ".py",
   "mimetype": "text/x-python",
   "name": "python",
   "nbconvert_exporter": "python",
   "pygments_lexer": "ipython3",
   "version": "3.6.9-final"
  }
 },
 "nbformat": 4,
 "nbformat_minor": 4
}