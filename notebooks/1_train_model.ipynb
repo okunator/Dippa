{
 "cells": [
  {
   "cell_type": "code",
   "execution_count": null,
   "metadata": {
    "tags": []
   },
   "outputs": [],
   "source": [
    "from src.dl.lightning import SegTrainer, SegExperiment\n",
    "from src.dl.lightning.callbacks.wandb_callbacks import WandbImageCallback\n",
    "from src.config import CONFIG\n",
    "from src.data.data_modules.utils import prepare_datamodule\n",
    "from src.dl.models import MultiTaskSegModel"
   ]
  },
  {
   "cell_type": "markdown",
   "metadata": {},
   "source": [
    "# Train your pytorch model"
   ]
  },
  {
   "cell_type": "code",
   "execution_count": null,
   "metadata": {
    "tags": []
   },
   "outputs": [],
   "source": [
    "# datamodule\n",
    "datamodule = prepare_datamodule(\n",
    "    name=\"custom\",\n",
    "    train_db_path=\"/pathto/gg.h5\",\n",
    "    test_db_path=\"/pathto/gg.h5\",\n",
    "    conf=CONFIG,\n",
    "    \n",
    ")\n",
    "\n",
    "# multitask seg model\n",
    "model = MultiTaskSegModel.from_conf(CONFIG)\n",
    "\n",
    "# To lightning\n",
    "lightning_model = SegExperiment.from_conf(model, CONFIG)\n",
    "# lightning_model = SegExperiment.from_experiment(\"panoptic\", \"testi\")\n",
    "\n",
    "# extra_callbacks = []\n",
    "extra_callbacks = [WandbImageCallback(datamodule.class_dicts[0], datamodule.class_dicts[1])]\n",
    "trainer = SegTrainer.from_conf(CONFIG, extra_callbacks=extra_callbacks)"
   ]
  },
  {
   "cell_type": "markdown",
   "metadata": {},
   "source": [
    "# Train the model"
   ]
  },
  {
   "cell_type": "code",
   "execution_count": null,
   "metadata": {},
   "outputs": [],
   "source": [
    "# lightning_model"
   ]
  },
  {
   "cell_type": "code",
   "execution_count": null,
   "metadata": {
    "tags": []
   },
   "outputs": [],
   "source": [
    "# Train\n",
    "trainer.fit(model=lightning_model, datamodule=datamodule)"
   ]
  }
 ],
 "metadata": {
  "interpreter": {
   "hash": "1d257930f390edd16081c76357b57cbbee027806f72e6af695a5873c4aff6357"
  },
  "kernelspec": {
   "display_name": "Python 3.6.9 64-bit ('DippaEnv': venv)",
   "name": "python3"
  },
  "language_info": {
   "codemirror_mode": {
    "name": "ipython",
    "version": 3
   },
   "file_extension": ".py",
   "mimetype": "text/x-python",
   "name": "python",
   "nbconvert_exporter": "python",
   "pygments_lexer": "ipython3",
   "version": "3.6.9"
  }
 },
 "nbformat": 4,
 "nbformat_minor": 4
}
