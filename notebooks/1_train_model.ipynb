{
 "cells": [
  {
   "cell_type": "code",
   "execution_count": null,
   "source": [
    "import src.dl.lightning as lightning\n",
    "from src.config import CONFIG \n",
    "from src.data import PannukeDataModule, ConsepDataModule"
   ],
   "outputs": [],
   "metadata": {
    "tags": []
   }
  },
  {
   "cell_type": "markdown",
   "source": [
    "# Train your pytorch model"
   ],
   "metadata": {}
  },
  {
   "cell_type": "code",
   "execution_count": null,
   "source": [
    "# Insert the model to pytorch lightning\n",
    "config = CONFIG\n",
    "lightning_model = lightning.SegModel.from_conf(config)\n",
    "\n",
    "\n",
    "# init the trainer and optional callbacks\n",
    "extra_callbacks = []\n",
    "# extra_callbacks = [lightning.WandbImageCallback()]\n",
    "trainer = lightning.SegTrainer.from_conf(config, extra_callbacks=extra_callbacks)\n",
    "\n",
    "# pannuke dataset\n",
    "pannuke = PannukeDataModule(\n",
    "    database_type=\"hdf5\",\n",
    "    augmentations=[\"hue_sat\", \"non_rigid\", \"blur\"],\n",
    "    normalize=False,\n",
    ")\n"
   ],
   "outputs": [],
   "metadata": {
    "tags": []
   }
  },
  {
   "cell_type": "markdown",
   "source": [
    "# Train the model"
   ],
   "metadata": {}
  },
  {
   "cell_type": "code",
   "execution_count": null,
   "source": [
    "# from src.dl.lightning.lightning_utils import ModelSummary\n",
    "# summarizer = ModelSummary(lightning_model, mode='full')\n",
    "# summarizer"
   ],
   "outputs": [],
   "metadata": {}
  },
  {
   "cell_type": "code",
   "execution_count": null,
   "source": [
    "# Train\n",
    "trainer.fit(model=lightning_model, datamodule=pannuke)"
   ],
   "outputs": [],
   "metadata": {
    "tags": []
   }
  },
  {
   "cell_type": "code",
   "execution_count": null,
   "source": [
    "from src.utils import FileHandler\n",
    "\n",
    "# Test\n",
    "trainer.test(\n",
    "    model=lightning_model,\n",
    "    ckpt_path=FileHandler.get_model_checkpoint(\n",
    "        experiment=config.experiment_args.experiment_name,\n",
    "        version=config.experiment_args.experiment_version,\n",
    "        which=\"last\"\n",
    "    ),\n",
    ")"
   ],
   "outputs": [],
   "metadata": {
    "tags": []
   }
  }
 ],
 "metadata": {
  "kernelspec": {
   "name": "python3",
   "display_name": "Python 3.6.9 64-bit ('DippaEnv': venv)"
  },
  "language_info": {
   "codemirror_mode": {
    "name": "ipython",
    "version": 3
   },
   "file_extension": ".py",
   "mimetype": "text/x-python",
   "name": "python",
   "nbconvert_exporter": "python",
   "pygments_lexer": "ipython3",
   "version": "3.6.9"
  },
  "interpreter": {
   "hash": "3ea01dde592f11f139bb8a18f7472b919436c8f8399691d376fd4b0010891aeb"
  }
 },
 "nbformat": 4,
 "nbformat_minor": 4
}