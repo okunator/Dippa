{
 "cells": [
  {
   "cell_type": "code",
   "execution_count": 1,
   "metadata": {
    "tags": []
   },
   "outputs": [],
   "source": [
    "import src.dl.lightning as lightning\n",
    "from src.config import CONFIG"
   ]
  },
  {
   "cell_type": "markdown",
   "metadata": {},
   "source": [
    "# Train your pytorch model"
   ]
  },
  {
   "cell_type": "code",
   "execution_count": 2,
   "metadata": {
    "tags": []
   },
   "outputs": [],
   "source": [
    "# Get data module\n",
    "# from src.dl.lightning import PannukeDataModule\n",
    "# config = CONFIG\n",
    "# pannuke_module = PannukeDataModule.from_conf(config)\n",
    "# pannuke_module.prepare_data()\n",
    "# pannuke_module.setup(stage=\"fit\")"
   ]
  },
  {
   "cell_type": "code",
   "execution_count": 3,
   "metadata": {},
   "outputs": [
    {
     "output_type": "stream",
     "name": "stderr",
     "text": [
      "/home/local/leos/Dippa/DippaEnv/lib/python3.6/site-packages/pytorch_lightning/utilities/distributed.py:50: UserWarning: Checkpoint directory /home/local/leos/Dippa/results/baseline_pannuke/version_basic_test4_datanorm exists and is not empty.\n",
      "  warnings.warn(*args, **kwargs)\n",
      "GPU available: True, used: True\n",
      "TPU available: None, using: 0 TPU cores\n",
      "LOCAL_RANK: 0 - CUDA_VISIBLE_DEVICES: [0]\n"
     ]
    }
   ],
   "source": [
    "# Insert the model to pytorch lightning\n",
    "config = CONFIG\n",
    "lightning_model = lightning.SegModel.from_conf(config)\n",
    "trainer = lightning.SegTrainer.from_conf(config)"
   ]
  },
  {
   "cell_type": "code",
   "execution_count": 4,
   "metadata": {
    "tags": []
   },
   "outputs": [],
   "source": [
    "# %load_ext tensorboard\n",
    "# %tensorboard --logdir {trainer.logging_dir}\n",
    "# lightning_model"
   ]
  },
  {
   "cell_type": "markdown",
   "metadata": {},
   "source": [
    "# Train the model"
   ]
  },
  {
   "cell_type": "code",
   "execution_count": 5,
   "metadata": {},
   "outputs": [],
   "source": [
    "# from src.dl.lightning.utils import ModelSummary\n",
    "# summarizer = ModelSummary(lightning_model, mode='full')\n",
    "# summarizer"
   ]
  },
  {
   "cell_type": "code",
   "execution_count": 6,
   "metadata": {
    "tags": []
   },
   "outputs": [
    {
     "output_type": "stream",
     "name": "stderr",
     "text": [
      "\n",
      "  | Name      | Type          | Params\n",
      "--------------------------------------------\n",
      "0 | model     | Model         | 51.6 M\n",
      "1 | criterion | MultiTaskLoss | 0     \n",
      "2 | accuracy  | Accuracy      | 0     \n",
      "--------------------------------------------\n",
      "51.6 M    Trainable params\n",
      "0         Non-trainable params\n",
      "51.6 M    Total params\n",
      "Validation sanity check:   0%|          | 0/2 [00:00<?, ?it/s]None\n",
      "None\n",
      "Validation sanity check:  50%|█████     | 1/2 [00:01<00:01,  1.94s/it]None\n",
      "None\n",
      "Epoch 0:   0%|          | 0/2284 [00:00<?, ?it/s] None\n",
      "None\n",
      "Epoch 0:   0%|          | 1/2284 [00:03<2:04:04,  3.26s/it, loss=5.13, v_num=norm]None\n",
      "None\n",
      "Epoch 0:   0%|          | 2/2284 [00:03<1:07:55,  1.79s/it, loss=4.99, v_num=norm, train_loss_step=5.13, train_accuracy_step=0.0534, train_mean_iou_step=0.0146]None\n",
      "None\n",
      "Epoch 0:   0%|          | 3/2284 [00:03<48:54,  1.29s/it, loss=4.91, v_num=norm, train_loss_step=4.85, train_accuracy_step=0.0512, train_mean_iou_step=0.0195]None\n",
      "None\n",
      "Epoch 0:   0%|          | 4/2284 [00:04<39:27,  1.04s/it, loss=4.83, v_num=norm, train_loss_step=4.73, train_accuracy_step=0.0626, train_mean_iou_step=0.0149]None\n",
      "None\n",
      "Epoch 0:   0%|          | 5/2284 [00:04<33:47,  1.12it/s, loss=4.74, v_num=norm, train_loss_step=4.6, train_accuracy_step=0.0473, train_mean_iou_step=0.0155] None\n",
      "None\n",
      "Epoch 0:   0%|          | 6/2284 [00:04<30:07,  1.26it/s, loss=4.67, v_num=norm, train_loss_step=4.37, train_accuracy_step=0.0893, train_mean_iou_step=0.0476]None\n",
      "None\n",
      "Epoch 0:   0%|          | 7/2284 [00:05<27:27,  1.38it/s, loss=4.6, v_num=norm, train_loss_step=4.36, train_accuracy_step=0.0616, train_mean_iou_step=0.0239] None\n",
      "None\n",
      "Epoch 0:   0%|          | 8/2284 [00:05<25:22,  1.49it/s, loss=4.53, v_num=norm, train_loss_step=4.17, train_accuracy_step=0.0764, train_mean_iou_step=0.0268]None\n",
      "None\n",
      "Epoch 0:   0%|          | 9/2284 [00:05<23:49,  1.59it/s, loss=4.48, v_num=norm, train_loss_step=4.01, train_accuracy_step=0.145, train_mean_iou_step=0.103]  None\n",
      "None\n",
      "Epoch 0:   0%|          | 10/2284 [00:05<22:34,  1.68it/s, loss=4.42, v_num=norm, train_loss_step=4.07, train_accuracy_step=0.0925, train_mean_iou_step=0.0713]None\n",
      "None\n",
      "Epoch 0:   0%|          | 11/2284 [00:06<21:31,  1.76it/s, loss=4.37, v_num=norm, train_loss_step=3.89, train_accuracy_step=0.137, train_mean_iou_step=0.0969] None\n",
      "None\n",
      "Epoch 0:   1%|          | 12/2284 [00:06<20:40,  1.83it/s, loss=4.31, v_num=norm, train_loss_step=3.9, train_accuracy_step=0.219, train_mean_iou_step=0.0828] None\n",
      "None\n",
      "Epoch 0:   1%|          | 13/2284 [00:06<19:57,  1.90it/s, loss=4.28, v_num=norm, train_loss_step=3.61, train_accuracy_step=0.274, train_mean_iou_step=0.215]None\n",
      "None\n",
      "Epoch 0:   1%|          | 14/2284 [00:07<19:17,  1.96it/s, loss=4.23, v_num=norm, train_loss_step=3.92, train_accuracy_step=0.32, train_mean_iou_step=0.19]  None\n",
      "None\n",
      "Epoch 0:   1%|          | 15/2284 [00:07<18:45,  2.02it/s, loss=4.19, v_num=norm, train_loss_step=3.64, train_accuracy_step=0.508, train_mean_iou_step=0.266]None\n",
      "None\n",
      "Epoch 0:   1%|          | 16/2284 [00:07<18:17,  2.07it/s, loss=4.16, v_num=norm, train_loss_step=3.61, train_accuracy_step=0.445, train_mean_iou_step=0.304]None\n",
      "None\n",
      "Epoch 0:   1%|          | 17/2284 [00:08<17:51,  2.12it/s, loss=4.13, v_num=norm, train_loss_step=3.71, train_accuracy_step=0.439, train_mean_iou_step=0.287]None\n",
      "None\n",
      "Epoch 0:   1%|          | 18/2284 [00:08<17:26,  2.16it/s, loss=4.1, v_num=norm, train_loss_step=3.54, train_accuracy_step=0.458, train_mean_iou_step=0.253] None\n",
      "None\n",
      "Epoch 0:   1%|          | 19/2284 [00:08<17:05,  2.21it/s, loss=4.07, v_num=norm, train_loss_step=3.61, train_accuracy_step=0.44, train_mean_iou_step=0.251]None\n",
      "None\n",
      "Epoch 0:   1%|          | 20/2284 [00:08<16:46,  2.25it/s, loss=4.05, v_num=norm, train_loss_step=3.66, train_accuracy_step=0.493, train_mean_iou_step=0.258]"
     ]
    }
   ],
   "source": [
    "trainer.fit(lightning_model)"
   ]
  },
  {
   "cell_type": "code",
   "execution_count": 7,
   "metadata": {
    "tags": []
   },
   "outputs": [
    {
     "output_type": "stream",
     "name": "stdout",
     "text": [
      "Testing: 100%|██████████| 122/122 [00:57<00:00,  2.11it/s]\n",
      "--------------------------------------------------------------------------------\n",
      "DATALOADER:0 TEST RESULTS\n",
      "{'avg_test_accuracy': 0.023825913667678833,\n",
      " 'avg_test_iou': 0.7209259867668152,\n",
      " 'avg_test_loss': 0.38548988103866577,\n",
      " 'test_accuracy': 0.04566249996423721,\n",
      " 'test_accuracy_epoch': 0.023736052215099335,\n",
      " 'test_loss': 0.547231912612915,\n",
      " 'test_loss_epoch': 0.384824275970459,\n",
      " 'test_mean_iou': 0.5803025364875793,\n",
      " 'test_mean_iou_epoch': 0.7215046286582947}\n",
      "--------------------------------------------------------------------------------\n"
     ]
    },
    {
     "output_type": "execute_result",
     "data": {
      "text/plain": [
       "[{'test_loss_epoch': 0.384824275970459,\n",
       "  'test_accuracy_epoch': 0.023736052215099335,\n",
       "  'test_mean_iou_epoch': 0.7215046286582947,\n",
       "  'test_loss': 0.547231912612915,\n",
       "  'test_accuracy': 0.04566249996423721,\n",
       "  'test_mean_iou': 0.5803025364875793,\n",
       "  'avg_test_loss': 0.38548988103866577,\n",
       "  'avg_test_accuracy': 0.023825913667678833,\n",
       "  'avg_test_iou': 0.7209259867668152}]"
      ]
     },
     "metadata": {},
     "execution_count": 7
    }
   ],
   "source": [
    "trainer.test(\n",
    "    model=lightning_model,\n",
    "    ckpt_path=lightning_model.fm.get_model_checkpoint(\"last\").as_posix(),\n",
    ")"
   ]
  }
 ],
 "metadata": {
  "kernelspec": {
   "name": "python3",
   "display_name": "Python 3.6.9 64-bit ('DippaEnv')",
   "metadata": {
    "interpreter": {
     "hash": "3ea01dde592f11f139bb8a18f7472b919436c8f8399691d376fd4b0010891aeb"
    }
   }
  },
  "language_info": {
   "codemirror_mode": {
    "name": "ipython",
    "version": 3
   },
   "file_extension": ".py",
   "mimetype": "text/x-python",
   "name": "python",
   "nbconvert_exporter": "python",
   "pygments_lexer": "ipython3",
   "version": "3.6.9-final"
  }
 },
 "nbformat": 4,
 "nbformat_minor": 4
}