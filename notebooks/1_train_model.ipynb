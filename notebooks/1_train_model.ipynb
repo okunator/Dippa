{
 "cells": [
  {
   "cell_type": "code",
   "execution_count": 1,
   "metadata": {
    "tags": []
   },
   "outputs": [],
   "source": [
    "import src.dl.lightning as lightning\n",
    "from src.config import CONFIG"
   ]
  },
  {
   "cell_type": "markdown",
   "metadata": {},
   "source": [
    "# Train your pytorch model"
   ]
  },
  {
   "cell_type": "code",
   "execution_count": 2,
   "metadata": {
    "tags": []
   },
   "outputs": [
    {
     "output_type": "stream",
     "name": "stderr",
     "text": [
      "GPU available: True, used: True\n",
      "TPU available: None, using: 0 TPU cores\n",
      "LOCAL_RANK: 0 - CUDA_VISIBLE_DEVICES: [0]\n"
     ]
    }
   ],
   "source": [
    "# get the experiment.yml config file\n",
    "config = CONFIG\n",
    "\n",
    "# Insert the model to pytorch lightning framework. (Simplifies the training and other stuff)\n",
    "lightning_model = lightning.SegModel.from_conf(config)\n",
    "trainer = lightning.SegTrainer.from_conf(config)"
   ]
  },
  {
   "cell_type": "code",
   "execution_count": 3,
   "metadata": {
    "tags": []
   },
   "outputs": [],
   "source": [
    "# %load_ext tensorboard\n",
    "# %tensorboard --logdir {trainer.logging_dir}\n",
    "# lightning_model"
   ]
  },
  {
   "cell_type": "markdown",
   "metadata": {},
   "source": [
    "# Train the model"
   ]
  },
  {
   "cell_type": "code",
   "execution_count": 4,
   "metadata": {},
   "outputs": [],
   "source": [
    "# lightning_model"
   ]
  },
  {
   "cell_type": "code",
   "execution_count": 5,
   "metadata": {
    "tags": []
   },
   "outputs": [
    {
     "output_type": "stream",
     "name": "stderr",
     "text": [
      "\n",
      "  | Name      | Type          | Params\n",
      "--------------------------------------------\n",
      "0 | model     | Model         | 65.7 M\n",
      "1 | criterion | MultiTaskLoss | 0     \n",
      "--------------------------------------------\n",
      "65.7 M    Trainable params\n",
      "0         Non-trainable params\n",
      "65.7 M    Total params\n",
      "Restored states from the checkpoint file at /home/local/leos/Dippa/results/consep_quick_test_2/version_hover_unet_skip_sum_unfreeze/last.ckpt\n",
      "Epoch 11:  95%|█████████▌| 572/599 [04:46<00:13,  2.00it/s, loss=0.559, v_num=eeze, val_loss_epoch=0.682, val_accuracy_epoch=0.0231, val_mean_iou_epoch=0.756, avg_val_loss=0.682, avg_val_accuracy=0.0231, avg_val_iou=0.756, train_loss_step=0.316, train_accuracy_step=0.0242, train_mean_iou_step=0.703]\n",
      "Validating: 0it [00:00, ?it/s]\u001b[A\n",
      "Validating:   0%|          | 0/28 [00:00<?, ?it/s]\u001b[A\n",
      "Epoch 11:  96%|█████████▌| 573/599 [04:53<00:13,  1.95it/s, loss=0.559, v_num=eeze, val_loss_epoch=0.682, val_accuracy_epoch=0.0231, val_mean_iou_epoch=0.756, avg_val_loss=0.682, avg_val_accuracy=0.0231, avg_val_iou=0.756, train_loss_step=0.316, train_accuracy_step=0.0242, train_mean_iou_step=0.703]\n",
      "Epoch 11:  96%|█████████▌| 574/599 [04:53<00:12,  1.95it/s, loss=0.559, v_num=eeze, val_loss_epoch=0.682, val_accuracy_epoch=0.0231, val_mean_iou_epoch=0.756, avg_val_loss=0.682, avg_val_accuracy=0.0231, avg_val_iou=0.756, train_loss_step=0.316, train_accuracy_step=0.0242, train_mean_iou_step=0.703]\n",
      "Epoch 11:  96%|█████████▌| 575/599 [04:53<00:12,  1.96it/s, loss=0.559, v_num=eeze, val_loss_epoch=0.682, val_accuracy_epoch=0.0231, val_mean_iou_epoch=0.756, avg_val_loss=0.682, avg_val_accuracy=0.0231, avg_val_iou=0.756, train_loss_step=0.316, train_accuracy_step=0.0242, train_mean_iou_step=0.703]\n",
      "Epoch 11:  96%|█████████▌| 576/599 [04:54<00:11,  1.96it/s, loss=0.559, v_num=eeze, val_loss_epoch=0.682, val_accuracy_epoch=0.0231, val_mean_iou_epoch=0.756, avg_val_loss=0.682, avg_val_accuracy=0.0231, avg_val_iou=0.756, train_loss_step=0.316, train_accuracy_step=0.0242, train_mean_iou_step=0.703]\n",
      "Epoch 11:  96%|█████████▋| 577/599 [04:54<00:11,  1.96it/s, loss=0.559, v_num=eeze, val_loss_epoch=0.682, val_accuracy_epoch=0.0231, val_mean_iou_epoch=0.756, avg_val_loss=0.682, avg_val_accuracy=0.0231, avg_val_iou=0.756, train_loss_step=0.316, train_accuracy_step=0.0242, train_mean_iou_step=0.703]\n",
      "Epoch 11:  96%|█████████▋| 578/599 [04:54<00:10,  1.96it/s, loss=0.559, v_num=eeze, val_loss_epoch=0.682, val_accuracy_epoch=0.0231, val_mean_iou_epoch=0.756, avg_val_loss=0.682, avg_val_accuracy=0.0231, avg_val_iou=0.756, train_loss_step=0.316, train_accuracy_step=0.0242, train_mean_iou_step=0.703]\n",
      "Epoch 11:  97%|█████████▋| 579/599 [04:54<00:10,  1.97it/s, loss=0.559, v_num=eeze, val_loss_epoch=0.682, val_accuracy_epoch=0.0231, val_mean_iou_epoch=0.756, avg_val_loss=0.682, avg_val_accuracy=0.0231, avg_val_iou=0.756, train_loss_step=0.316, train_accuracy_step=0.0242, train_mean_iou_step=0.703]\n",
      "Epoch 11:  97%|█████████▋| 580/599 [04:54<00:09,  1.97it/s, loss=0.559, v_num=eeze, val_loss_epoch=0.682, val_accuracy_epoch=0.0231, val_mean_iou_epoch=0.756, avg_val_loss=0.682, avg_val_accuracy=0.0231, avg_val_iou=0.756, train_loss_step=0.316, train_accuracy_step=0.0242, train_mean_iou_step=0.703]\n",
      "Epoch 11:  97%|█████████▋| 581/599 [04:59<00:09,  1.94it/s, loss=0.559, v_num=eeze, val_loss_epoch=0.682, val_accuracy_epoch=0.0231, val_mean_iou_epoch=0.756, avg_val_loss=0.682, avg_val_accuracy=0.0231, avg_val_iou=0.756, train_loss_step=0.316, train_accuracy_step=0.0242, train_mean_iou_step=0.703]\n",
      "Epoch 11:  97%|█████████▋| 582/599 [04:59<00:08,  1.95it/s, loss=0.559, v_num=eeze, val_loss_epoch=0.682, val_accuracy_epoch=0.0231, val_mean_iou_epoch=0.756, avg_val_loss=0.682, avg_val_accuracy=0.0231, avg_val_iou=0.756, train_loss_step=0.316, train_accuracy_step=0.0242, train_mean_iou_step=0.703]\n",
      "Epoch 11:  97%|█████████▋| 583/599 [04:59<00:08,  1.95it/s, loss=0.559, v_num=eeze, val_loss_epoch=0.682, val_accuracy_epoch=0.0231, val_mean_iou_epoch=0.756, avg_val_loss=0.682, avg_val_accuracy=0.0231, avg_val_iou=0.756, train_loss_step=0.316, train_accuracy_step=0.0242, train_mean_iou_step=0.703]\n",
      "Epoch 11:  97%|█████████▋| 584/599 [04:59<00:07,  1.95it/s, loss=0.559, v_num=eeze, val_loss_epoch=0.682, val_accuracy_epoch=0.0231, val_mean_iou_epoch=0.756, avg_val_loss=0.682, avg_val_accuracy=0.0231, avg_val_iou=0.756, train_loss_step=0.316, train_accuracy_step=0.0242, train_mean_iou_step=0.703]\n",
      "Epoch 11:  98%|█████████▊| 585/599 [04:59<00:07,  1.95it/s, loss=0.559, v_num=eeze, val_loss_epoch=0.682, val_accuracy_epoch=0.0231, val_mean_iou_epoch=0.756, avg_val_loss=0.682, avg_val_accuracy=0.0231, avg_val_iou=0.756, train_loss_step=0.316, train_accuracy_step=0.0242, train_mean_iou_step=0.703]\n",
      "Epoch 11:  98%|█████████▊| 586/599 [04:59<00:06,  1.95it/s, loss=0.559, v_num=eeze, val_loss_epoch=0.682, val_accuracy_epoch=0.0231, val_mean_iou_epoch=0.756, avg_val_loss=0.682, avg_val_accuracy=0.0231, avg_val_iou=0.756, train_loss_step=0.316, train_accuracy_step=0.0242, train_mean_iou_step=0.703]\n",
      "Epoch 11:  98%|█████████▊| 587/599 [04:59<00:06,  1.96it/s, loss=0.559, v_num=eeze, val_loss_epoch=0.682, val_accuracy_epoch=0.0231, val_mean_iou_epoch=0.756, avg_val_loss=0.682, avg_val_accuracy=0.0231, avg_val_iou=0.756, train_loss_step=0.316, train_accuracy_step=0.0242, train_mean_iou_step=0.703]\n",
      "Epoch 11:  98%|█████████▊| 588/599 [05:00<00:05,  1.96it/s, loss=0.559, v_num=eeze, val_loss_epoch=0.682, val_accuracy_epoch=0.0231, val_mean_iou_epoch=0.756, avg_val_loss=0.682, avg_val_accuracy=0.0231, avg_val_iou=0.756, train_loss_step=0.316, train_accuracy_step=0.0242, train_mean_iou_step=0.703]\n",
      "Epoch 11:  98%|█████████▊| 589/599 [05:00<00:05,  1.96it/s, loss=0.559, v_num=eeze, val_loss_epoch=0.682, val_accuracy_epoch=0.0231, val_mean_iou_epoch=0.756, avg_val_loss=0.682, avg_val_accuracy=0.0231, avg_val_iou=0.756, train_loss_step=0.316, train_accuracy_step=0.0242, train_mean_iou_step=0.703]\n",
      "Epoch 11:  98%|█████████▊| 590/599 [05:00<00:04,  1.96it/s, loss=0.559, v_num=eeze, val_loss_epoch=0.682, val_accuracy_epoch=0.0231, val_mean_iou_epoch=0.756, avg_val_loss=0.682, avg_val_accuracy=0.0231, avg_val_iou=0.756, train_loss_step=0.316, train_accuracy_step=0.0242, train_mean_iou_step=0.703]\n",
      "Epoch 11:  99%|█████████▊| 591/599 [05:00<00:04,  1.96it/s, loss=0.559, v_num=eeze, val_loss_epoch=0.682, val_accuracy_epoch=0.0231, val_mean_iou_epoch=0.756, avg_val_loss=0.682, avg_val_accuracy=0.0231, avg_val_iou=0.756, train_loss_step=0.316, train_accuracy_step=0.0242, train_mean_iou_step=0.703]\n",
      "Epoch 11:  99%|█████████▉| 592/599 [05:01<00:03,  1.97it/s, loss=0.559, v_num=eeze, val_loss_epoch=0.682, val_accuracy_epoch=0.0231, val_mean_iou_epoch=0.756, avg_val_loss=0.682, avg_val_accuracy=0.0231, avg_val_iou=0.756, train_loss_step=0.316, train_accuracy_step=0.0242, train_mean_iou_step=0.703]\n",
      "Epoch 11:  99%|█████████▉| 593/599 [05:01<00:03,  1.97it/s, loss=0.559, v_num=eeze, val_loss_epoch=0.682, val_accuracy_epoch=0.0231, val_mean_iou_epoch=0.756, avg_val_loss=0.682, avg_val_accuracy=0.0231, avg_val_iou=0.756, train_loss_step=0.316, train_accuracy_step=0.0242, train_mean_iou_step=0.703]\n",
      "Epoch 11:  99%|█████████▉| 594/599 [05:01<00:02,  1.97it/s, loss=0.559, v_num=eeze, val_loss_epoch=0.682, val_accuracy_epoch=0.0231, val_mean_iou_epoch=0.756, avg_val_loss=0.682, avg_val_accuracy=0.0231, avg_val_iou=0.756, train_loss_step=0.316, train_accuracy_step=0.0242, train_mean_iou_step=0.703]\n",
      "Epoch 11:  99%|█████████▉| 595/599 [05:01<00:02,  1.97it/s, loss=0.559, v_num=eeze, val_loss_epoch=0.682, val_accuracy_epoch=0.0231, val_mean_iou_epoch=0.756, avg_val_loss=0.682, avg_val_accuracy=0.0231, avg_val_iou=0.756, train_loss_step=0.316, train_accuracy_step=0.0242, train_mean_iou_step=0.703]\n",
      "Epoch 11:  99%|█████████▉| 596/599 [05:01<00:01,  1.98it/s, loss=0.559, v_num=eeze, val_loss_epoch=0.682, val_accuracy_epoch=0.0231, val_mean_iou_epoch=0.756, avg_val_loss=0.682, avg_val_accuracy=0.0231, avg_val_iou=0.756, train_loss_step=0.316, train_accuracy_step=0.0242, train_mean_iou_step=0.703]\n",
      "Epoch 11: 100%|█████████▉| 597/599 [05:02<00:01,  1.97it/s, loss=0.559, v_num=eeze, val_loss_epoch=0.682, val_accuracy_epoch=0.0231, val_mean_iou_epoch=0.756, avg_val_loss=0.682, avg_val_accuracy=0.0231, avg_val_iou=0.756, train_loss_step=0.316, train_accuracy_step=0.0242, train_mean_iou_step=0.703]\n",
      "Epoch 11: 100%|█████████▉| 598/599 [05:03<00:00,  1.97it/s, loss=0.559, v_num=eeze, val_loss_epoch=0.682, val_accuracy_epoch=0.0231, val_mean_iou_epoch=0.756, avg_val_loss=0.682, avg_val_accuracy=0.0231, avg_val_iou=0.756, train_loss_step=0.316, train_accuracy_step=0.0242, train_mean_iou_step=0.703]\n",
      "Epoch 11: 100%|██████████| 599/599 [05:03<00:00,  1.98it/s, loss=0.559, v_num=eeze, val_loss_epoch=0.682, val_accuracy_epoch=0.0231, val_mean_iou_epoch=0.756, avg_val_loss=0.682, avg_val_accuracy=0.0231, avg_val_iou=0.756, train_loss_step=0.316, train_accuracy_step=0.0242, train_mean_iou_step=0.703]\n",
      "Validating: 100%|██████████| 28/28 [00:16<00:00,  3.81it/s]\u001b[AEpoch 11, global step 6850: avg_val_loss reached 0.68807 (best 0.68807), saving model to \"/home/local/leos/Dippa/results/consep_quick_test_2/version_hover_unet_skip_sum_unfreeze/epoch=11-step=6850.ckpt\" as top 1\n",
      "Epoch 11: 100%|██████████| 599/599 [05:06<00:00,  1.96it/s, loss=0.559, v_num=eeze, val_loss_epoch=0.688, val_accuracy_epoch=0.023, val_mean_iou_epoch=0.641, avg_val_loss=0.688, avg_val_accuracy=0.023, avg_val_iou=0.641, train_loss_step=0.391, train_accuracy_step=0.0638, train_mean_iou_step=0.659, train_loss_epoch=0.616, train_accuracy_epoch=0.0233, train_mean_iou_epoch=0.679, avg_train_loss=0.616, avg_train_accuracy=0.0234, avg_train_iou=0.679, val_loss_step=0.437, val_accuracy_step=0.0238, val_mean_iou_step=0.761]\n",
      "                                                           \u001b[ASaving latest checkpoint...\n",
      "Epoch 11: 100%|██████████| 599/599 [05:06<00:00,  1.96it/s, loss=0.559, v_num=eeze, val_loss_epoch=0.688, val_accuracy_epoch=0.023, val_mean_iou_epoch=0.641, avg_val_loss=0.688, avg_val_accuracy=0.023, avg_val_iou=0.641, train_loss_step=0.391, train_accuracy_step=0.0638, train_mean_iou_step=0.659, train_loss_epoch=0.616, train_accuracy_epoch=0.0233, train_mean_iou_epoch=0.679, avg_train_loss=0.616, avg_train_accuracy=0.0234, avg_train_iou=0.679, val_loss_step=0.437, val_accuracy_step=0.0238, val_mean_iou_step=0.761]\n",
      "\n",
      "Profiler Report\n",
      "\n",
      "Action                      \t|  Mean duration (s)\t|Num calls      \t|  Total time (s) \t|  Percentage %   \t|\n",
      "-----------------------------------------------------------------------------------------------------------------------------\n",
      "Total                       \t|  -              \t|_              \t|  318.16         \t|  100 %          \t|\n",
      "-----------------------------------------------------------------------------------------------------------------------------\n",
      "run_training_epoch          \t|  306.24         \t|1              \t|  306.24         \t|  96.252         \t|\n",
      "run_training_batch          \t|  0.40061        \t|571            \t|  228.75         \t|  71.896         \t|\n",
      "optimizer_step_and_closure_0\t|  0.39559        \t|571            \t|  225.88         \t|  70.996         \t|\n",
      "training_step_and_backward  \t|  0.17096        \t|571            \t|  97.617         \t|  30.681         \t|\n",
      "model_forward               \t|  0.12888        \t|571            \t|  73.592         \t|  23.13          \t|\n",
      "get_train_batch             \t|  0.092022       \t|571            \t|  52.545         \t|  16.515         \t|\n",
      "model_backward              \t|  0.040555       \t|571            \t|  23.157         \t|  7.2784         \t|\n",
      "evaluation_step_and_end     \t|  0.12899        \t|30             \t|  3.8696         \t|  1.2162         \t|\n",
      "on_train_batch_end          \t|  0.0057402      \t|571            \t|  3.2777         \t|  1.0302         \t|\n",
      "on_validation_end           \t|  1.351          \t|2              \t|  2.7021         \t|  0.84927        \t|\n",
      "cache_result                \t|  5.8757e-05     \t|2962           \t|  0.17404        \t|  0.054701       \t|\n",
      "on_validation_batch_end     \t|  0.0032196      \t|30             \t|  0.096587       \t|  0.030358       \t|\n",
      "on_batch_start              \t|  5.5165e-05     \t|571            \t|  0.031499       \t|  0.0099003      \t|\n",
      "on_before_zero_grad         \t|  5.2235e-05     \t|571            \t|  0.029826       \t|  0.0093745      \t|\n",
      "on_batch_end                \t|  4.4386e-05     \t|571            \t|  0.025345       \t|  0.0079659      \t|\n",
      "on_after_backward           \t|  4.4297e-05     \t|571            \t|  0.025294       \t|  0.0079499      \t|\n",
      "training_step_end           \t|  2.9765e-05     \t|571            \t|  0.016996       \t|  0.0053418      \t|\n",
      "on_train_batch_start        \t|  1.9689e-05     \t|571            \t|  0.011242       \t|  0.0035335      \t|\n",
      "on_validation_start         \t|  0.0014683      \t|2              \t|  0.0029367      \t|  0.00092301     \t|\n",
      "on_epoch_start              \t|  0.0012628      \t|1              \t|  0.0012628      \t|  0.00039691     \t|\n",
      "on_validation_batch_start   \t|  3.9621e-05     \t|30             \t|  0.0011886      \t|  0.00037359     \t|\n",
      "on_train_end                \t|  0.0010424      \t|1              \t|  0.0010424      \t|  0.00032762     \t|\n",
      "validation_step_end         \t|  2.1172e-05     \t|30             \t|  0.00063516     \t|  0.00019963     \t|\n",
      "on_train_start              \t|  0.00052203     \t|1              \t|  0.00052203     \t|  0.00016408     \t|\n",
      "on_validation_epoch_end     \t|  1.634e-05      \t|2              \t|  3.2679e-05     \t|  1.0271e-05     \t|\n",
      "on_validation_epoch_start   \t|  1.5181e-05     \t|2              \t|  3.0362e-05     \t|  9.5429e-06     \t|\n",
      "on_epoch_end                \t|  1.7301e-05     \t|1              \t|  1.7301e-05     \t|  5.4378e-06     \t|\n",
      "on_fit_start                \t|  1.6075e-05     \t|1              \t|  1.6075e-05     \t|  5.0524e-06     \t|\n",
      "on_train_epoch_start        \t|  1.5144e-05     \t|1              \t|  1.5144e-05     \t|  4.7598e-06     \t|\n",
      "on_train_epoch_end          \t|  1.1548e-05     \t|1              \t|  1.1548e-05     \t|  3.6296e-06     \t|\n",
      "\n",
      "\n"
     ]
    },
    {
     "output_type": "execute_result",
     "data": {
      "text/plain": [
       "1"
      ]
     },
     "metadata": {},
     "execution_count": 5
    }
   ],
   "source": [
    "trainer.fit(lightning_model)"
   ]
  },
  {
   "cell_type": "code",
   "execution_count": 6,
   "metadata": {
    "tags": []
   },
   "outputs": [
    {
     "output_type": "stream",
     "name": "stdout",
     "text": [
      "Testing: 100%|██████████| 28/28 [00:15<00:00,  1.77it/s]\n",
      "--------------------------------------------------------------------------------\n",
      "DATALOADER:0 TEST RESULTS\n",
      "{'avg_test_accuracy': 0.022952871397137642,\n",
      " 'avg_test_iou': 0.629642903804779,\n",
      " 'avg_test_loss': 0.7017623782157898,\n",
      " 'test_accuracy': 0.02383747138082981,\n",
      " 'test_accuracy_epoch': 0.022952871397137642,\n",
      " 'test_loss': 0.4408591389656067,\n",
      " 'test_loss_epoch': 0.7017623782157898,\n",
      " 'test_mean_iou': 0.8173713684082031,\n",
      " 'test_mean_iou_epoch': 0.629642903804779}\n",
      "--------------------------------------------------------------------------------\n"
     ]
    },
    {
     "output_type": "execute_result",
     "data": {
      "text/plain": [
       "[{'avg_test_loss': 0.7017623782157898,\n",
       "  'test_loss_epoch': 0.7017623782157898,\n",
       "  'test_accuracy_epoch': 0.022952871397137642,\n",
       "  'test_mean_iou_epoch': 0.629642903804779,\n",
       "  'test_loss': 0.4408591389656067,\n",
       "  'test_accuracy': 0.02383747138082981,\n",
       "  'test_mean_iou': 0.8173713684082031,\n",
       "  'avg_test_accuracy': 0.022952871397137642,\n",
       "  'avg_test_iou': 0.629642903804779}]"
      ]
     },
     "metadata": {},
     "execution_count": 6
    }
   ],
   "source": [
    "trainer.test(\n",
    "    model=lightning_model,\n",
    "    ckpt_path=lightning_model.fm.get_model_checkpoint(\"last\").as_posix()\n",
    ")"
   ]
  }
 ],
 "metadata": {
  "kernelspec": {
   "name": "python3",
   "display_name": "Python 3.6.9 64-bit ('DippaEnv')",
   "metadata": {
    "interpreter": {
     "hash": "3ea01dde592f11f139bb8a18f7472b919436c8f8399691d376fd4b0010891aeb"
    }
   }
  },
  "language_info": {
   "codemirror_mode": {
    "name": "ipython",
    "version": 3
   },
   "file_extension": ".py",
   "mimetype": "text/x-python",
   "name": "python",
   "nbconvert_exporter": "python",
   "pygments_lexer": "ipython3",
   "version": "3.6.9-final"
  }
 },
 "nbformat": 4,
 "nbformat_minor": 4
}