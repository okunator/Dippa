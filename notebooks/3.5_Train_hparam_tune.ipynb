{
 "cells": [
  {
   "cell_type": "code",
   "execution_count": 1,
   "metadata": {
    "tags": []
   },
   "outputs": [
    {
     "output_type": "stream",
     "name": "stderr",
     "text": "/usr/lib/python3.6/importlib/_bootstrap.py:219: RuntimeWarning:\n\nnumpy.ufunc size changed, may indicate binary incompatibility. Expected 192 from C header, got 216 from PyObject\n\n/usr/lib/python3.6/importlib/_bootstrap.py:219: RuntimeWarning:\n\nnumpy.ufunc size changed, may indicate binary incompatibility. Expected 192 from C header, got 216 from PyObject\n\n/usr/lib/python3.6/importlib/_bootstrap.py:219: RuntimeWarning:\n\nnumpy.ufunc size changed, may indicate binary incompatibility. Expected 192 from C header, got 216 from PyObject\n\n/usr/lib/python3.6/importlib/_bootstrap.py:219: RuntimeWarning:\n\nnumpy.ufunc size changed, may indicate binary incompatibility. Expected 216, got 192\n\n/usr/lib/python3.6/importlib/_bootstrap.py:219: ImportWarning:\n\ncan&#39;t resolve package from __spec__ or __package__, falling back on __name__ and __path__\n\n/usr/lib/python3.6/importlib/_bootstrap.py:219: RuntimeWarning:\n\nnumpy.ufunc size changed, may indicate binary incompatibility. Expected 216, got 192\n\n/usr/lib/python3.6/importlib/_bootstrap.py:219: ImportWarning:\n\ncan&#39;t resolve package from __spec__ or __package__, falling back on __name__ and __path__\n\n"
    }
   ],
   "source": [
    "from matplotlib import pyplot as plt\n",
    "from src.conf.config import CONFIG\n",
    "from src.tune.tune_experiment import (\n",
    "    TuneReportCallback, CheckpointCallback,\n",
    "    train_tune_checkpoint, tune_pbt\n",
    ")"
   ]
  },
  {
   "cell_type": "code",
   "execution_count": 90,
   "metadata": {},
   "outputs": [],
   "source": [
    "import sklearn.feature_extraction.image\n",
    "im = np.ones((1000, 1000, 3))\n",
    "input_size=256\n",
    "stride_size=input_size//2\n",
    "pad = stride_size//2\n",
    "io = np.pad(im, [(pad, pad), (pad, pad), (0, 0)], mode=\"reflect\")\n",
    "\n",
    "# add extra padding to match an exact multiple of 32 (unet) patch size, \n",
    "extra_pad_row = int(np.ceil(io.shape[0] / input_size)*input_size - io.shape[0])\n",
    "extra_pad_col = int(np.ceil(io.shape[1] / input_size)*input_size - io.shape[1])\n",
    "io = np.pad(io, [(0, extra_pad_row), (0, extra_pad_col), (0, 0)], mode=\"constant\")\n",
    "\n",
    "# extract the patches from input images\n",
    "arr_out = sklearn.feature_extraction.image.extract_patches(\n",
    "    io, (input_size, input_size, 3), stride_size\n",
    ")\n",
    "\n",
    "# shape the dimensions to correct sizes for pytorch model\n",
    "arr_out_shape = arr_out.shape\n",
    "arr_out = arr_out.reshape(-1, input_size, input_size, 3)"
   ]
  },
  {
   "cell_type": "code",
   "execution_count": 91,
   "metadata": {},
   "outputs": [
    {
     "output_type": "stream",
     "name": "stdout",
     "text": [
      "(81, 256, 256, 3)\n(9, 9, 1, 256, 256, 3)\n"
     ]
    }
   ],
   "source": [
    "print(arr_out.shape)\n",
    "print(arr_out_shape)\n",
    "patches_shape = arr_out_shape\n",
    "pred_patches = arr_out "
   ]
  },
  {
   "cell_type": "code",
   "execution_count": 92,
   "metadata": {},
   "outputs": [
    {
     "output_type": "stream",
     "name": "stdout",
     "text": [
      "(81, 256, 256, 3)\n(81, 128, 128, 3)\n"
     ]
    },
    {
     "output_type": "error",
     "ename": "ValueError",
     "evalue": "cannot reshape array of size 3981312 into shape (1000,1000,3)",
     "traceback": [
      "\u001b[0;31m---------------------------------------------------------------------------\u001b[0m",
      "\u001b[0;31mValueError\u001b[0m                                Traceback (most recent call last)",
      "\u001b[0;32m<ipython-input-92-c94dcbf9abab>\u001b[0m in \u001b[0;36m<module>\u001b[0;34m\u001b[0m\n\u001b[1;32m     14\u001b[0m \u001b[0;34m\u001b[0m\u001b[0m\n\u001b[1;32m     15\u001b[0m \u001b[0;31m# turn all the tiles into an image\u001b[0m\u001b[0;34m\u001b[0m\u001b[0;34m\u001b[0m\u001b[0;34m\u001b[0m\u001b[0m\n\u001b[0;32m---> 16\u001b[0;31m \u001b[0mpred\u001b[0m \u001b[0;34m=\u001b[0m \u001b[0mpred_patches\u001b[0m\u001b[0;34m.\u001b[0m\u001b[0mreshape\u001b[0m\u001b[0;34m(\u001b[0m\u001b[0mim\u001b[0m\u001b[0;34m.\u001b[0m\u001b[0mshape\u001b[0m\u001b[0;34m[\u001b[0m\u001b[0;36m0\u001b[0m\u001b[0;34m]\u001b[0m\u001b[0;34m,\u001b[0m \u001b[0mim\u001b[0m\u001b[0;34m.\u001b[0m\u001b[0mshape\u001b[0m\u001b[0;34m[\u001b[0m\u001b[0;36m1\u001b[0m\u001b[0;34m]\u001b[0m\u001b[0;34m,\u001b[0m \u001b[0mpatches_shape\u001b[0m\u001b[0;34m[\u001b[0m\u001b[0;34m-\u001b[0m\u001b[0;36m1\u001b[0m\u001b[0;34m]\u001b[0m\u001b[0;34m)\u001b[0m\u001b[0;34m\u001b[0m\u001b[0;34m\u001b[0m\u001b[0m\n\u001b[0m\u001b[1;32m     17\u001b[0m \u001b[0mprint\u001b[0m\u001b[0;34m(\u001b[0m\u001b[0mpred\u001b[0m\u001b[0;34m.\u001b[0m\u001b[0mshape\u001b[0m\u001b[0;34m)\u001b[0m\u001b[0;34m\u001b[0m\u001b[0;34m\u001b[0m\u001b[0m\n\u001b[1;32m     18\u001b[0m \u001b[0;34m\u001b[0m\u001b[0m\n",
      "\u001b[0;31mValueError\u001b[0m: cannot reshape array of size 3981312 into shape (1000,1000,3)"
     ]
    }
   ],
   "source": [
    "# pred_patches = pred_patches.reshape(\n",
    "#     patches_shape[0], \n",
    "#     patches_shape[1], \n",
    "#     input_size, \n",
    "#     input_size,\n",
    "#     patches_shape[-1]\n",
    "# ) # (num_tile_x, num_tile_y, H, W, C)\n",
    "print(pred_patches.shape)\n",
    "\n",
    "# remove the padding from each tile, we only keep the center\n",
    "pad = stride_size//2\n",
    "pred_patches = pred_patches[:, pad:-pad, pad:-pad, :]\n",
    "print(pred_patches.shape)\n",
    "\n",
    "# turn all the tiles into an image\n",
    "pred = pred_patches.reshape(im.shape[0], im.shape[1], patches_shape[-1])\n",
    "print(pred.shape)\n",
    "\n",
    "# incase there was extra padding to get a multiple of patch size, remove that as well\n",
    "# remove paddind, crop back\n",
    "pred = pred[0:im.shape[0], 0:im.shape[1], :]\n",
    "print(pred.shape)"
   ]
  },
  {
   "cell_type": "code",
   "execution_count": 44,
   "metadata": {},
   "outputs": [
    {
     "output_type": "execute_result",
     "data": {
      "text/plain": [
       "(1000, 1000, 3)"
      ]
     },
     "metadata": {},
     "execution_count": 44
    }
   ],
   "source": [
    "pred.shape"
   ]
  },
  {
   "cell_type": "code",
   "execution_count": 17,
   "metadata": {},
   "outputs": [
    {
     "output_type": "execute_result",
     "data": {
      "text/plain": [
       "array([[[1., 1., 1., ..., 1., 1., 1.],\n",
       "        [1., 1., 1., ..., 1., 1., 1.],\n",
       "        [1., 1., 1., ..., 1., 1., 1.],\n",
       "        ...,\n",
       "        [1., 1., 1., ..., 1., 1., 1.],\n",
       "        [1., 1., 1., ..., 1., 1., 1.],\n",
       "        [1., 1., 1., ..., 1., 1., 1.]],\n",
       "\n",
       "       [[1., 1., 1., ..., 1., 1., 1.],\n",
       "        [1., 1., 1., ..., 1., 1., 1.],\n",
       "        [1., 1., 1., ..., 1., 1., 1.],\n",
       "        ...,\n",
       "        [1., 1., 1., ..., 1., 1., 1.],\n",
       "        [1., 1., 1., ..., 1., 1., 1.],\n",
       "        [1., 1., 1., ..., 1., 1., 1.]]])"
      ]
     },
     "metadata": {},
     "execution_count": 17
    }
   ],
   "source": [
    "g.squeeze()"
   ]
  },
  {
   "cell_type": "code",
   "execution_count": 2,
   "metadata": {
    "scrolled": true,
    "tags": []
   },
   "outputs": [
    {
     "output_type": "display_data",
     "data": {
      "text/plain": "&lt;IPython.core.display.HTML object&gt;",
      "text/html": "== Status ==<br>Memory usage on this node: 6.8/31.2 GiB<br>PopulationBasedTraining: 0 checkpoints, 0 perturbs<br>Resources requested: 1/12 CPUs, 1/1 GPUs, 0.0/15.43 GiB heap, 0.0/5.32 GiB objects (0/1.0 GPUType:RTX)<br>Result logdir: /home/local/leos/Dippa/results/tests/Unet/version_test_pannuke_unet_pbt6/tune_pbt<br>Number of trials: 3 (2 PENDING, 1 RUNNING)<br><table>\n<thead>\n<tr><th>Trial name         </th><th>status  </th><th>loc  </th><th style=\"text-align: right;\">  edge_weight</th><th style=\"text-align: right;\">   lr</th><th style=\"text-align: right;\">  batch_size</th></tr>\n</thead>\n<tbody>\n<tr><td>DEFAULT_493c2_00000</td><td>RUNNING </td><td>     </td><td style=\"text-align: right;\">            1</td><td style=\"text-align: right;\">0.001</td><td style=\"text-align: right;\">           6</td></tr>\n<tr><td>DEFAULT_493c2_00001</td><td>PENDING </td><td>     </td><td style=\"text-align: right;\">            1</td><td style=\"text-align: right;\">0.001</td><td style=\"text-align: right;\">           6</td></tr>\n<tr><td>DEFAULT_493c2_00002</td><td>PENDING </td><td>     </td><td style=\"text-align: right;\">            1</td><td style=\"text-align: right;\">0.001</td><td style=\"text-align: right;\">           6</td></tr>\n</tbody>\n</table><br><br>"
     },
     "metadata": {}
    },
    {
     "output_type": "stream",
     "name": "stderr",
     "text": "\u001b[2m\u001b[36m(pid=17138)\u001b[0m /usr/lib/python3.6/importlib/_bootstrap.py:219: RuntimeWarning:\n\u001b[2m\u001b[36m(pid=17138)\u001b[0m \n\u001b[2m\u001b[36m(pid=17138)\u001b[0m numpy.ufunc size changed, may indicate binary incompatibility. Expected 192 from C header, got 216 from PyObject\n\u001b[2m\u001b[36m(pid=17138)\u001b[0m \n\u001b[2m\u001b[36m(pid=17138)\u001b[0m /usr/lib/python3.6/importlib/_bootstrap.py:219: RuntimeWarning:\n\u001b[2m\u001b[36m(pid=17138)\u001b[0m \n\u001b[2m\u001b[36m(pid=17138)\u001b[0m numpy.ufunc size changed, may indicate binary incompatibility. Expected 192 from C header, got 216 from PyObject\n\u001b[2m\u001b[36m(pid=17138)\u001b[0m \n\u001b[2m\u001b[36m(pid=17138)\u001b[0m /usr/lib/python3.6/importlib/_bootstrap.py:219: RuntimeWarning:\n\u001b[2m\u001b[36m(pid=17138)\u001b[0m \n\u001b[2m\u001b[36m(pid=17138)\u001b[0m numpy.ufunc size changed, may indicate binary incompatibility. Expected 192 from C header, got 216 from PyObject\n\u001b[2m\u001b[36m(pid=17138)\u001b[0m \n\u001b[2m\u001b[36m(pid=17138)\u001b[0m /usr/lib/python3.6/importlib/_bootstrap.py:219: RuntimeWarning:\n\u001b[2m\u001b[36m(pid=17138)\u001b[0m \n\u001b[2m\u001b[36m(pid=17138)\u001b[0m numpy.ufunc size changed, may indicate binary incompatibility. Expected 216, got 192\n\u001b[2m\u001b[36m(pid=17138)\u001b[0m \n\u001b[2m\u001b[36m(pid=17138)\u001b[0m /usr/lib/python3.6/importlib/_bootstrap.py:219: ImportWarning:\n\u001b[2m\u001b[36m(pid=17138)\u001b[0m \n\u001b[2m\u001b[36m(pid=17138)\u001b[0m can&#39;t resolve package from __spec__ or __package__, falling back on __name__ and __path__\n\u001b[2m\u001b[36m(pid=17138)\u001b[0m \n\u001b[2m\u001b[36m(pid=17138)\u001b[0m /usr/lib/python3.6/importlib/_bootstrap.py:219: RuntimeWarning:\n\u001b[2m\u001b[36m(pid=17138)\u001b[0m \n\u001b[2m\u001b[36m(pid=17138)\u001b[0m numpy.ufunc size changed, may indicate binary incompatibility. Expected 216, got 192\n\u001b[2m\u001b[36m(pid=17138)\u001b[0m \n\u001b[2m\u001b[36m(pid=17138)\u001b[0m /usr/lib/python3.6/importlib/_bootstrap.py:219: ImportWarning:\n\u001b[2m\u001b[36m(pid=17138)\u001b[0m \n\u001b[2m\u001b[36m(pid=17138)\u001b[0m can&#39;t resolve package from __spec__ or __package__, falling back on __name__ and __path__\n\u001b[2m\u001b[36m(pid=17138)\u001b[0m \n\u001b[2m\u001b[36m(pid=17138)\u001b[0m /home/leos/.local/lib/python3.6/site-packages/ray/worker.py:959: ResourceWarning:\n\u001b[2m\u001b[36m(pid=17138)\u001b[0m \n\u001b[2m\u001b[36m(pid=17138)\u001b[0m unclosed file &lt;_io.TextIOWrapper name=&#39;/tmp/ray/session_2020-10-02_10-52-55_658983_5945/logs/worker-e4f81ffaa546765a741e391374597007371a5b7d-0100.out&#39; mode=&#39;a&#39; encoding=&#39;utf-8&#39;&gt;\n\u001b[2m\u001b[36m(pid=17138)\u001b[0m \n\u001b[2m\u001b[36m(pid=17138)\u001b[0m /home/leos/.local/lib/python3.6/site-packages/ray/worker.py:963: ResourceWarning:\n\u001b[2m\u001b[36m(pid=17138)\u001b[0m \n\u001b[2m\u001b[36m(pid=17138)\u001b[0m unclosed file &lt;_io.TextIOWrapper name=&#39;/tmp/ray/session_2020-10-02_10-52-55_658983_5945/logs/worker-e4f81ffaa546765a741e391374597007371a5b7d-0100.err&#39; mode=&#39;a&#39; encoding=&#39;utf-8&#39;&gt;\n\u001b[2m\u001b[36m(pid=17138)\u001b[0m \n\u001b[2m\u001b[36m(pid=17138)\u001b[0m GPU available: True, used: True\n\u001b[2m\u001b[36m(pid=17138)\u001b[0m TPU available: False, using: 0 TPU cores\n\u001b[2m\u001b[36m(pid=17138)\u001b[0m CUDA_VISIBLE_DEVICES: [0]\nValidation sanity check: 0it [00:00, ?it/s]\n\u001b[2m\u001b[36m(pid=17138)\u001b[0m /home/leos/.local/lib/python3.6/site-packages/pytorch_lightning/utilities/distributed.py:37: UserWarning:\n\u001b[2m\u001b[36m(pid=17138)\u001b[0m \n\u001b[2m\u001b[36m(pid=17138)\u001b[0m Could not log computational graph since the `model.example_input_array` attribute is not set or `input_array` was not given\n\u001b[2m\u001b[36m(pid=17138)\u001b[0m \n\u001b[2m\u001b[36m(pid=17138)\u001b[0m \n\u001b[2m\u001b[36m(pid=17138)\u001b[0m   | Name  | Type             | Params\n\u001b[2m\u001b[36m(pid=17138)\u001b[0m -------------------------------------------\n\u001b[2m\u001b[36m(pid=17138)\u001b[0m 0 | model | Unet             | 31 M  \n\u001b[2m\u001b[36m(pid=17138)\u001b[0m 1 | CE    | CrossEntropyLoss | 0     \n"
    }
   ],
   "source": [
    "config = CONFIG\n",
    "analysis = tune_pbt(config, num_samples=3, num_epochs=4, gpus_per_trial=1, notebook=True)"
   ]
  },
  {
   "cell_type": "code",
   "execution_count": 3,
   "metadata": {},
   "outputs": [
    {
     "data": {
      "text/plain": [
       "[DEFAULT_89ede_00000, DEFAULT_89ede_00001, DEFAULT_89ede_00002]"
      ]
     },
     "execution_count": 3,
     "metadata": {},
     "output_type": "execute_result"
    }
   ],
   "source": [
    "analysis.fetch_trial_dataframes()\n",
    "analysis.get_best_logdir(metric=\"avg_val_accuracy\")\n",
    "analysis.get_best_trial(metric=\"avg_val_accuracy\")\n",
    "analysis.get_trial_checkpoints_paths(analysis.get_best_trial(metric=\"avg_val_accuracy\"))\n",
    "analysis.trials"
   ]
  },
  {
   "cell_type": "code",
   "execution_count": 5,
   "metadata": {},
   "outputs": [
    {
     "data": {
      "image/png": "[encoded data removed]",
      "text/plain": [
       "<Figure size 720x360 with 1 Axes>"
      ]
     },
     "metadata": {
      "needs_background": "light"
     },
     "output_type": "display_data"
    }
   ],
   "source": [
    "lossG = [df['avg_val_loss'].tolist() for df in list(analysis.trial_dataframes.values())]\n",
    "plt.figure(figsize=(10,5))\n",
    "plt.title(\"Avg validation loss During Training\")\n",
    "for i, lossg in enumerate(lossG):\n",
    "    plt.plot(lossg, label=f\"trial_{i}\")\n",
    "\n",
    "plt.xlabel(\"iterations\")\n",
    "plt.ylabel(\"avg_val_loss\")\n",
    "plt.legend()\n",
    "plt.show()"
   ]
  }
 ],
 "metadata": {
  "kernelspec": {
   "display_name": "Python 3",
   "language": "python",
   "name": "python3"
  },
  "language_info": {
   "codemirror_mode": {
    "name": "ipython",
    "version": 3
   },
   "file_extension": ".py",
   "mimetype": "text/x-python",
   "name": "python",
   "nbconvert_exporter": "python",
   "pygments_lexer": "ipython3",
   "version": "3.6.9-final"
  }
 },
 "nbformat": 4,
 "nbformat_minor": 4
}