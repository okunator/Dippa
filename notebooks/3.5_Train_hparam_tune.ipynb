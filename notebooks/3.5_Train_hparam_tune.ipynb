{
 "cells": [
  {
   "cell_type": "code",
   "execution_count": 1,
   "metadata": {},
   "outputs": [
    {
     "name": "stderr",
     "output_type": "stream",
     "text": [
      "/home/leos/.local/lib/python3.6/site-packages/pandas/compat/_optional.py:124: UserWarning: Pandas requires version '1.2.1' or newer of 'bottleneck' (version '1.2.0' currently installed).\n",
      "  warnings.warn(msg, UserWarning)\n",
      "/usr/lib/python3.6/importlib/_bootstrap.py:219: RuntimeWarning:\n",
      "\n",
      "numpy.ufunc size changed, may indicate binary incompatibility. Expected 192 from C header, got 216 from PyObject\n",
      "\n",
      "/usr/lib/python3.6/importlib/_bootstrap.py:219: RuntimeWarning:\n",
      "\n",
      "numpy.ufunc size changed, may indicate binary incompatibility. Expected 192 from C header, got 216 from PyObject\n",
      "\n",
      "/usr/lib/python3.6/importlib/_bootstrap.py:219: RuntimeWarning:\n",
      "\n",
      "numpy.ufunc size changed, may indicate binary incompatibility. Expected 192 from C header, got 216 from PyObject\n",
      "\n",
      "/usr/lib/python3.6/importlib/_bootstrap.py:219: RuntimeWarning:\n",
      "\n",
      "numpy.ufunc size changed, may indicate binary incompatibility. Expected 216, got 192\n",
      "\n",
      "/usr/lib/python3.6/importlib/_bootstrap.py:219: ImportWarning:\n",
      "\n",
      "can't resolve package from __spec__ or __package__, falling back on __name__ and __path__\n",
      "\n",
      "/usr/lib/python3.6/importlib/_bootstrap.py:219: RuntimeWarning:\n",
      "\n",
      "numpy.ufunc size changed, may indicate binary incompatibility. Expected 216, got 192\n",
      "\n",
      "/usr/lib/python3.6/importlib/_bootstrap.py:219: ImportWarning:\n",
      "\n",
      "can't resolve package from __spec__ or __package__, falling back on __name__ and __path__\n",
      "\n"
     ]
    }
   ],
   "source": [
    "from src.conf.config import CONFIG\n",
    "from src.tune.tune_experiment import (\n",
    "    TuneReportCallback, CheckpointCallback,\n",
    "    train_tune_checkpoint, tune_pbt\n",
    ")"
   ]
  },
  {
   "cell_type": "code",
   "execution_count": 3,
   "metadata": {},
   "outputs": [],
   "source": [
    "from pathlib import Path"
   ]
  },
  {
   "cell_type": "code",
   "execution_count": 4,
   "metadata": {},
   "outputs": [],
   "source": [
    "p = Path(\"/home/leos/Dippa/results/tests/Unet/version_test_pannuke_unet_pbt/tune_pbt/DEFAULT_1_2020-09-29_12-46-27qdc7sl10\")"
   ]
  },
  {
   "cell_type": "code",
   "execution_count": 38,
   "metadata": {},
   "outputs": [
    {
     "data": {
      "text/plain": [
       "[PosixPath('/home/leos/Dippa/results/tests/Unet/version_test_pannuke_unet_pbt/tune_pbt/DEFAULT_1_2020-09-29_12-46-27qdc7sl10/checkpoint_tmp0df3dd')]"
      ]
     },
     "execution_count": 38,
     "metadata": {},
     "output_type": "execute_result"
    }
   ],
   "source": [
    "ckpt_dirs = [d for d in p.iterdir() if d.is_dir() and \"checkpoint_\" in d.name]\n",
    "tmp_ckpt = [d for d in ckpt_dirs if \"tmp\" in d.name]\n",
    "ckpt = tmp_ckpt[0] if tmp_ckpt else"
   ]
  },
  {
   "cell_type": "code",
   "execution_count": 25,
   "metadata": {},
   "outputs": [
    {
     "data": {
      "text/plain": [
       "[PosixPath('/home/leos/Dippa/results/tests/Unet/version_test_pannuke_unet_pbt/tune_pbt/DEFAULT_1_2020-09-29_12-46-27qdc7sl10/checkpoint_221'),\n",
       " PosixPath('/home/leos/Dippa/results/tests/Unet/version_test_pannuke_unet_pbt/tune_pbt/DEFAULT_1_2020-09-29_12-46-27qdc7sl10/checkpoint_2'),\n",
       " PosixPath('/home/leos/Dippa/results/tests/Unet/version_test_pannuke_unet_pbt/tune_pbt/DEFAULT_1_2020-09-29_12-46-27qdc7sl10/checkpoints'),\n",
       " PosixPath('/home/leos/Dippa/results/tests/Unet/version_test_pannuke_unet_pbt/tune_pbt/DEFAULT_1_2020-09-29_12-46-27qdc7sl10/events.out.tfevents.1601374267.lx9-304-12646.28726.0'),\n",
       " PosixPath('/home/leos/Dippa/results/tests/Unet/version_test_pannuke_unet_pbt/tune_pbt/DEFAULT_1_2020-09-29_12-46-27qdc7sl10/checkpoint_443'),\n",
       " PosixPath('/home/leos/Dippa/results/tests/Unet/version_test_pannuke_unet_pbt/tune_pbt/DEFAULT_1_2020-09-29_12-46-27qdc7sl10/events.out.tfevents.1601375306.lx9-304-12646.558.0'),\n",
       " PosixPath('/home/leos/Dippa/results/tests/Unet/version_test_pannuke_unet_pbt/tune_pbt/DEFAULT_1_2020-09-29_12-46-27qdc7sl10/params.pkl'),\n",
       " PosixPath('/home/leos/Dippa/results/tests/Unet/version_test_pannuke_unet_pbt/tune_pbt/DEFAULT_1_2020-09-29_12-46-27qdc7sl10/checkpoint_3'),\n",
       " PosixPath('/home/leos/Dippa/results/tests/Unet/version_test_pannuke_unet_pbt/tune_pbt/DEFAULT_1_2020-09-29_12-46-27qdc7sl10/checkpoint_591'),\n",
       " PosixPath('/home/leos/Dippa/results/tests/Unet/version_test_pannuke_unet_pbt/tune_pbt/DEFAULT_1_2020-09-29_12-46-27qdc7sl10/events.out.tfevents.1601374952.lx9-304-12646.28716.0'),\n",
       " PosixPath('/home/leos/Dippa/results/tests/Unet/version_test_pannuke_unet_pbt/tune_pbt/DEFAULT_1_2020-09-29_12-46-27qdc7sl10/events.out.tfevents.1601372794.lx9-304-12646.28723.0'),\n",
       " PosixPath('/home/leos/Dippa/results/tests/Unet/version_test_pannuke_unet_pbt/tune_pbt/DEFAULT_1_2020-09-29_12-46-27qdc7sl10/params.json'),\n",
       " PosixPath('/home/leos/Dippa/results/tests/Unet/version_test_pannuke_unet_pbt/tune_pbt/DEFAULT_1_2020-09-29_12-46-27qdc7sl10/checkpoint_4'),\n",
       " PosixPath('/home/leos/Dippa/results/tests/Unet/version_test_pannuke_unet_pbt/tune_pbt/DEFAULT_1_2020-09-29_12-46-27qdc7sl10/hparams.yaml'),\n",
       " PosixPath('/home/leos/Dippa/results/tests/Unet/version_test_pannuke_unet_pbt/tune_pbt/DEFAULT_1_2020-09-29_12-46-27qdc7sl10/progress.csv'),\n",
       " PosixPath('/home/leos/Dippa/results/tests/Unet/version_test_pannuke_unet_pbt/tune_pbt/DEFAULT_1_2020-09-29_12-46-27qdc7sl10/events.out.tfevents.1601373540.lx9-304-12646.28722.0'),\n",
       " PosixPath('/home/leos/Dippa/results/tests/Unet/version_test_pannuke_unet_pbt/tune_pbt/DEFAULT_1_2020-09-29_12-46-27qdc7sl10/result.json'),\n",
       " PosixPath('/home/leos/Dippa/results/tests/Unet/version_test_pannuke_unet_pbt/tune_pbt/DEFAULT_1_2020-09-29_12-46-27qdc7sl10/events.out.tfevents.1601372787.lx9-304-12646'),\n",
       " PosixPath('/home/leos/Dippa/results/tests/Unet/version_test_pannuke_unet_pbt/tune_pbt/DEFAULT_1_2020-09-29_12-46-27qdc7sl10/checkpoint_tmp0df3dd')]"
      ]
     },
     "execution_count": 25,
     "metadata": {},
     "output_type": "execute_result"
    }
   ],
   "source": [
    "ckpts"
   ]
  },
  {
   "cell_type": "code",
   "execution_count": 2,
   "metadata": {},
   "outputs": [
    {
     "data": {
      "text/html": [
       "== Status ==<br>Memory usage on this node: 14.1/31.2 GiB<br>PopulationBasedTraining: 4 checkpoints, 3 perturbs<br>Resources requested: 0/12 CPUs, 0/1 GPUs, 0.0/15.43 GiB heap, 0.0/5.32 GiB objects (0/1.0 GPUType:RTX)<br>Result logdir: /home/local/leos/Dippa/results/tests/Unet/version_test_pannuke_unet_pbt/tune_pbt<br>Number of trials: 2 (2 TERMINATED)<br><table>\n",
       "<thead>\n",
       "<tr><th>Trial name         </th><th>status    </th><th>loc  </th><th style=\"text-align: right;\">  edge_weight</th><th style=\"text-align: right;\">    lr</th><th style=\"text-align: right;\">  batch_size</th><th style=\"text-align: right;\">  avg_val_loss</th><th style=\"text-align: right;\">  avg_val_accuracy</th><th style=\"text-align: right;\">  training_iteration</th></tr>\n",
       "</thead>\n",
       "<tbody>\n",
       "<tr><td>DEFAULT_cfaa0_00000</td><td>TERMINATED</td><td>     </td><td style=\"text-align: right;\">            1</td><td style=\"text-align: right;\">0.001 </td><td style=\"text-align: right;\">           6</td><td style=\"text-align: right;\">      0.111277</td><td style=\"text-align: right;\">          0.954162</td><td style=\"text-align: right;\">                   4</td></tr>\n",
       "<tr><td>DEFAULT_cfaa0_00001</td><td>TERMINATED</td><td>     </td><td style=\"text-align: right;\">            2</td><td style=\"text-align: right;\">0.0012</td><td style=\"text-align: right;\">          16</td><td style=\"text-align: right;\">      0.86088 </td><td style=\"text-align: right;\">          0.89116 </td><td style=\"text-align: right;\">                   5</td></tr>\n",
       "</tbody>\n",
       "</table><br><br>"
      ],
      "text/plain": [
       "<IPython.core.display.HTML object>"
      ]
     },
     "metadata": {},
     "output_type": "display_data"
    }
   ],
   "source": [
    "config = CONFIG\n",
    "analysis = tune_pbt(config, num_samples=2, num_epochs=4, gpus_per_trial=1, notebook=True)"
   ]
  }
 ],
 "metadata": {
  "kernelspec": {
   "display_name": "Python 3",
   "language": "python",
   "name": "python3"
  },
  "language_info": {
   "codemirror_mode": {
    "name": "ipython",
    "version": 3
   },
   "file_extension": ".py",
   "mimetype": "text/x-python",
   "name": "python",
   "nbconvert_exporter": "python",
   "pygments_lexer": "ipython3",
   "version": "3.6.9"
  }
 },
 "nbformat": 4,
 "nbformat_minor": 4
}
