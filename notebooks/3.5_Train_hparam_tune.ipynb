{
 "cells": [
  {
   "cell_type": "code",
   "execution_count": 1,
   "metadata": {},
   "outputs": [
    {
     "name": "stderr",
     "output_type": "stream",
     "text": [
      "/home/leos/.local/lib/python3.6/site-packages/pandas/compat/_optional.py:124: UserWarning: Pandas requires version '1.2.1' or newer of 'bottleneck' (version '1.2.0' currently installed).\n",
      "  warnings.warn(msg, UserWarning)\n",
      "/usr/lib/python3.6/importlib/_bootstrap.py:219: RuntimeWarning:\n",
      "\n",
      "numpy.ufunc size changed, may indicate binary incompatibility. Expected 192 from C header, got 216 from PyObject\n",
      "\n",
      "/usr/lib/python3.6/importlib/_bootstrap.py:219: RuntimeWarning:\n",
      "\n",
      "numpy.ufunc size changed, may indicate binary incompatibility. Expected 192 from C header, got 216 from PyObject\n",
      "\n",
      "/usr/lib/python3.6/importlib/_bootstrap.py:219: RuntimeWarning:\n",
      "\n",
      "numpy.ufunc size changed, may indicate binary incompatibility. Expected 192 from C header, got 216 from PyObject\n",
      "\n",
      "/usr/lib/python3.6/importlib/_bootstrap.py:219: RuntimeWarning:\n",
      "\n",
      "numpy.ufunc size changed, may indicate binary incompatibility. Expected 216, got 192\n",
      "\n",
      "/usr/lib/python3.6/importlib/_bootstrap.py:219: ImportWarning:\n",
      "\n",
      "can't resolve package from __spec__ or __package__, falling back on __name__ and __path__\n",
      "\n",
      "/usr/lib/python3.6/importlib/_bootstrap.py:219: RuntimeWarning:\n",
      "\n",
      "numpy.ufunc size changed, may indicate binary incompatibility. Expected 216, got 192\n",
      "\n",
      "/usr/lib/python3.6/importlib/_bootstrap.py:219: ImportWarning:\n",
      "\n",
      "can't resolve package from __spec__ or __package__, falling back on __name__ and __path__\n",
      "\n"
     ]
    }
   ],
   "source": [
    "from matplotlib import pyplot as plt\n",
    "from src.conf.config import CONFIG\n",
    "from src.tune.tune_experiment import (\n",
    "    TuneReportCallback, CheckpointCallback,\n",
    "    train_tune_checkpoint, tune_pbt\n",
    ")"
   ]
  },
  {
   "cell_type": "code",
   "execution_count": 2,
   "metadata": {
    "scrolled": true
   },
   "outputs": [
    {
     "data": {
      "text/html": [
       "== Status ==<br>Memory usage on this node: 14.2/31.2 GiB<br>PopulationBasedTraining: 2 checkpoints, 2 perturbs<br>Resources requested: 0/12 CPUs, 0/1 GPUs, 0.0/15.23 GiB heap, 0.0/5.22 GiB objects (0/1.0 GPUType:RTX)<br>Result logdir: /home/local/leos/Dippa/results/tests/Unet/version_test_pannuke_unet_pbt5/tune_pbt<br>Number of trials: 2 (2 TERMINATED)<br><table>\n",
       "<thead>\n",
       "<tr><th>Trial name         </th><th>status    </th><th>loc  </th><th style=\"text-align: right;\">  edge_weight</th><th style=\"text-align: right;\">    lr</th><th style=\"text-align: right;\">  batch_size</th><th style=\"text-align: right;\">  avg_val_loss</th><th style=\"text-align: right;\">  avg_val_accuracy</th><th style=\"text-align: right;\">  training_iteration</th></tr>\n",
       "</thead>\n",
       "<tbody>\n",
       "<tr><td>DEFAULT_deee0_00000</td><td>TERMINATED</td><td>     </td><td style=\"text-align: right;\">            1</td><td style=\"text-align: right;\">0.001 </td><td style=\"text-align: right;\">           6</td><td style=\"text-align: right;\">      0.117466</td><td style=\"text-align: right;\">          0.952766</td><td style=\"text-align: right;\">                   4</td></tr>\n",
       "<tr><td>DEFAULT_deee0_00001</td><td>TERMINATED</td><td>     </td><td style=\"text-align: right;\">            2</td><td style=\"text-align: right;\">0.0012</td><td style=\"text-align: right;\">          16</td><td style=\"text-align: right;\">      0.329478</td><td style=\"text-align: right;\">          0.927194</td><td style=\"text-align: right;\">                   4</td></tr>\n",
       "</tbody>\n",
       "</table><br><br>"
      ],
      "text/plain": [
       "<IPython.core.display.HTML object>"
      ]
     },
     "metadata": {},
     "output_type": "display_data"
    }
   ],
   "source": [
    "config = CONFIG\n",
    "analysis = tune_pbt(config, num_samples=2, num_epochs=4, gpus_per_trial=1, notebook=True)"
   ]
  },
  {
   "cell_type": "code",
   "execution_count": 26,
   "metadata": {},
   "outputs": [
    {
     "data": {
      "text/plain": [
       "[DEFAULT_deee0_00000, DEFAULT_deee0_00001]"
      ]
     },
     "execution_count": 26,
     "metadata": {},
     "output_type": "execute_result"
    }
   ],
   "source": [
    "analysis.fetch_trial_dataframes()\n",
    "analysis.get_best_logdir(metric=\"avg_val_accuracy\")\n",
    "analysis.get_best_trial(metric=\"avg_val_accuracy\")\n",
    "analysis.get_trial_checkpoints_paths(analysis.get_best_trial(metric=\"avg_val_accuracy\"))\n",
    "analysis.trials"
   ]
  },
  {
   "cell_type": "code",
   "execution_count": 12,
   "metadata": {},
   "outputs": [
    {
     "data": {
      "image/png": "[encoded data removed]",
      "text/plain": [
       "<Figure size 720x360 with 1 Axes>"
      ]
     },
     "metadata": {
      "needs_background": "light"
     },
     "output_type": "display_data"
    }
   ],
   "source": [
    "lossG = [df['avg_val_loss'].tolist() for df in list(analysis.trial_dataframes.values())]\n",
    "plt.figure(figsize=(10,5))\n",
    "plt.title(\"Avg validation loss During Training\")\n",
    "for i, lossg in enumerate(lossG):\n",
    "    plt.plot(lossg, label=i)\n",
    "\n",
    "plt.xlabel(\"iterations\")\n",
    "plt.ylabel(\"avg_val_loss\")\n",
    "plt.legend()\n",
    "plt.show()"
   ]
  }
 ],
 "metadata": {
  "kernelspec": {
   "display_name": "Python 3",
   "language": "python",
   "name": "python3"
  },
  "language_info": {
   "codemirror_mode": {
    "name": "ipython",
    "version": 3
   },
   "file_extension": ".py",
   "mimetype": "text/x-python",
   "name": "python",
   "nbconvert_exporter": "python",
   "pygments_lexer": "ipython3",
   "version": "3.6.9"
  }
 },
 "nbformat": 4,
 "nbformat_minor": 4
}
