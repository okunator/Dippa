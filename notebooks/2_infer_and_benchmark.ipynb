{
 "cells": [
  {
   "cell_type": "code",
   "execution_count": 2,
   "metadata": {},
   "outputs": [],
   "source": [
    "from src.dl.inference.inferer import Inferer\n",
    "import src.dl.lightning as lightning\n",
    "from src.data import PannukeDataModule, ConsepDataModule"
   ]
  },
  {
   "cell_type": "markdown",
   "metadata": {},
   "source": [
    "# Running Inference\n",
    "\n",
    "- `stride_size` has a big impact on results. The smaller the better accuracy but results increased mem footprint and running times\n",
    "- `apply_weights=True` results less weight on the tile boundaries preventing boundary artifacts. Used for the auxilliary branch predictions\n",
    "- By tweaking `*batch_size` and `loader_num_workers` you can get better performance depending on your machine. Hitting the sweetspot requires a few runs \n",
    "- If your `in_dir` contains hundreds of images, use `n_images={int}` to refresh memory after every `n_images` predictions"
   ]
  },
  {
   "cell_type": "code",
   "execution_count": 3,
   "metadata": {},
   "outputs": [],
   "source": [
    "# Initialize the inferer\n",
    "in_dir = \"path/to/imgs\"\n",
    "gt_dir = None # This is optional. Can be None\n",
    "exp_name = \"panoptic\" # name of the experiment (directory)\n",
    "exp_version = \"effnetv2\" # name of the experiment version (sub directory inside the experiment dir)\n",
    "lightning_model = lightning.SegModel.from_experiment(name=exp_name, version=exp_version)\n",
    "\n",
    "inferer = Inferer(\n",
    "    lightning_model,\n",
    "    in_data_dir=in_dir,\n",
    "    gt_mask_dir=gt_dir,\n",
    "    patch_size=(256, 256),\n",
    "    stride_size=80,\n",
    "    fn_pattern=\"*\",\n",
    "    model_weights=\"last\",\n",
    "    apply_weights=True,\n",
    "    post_proc_method=\"cellpose\",\n",
    "    loader_batch_size=1,\n",
    "    loader_num_workers=1,\n",
    "    model_batch_size=16,\n",
    "    auto_range=True,\n",
    "    n_images=32\n",
    ")"
   ]
  },
  {
   "cell_type": "code",
   "execution_count": null,
   "metadata": {},
   "outputs": [],
   "source": [
    "area_classes = {\n",
    "    \"background\": 0,\n",
    "    \"areastroma\": 1,\n",
    "    \"area_cin\": 2,\n",
    "    \"areasquam\": 3,\n",
    "    \"areagland\": 4,\n",
    "}\n",
    "\n",
    "cell_classes = {\n",
    "    \"background\": 0,\n",
    "    \"neoplastic\": 1,\n",
    "    \"inflammatory\": 2,\n",
    "    \"connective\": 3,\n",
    "    \"dead\": 4,\n",
    "    \"glandular_epithel\": 5,\n",
    "    \"squamous_epithel\": 6\n",
    "}\n",
    "\n",
    "inferer.run_inference(\n",
    "    save_dir=\"/path/to/my_geojson_dir\",\n",
    "    fformat=\"geojson\",\n",
    "    offsets=True,\n",
    "    classes_sem=area_classes,\n",
    "    classes_type=cell_classes\n",
    ")"
   ]
  },
  {
   "cell_type": "code",
   "execution_count": null,
   "metadata": {},
   "outputs": [],
   "source": [
    "import matplotlib.pyplot as plt\n",
    "from skimage.color import label2rgb\n",
    "from src.utils import FileHandler\n",
    "from pathlib import Path\n",
    "\n",
    "from src.utils import draw_thing_contours, draw_stuff_contours, label_sem_map,\n",
    "\n",
    "\n",
    "ix = 5\n",
    "keys = list(inferer.soft_insts.keys())\n",
    "key = keys[ix]\n",
    "img = FileHandler.read_img([f for f in sorted(Path(inferer.in_data_dir).glob(\"*\")) if key in f.name][0])\n",
    "areas = draw_stuff_contours(label_sem_map(inferer.sem_maps[key]), img, inferer.sem_maps[key], classes=area_classes, thickness=5, fill_contours=True)\n",
    "everything = draw_thing_contours(inferer.inst_maps[key], areas, inferer.type_maps[key], classes=cell_classes)\n",
    "\n",
    "fig, ax = plt.subplots(2, 2, figsize=(40, 40))\n",
    "ax = ax.flatten()\n",
    "ax[0].imshow(label2rgb(inferer.sem_maps[key], bg_label=0))\n",
    "ax[1].imshow(label2rgb(inferer.type_maps[key], bg_label=0))\n",
    "ax[2].imshow(img)\n",
    "ax[3].imshow(everything)\n",
    "# ax[2].imshow(label2rgb(FileHandler.read_mask([f for f in inferer.gt_mask_dir if key in f.name][0], \"inst_map\"), bg_label=0))\n",
    "# ax[3].imshow(label2rgb(FileHandler.read_mask([f for f in inferer.gt_mask_dir if key in f.name][0], \"type_map\"), bg_label=0))"
   ]
  },
  {
   "cell_type": "markdown",
   "metadata": {},
   "source": [
    "# Merging results\n",
    "\n",
    "- If you saved your results to geojson format and the tiles are adjascent to each other (e.g. extracted from a WSI), you can merge all the tiles together to form a QuPath readable geojson file\n"
   ]
  },
  {
   "cell_type": "code",
   "execution_count": null,
   "metadata": {},
   "outputs": [],
   "source": [
    "from src.utils import CellMerger, AreaMerger\n",
    "\n",
    "# Merge cell annotations\n",
    "c = CellMerger(\n",
    "    \"/path/to/my_geojson_dir/cells/\"\n",
    ")\n",
    "c.merge(\"/path/to/my_wsi_cells.json\")\n",
    "\n",
    "# If the netowork outputs area predictions u can merge them too\n",
    "c = AreaMerger(\n",
    "    \"/path/to/my_geojson_dir/areas/\"\n",
    ")\n",
    "c.merge(\"/path/to/my_wsi_areas.json\")"
   ]
  },
  {
   "cell_type": "markdown",
   "metadata": {},
   "source": [
    "# Run Benchmarking\n",
    "\n",
    "- Only works if `gt_mask_dir` is provided\n",
    "- The first cell below this one runs binary metrics i.e. segmentation metrics for all cells\n",
    "- The second cell below this one runs metrics per cell type"
   ]
  },
  {
   "cell_type": "code",
   "execution_count": null,
   "metadata": {},
   "outputs": [],
   "source": [
    "pattern_list = None\n",
    "binary_scores = inferer.benchmark_insts(pattern_list=pattern_list, file_prefix=f\"{exp_name}_{exp_version}\")\n",
    "binary_scores"
   ]
  },
  {
   "cell_type": "code",
   "execution_count": null,
   "metadata": {},
   "outputs": [],
   "source": [
    "pattern_list = None\n",
    "type_scores = inferer.benchmark_types(\n",
    "    classes=PannukeDataModule.get_classes(),\n",
    "    pattern_list=pattern_list, \n",
    "    file_prefix=f\"{exp_version}\"\n",
    ")\n",
    "type_scores = type_scores[type_scores.index.str.contains(\"avg\")]\n",
    "type_scores"
   ]
  }
 ],
 "metadata": {
  "interpreter": {
   "hash": "1d257930f390edd16081c76357b57cbbee027806f72e6af695a5873c4aff6357"
  },
  "kernelspec": {
   "display_name": "Python 3.6.9 64-bit ('DippaEnv': venv)",
   "name": "python3"
  },
  "language_info": {
   "codemirror_mode": {
    "name": "ipython",
    "version": 3
   },
   "file_extension": ".py",
   "mimetype": "text/x-python",
   "name": "python",
   "nbconvert_exporter": "python",
   "pygments_lexer": "ipython3",
   "version": "3.6.9"
  },
  "metadata": {
   "interpreter": {
    "hash": "3ea01dde592f11f139bb8a18f7472b919436c8f8399691d376fd4b0010891aeb"
   }
  }
 },
 "nbformat": 4,
 "nbformat_minor": 4
}
