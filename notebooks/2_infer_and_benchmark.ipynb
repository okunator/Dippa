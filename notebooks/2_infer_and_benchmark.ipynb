{
 "cells": [
  {
   "cell_type": "code",
   "execution_count": 1,
   "metadata": {},
   "outputs": [],
   "source": [
    "from src.dl.inference.inferer import Inferer\n",
    "import src.dl.lightning as lightning\n",
    "from src.config import CONFIG"
   ]
  },
  {
   "cell_type": "code",
   "execution_count": 2,
   "metadata": {},
   "outputs": [],
   "source": [
    "lightning_model = lightning.SegModel.from_conf(CONFIG)\n",
    "\n",
    "inferer = Inferer(\n",
    "    lightning_model,\n",
    "    dataset=\"consep\",\n",
    "    stride_size=80,\n",
    "    fn_pattern=\"*\",\n",
    "    model_weights=\"last\",\n",
    "    apply_weights=True,\n",
    "    post_proc_method=\"hover\",\n",
    "    normalize_input=True\n",
    ")"
   ]
  },
  {
   "cell_type": "code",
   "execution_count": 3,
   "metadata": {
    "scrolled": true
   },
   "outputs": [
    {
     "output_type": "stream",
     "name": "stderr",
     "text": [
      "Inference: /home/local/leos/Dippa/datasets/data/consep/test/images: 100%|██████████| 2/2 [01:00<00:00, 30.30s/batch, patches=4046/4046]\n"
     ]
    }
   ],
   "source": [
    "inferer.run_inference()"
   ]
  },
  {
   "cell_type": "code",
   "execution_count": 4,
   "metadata": {},
   "outputs": [
    {
     "output_type": "stream",
     "name": "stderr",
     "text": [
      "100%|██████████| 14/14 [00:36<00:00,  2.61s/it]\n"
     ]
    }
   ],
   "source": [
    "inferer.post_process()"
   ]
  },
  {
   "cell_type": "code",
   "execution_count": 5,
   "metadata": {},
   "outputs": [],
   "source": [
    "# import matplotlib.pyplot as plt\n",
    "# from skimage.color import label2rgb\n",
    "\n",
    "# fig, ax = plt.subplots(2, 2, figsize=(40, 40))\n",
    "# ax = ax.flatten()\n",
    "# ax[0].imshow(label2rgb(inferer.inst_maps[\"test_11\"], bg_label=0))\n",
    "# ax[1].imshow(inferer.soft_insts[\"test_11\"][..., 1])\n",
    "# ax[2].imshow(inferer.aux_maps[\"test_11\"][..., 0])\n",
    "# ax[3].imshow(inferer.aux_maps[\"test_11\"][..., 1])"
   ]
  },
  {
   "cell_type": "code",
   "execution_count": 6,
   "metadata": {},
   "outputs": [
    {
     "output_type": "stream",
     "name": "stderr",
     "text": [
      "100%|██████████| 14/14 [01:18<00:00,  5.57s/it]\n"
     ]
    },
    {
     "output_type": "execute_result",
     "data": {
      "text/plain": [
       "                           AJI  AJI_plus     DICE2        PQ        SQ  \\\n",
       "name                                                                     \n",
       "test_1                0.507329  0.568830  0.450301  0.529044  0.755011   \n",
       "test_10               0.552629  0.579898  0.467900  0.553506  0.788746   \n",
       "test_11               0.406897  0.502472  0.433833  0.333128  0.746620   \n",
       "test_12               0.622300  0.657411  0.604903  0.598597  0.774820   \n",
       "test_13               0.538830  0.589947  0.630698  0.521941  0.783907   \n",
       "test_14               0.600182  0.617230  0.599591  0.601739  0.799145   \n",
       "test_2                0.503176  0.516676  0.693302  0.476493  0.757900   \n",
       "test_3                0.551690  0.613239  0.490534  0.541622  0.785247   \n",
       "test_4                0.615811  0.666108  0.519723  0.555079  0.790069   \n",
       "test_5                0.513738  0.569629  0.505029  0.543532  0.780078   \n",
       "test_6                0.548114  0.585582  0.675504  0.572774  0.781184   \n",
       "test_7                0.418647  0.442623  0.620326  0.366734  0.727489   \n",
       "test_8                0.425251  0.492381  0.353690  0.409724  0.755847   \n",
       "test_9                0.500896  0.527978  0.623926  0.507494  0.772656   \n",
       "averages_for_the_set  0.521821  0.566429  0.547804  0.507958  0.771337   \n",
       "\n",
       "                            DQ  inst_recall  inst_precision    splits  \\\n",
       "name                                                                    \n",
       "test_1                0.700711     0.626590        0.794721  0.555731   \n",
       "test_10               0.701754     0.686391        0.717822  0.977544   \n",
       "test_11               0.446182     0.344475        0.633106  0.721216   \n",
       "test_12               0.772563     0.750000        0.796526  0.451177   \n",
       "test_13               0.665821     0.579102        0.783085  0.594932   \n",
       "test_14               0.752979     0.852518        0.674253  1.183002   \n",
       "test_2                0.628702     0.563265        0.711340  0.227247   \n",
       "test_3                0.689747     0.657360        0.725490  0.448392   \n",
       "test_4                0.702570     0.686603        0.719298  0.616874   \n",
       "test_5                0.696766     0.627473        0.783265  0.650960   \n",
       "test_6                0.733212     0.673333        0.804781  0.290473   \n",
       "test_7                0.504110     0.381743        0.741935  0.112810   \n",
       "test_8                0.542073     0.488818        0.608350  0.783379   \n",
       "test_9                0.656818     0.563353        0.787466  0.260055   \n",
       "averages_for_the_set  0.656715     0.605787        0.734388  0.562414   \n",
       "\n",
       "                        merges  \n",
       "name                            \n",
       "test_1                0.652189  \n",
       "test_10               0.403888  \n",
       "test_11               0.782260  \n",
       "test_12               0.332561  \n",
       "test_13               0.897582  \n",
       "test_14               0.320076  \n",
       "test_2                0.582124  \n",
       "test_3                0.586634  \n",
       "test_4                0.558718  \n",
       "test_5                0.997009  \n",
       "test_6                0.295402  \n",
       "test_7                0.262761  \n",
       "test_8                0.712727  \n",
       "test_9                0.490355  \n",
       "averages_for_the_set  0.562449  "
      ],
      "text/html": "<div>\n<style scoped>\n    .dataframe tbody tr th:only-of-type {\n        vertical-align: middle;\n    }\n\n    .dataframe tbody tr th {\n        vertical-align: top;\n    }\n\n    .dataframe thead th {\n        text-align: right;\n    }\n</style>\n<table border=\"1\" class=\"dataframe\">\n  <thead>\n    <tr style=\"text-align: right;\">\n      <th></th>\n      <th>AJI</th>\n      <th>AJI_plus</th>\n      <th>DICE2</th>\n      <th>PQ</th>\n      <th>SQ</th>\n      <th>DQ</th>\n      <th>inst_recall</th>\n      <th>inst_precision</th>\n      <th>splits</th>\n      <th>merges</th>\n    </tr>\n    <tr>\n      <th>name</th>\n      <th></th>\n      <th></th>\n      <th></th>\n      <th></th>\n      <th></th>\n      <th></th>\n      <th></th>\n      <th></th>\n      <th></th>\n      <th></th>\n    </tr>\n  </thead>\n  <tbody>\n    <tr>\n      <th>test_1</th>\n      <td>0.507329</td>\n      <td>0.568830</td>\n      <td>0.450301</td>\n      <td>0.529044</td>\n      <td>0.755011</td>\n      <td>0.700711</td>\n      <td>0.626590</td>\n      <td>0.794721</td>\n      <td>0.555731</td>\n      <td>0.652189</td>\n    </tr>\n    <tr>\n      <th>test_10</th>\n      <td>0.552629</td>\n      <td>0.579898</td>\n      <td>0.467900</td>\n      <td>0.553506</td>\n      <td>0.788746</td>\n      <td>0.701754</td>\n      <td>0.686391</td>\n      <td>0.717822</td>\n      <td>0.977544</td>\n      <td>0.403888</td>\n    </tr>\n    <tr>\n      <th>test_11</th>\n      <td>0.406897</td>\n      <td>0.502472</td>\n      <td>0.433833</td>\n      <td>0.333128</td>\n      <td>0.746620</td>\n      <td>0.446182</td>\n      <td>0.344475</td>\n      <td>0.633106</td>\n      <td>0.721216</td>\n      <td>0.782260</td>\n    </tr>\n    <tr>\n      <th>test_12</th>\n      <td>0.622300</td>\n      <td>0.657411</td>\n      <td>0.604903</td>\n      <td>0.598597</td>\n      <td>0.774820</td>\n      <td>0.772563</td>\n      <td>0.750000</td>\n      <td>0.796526</td>\n      <td>0.451177</td>\n      <td>0.332561</td>\n    </tr>\n    <tr>\n      <th>test_13</th>\n      <td>0.538830</td>\n      <td>0.589947</td>\n      <td>0.630698</td>\n      <td>0.521941</td>\n      <td>0.783907</td>\n      <td>0.665821</td>\n      <td>0.579102</td>\n      <td>0.783085</td>\n      <td>0.594932</td>\n      <td>0.897582</td>\n    </tr>\n    <tr>\n      <th>test_14</th>\n      <td>0.600182</td>\n      <td>0.617230</td>\n      <td>0.599591</td>\n      <td>0.601739</td>\n      <td>0.799145</td>\n      <td>0.752979</td>\n      <td>0.852518</td>\n      <td>0.674253</td>\n      <td>1.183002</td>\n      <td>0.320076</td>\n    </tr>\n    <tr>\n      <th>test_2</th>\n      <td>0.503176</td>\n      <td>0.516676</td>\n      <td>0.693302</td>\n      <td>0.476493</td>\n      <td>0.757900</td>\n      <td>0.628702</td>\n      <td>0.563265</td>\n      <td>0.711340</td>\n      <td>0.227247</td>\n      <td>0.582124</td>\n    </tr>\n    <tr>\n      <th>test_3</th>\n      <td>0.551690</td>\n      <td>0.613239</td>\n      <td>0.490534</td>\n      <td>0.541622</td>\n      <td>0.785247</td>\n      <td>0.689747</td>\n      <td>0.657360</td>\n      <td>0.725490</td>\n      <td>0.448392</td>\n      <td>0.586634</td>\n    </tr>\n    <tr>\n      <th>test_4</th>\n      <td>0.615811</td>\n      <td>0.666108</td>\n      <td>0.519723</td>\n      <td>0.555079</td>\n      <td>0.790069</td>\n      <td>0.702570</td>\n      <td>0.686603</td>\n      <td>0.719298</td>\n      <td>0.616874</td>\n      <td>0.558718</td>\n    </tr>\n    <tr>\n      <th>test_5</th>\n      <td>0.513738</td>\n      <td>0.569629</td>\n      <td>0.505029</td>\n      <td>0.543532</td>\n      <td>0.780078</td>\n      <td>0.696766</td>\n      <td>0.627473</td>\n      <td>0.783265</td>\n      <td>0.650960</td>\n      <td>0.997009</td>\n    </tr>\n    <tr>\n      <th>test_6</th>\n      <td>0.548114</td>\n      <td>0.585582</td>\n      <td>0.675504</td>\n      <td>0.572774</td>\n      <td>0.781184</td>\n      <td>0.733212</td>\n      <td>0.673333</td>\n      <td>0.804781</td>\n      <td>0.290473</td>\n      <td>0.295402</td>\n    </tr>\n    <tr>\n      <th>test_7</th>\n      <td>0.418647</td>\n      <td>0.442623</td>\n      <td>0.620326</td>\n      <td>0.366734</td>\n      <td>0.727489</td>\n      <td>0.504110</td>\n      <td>0.381743</td>\n      <td>0.741935</td>\n      <td>0.112810</td>\n      <td>0.262761</td>\n    </tr>\n    <tr>\n      <th>test_8</th>\n      <td>0.425251</td>\n      <td>0.492381</td>\n      <td>0.353690</td>\n      <td>0.409724</td>\n      <td>0.755847</td>\n      <td>0.542073</td>\n      <td>0.488818</td>\n      <td>0.608350</td>\n      <td>0.783379</td>\n      <td>0.712727</td>\n    </tr>\n    <tr>\n      <th>test_9</th>\n      <td>0.500896</td>\n      <td>0.527978</td>\n      <td>0.623926</td>\n      <td>0.507494</td>\n      <td>0.772656</td>\n      <td>0.656818</td>\n      <td>0.563353</td>\n      <td>0.787466</td>\n      <td>0.260055</td>\n      <td>0.490355</td>\n    </tr>\n    <tr>\n      <th>averages_for_the_set</th>\n      <td>0.521821</td>\n      <td>0.566429</td>\n      <td>0.547804</td>\n      <td>0.507958</td>\n      <td>0.771337</td>\n      <td>0.656715</td>\n      <td>0.605787</td>\n      <td>0.734388</td>\n      <td>0.562414</td>\n      <td>0.562449</td>\n    </tr>\n  </tbody>\n</table>\n</div>"
     },
     "metadata": {},
     "execution_count": 6
    }
   ],
   "source": [
    "pattern_list = None\n",
    "binary_scores = inferer.benchmark_insts(pattern_list=pattern_list, file_prefix=\"testi\")\n",
    "binary_scores"
   ]
  },
  {
   "cell_type": "code",
   "execution_count": 7,
   "metadata": {},
   "outputs": [
    {
     "output_type": "stream",
     "name": "stderr",
     "text": [
      "100%|██████████| 14/14 [00:05<00:00,  2.36it/s]\n",
      "100%|██████████| 14/14 [00:14<00:00,  1.01s/it]\n",
      "100%|██████████| 14/14 [00:29<00:00,  2.08s/it]\n",
      "100%|██████████| 14/14 [00:25<00:00,  1.85s/it]\n"
     ]
    },
    {
     "output_type": "execute_result",
     "data": {
      "text/plain": [
       "                                   AJI  AJI_plus     DICE2        PQ  \\\n",
       "name                                                                   \n",
       "miscellanous_avg_for_the_set  0.143288  0.147022  0.477060  0.152400   \n",
       "inflammatory_avg_for_the_set  0.389038  0.384248  0.818412  0.420131   \n",
       "epithelial_avg_for_the_set    0.503782  0.557265  0.445330  0.473912   \n",
       "spindle_avg_for_the_set       0.366410  0.376252  0.649586  0.367630   \n",
       "\n",
       "                                    SQ        DQ  inst_recall  inst_precision  \\\n",
       "name                                                                            \n",
       "miscellanous_avg_for_the_set  0.522781  0.195227     0.158776        0.501926   \n",
       "inflammatory_avg_for_the_set  0.773078  0.506639     0.515768        0.600028   \n",
       "epithelial_avg_for_the_set    0.768231  0.613224     0.590624        0.654744   \n",
       "spindle_avg_for_the_set       0.757456  0.488079     0.474413        0.533204   \n",
       "\n",
       "                                splits    merges  \n",
       "name                                              \n",
       "miscellanous_avg_for_the_set  0.014537  0.078060  \n",
       "inflammatory_avg_for_the_set  0.095810  0.090100  \n",
       "epithelial_avg_for_the_set    0.555188  0.405383  \n",
       "spindle_avg_for_the_set       0.243012  0.331930  "
      ],
      "text/html": "<div>\n<style scoped>\n    .dataframe tbody tr th:only-of-type {\n        vertical-align: middle;\n    }\n\n    .dataframe tbody tr th {\n        vertical-align: top;\n    }\n\n    .dataframe thead th {\n        text-align: right;\n    }\n</style>\n<table border=\"1\" class=\"dataframe\">\n  <thead>\n    <tr style=\"text-align: right;\">\n      <th></th>\n      <th>AJI</th>\n      <th>AJI_plus</th>\n      <th>DICE2</th>\n      <th>PQ</th>\n      <th>SQ</th>\n      <th>DQ</th>\n      <th>inst_recall</th>\n      <th>inst_precision</th>\n      <th>splits</th>\n      <th>merges</th>\n    </tr>\n    <tr>\n      <th>name</th>\n      <th></th>\n      <th></th>\n      <th></th>\n      <th></th>\n      <th></th>\n      <th></th>\n      <th></th>\n      <th></th>\n      <th></th>\n      <th></th>\n    </tr>\n  </thead>\n  <tbody>\n    <tr>\n      <th>miscellanous_avg_for_the_set</th>\n      <td>0.143288</td>\n      <td>0.147022</td>\n      <td>0.477060</td>\n      <td>0.152400</td>\n      <td>0.522781</td>\n      <td>0.195227</td>\n      <td>0.158776</td>\n      <td>0.501926</td>\n      <td>0.014537</td>\n      <td>0.078060</td>\n    </tr>\n    <tr>\n      <th>inflammatory_avg_for_the_set</th>\n      <td>0.389038</td>\n      <td>0.384248</td>\n      <td>0.818412</td>\n      <td>0.420131</td>\n      <td>0.773078</td>\n      <td>0.506639</td>\n      <td>0.515768</td>\n      <td>0.600028</td>\n      <td>0.095810</td>\n      <td>0.090100</td>\n    </tr>\n    <tr>\n      <th>epithelial_avg_for_the_set</th>\n      <td>0.503782</td>\n      <td>0.557265</td>\n      <td>0.445330</td>\n      <td>0.473912</td>\n      <td>0.768231</td>\n      <td>0.613224</td>\n      <td>0.590624</td>\n      <td>0.654744</td>\n      <td>0.555188</td>\n      <td>0.405383</td>\n    </tr>\n    <tr>\n      <th>spindle_avg_for_the_set</th>\n      <td>0.366410</td>\n      <td>0.376252</td>\n      <td>0.649586</td>\n      <td>0.367630</td>\n      <td>0.757456</td>\n      <td>0.488079</td>\n      <td>0.474413</td>\n      <td>0.533204</td>\n      <td>0.243012</td>\n      <td>0.331930</td>\n    </tr>\n  </tbody>\n</table>\n</div>"
     },
     "metadata": {},
     "execution_count": 7
    }
   ],
   "source": [
    "pattern_list = None\n",
    "type_scores = inferer.benchmark_types(pattern_list=pattern_list, file_prefix=\"testi\")\n",
    "type_scores = type_scores[type_scores.index.str.contains(\"avg\")]\n",
    "type_scores"
   ]
  }
 ],
 "metadata": {
  "kernelspec": {
   "name": "python3",
   "display_name": "Python 3.6.9 64-bit ('DippaEnv')",
   "metadata": {
    "interpreter": {
     "hash": "3ea01dde592f11f139bb8a18f7472b919436c8f8399691d376fd4b0010891aeb"
    }
   }
  },
  "language_info": {
   "codemirror_mode": {
    "name": "ipython",
    "version": 3
   },
   "file_extension": ".py",
   "mimetype": "text/x-python",
   "name": "python",
   "nbconvert_exporter": "python",
   "pygments_lexer": "ipython3",
   "version": "3.6.9-final"
  }
 },
 "nbformat": 4,
 "nbformat_minor": 4
}