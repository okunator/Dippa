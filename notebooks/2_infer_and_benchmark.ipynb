{
 "cells": [
  {
   "cell_type": "code",
   "execution_count": 1,
   "metadata": {},
   "outputs": [],
   "source": [
    "from src.dl.inference.inferer import Inferer\n",
    "import src.dl.lightning as lightning\n",
    "from src.config import CONFIG"
   ]
  },
  {
   "cell_type": "code",
   "execution_count": 2,
   "metadata": {},
   "outputs": [],
   "source": [
    "lightning_model = lightning.SegModel.from_conf(CONFIG)\n",
    "\n",
    "inferer = Inferer(\n",
    "    lightning_model,\n",
    "    dataset=\"consep\",\n",
    "    stride_size=80,\n",
    "    fn_pattern=\"*\",\n",
    "    model_weights=\"last\"\n",
    ")"
   ]
  },
  {
   "cell_type": "code",
   "execution_count": 3,
   "metadata": {
    "scrolled": true
   },
   "outputs": [
    {
     "output_type": "stream",
     "name": "stderr",
     "text": [
      "Inference: /home/local/leos/Dippa/datasets/data/consep/test/images: 100%|██████████| 2/2 [01:06<00:00, 33.23s/batch, patches=4046/4046]\n"
     ]
    }
   ],
   "source": [
    "inferer.run_inference()"
   ]
  },
  {
   "cell_type": "code",
   "execution_count": 7,
   "metadata": {},
   "outputs": [],
   "source": [
    "# import matplotlib.pyplot as plt\n",
    "\n",
    "# fig, ax = plt.subplots(2, 2, figsize=(30, 30))\n",
    "# ax = ax.flatten()\n",
    "# ax[0].imshow(inferer.soft_insts[\"test_1\"][..., 1])\n",
    "# ax[1].imshow(inferer.soft_types[\"test_1\"][..., 3])\n",
    "# ax[2].imshow(inferer.aux_maps[\"test_1\"][..., 1])\n",
    "# ax[3].imshow(inferer.aux_maps[\"test_1\"][..., 0])"
   ]
  },
  {
   "cell_type": "code",
   "execution_count": 5,
   "metadata": {},
   "outputs": [
    {
     "output_type": "stream",
     "name": "stderr",
     "text": [
      "100%|██████████| 14/14 [00:39<00:00,  2.85s/it]\n"
     ]
    }
   ],
   "source": [
    "inferer.post_process()"
   ]
  },
  {
   "cell_type": "code",
   "execution_count": 6,
   "metadata": {},
   "outputs": [
    {
     "output_type": "stream",
     "name": "stderr",
     "text": [
      "100%|██████████| 14/14 [01:24<00:00,  6.00s/it]\n"
     ]
    },
    {
     "output_type": "execute_result",
     "data": {
      "text/plain": [
       "                           AJI  AJI_plus     DICE2        PQ        SQ  \\\n",
       "name                                                                     \n",
       "test_1                0.501802  0.545051  0.449735  0.484518  0.747516   \n",
       "test_10               0.573928  0.597847  0.469877  0.571616  0.773893   \n",
       "test_11               0.419602  0.495638  0.424897  0.342457  0.732619   \n",
       "test_12               0.605975  0.626784  0.596623  0.565852  0.753884   \n",
       "test_13               0.536772  0.588490  0.623424  0.523445  0.776672   \n",
       "test_14               0.598239  0.601385  0.585980  0.569288  0.783919   \n",
       "test_2                0.475593  0.491418  0.640556  0.465129  0.735923   \n",
       "test_3                0.550608  0.579373  0.446456  0.475278  0.757971   \n",
       "test_4                0.565161  0.591397  0.466118  0.474344  0.766884   \n",
       "test_5                0.518444  0.557014  0.493250  0.534613  0.758242   \n",
       "test_6                0.506096  0.522835  0.599147  0.496278  0.767642   \n",
       "test_7                0.456179  0.483032  0.621098  0.401632  0.731273   \n",
       "test_8                0.443152  0.476708  0.346154  0.394719  0.726746   \n",
       "test_9                0.512500  0.541658  0.625246  0.525216  0.775770   \n",
       "averages_for_the_set  0.518861  0.549902  0.527754  0.487456  0.756354   \n",
       "\n",
       "                            DQ  inst_recall  inst_precision    splits  \\\n",
       "name                                                                    \n",
       "test_1                0.648171     0.594220        0.712899  0.566387   \n",
       "test_10               0.738623     0.749112        0.728423  0.892875   \n",
       "test_11               0.467442     0.373259        0.625194  0.761422   \n",
       "test_12               0.750583     0.752336        0.748837  0.517448   \n",
       "test_13               0.673959     0.589404        0.786837  0.673869   \n",
       "test_14               0.726208     0.892086        0.612346  1.347429   \n",
       "test_2                0.632035     0.595918        0.672811  0.290470   \n",
       "test_3                0.627040     0.682741        0.579741  0.598730   \n",
       "test_4                0.618534     0.686603        0.562745  0.789111   \n",
       "test_5                0.705069     0.672527        0.740920  0.775263   \n",
       "test_6                0.646497     0.676667        0.618902  0.403445   \n",
       "test_7                0.549223     0.439834        0.731034  0.133767   \n",
       "test_8                0.543131     0.543131        0.543131  0.936149   \n",
       "test_9                0.677026     0.594542        0.786082  0.237438   \n",
       "averages_for_the_set  0.643110     0.631599        0.674993  0.637415   \n",
       "\n",
       "                        merges  \n",
       "name                            \n",
       "test_1                0.667317  \n",
       "test_10               0.418671  \n",
       "test_11               0.781888  \n",
       "test_12               0.322376  \n",
       "test_13               0.848874  \n",
       "test_14               0.287530  \n",
       "test_2                0.502197  \n",
       "test_3                0.536953  \n",
       "test_4                0.521486  \n",
       "test_5                0.918476  \n",
       "test_6                0.226052  \n",
       "test_7                0.223518  \n",
       "test_8                0.658293  \n",
       "test_9                0.502650  \n",
       "averages_for_the_set  0.529734  "
      ],
      "text/html": "<div>\n<style scoped>\n    .dataframe tbody tr th:only-of-type {\n        vertical-align: middle;\n    }\n\n    .dataframe tbody tr th {\n        vertical-align: top;\n    }\n\n    .dataframe thead th {\n        text-align: right;\n    }\n</style>\n<table border=\"1\" class=\"dataframe\">\n  <thead>\n    <tr style=\"text-align: right;\">\n      <th></th>\n      <th>AJI</th>\n      <th>AJI_plus</th>\n      <th>DICE2</th>\n      <th>PQ</th>\n      <th>SQ</th>\n      <th>DQ</th>\n      <th>inst_recall</th>\n      <th>inst_precision</th>\n      <th>splits</th>\n      <th>merges</th>\n    </tr>\n    <tr>\n      <th>name</th>\n      <th></th>\n      <th></th>\n      <th></th>\n      <th></th>\n      <th></th>\n      <th></th>\n      <th></th>\n      <th></th>\n      <th></th>\n      <th></th>\n    </tr>\n  </thead>\n  <tbody>\n    <tr>\n      <th>test_1</th>\n      <td>0.501802</td>\n      <td>0.545051</td>\n      <td>0.449735</td>\n      <td>0.484518</td>\n      <td>0.747516</td>\n      <td>0.648171</td>\n      <td>0.594220</td>\n      <td>0.712899</td>\n      <td>0.566387</td>\n      <td>0.667317</td>\n    </tr>\n    <tr>\n      <th>test_10</th>\n      <td>0.573928</td>\n      <td>0.597847</td>\n      <td>0.469877</td>\n      <td>0.571616</td>\n      <td>0.773893</td>\n      <td>0.738623</td>\n      <td>0.749112</td>\n      <td>0.728423</td>\n      <td>0.892875</td>\n      <td>0.418671</td>\n    </tr>\n    <tr>\n      <th>test_11</th>\n      <td>0.419602</td>\n      <td>0.495638</td>\n      <td>0.424897</td>\n      <td>0.342457</td>\n      <td>0.732619</td>\n      <td>0.467442</td>\n      <td>0.373259</td>\n      <td>0.625194</td>\n      <td>0.761422</td>\n      <td>0.781888</td>\n    </tr>\n    <tr>\n      <th>test_12</th>\n      <td>0.605975</td>\n      <td>0.626784</td>\n      <td>0.596623</td>\n      <td>0.565852</td>\n      <td>0.753884</td>\n      <td>0.750583</td>\n      <td>0.752336</td>\n      <td>0.748837</td>\n      <td>0.517448</td>\n      <td>0.322376</td>\n    </tr>\n    <tr>\n      <th>test_13</th>\n      <td>0.536772</td>\n      <td>0.588490</td>\n      <td>0.623424</td>\n      <td>0.523445</td>\n      <td>0.776672</td>\n      <td>0.673959</td>\n      <td>0.589404</td>\n      <td>0.786837</td>\n      <td>0.673869</td>\n      <td>0.848874</td>\n    </tr>\n    <tr>\n      <th>test_14</th>\n      <td>0.598239</td>\n      <td>0.601385</td>\n      <td>0.585980</td>\n      <td>0.569288</td>\n      <td>0.783919</td>\n      <td>0.726208</td>\n      <td>0.892086</td>\n      <td>0.612346</td>\n      <td>1.347429</td>\n      <td>0.287530</td>\n    </tr>\n    <tr>\n      <th>test_2</th>\n      <td>0.475593</td>\n      <td>0.491418</td>\n      <td>0.640556</td>\n      <td>0.465129</td>\n      <td>0.735923</td>\n      <td>0.632035</td>\n      <td>0.595918</td>\n      <td>0.672811</td>\n      <td>0.290470</td>\n      <td>0.502197</td>\n    </tr>\n    <tr>\n      <th>test_3</th>\n      <td>0.550608</td>\n      <td>0.579373</td>\n      <td>0.446456</td>\n      <td>0.475278</td>\n      <td>0.757971</td>\n      <td>0.627040</td>\n      <td>0.682741</td>\n      <td>0.579741</td>\n      <td>0.598730</td>\n      <td>0.536953</td>\n    </tr>\n    <tr>\n      <th>test_4</th>\n      <td>0.565161</td>\n      <td>0.591397</td>\n      <td>0.466118</td>\n      <td>0.474344</td>\n      <td>0.766884</td>\n      <td>0.618534</td>\n      <td>0.686603</td>\n      <td>0.562745</td>\n      <td>0.789111</td>\n      <td>0.521486</td>\n    </tr>\n    <tr>\n      <th>test_5</th>\n      <td>0.518444</td>\n      <td>0.557014</td>\n      <td>0.493250</td>\n      <td>0.534613</td>\n      <td>0.758242</td>\n      <td>0.705069</td>\n      <td>0.672527</td>\n      <td>0.740920</td>\n      <td>0.775263</td>\n      <td>0.918476</td>\n    </tr>\n    <tr>\n      <th>test_6</th>\n      <td>0.506096</td>\n      <td>0.522835</td>\n      <td>0.599147</td>\n      <td>0.496278</td>\n      <td>0.767642</td>\n      <td>0.646497</td>\n      <td>0.676667</td>\n      <td>0.618902</td>\n      <td>0.403445</td>\n      <td>0.226052</td>\n    </tr>\n    <tr>\n      <th>test_7</th>\n      <td>0.456179</td>\n      <td>0.483032</td>\n      <td>0.621098</td>\n      <td>0.401632</td>\n      <td>0.731273</td>\n      <td>0.549223</td>\n      <td>0.439834</td>\n      <td>0.731034</td>\n      <td>0.133767</td>\n      <td>0.223518</td>\n    </tr>\n    <tr>\n      <th>test_8</th>\n      <td>0.443152</td>\n      <td>0.476708</td>\n      <td>0.346154</td>\n      <td>0.394719</td>\n      <td>0.726746</td>\n      <td>0.543131</td>\n      <td>0.543131</td>\n      <td>0.543131</td>\n      <td>0.936149</td>\n      <td>0.658293</td>\n    </tr>\n    <tr>\n      <th>test_9</th>\n      <td>0.512500</td>\n      <td>0.541658</td>\n      <td>0.625246</td>\n      <td>0.525216</td>\n      <td>0.775770</td>\n      <td>0.677026</td>\n      <td>0.594542</td>\n      <td>0.786082</td>\n      <td>0.237438</td>\n      <td>0.502650</td>\n    </tr>\n    <tr>\n      <th>averages_for_the_set</th>\n      <td>0.518861</td>\n      <td>0.549902</td>\n      <td>0.527754</td>\n      <td>0.487456</td>\n      <td>0.756354</td>\n      <td>0.643110</td>\n      <td>0.631599</td>\n      <td>0.674993</td>\n      <td>0.637415</td>\n      <td>0.529734</td>\n    </tr>\n  </tbody>\n</table>\n</div>"
     },
     "metadata": {},
     "execution_count": 6
    }
   ],
   "source": [
    "pattern_list = None\n",
    "inferer.benchmark_insts(pattern_list=pattern_list)"
   ]
  },
  {
   "cell_type": "code",
   "execution_count": 8,
   "metadata": {},
   "outputs": [
    {
     "output_type": "stream",
     "name": "stderr",
     "text": [
      "100%|██████████| 14/14 [00:03<00:00,  3.70it/s]\n",
      "100%|██████████| 14/14 [00:14<00:00,  1.01s/it]\n",
      "100%|██████████| 14/14 [00:32<00:00,  2.31s/it]\n",
      "100%|██████████| 14/14 [00:30<00:00,  2.17s/it]\n"
     ]
    },
    {
     "output_type": "execute_result",
     "data": {
      "text/plain": [
       "                                   AJI  AJI_plus     DICE2        PQ  \\\n",
       "name                                                                   \n",
       "miscellanous_avg_for_the_set  0.000000  0.000000  0.000000  0.000000   \n",
       "inflammatory_avg_for_the_set  0.400711  0.405489  0.777072  0.449364   \n",
       "epithelial_avg_for_the_set    0.499258  0.530580  0.429377  0.438039   \n",
       "spindle_avg_for_the_set       0.337706  0.346446  0.629981  0.332841   \n",
       "\n",
       "                                    SQ        DQ  inst_recall  inst_precision  \\\n",
       "name                                                                            \n",
       "miscellanous_avg_for_the_set  0.000000  0.000000     0.000000        0.000000   \n",
       "inflammatory_avg_for_the_set  0.763005  0.543969     0.580017        0.609556   \n",
       "epithelial_avg_for_the_set    0.744916  0.585288     0.615835        0.572847   \n",
       "spindle_avg_for_the_set       0.739648  0.451702     0.479926        0.462546   \n",
       "\n",
       "                                    splits    merges  \n",
       "name                                                  \n",
       "miscellanous_avg_for_the_set  1.059014e-16  0.111675  \n",
       "inflammatory_avg_for_the_set  1.101533e-01  0.091098  \n",
       "epithelial_avg_for_the_set    6.323502e-01  0.396242  \n",
       "spindle_avg_for_the_set       3.028807e-01  0.305120  "
      ],
      "text/html": "<div>\n<style scoped>\n    .dataframe tbody tr th:only-of-type {\n        vertical-align: middle;\n    }\n\n    .dataframe tbody tr th {\n        vertical-align: top;\n    }\n\n    .dataframe thead th {\n        text-align: right;\n    }\n</style>\n<table border=\"1\" class=\"dataframe\">\n  <thead>\n    <tr style=\"text-align: right;\">\n      <th></th>\n      <th>AJI</th>\n      <th>AJI_plus</th>\n      <th>DICE2</th>\n      <th>PQ</th>\n      <th>SQ</th>\n      <th>DQ</th>\n      <th>inst_recall</th>\n      <th>inst_precision</th>\n      <th>splits</th>\n      <th>merges</th>\n    </tr>\n    <tr>\n      <th>name</th>\n      <th></th>\n      <th></th>\n      <th></th>\n      <th></th>\n      <th></th>\n      <th></th>\n      <th></th>\n      <th></th>\n      <th></th>\n      <th></th>\n    </tr>\n  </thead>\n  <tbody>\n    <tr>\n      <th>miscellanous_avg_for_the_set</th>\n      <td>0.000000</td>\n      <td>0.000000</td>\n      <td>0.000000</td>\n      <td>0.000000</td>\n      <td>0.000000</td>\n      <td>0.000000</td>\n      <td>0.000000</td>\n      <td>0.000000</td>\n      <td>1.059014e-16</td>\n      <td>0.111675</td>\n    </tr>\n    <tr>\n      <th>inflammatory_avg_for_the_set</th>\n      <td>0.400711</td>\n      <td>0.405489</td>\n      <td>0.777072</td>\n      <td>0.449364</td>\n      <td>0.763005</td>\n      <td>0.543969</td>\n      <td>0.580017</td>\n      <td>0.609556</td>\n      <td>1.101533e-01</td>\n      <td>0.091098</td>\n    </tr>\n    <tr>\n      <th>epithelial_avg_for_the_set</th>\n      <td>0.499258</td>\n      <td>0.530580</td>\n      <td>0.429377</td>\n      <td>0.438039</td>\n      <td>0.744916</td>\n      <td>0.585288</td>\n      <td>0.615835</td>\n      <td>0.572847</td>\n      <td>6.323502e-01</td>\n      <td>0.396242</td>\n    </tr>\n    <tr>\n      <th>spindle_avg_for_the_set</th>\n      <td>0.337706</td>\n      <td>0.346446</td>\n      <td>0.629981</td>\n      <td>0.332841</td>\n      <td>0.739648</td>\n      <td>0.451702</td>\n      <td>0.479926</td>\n      <td>0.462546</td>\n      <td>3.028807e-01</td>\n      <td>0.305120</td>\n    </tr>\n  </tbody>\n</table>\n</div>"
     },
     "metadata": {},
     "execution_count": 8
    }
   ],
   "source": [
    "pattern_list = None\n",
    "scores = inferer.benchmark_types(pattern_list=pattern_list)\n",
    "scores[scores.index.str.contains(\"avg\")]"
   ]
  }
 ],
 "metadata": {
  "kernelspec": {
   "name": "python3",
   "display_name": "Python 3.6.9 64-bit ('DippaEnv')",
   "metadata": {
    "interpreter": {
     "hash": "3ea01dde592f11f139bb8a18f7472b919436c8f8399691d376fd4b0010891aeb"
    }
   }
  },
  "language_info": {
   "codemirror_mode": {
    "name": "ipython",
    "version": 3
   },
   "file_extension": ".py",
   "mimetype": "text/x-python",
   "name": "python",
   "nbconvert_exporter": "python",
   "pygments_lexer": "ipython3",
   "version": "3.6.9-final"
  }
 },
 "nbformat": 4,
 "nbformat_minor": 4
}