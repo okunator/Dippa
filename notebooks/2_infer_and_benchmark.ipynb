{
 "cells": [
  {
   "cell_type": "code",
   "execution_count": 6,
   "metadata": {},
   "outputs": [],
   "source": [
    "from src.dl.inference.inferer import Inferer\n",
    "import src.dl.lightning as lightning\n",
    "from src.config import CONFIG"
   ]
  },
  {
   "cell_type": "code",
   "execution_count": 7,
   "metadata": {},
   "outputs": [],
   "source": [
    "lightning_model = lightning.SegModel.from_conf(CONFIG)\n",
    "\n",
    "inferer = Inferer(\n",
    "    lightning_model,\n",
    "    dataset=\"pannuke\",\n",
    "    stride_size=80,\n",
    "    fn_pattern=\"*_1*\",\n",
    "    model_weights=\"last\",\n",
    "    apply_weights=False,\n",
    "    post_proc_method=\"basic\",\n",
    "    normalize_input=True\n",
    ")"
   ]
  },
  {
   "cell_type": "code",
   "execution_count": 8,
   "metadata": {
    "scrolled": true
   },
   "outputs": [
    {
     "output_type": "stream",
     "name": "stderr",
     "text": [
      "Inference: /home/local/leos/Dippa/datasets/data/pannuke/test/images: 100%|██████████| 84/84 [00:06<00:00, 12.00batch/s, patches=671/671]\n"
     ]
    }
   ],
   "source": [
    "inferer.run_inference()"
   ]
  },
  {
   "cell_type": "code",
   "execution_count": 14,
   "metadata": {},
   "outputs": [],
   "source": [
    "inferer.post_process()"
   ]
  },
  {
   "cell_type": "code",
   "execution_count": 32,
   "metadata": {},
   "outputs": [],
   "source": [
    "# import matplotlib.pyplot as plt\n",
    "# from skimage.color import label2rgb\n",
    "\n",
    "# fig, ax = plt.subplots(2, 2, figsize=(40, 40))\n",
    "# ax = ax.flatten()\n",
    "# ax[0].imshow(label2rgb(inferer.inst_maps[\"test_11\"], bg_label=0))\n",
    "# ax[1].imshow(inferer.soft_insts[\"test_11\"][..., 1])\n",
    "# # ax[2].imshow(inferer.aux_maps[\"test_10\"][..., 0])\n",
    "# # ax[3].imshow(inferer.aux_maps[\"test_10\"][..., 0])"
   ]
  },
  {
   "cell_type": "code",
   "execution_count": 7,
   "metadata": {},
   "outputs": [
    {
     "output_type": "stream",
     "name": "stderr",
     "text": [
      "100%|██████████| 6/6 [00:44<00:00,  7.41s/it]\n"
     ]
    },
    {
     "output_type": "execute_result",
     "data": {
      "text/plain": [
       "                           AJI  AJI_plus     DICE2        PQ        SQ  \\\n",
       "name                                                                     \n",
       "test_1                0.401064  0.484534  0.461331  0.406865  0.741870   \n",
       "test_10               0.485135  0.528473  0.539749  0.496275  0.775976   \n",
       "test_11               0.334046  0.452842  0.432636  0.273323  0.718590   \n",
       "test_12               0.590261  0.631095  0.671029  0.538088  0.749736   \n",
       "test_13               0.487793  0.547253  0.622078  0.473839  0.760446   \n",
       "test_14               0.562367  0.585947  0.675433  0.534728  0.769703   \n",
       "averages_for_the_set  0.476778  0.538357  0.567043  0.453853  0.752720   \n",
       "\n",
       "                            DQ  inst_recall  inst_precision    splits  \\\n",
       "name                                                                    \n",
       "test_1                0.548431     0.464740        0.668885  0.537439   \n",
       "test_10               0.639549     0.604734        0.678619  0.803697   \n",
       "test_11               0.380360     0.284123        0.575188  0.681509   \n",
       "test_12               0.717703     0.700935        0.735294  0.497086   \n",
       "test_13               0.623107     0.529801        0.756303  0.607676   \n",
       "test_14               0.694719     0.757194        0.641768  1.115855   \n",
       "averages_for_the_set  0.600645     0.556921        0.676009  0.707210   \n",
       "\n",
       "                        merges  \n",
       "name                            \n",
       "test_1                0.838005  \n",
       "test_10               0.624959  \n",
       "test_11               0.965711  \n",
       "test_12               0.372120  \n",
       "test_13               0.969182  \n",
       "test_14               0.468197  \n",
       "averages_for_the_set  0.706362  "
      ],
      "text/html": "<div>\n<style scoped>\n    .dataframe tbody tr th:only-of-type {\n        vertical-align: middle;\n    }\n\n    .dataframe tbody tr th {\n        vertical-align: top;\n    }\n\n    .dataframe thead th {\n        text-align: right;\n    }\n</style>\n<table border=\"1\" class=\"dataframe\">\n  <thead>\n    <tr style=\"text-align: right;\">\n      <th></th>\n      <th>AJI</th>\n      <th>AJI_plus</th>\n      <th>DICE2</th>\n      <th>PQ</th>\n      <th>SQ</th>\n      <th>DQ</th>\n      <th>inst_recall</th>\n      <th>inst_precision</th>\n      <th>splits</th>\n      <th>merges</th>\n    </tr>\n    <tr>\n      <th>name</th>\n      <th></th>\n      <th></th>\n      <th></th>\n      <th></th>\n      <th></th>\n      <th></th>\n      <th></th>\n      <th></th>\n      <th></th>\n      <th></th>\n    </tr>\n  </thead>\n  <tbody>\n    <tr>\n      <th>test_1</th>\n      <td>0.401064</td>\n      <td>0.484534</td>\n      <td>0.461331</td>\n      <td>0.406865</td>\n      <td>0.741870</td>\n      <td>0.548431</td>\n      <td>0.464740</td>\n      <td>0.668885</td>\n      <td>0.537439</td>\n      <td>0.838005</td>\n    </tr>\n    <tr>\n      <th>test_10</th>\n      <td>0.485135</td>\n      <td>0.528473</td>\n      <td>0.539749</td>\n      <td>0.496275</td>\n      <td>0.775976</td>\n      <td>0.639549</td>\n      <td>0.604734</td>\n      <td>0.678619</td>\n      <td>0.803697</td>\n      <td>0.624959</td>\n    </tr>\n    <tr>\n      <th>test_11</th>\n      <td>0.334046</td>\n      <td>0.452842</td>\n      <td>0.432636</td>\n      <td>0.273323</td>\n      <td>0.718590</td>\n      <td>0.380360</td>\n      <td>0.284123</td>\n      <td>0.575188</td>\n      <td>0.681509</td>\n      <td>0.965711</td>\n    </tr>\n    <tr>\n      <th>test_12</th>\n      <td>0.590261</td>\n      <td>0.631095</td>\n      <td>0.671029</td>\n      <td>0.538088</td>\n      <td>0.749736</td>\n      <td>0.717703</td>\n      <td>0.700935</td>\n      <td>0.735294</td>\n      <td>0.497086</td>\n      <td>0.372120</td>\n    </tr>\n    <tr>\n      <th>test_13</th>\n      <td>0.487793</td>\n      <td>0.547253</td>\n      <td>0.622078</td>\n      <td>0.473839</td>\n      <td>0.760446</td>\n      <td>0.623107</td>\n      <td>0.529801</td>\n      <td>0.756303</td>\n      <td>0.607676</td>\n      <td>0.969182</td>\n    </tr>\n    <tr>\n      <th>test_14</th>\n      <td>0.562367</td>\n      <td>0.585947</td>\n      <td>0.675433</td>\n      <td>0.534728</td>\n      <td>0.769703</td>\n      <td>0.694719</td>\n      <td>0.757194</td>\n      <td>0.641768</td>\n      <td>1.115855</td>\n      <td>0.468197</td>\n    </tr>\n    <tr>\n      <th>averages_for_the_set</th>\n      <td>0.476778</td>\n      <td>0.538357</td>\n      <td>0.567043</td>\n      <td>0.453853</td>\n      <td>0.752720</td>\n      <td>0.600645</td>\n      <td>0.556921</td>\n      <td>0.676009</td>\n      <td>0.707210</td>\n      <td>0.706362</td>\n    </tr>\n  </tbody>\n</table>\n</div>"
     },
     "metadata": {},
     "execution_count": 7
    }
   ],
   "source": [
    "pattern_list = None\n",
    "binary_scores = inferer.benchmark_insts(pattern_list=pattern_list, file_prefix=\"testi\")\n",
    "binary_scores"
   ]
  },
  {
   "cell_type": "code",
   "execution_count": 7,
   "metadata": {},
   "outputs": [
    {
     "output_type": "stream",
     "name": "stderr",
     "text": [
      "100%|██████████| 14/14 [00:04<00:00,  3.04it/s]\n",
      "100%|██████████| 14/14 [00:13<00:00,  1.01it/s]\n",
      "100%|██████████| 14/14 [00:25<00:00,  1.81s/it]\n",
      "100%|██████████| 14/14 [00:25<00:00,  1.85s/it]\n"
     ]
    },
    {
     "output_type": "execute_result",
     "data": {
      "text/plain": [
       "                                   AJI  AJI_plus     DICE2        PQ  \\\n",
       "name                                                                   \n",
       "miscellanous_avg_for_the_set  0.115697  0.115550  0.472786  0.121812   \n",
       "inflammatory_avg_for_the_set  0.396627  0.403172  0.768009  0.424491   \n",
       "epithelial_avg_for_the_set    0.485985  0.529003  0.524552  0.433095   \n",
       "spindle_avg_for_the_set       0.336214  0.349771  0.624118  0.303656   \n",
       "\n",
       "                                    SQ        DQ  inst_recall  inst_precision  \\\n",
       "name                                                                            \n",
       "miscellanous_avg_for_the_set  0.504650  0.161559     0.129489        0.317476   \n",
       "inflammatory_avg_for_the_set  0.820131  0.521506     0.536277        0.593146   \n",
       "epithelial_avg_for_the_set    0.746125  0.576534     0.567920        0.599542   \n",
       "spindle_avg_for_the_set       0.732916  0.417188     0.394448        0.464257   \n",
       "\n",
       "                                splits    merges  \n",
       "name                                              \n",
       "miscellanous_avg_for_the_set  0.012402  0.089598  \n",
       "inflammatory_avg_for_the_set  0.075119  0.106684  \n",
       "epithelial_avg_for_the_set    0.479680  0.575240  \n",
       "spindle_avg_for_the_set       0.226022  0.353232  "
      ],
      "text/html": "<div>\n<style scoped>\n    .dataframe tbody tr th:only-of-type {\n        vertical-align: middle;\n    }\n\n    .dataframe tbody tr th {\n        vertical-align: top;\n    }\n\n    .dataframe thead th {\n        text-align: right;\n    }\n</style>\n<table border=\"1\" class=\"dataframe\">\n  <thead>\n    <tr style=\"text-align: right;\">\n      <th></th>\n      <th>AJI</th>\n      <th>AJI_plus</th>\n      <th>DICE2</th>\n      <th>PQ</th>\n      <th>SQ</th>\n      <th>DQ</th>\n      <th>inst_recall</th>\n      <th>inst_precision</th>\n      <th>splits</th>\n      <th>merges</th>\n    </tr>\n    <tr>\n      <th>name</th>\n      <th></th>\n      <th></th>\n      <th></th>\n      <th></th>\n      <th></th>\n      <th></th>\n      <th></th>\n      <th></th>\n      <th></th>\n      <th></th>\n    </tr>\n  </thead>\n  <tbody>\n    <tr>\n      <th>miscellanous_avg_for_the_set</th>\n      <td>0.115697</td>\n      <td>0.115550</td>\n      <td>0.472786</td>\n      <td>0.121812</td>\n      <td>0.504650</td>\n      <td>0.161559</td>\n      <td>0.129489</td>\n      <td>0.317476</td>\n      <td>0.012402</td>\n      <td>0.089598</td>\n    </tr>\n    <tr>\n      <th>inflammatory_avg_for_the_set</th>\n      <td>0.396627</td>\n      <td>0.403172</td>\n      <td>0.768009</td>\n      <td>0.424491</td>\n      <td>0.820131</td>\n      <td>0.521506</td>\n      <td>0.536277</td>\n      <td>0.593146</td>\n      <td>0.075119</td>\n      <td>0.106684</td>\n    </tr>\n    <tr>\n      <th>epithelial_avg_for_the_set</th>\n      <td>0.485985</td>\n      <td>0.529003</td>\n      <td>0.524552</td>\n      <td>0.433095</td>\n      <td>0.746125</td>\n      <td>0.576534</td>\n      <td>0.567920</td>\n      <td>0.599542</td>\n      <td>0.479680</td>\n      <td>0.575240</td>\n    </tr>\n    <tr>\n      <th>spindle_avg_for_the_set</th>\n      <td>0.336214</td>\n      <td>0.349771</td>\n      <td>0.624118</td>\n      <td>0.303656</td>\n      <td>0.732916</td>\n      <td>0.417188</td>\n      <td>0.394448</td>\n      <td>0.464257</td>\n      <td>0.226022</td>\n      <td>0.353232</td>\n    </tr>\n  </tbody>\n</table>\n</div>"
     },
     "metadata": {},
     "execution_count": 7
    }
   ],
   "source": [
    "pattern_list = None\n",
    "type_scores = inferer.benchmark_types(pattern_list=pattern_list, file_prefix=\"testi\")\n",
    "type_scores = type_scores[type_scores.index.str.contains(\"avg\")]\n",
    "type_scores"
   ]
  }
 ],
 "metadata": {
  "kernelspec": {
   "name": "python3",
   "display_name": "Python 3.6.9 64-bit ('DippaEnv')",
   "metadata": {
    "interpreter": {
     "hash": "3ea01dde592f11f139bb8a18f7472b919436c8f8399691d376fd4b0010891aeb"
    }
   }
  },
  "language_info": {
   "codemirror_mode": {
    "name": "ipython",
    "version": 3
   },
   "file_extension": ".py",
   "mimetype": "text/x-python",
   "name": "python",
   "nbconvert_exporter": "python",
   "pygments_lexer": "ipython3",
   "version": "3.6.9-final"
  }
 },
 "nbformat": 4,
 "nbformat_minor": 4
}