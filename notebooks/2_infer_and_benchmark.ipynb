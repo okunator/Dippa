{
 "cells": [
  {
   "cell_type": "code",
   "execution_count": 1,
   "metadata": {},
   "outputs": [],
   "source": [
    "from src.dl.inference.inferer import Inferer\n",
    "import src.dl.lightning as lightning\n",
    "from src.config import CONFIG\n",
    "from src.utils.save_utils import merge_geojson_dir"
   ]
  },
  {
   "cell_type": "code",
   "execution_count": 2,
   "metadata": {},
   "outputs": [],
   "source": [
    "n=\"ovca\"\n",
    "version = \"full\"\n",
    "lightning_model = lightning.SegModel.from_experiment(name=n, version=version)\n",
    "\n",
    "dataset=\"kumar\"\n",
    "w = dataset != \"pannuke\"\n",
    "\n",
    "in_dir=\".../tiles\"\n",
    "\n",
    "inferer = Inferer(\n",
    "    lightning_model,\n",
    "    in_data_dir=in_dir,\n",
    "    patch_size=(256, 256),\n",
    "    stride_size=80,\n",
    "    fn_pattern=\"*\",\n",
    "    data_fold=\"test\",\n",
    "    model_weights=\"last\",\n",
    "    apply_weights=w,\n",
    "    post_proc_method=\"cellpose\",\n",
    "    batch_size=8,\n",
    "    num_workers=8,\n",
    "    model_batch_size=16,\n",
    "    n_images=32\n",
    ")"
   ]
  },
  {
   "cell_type": "code",
   "execution_count": 3,
   "metadata": {
    "scrolled": true,
    "tags": []
   },
   "outputs": [
    {
     "output_type": "stream",
     "name": "stderr",
     "text": [
      "Running inference for ['x-45000_y-209000', 'x-45000_y-210000', 'x-45000_y-211000', 'x-45000_y-212000']:   0%|          | 0/3 [00:25<?, ?batch/s, patches=1075/3468]"
     ]
    }
   ],
   "source": [
    "inferer.run_inference(\n",
    "    save_dir=\".../geojson\",\n",
    "    fformat=\"geojson\",\n",
    "    offsets=True\n",
    ")"
   ]
  },
  {
   "cell_type": "code",
   "execution_count": 4,
   "metadata": {},
   "outputs": [
    {
     "output_type": "stream",
     "name": "stdout",
     "text": [
      "/home/leos/mnt/storageBig8/work/leos/cin/test_sample/JK14-11514_1_HE/geojson/x-10000_y-213000.json\n",
      "/home/leos/mnt/storageBig8/work/leos/cin/test_sample/JK14-11514_1_HE/geojson/x-32000_y-70000.json\n",
      "/home/leos/mnt/storageBig8/work/leos/cin/test_sample/JK14-11514_1_HE/geojson/x-35000_y-72000.json\n",
      "/home/leos/mnt/storageBig8/work/leos/cin/test_sample/JK14-11514_1_HE/geojson/x-35000_y-71000.json\n",
      "/home/leos/mnt/storageBig8/work/leos/cin/test_sample/JK14-11514_1_HE/geojson/x-34000_y-69000.json\n",
      "/home/leos/mnt/storageBig8/work/leos/cin/test_sample/JK14-11514_1_HE/geojson/x-37000_y-70000.json\n",
      "/home/leos/mnt/storageBig8/work/leos/cin/test_sample/JK14-11514_1_HE/geojson/x-36000_y-71000.json\n",
      "/home/leos/mnt/storageBig8/work/leos/cin/test_sample/JK14-11514_1_HE/geojson/x-35000_y-70000.json\n",
      "/home/leos/mnt/storageBig8/work/leos/cin/test_sample/JK14-11514_1_HE/geojson/x-36000_y-72000.json\n",
      "/home/leos/mnt/storageBig8/work/leos/cin/test_sample/JK14-11514_1_HE/geojson/x-37000_y-71000.json\n",
      "/home/leos/mnt/storageBig8/work/leos/cin/test_sample/JK14-11514_1_HE/geojson/x-38000_y-72000.json\n",
      "/home/leos/mnt/storageBig8/work/leos/cin/test_sample/JK14-11514_1_HE/geojson/x-37000_y-73000.json\n",
      "/home/leos/mnt/storageBig8/work/leos/cin/test_sample/JK14-11514_1_HE/geojson/x-34000_y-68000.json\n",
      "/home/leos/mnt/storageBig8/work/leos/cin/test_sample/JK14-11514_1_HE/geojson/x-37000_y-72000.json\n",
      "/home/leos/mnt/storageBig8/work/leos/cin/test_sample/JK14-11514_1_HE/geojson/x-36000_y-70000.json\n",
      "/home/leos/mnt/storageBig8/work/leos/cin/test_sample/JK14-11514_1_HE/geojson/x-38000_y-74000.json\n",
      "/home/leos/mnt/storageBig8/work/leos/cin/test_sample/JK14-11514_1_HE/geojson/x-36000_y-69000.json\n",
      "/home/leos/mnt/storageBig8/work/leos/cin/test_sample/JK14-11514_1_HE/geojson/x-35000_y-68000.json\n",
      "/home/leos/mnt/storageBig8/work/leos/cin/test_sample/JK14-11514_1_HE/geojson/x-35000_y-69000.json\n",
      "/home/leos/mnt/storageBig8/work/leos/cin/test_sample/JK14-11514_1_HE/geojson/x-38000_y-73000.json\n",
      "/home/leos/mnt/storageBig8/work/leos/cin/test_sample/JK14-11514_1_HE/geojson/x-39000_y-73000.json\n",
      "/home/leos/mnt/storageBig8/work/leos/cin/test_sample/JK14-11514_1_HE/geojson/x-40000_y-73000.json\n",
      "/home/leos/mnt/storageBig8/work/leos/cin/test_sample/JK14-11514_1_HE/geojson/x-39000_y-74000.json\n",
      "/home/leos/mnt/storageBig8/work/leos/cin/test_sample/JK14-11514_1_HE/geojson/x-39000_y-75000.json\n",
      "/home/leos/mnt/storageBig8/work/leos/cin/test_sample/JK14-11514_1_HE/geojson/x-40000_y-74000.json\n",
      "/home/leos/mnt/storageBig8/work/leos/cin/test_sample/JK14-11514_1_HE/geojson/x-40000_y-78000.json\n",
      "/home/leos/mnt/storageBig8/work/leos/cin/test_sample/JK14-11514_1_HE/geojson/x-39000_y-77000.json\n",
      "/home/leos/mnt/storageBig8/work/leos/cin/test_sample/JK14-11514_1_HE/geojson/x-41000_y-75000.json\n",
      "/home/leos/mnt/storageBig8/work/leos/cin/test_sample/JK14-11514_1_HE/geojson/x-39000_y-76000.json\n",
      "/home/leos/mnt/storageBig8/work/leos/cin/test_sample/JK14-11514_1_HE/geojson/x-40000_y-75000.json\n",
      "/home/leos/mnt/storageBig8/work/leos/cin/test_sample/JK14-11514_1_HE/geojson/x-40000_y-76000.json\n",
      "/home/leos/mnt/storageBig8/work/leos/cin/test_sample/JK14-11514_1_HE/geojson/x-40000_y-77000.json\n",
      "/home/leos/mnt/storageBig8/work/leos/cin/test_sample/JK14-11514_1_HE/geojson/x-41000_y-79000.json\n",
      "/home/leos/mnt/storageBig8/work/leos/cin/test_sample/JK14-11514_1_HE/geojson/x-46000_y-103000.json\n",
      "/home/leos/mnt/storageBig8/work/leos/cin/test_sample/JK14-11514_1_HE/geojson/x-46000_y-104000.json\n",
      "/home/leos/mnt/storageBig8/work/leos/cin/test_sample/JK14-11514_1_HE/geojson/x-43000_y-78000.json\n",
      "/home/leos/mnt/storageBig8/work/leos/cin/test_sample/JK14-11514_1_HE/geojson/x-42000_y-77000.json\n",
      "/home/leos/mnt/storageBig8/work/leos/cin/test_sample/JK14-11514_1_HE/geojson/x-46000_y-102000.json\n",
      "/home/leos/mnt/storageBig8/work/leos/cin/test_sample/JK14-11514_1_HE/geojson/x-42000_y-79000.json\n",
      "/home/leos/mnt/storageBig8/work/leos/cin/test_sample/JK14-11514_1_HE/geojson/x-46000_y-100000.json\n",
      "/home/leos/mnt/storageBig8/work/leos/cin/test_sample/JK14-11514_1_HE/geojson/x-42000_y-78000.json\n",
      "/home/leos/mnt/storageBig8/work/leos/cin/test_sample/JK14-11514_1_HE/geojson/x-41000_y-78000.json\n",
      "/home/leos/mnt/storageBig8/work/leos/cin/test_sample/JK14-11514_1_HE/geojson/x-41000_y-77000.json\n",
      "/home/leos/mnt/storageBig8/work/leos/cin/test_sample/JK14-11514_1_HE/geojson/x-41000_y-76000.json\n",
      "/home/leos/mnt/storageBig8/work/leos/cin/test_sample/JK14-11514_1_HE/geojson/x-47000_y-105000.json\n",
      "/home/leos/mnt/storageBig8/work/leos/cin/test_sample/JK14-11514_1_HE/geojson/x-47000_y-104000.json\n",
      "/home/leos/mnt/storageBig8/work/leos/cin/test_sample/JK14-11514_1_HE/geojson/x-49000_y-104000.json\n",
      "/home/leos/mnt/storageBig8/work/leos/cin/test_sample/JK14-11514_1_HE/geojson/x-47000_y-102000.json\n",
      "/home/leos/mnt/storageBig8/work/leos/cin/test_sample/JK14-11514_1_HE/geojson/x-47000_y-103000.json\n",
      "/home/leos/mnt/storageBig8/work/leos/cin/test_sample/JK14-11514_1_HE/geojson/x-47000_y-101000.json\n",
      "/home/leos/mnt/storageBig8/work/leos/cin/test_sample/JK14-11514_1_HE/geojson/x-46000_y-101000.json\n",
      "/home/leos/mnt/storageBig8/work/leos/cin/test_sample/JK14-11514_1_HE/geojson/x-48000_y-102000.json\n",
      "/home/leos/mnt/storageBig8/work/leos/cin/test_sample/JK14-11514_1_HE/geojson/x-50000_y-105000.json\n",
      "/home/leos/mnt/storageBig8/work/leos/cin/test_sample/JK14-11514_1_HE/geojson/x-48000_y-103000.json\n",
      "/home/leos/mnt/storageBig8/work/leos/cin/test_sample/JK14-11514_1_HE/geojson/x-48000_y-104000.json\n",
      "/home/leos/mnt/storageBig8/work/leos/cin/test_sample/JK14-11514_1_HE/geojson/x-49000_y-106000.json\n",
      "/home/leos/mnt/storageBig8/work/leos/cin/test_sample/JK14-11514_1_HE/geojson/x-49000_y-105000.json\n",
      "/home/leos/mnt/storageBig8/work/leos/cin/test_sample/JK14-11514_1_HE/geojson/x-48000_y-105000.json\n",
      "/home/leos/mnt/storageBig8/work/leos/cin/test_sample/JK14-11514_1_HE/geojson/x-51000_y-103000.json\n",
      "/home/leos/mnt/storageBig8/work/leos/cin/test_sample/JK14-11514_1_HE/geojson/x-50000_y-110000.json\n",
      "/home/leos/mnt/storageBig8/work/leos/cin/test_sample/JK14-11514_1_HE/geojson/x-50000_y-108000.json\n",
      "/home/leos/mnt/storageBig8/work/leos/cin/test_sample/JK14-11514_1_HE/geojson/x-50000_y-109000.json\n",
      "/home/leos/mnt/storageBig8/work/leos/cin/test_sample/JK14-11514_1_HE/geojson/x-50000_y-107000.json\n",
      "/home/leos/mnt/storageBig8/work/leos/cin/test_sample/JK14-11514_1_HE/geojson/x-50000_y-106000.json\n",
      "/home/leos/mnt/storageBig8/work/leos/cin/test_sample/JK14-11514_1_HE/geojson/x-51000_y-111000.json\n",
      "/home/leos/mnt/storageBig8/work/leos/cin/test_sample/JK14-11514_1_HE/geojson/x-52000_y-107000.json\n",
      "/home/leos/mnt/storageBig8/work/leos/cin/test_sample/JK14-11514_1_HE/geojson/x-53000_y-109000.json\n",
      "/home/leos/mnt/storageBig8/work/leos/cin/test_sample/JK14-11514_1_HE/geojson/x-51000_y-106000.json\n",
      "/home/leos/mnt/storageBig8/work/leos/cin/test_sample/JK14-11514_1_HE/geojson/x-52000_y-111000.json\n",
      "/home/leos/mnt/storageBig8/work/leos/cin/test_sample/JK14-11514_1_HE/geojson/x-53000_y-112000.json\n",
      "/home/leos/mnt/storageBig8/work/leos/cin/test_sample/JK14-11514_1_HE/geojson/x-53000_y-136000.json\n",
      "/home/leos/mnt/storageBig8/work/leos/cin/test_sample/JK14-11514_1_HE/geojson/x-51000_y-107000.json\n",
      "/home/leos/mnt/storageBig8/work/leos/cin/test_sample/JK14-11514_1_HE/geojson/x-54000_y-110000.json\n",
      "/home/leos/mnt/storageBig8/work/leos/cin/test_sample/JK14-11514_1_HE/geojson/x-52000_y-108000.json\n",
      "/home/leos/mnt/storageBig8/work/leos/cin/test_sample/JK14-11514_1_HE/geojson/x-51000_y-110000.json\n",
      "/home/leos/mnt/storageBig8/work/leos/cin/test_sample/JK14-11514_1_HE/geojson/x-52000_y-109000.json\n",
      "/home/leos/mnt/storageBig8/work/leos/cin/test_sample/JK14-11514_1_HE/geojson/x-55000_y-134000.json\n",
      "/home/leos/mnt/storageBig8/work/leos/cin/test_sample/JK14-11514_1_HE/geojson/x-53000_y-110000.json\n",
      "/home/leos/mnt/storageBig8/work/leos/cin/test_sample/JK14-11514_1_HE/geojson/x-55000_y-135000.json\n",
      "/home/leos/mnt/storageBig8/work/leos/cin/test_sample/JK14-11514_1_HE/geojson/x-52000_y-110000.json\n",
      "/home/leos/mnt/storageBig8/work/leos/cin/test_sample/JK14-11514_1_HE/geojson/x-51000_y-108000.json\n",
      "/home/leos/mnt/storageBig8/work/leos/cin/test_sample/JK14-11514_1_HE/geojson/x-51000_y-109000.json\n",
      "/home/leos/mnt/storageBig8/work/leos/cin/test_sample/JK14-11514_1_HE/geojson/x-53000_y-111000.json\n",
      "/home/leos/mnt/storageBig8/work/leos/cin/test_sample/JK14-11514_1_HE/geojson/x-54000_y-111000.json\n",
      "/home/leos/mnt/storageBig8/work/leos/cin/test_sample/JK14-11514_1_HE/geojson/x-56000_y-134000.json\n",
      "/home/leos/mnt/storageBig8/work/leos/cin/test_sample/JK14-11514_1_HE/geojson/x-56000_y-139000.json\n",
      "/home/leos/mnt/storageBig8/work/leos/cin/test_sample/JK14-11514_1_HE/geojson/x-56000_y-138000.json\n",
      "/home/leos/mnt/storageBig8/work/leos/cin/test_sample/JK14-11514_1_HE/geojson/x-58000_y-136000.json\n",
      "/home/leos/mnt/storageBig8/work/leos/cin/test_sample/JK14-11514_1_HE/geojson/x-56000_y-137000.json\n",
      "/home/leos/mnt/storageBig8/work/leos/cin/test_sample/JK14-11514_1_HE/geojson/x-57000_y-135000.json\n",
      "/home/leos/mnt/storageBig8/work/leos/cin/test_sample/JK14-11514_1_HE/geojson/x-57000_y-138000.json\n",
      "/home/leos/mnt/storageBig8/work/leos/cin/test_sample/JK14-11514_1_HE/geojson/x-56000_y-136000.json\n",
      "/home/leos/mnt/storageBig8/work/leos/cin/test_sample/JK14-11514_1_HE/geojson/x-57000_y-139000.json\n",
      "/home/leos/mnt/storageBig8/work/leos/cin/test_sample/JK14-11514_1_HE/geojson/x-57000_y-136000.json\n",
      "/home/leos/mnt/storageBig8/work/leos/cin/test_sample/JK14-11514_1_HE/geojson/x-57000_y-137000.json\n",
      "/home/leos/mnt/storageBig8/work/leos/cin/test_sample/JK14-11514_1_HE/geojson/x-56000_y-135000.json\n",
      "/home/leos/mnt/storageBig8/work/leos/cin/test_sample/JK14-11514_1_HE/geojson/x-59000_y-139000.json\n",
      "/home/leos/mnt/storageBig8/work/leos/cin/test_sample/JK14-11514_1_HE/geojson/x-59000_y-142000.json\n",
      "/home/leos/mnt/storageBig8/work/leos/cin/test_sample/JK14-11514_1_HE/geojson/x-58000_y-141000.json\n",
      "/home/leos/mnt/storageBig8/work/leos/cin/test_sample/JK14-11514_1_HE/geojson/x-58000_y-138000.json\n",
      "/home/leos/mnt/storageBig8/work/leos/cin/test_sample/JK14-11514_1_HE/geojson/x-58000_y-137000.json\n",
      "/home/leos/mnt/storageBig8/work/leos/cin/test_sample/JK14-11514_1_HE/geojson/x-60000_y-140000.json\n",
      "/home/leos/mnt/storageBig8/work/leos/cin/test_sample/JK14-11514_1_HE/geojson/x-59000_y-144000.json\n",
      "/home/leos/mnt/storageBig8/work/leos/cin/test_sample/JK14-11514_1_HE/geojson/x-59000_y-140000.json\n",
      "/home/leos/mnt/storageBig8/work/leos/cin/test_sample/JK14-11514_1_HE/geojson/x-59000_y-143000.json\n",
      "/home/leos/mnt/storageBig8/work/leos/cin/test_sample/JK14-11514_1_HE/geojson/x-58000_y-139000.json\n",
      "/home/leos/mnt/storageBig8/work/leos/cin/test_sample/JK14-11514_1_HE/geojson/x-61000_y-140000.json\n",
      "/home/leos/mnt/storageBig8/work/leos/cin/test_sample/JK14-11514_1_HE/geojson/x-58000_y-140000.json\n",
      "/home/leos/mnt/storageBig8/work/leos/cin/test_sample/JK14-11514_1_HE/geojson/x-60000_y-141000.json\n",
      "/home/leos/mnt/storageBig8/work/leos/cin/test_sample/JK14-11514_1_HE/geojson/x-59000_y-141000.json\n",
      "/home/leos/mnt/storageBig8/work/leos/cin/test_sample/JK14-11514_1_HE/geojson/x-60000_y-145000.json\n",
      "/home/leos/mnt/storageBig8/work/leos/cin/test_sample/JK14-11514_1_HE/geojson/x-60000_y-142000.json\n",
      "/home/leos/mnt/storageBig8/work/leos/cin/test_sample/JK14-11514_1_HE/geojson/x-61000_y-142000.json\n",
      "/home/leos/mnt/storageBig8/work/leos/cin/test_sample/JK14-11514_1_HE/geojson/x-62000_y-144000.json\n",
      "/home/leos/mnt/storageBig8/work/leos/cin/test_sample/JK14-11514_1_HE/geojson/x-60000_y-143000.json\n",
      "/home/leos/mnt/storageBig8/work/leos/cin/test_sample/JK14-11514_1_HE/geojson/x-61000_y-146000.json\n",
      "/home/leos/mnt/storageBig8/work/leos/cin/test_sample/JK14-11514_1_HE/geojson/x-63000_y-145000.json\n",
      "/home/leos/mnt/storageBig8/work/leos/cin/test_sample/JK14-11514_1_HE/geojson/x-60000_y-144000.json\n",
      "/home/leos/mnt/storageBig8/work/leos/cin/test_sample/JK14-11514_1_HE/geojson/x-62000_y-170000.json\n",
      "/home/leos/mnt/storageBig8/work/leos/cin/test_sample/JK14-11514_1_HE/geojson/x-61000_y-143000.json\n",
      "/home/leos/mnt/storageBig8/work/leos/cin/test_sample/JK14-11514_1_HE/geojson/x-61000_y-144000.json\n",
      "/home/leos/mnt/storageBig8/work/leos/cin/test_sample/JK14-11514_1_HE/geojson/x-62000_y-145000.json\n",
      "/home/leos/mnt/storageBig8/work/leos/cin/test_sample/JK14-11514_1_HE/geojson/x-61000_y-145000.json\n",
      "/home/leos/mnt/storageBig8/work/leos/cin/test_sample/JK14-11514_1_HE/geojson/x-62000_y-146000.json\n",
      "/home/leos/mnt/storageBig8/work/leos/cin/test_sample/JK14-11514_1_HE/geojson/x-62000_y-169000.json\n",
      "/home/leos/mnt/storageBig8/work/leos/cin/test_sample/JK14-11514_1_HE/geojson/x-63000_y-171000.json\n",
      "/home/leos/mnt/storageBig8/work/leos/cin/test_sample/JK14-11514_1_HE/geojson/x-63000_y-169000.json\n",
      "/home/leos/mnt/storageBig8/work/leos/cin/test_sample/JK14-11514_1_HE/geojson/x-63000_y-170000.json\n",
      "/home/leos/mnt/storageBig8/work/leos/cin/test_sample/JK14-11514_1_HE/geojson/x-64000_y-168000.json\n",
      "/home/leos/mnt/storageBig8/work/leos/cin/test_sample/JK14-11514_1_HE/geojson/x-65000_y-173000.json\n",
      "/home/leos/mnt/storageBig8/work/leos/cin/test_sample/JK14-11514_1_HE/geojson/x-66000_y-174000.json\n",
      "/home/leos/mnt/storageBig8/work/leos/cin/test_sample/JK14-11514_1_HE/geojson/x-63000_y-172000.json\n",
      "/home/leos/mnt/storageBig8/work/leos/cin/test_sample/JK14-11514_1_HE/geojson/x-63000_y-173000.json\n",
      "/home/leos/mnt/storageBig8/work/leos/cin/test_sample/JK14-11514_1_HE/geojson/x-65000_y-175000.json\n",
      "/home/leos/mnt/storageBig8/work/leos/cin/test_sample/JK14-11514_1_HE/geojson/x-65000_y-174000.json\n",
      "/home/leos/mnt/storageBig8/work/leos/cin/test_sample/JK14-11514_1_HE/geojson/x-64000_y-173000.json\n",
      "/home/leos/mnt/storageBig8/work/leos/cin/test_sample/JK14-11514_1_HE/geojson/x-64000_y-174000.json\n",
      "/home/leos/mnt/storageBig8/work/leos/cin/test_sample/JK14-11514_1_HE/geojson/x-66000_y-180000.json\n",
      "/home/leos/mnt/storageBig8/work/leos/cin/test_sample/JK14-11514_1_HE/geojson/x-64000_y-172000.json\n",
      "/home/leos/mnt/storageBig8/work/leos/cin/test_sample/JK14-11514_1_HE/geojson/x-64000_y-170000.json\n",
      "/home/leos/mnt/storageBig8/work/leos/cin/test_sample/JK14-11514_1_HE/geojson/x-64000_y-171000.json\n",
      "/home/leos/mnt/storageBig8/work/leos/cin/test_sample/JK14-11514_1_HE/geojson/x-66000_y-175000.json\n",
      "/home/leos/mnt/storageBig8/work/leos/cin/test_sample/JK14-11514_1_HE/geojson/x-67000_y-172000.json\n",
      "/home/leos/mnt/storageBig8/work/leos/cin/test_sample/JK14-11514_1_HE/geojson/x-66000_y-177000.json\n",
      "/home/leos/mnt/storageBig8/work/leos/cin/test_sample/JK14-11514_1_HE/geojson/x-66000_y-176000.json\n",
      "/home/leos/mnt/storageBig8/work/leos/cin/test_sample/JK14-11514_1_HE/geojson/x-67000_y-175000.json\n",
      "/home/leos/mnt/storageBig8/work/leos/cin/test_sample/JK14-11514_1_HE/geojson/x-67000_y-176000.json\n",
      "/home/leos/mnt/storageBig8/work/leos/cin/test_sample/JK14-11514_1_HE/geojson/x-68000_y-177000.json\n",
      "/home/leos/mnt/storageBig8/work/leos/cin/test_sample/JK14-11514_1_HE/geojson/x-66000_y-179000.json\n",
      "/home/leos/mnt/storageBig8/work/leos/cin/test_sample/JK14-11514_1_HE/geojson/x-66000_y-178000.json\n",
      "/home/leos/mnt/storageBig8/work/leos/cin/test_sample/JK14-11514_1_HE/geojson/x-67000_y-177000.json\n",
      "/home/leos/mnt/storageBig8/work/leos/cin/test_sample/JK14-11514_1_HE/geojson/x-68000_y-181000.json\n",
      "/home/leos/mnt/storageBig8/work/leos/cin/test_sample/JK14-11514_1_HE/geojson/x-68000_y-178000.json\n",
      "/home/leos/mnt/storageBig8/work/leos/cin/test_sample/JK14-11514_1_HE/geojson/x-69000_y-180000.json\n",
      "/home/leos/mnt/storageBig8/work/leos/cin/test_sample/JK14-11514_1_HE/geojson/x-67000_y-180000.json\n",
      "/home/leos/mnt/storageBig8/work/leos/cin/test_sample/JK14-11514_1_HE/geojson/x-69000_y-181000.json\n",
      "/home/leos/mnt/storageBig8/work/leos/cin/test_sample/JK14-11514_1_HE/geojson/x-67000_y-178000.json\n",
      "/home/leos/mnt/storageBig8/work/leos/cin/test_sample/JK14-11514_1_HE/geojson/x-67000_y-179000.json\n",
      "/home/leos/mnt/storageBig8/work/leos/cin/test_sample/JK14-11514_1_HE/geojson/x-68000_y-179000.json\n",
      "/home/leos/mnt/storageBig8/work/leos/cin/test_sample/JK14-11514_1_HE/geojson/x-68000_y-180000.json\n"
     ]
    }
   ],
   "source": [
    "merge_geojson_dir(\n",
    "    \".../geojson\",\n",
    "    \"SAMPLE\",\n",
    "    \".../\"\n",
    ")"
   ]
  },
  {
   "cell_type": "code",
   "execution_count": 27,
   "metadata": {},
   "outputs": [],
   "source": [
    "import matplotlib.pyplot as plt\n",
    "from skimage.color import label2rgb\n",
    "\n",
    "# key = None\n",
    "# key = \"test_11\" if dataset == \"consep\" else key\n",
    "# key = \"TCGA-AC-A2FO-01A-01-TS1\" if dataset == \"kumar\" else key\n",
    "# key = \"Breast_fold3_519\" if dataset == \"pannuke\" else key\n",
    "\n",
    "fig, ax = plt.subplots(2, 1, figsize=(40, 40))\n",
    "ax = ax.flatten()\n",
    "# ax[0].imshow(label2rgb(inferer.inst_maps[key], bg_label=0))#[..., 1])\n",
    "# ax[1].imshow(label2rgb(inferer.type_maps[key], bg_label=0))#[..., 1])\n",
    "ax[0].imshow(inferer.soft_insts[keys[0]][..., 1])\n",
    "ax[1].imshow(inferer.soft_types[keys[0]][..., 1])"
   ]
  },
  {
   "cell_type": "code",
   "execution_count": 8,
   "metadata": {
    "tags": []
   },
   "outputs": [
    {
     "output_type": "stream",
     "name": "stderr",
     "text": [
      "Runnning metrics: 100%|██████████| 14/14 [01:20<00:00,  5.73s/it]\n"
     ]
    },
    {
     "output_type": "execute_result",
     "data": {
      "text/plain": [
       "                           AJI  AJI_plus     DICE2        PQ        SQ  \\\n",
       "name                                                                     \n",
       "test_1                0.527027  0.569475  0.476927  0.531348  0.755938   \n",
       "test_10               0.592570  0.618443  0.500348  0.594027  0.795867   \n",
       "test_11               0.447031  0.530461  0.449183  0.374329  0.739904   \n",
       "test_12               0.631738  0.658677  0.631429  0.597471  0.788735   \n",
       "test_13               0.571057  0.612144  0.635064  0.547819  0.788215   \n",
       "test_14               0.634598  0.640203  0.631066  0.606543  0.810151   \n",
       "test_2                0.567876  0.577966  0.681482  0.488146  0.764566   \n",
       "test_3                0.580931  0.627691  0.509147  0.542470  0.783789   \n",
       "test_4                0.622777  0.652425  0.514497  0.560312  0.779126   \n",
       "test_5                0.532786  0.579889  0.519252  0.560812  0.782970   \n",
       "test_6                0.623180  0.649666  0.695594  0.601270  0.791495   \n",
       "test_7                0.475050  0.502665  0.623152  0.416807  0.731239   \n",
       "test_8                0.507193  0.548313  0.375009  0.473903  0.753554   \n",
       "test_9                0.520181  0.556739  0.634002  0.527732  0.779720   \n",
       "averages_for_the_set  0.559571  0.594625  0.562582  0.530213  0.774662   \n",
       "\n",
       "                            DQ  inst_recall  inst_precision    splits  \\\n",
       "name                                                                    \n",
       "test_1                0.702899     0.672832        0.735777  0.480607   \n",
       "test_10               0.746389     0.764497        0.729120  0.819368   \n",
       "test_11               0.505915     0.416899        0.643266  0.675387   \n",
       "test_12               0.757506     0.766355        0.748858  0.419169   \n",
       "test_13               0.695012     0.625460        0.781969  0.597490   \n",
       "test_14               0.748679     0.892086        0.644993  1.063533   \n",
       "test_2                0.638462     0.677551        0.603636  0.262920   \n",
       "test_3                0.692112     0.690355        0.693878  0.439180   \n",
       "test_4                0.719154     0.732057        0.706697  0.577793   \n",
       "test_5                0.716263     0.682418        0.753641  0.642900   \n",
       "test_6                0.759664     0.753333        0.766102  0.309608   \n",
       "test_7                0.570000     0.473029        0.716981  0.119121   \n",
       "test_8                0.628891     0.629393        0.628389  0.718972   \n",
       "test_9                0.676823     0.606238        0.766010  0.243366   \n",
       "averages_for_the_set  0.682698     0.670179        0.708523  0.526387   \n",
       "\n",
       "                        merges  \n",
       "name                            \n",
       "test_1                0.687277  \n",
       "test_10               0.416533  \n",
       "test_11               0.801189  \n",
       "test_12               0.342313  \n",
       "test_13               0.847251  \n",
       "test_14               0.319626  \n",
       "test_2                0.450733  \n",
       "test_3                0.565360  \n",
       "test_4                0.569437  \n",
       "test_5                0.966260  \n",
       "test_6                0.218957  \n",
       "test_7                0.219527  \n",
       "test_8                0.688193  \n",
       "test_9                0.482795  \n",
       "averages_for_the_set  0.541104  "
      ],
      "text/html": "<div>\n<style scoped>\n    .dataframe tbody tr th:only-of-type {\n        vertical-align: middle;\n    }\n\n    .dataframe tbody tr th {\n        vertical-align: top;\n    }\n\n    .dataframe thead th {\n        text-align: right;\n    }\n</style>\n<table border=\"1\" class=\"dataframe\">\n  <thead>\n    <tr style=\"text-align: right;\">\n      <th></th>\n      <th>AJI</th>\n      <th>AJI_plus</th>\n      <th>DICE2</th>\n      <th>PQ</th>\n      <th>SQ</th>\n      <th>DQ</th>\n      <th>inst_recall</th>\n      <th>inst_precision</th>\n      <th>splits</th>\n      <th>merges</th>\n    </tr>\n    <tr>\n      <th>name</th>\n      <th></th>\n      <th></th>\n      <th></th>\n      <th></th>\n      <th></th>\n      <th></th>\n      <th></th>\n      <th></th>\n      <th></th>\n      <th></th>\n    </tr>\n  </thead>\n  <tbody>\n    <tr>\n      <th>test_1</th>\n      <td>0.527027</td>\n      <td>0.569475</td>\n      <td>0.476927</td>\n      <td>0.531348</td>\n      <td>0.755938</td>\n      <td>0.702899</td>\n      <td>0.672832</td>\n      <td>0.735777</td>\n      <td>0.480607</td>\n      <td>0.687277</td>\n    </tr>\n    <tr>\n      <th>test_10</th>\n      <td>0.592570</td>\n      <td>0.618443</td>\n      <td>0.500348</td>\n      <td>0.594027</td>\n      <td>0.795867</td>\n      <td>0.746389</td>\n      <td>0.764497</td>\n      <td>0.729120</td>\n      <td>0.819368</td>\n      <td>0.416533</td>\n    </tr>\n    <tr>\n      <th>test_11</th>\n      <td>0.447031</td>\n      <td>0.530461</td>\n      <td>0.449183</td>\n      <td>0.374329</td>\n      <td>0.739904</td>\n      <td>0.505915</td>\n      <td>0.416899</td>\n      <td>0.643266</td>\n      <td>0.675387</td>\n      <td>0.801189</td>\n    </tr>\n    <tr>\n      <th>test_12</th>\n      <td>0.631738</td>\n      <td>0.658677</td>\n      <td>0.631429</td>\n      <td>0.597471</td>\n      <td>0.788735</td>\n      <td>0.757506</td>\n      <td>0.766355</td>\n      <td>0.748858</td>\n      <td>0.419169</td>\n      <td>0.342313</td>\n    </tr>\n    <tr>\n      <th>test_13</th>\n      <td>0.571057</td>\n      <td>0.612144</td>\n      <td>0.635064</td>\n      <td>0.547819</td>\n      <td>0.788215</td>\n      <td>0.695012</td>\n      <td>0.625460</td>\n      <td>0.781969</td>\n      <td>0.597490</td>\n      <td>0.847251</td>\n    </tr>\n    <tr>\n      <th>test_14</th>\n      <td>0.634598</td>\n      <td>0.640203</td>\n      <td>0.631066</td>\n      <td>0.606543</td>\n      <td>0.810151</td>\n      <td>0.748679</td>\n      <td>0.892086</td>\n      <td>0.644993</td>\n      <td>1.063533</td>\n      <td>0.319626</td>\n    </tr>\n    <tr>\n      <th>test_2</th>\n      <td>0.567876</td>\n      <td>0.577966</td>\n      <td>0.681482</td>\n      <td>0.488146</td>\n      <td>0.764566</td>\n      <td>0.638462</td>\n      <td>0.677551</td>\n      <td>0.603636</td>\n      <td>0.262920</td>\n      <td>0.450733</td>\n    </tr>\n    <tr>\n      <th>test_3</th>\n      <td>0.580931</td>\n      <td>0.627691</td>\n      <td>0.509147</td>\n      <td>0.542470</td>\n      <td>0.783789</td>\n      <td>0.692112</td>\n      <td>0.690355</td>\n      <td>0.693878</td>\n      <td>0.439180</td>\n      <td>0.565360</td>\n    </tr>\n    <tr>\n      <th>test_4</th>\n      <td>0.622777</td>\n      <td>0.652425</td>\n      <td>0.514497</td>\n      <td>0.560312</td>\n      <td>0.779126</td>\n      <td>0.719154</td>\n      <td>0.732057</td>\n      <td>0.706697</td>\n      <td>0.577793</td>\n      <td>0.569437</td>\n    </tr>\n    <tr>\n      <th>test_5</th>\n      <td>0.532786</td>\n      <td>0.579889</td>\n      <td>0.519252</td>\n      <td>0.560812</td>\n      <td>0.782970</td>\n      <td>0.716263</td>\n      <td>0.682418</td>\n      <td>0.753641</td>\n      <td>0.642900</td>\n      <td>0.966260</td>\n    </tr>\n    <tr>\n      <th>test_6</th>\n      <td>0.623180</td>\n      <td>0.649666</td>\n      <td>0.695594</td>\n      <td>0.601270</td>\n      <td>0.791495</td>\n      <td>0.759664</td>\n      <td>0.753333</td>\n      <td>0.766102</td>\n      <td>0.309608</td>\n      <td>0.218957</td>\n    </tr>\n    <tr>\n      <th>test_7</th>\n      <td>0.475050</td>\n      <td>0.502665</td>\n      <td>0.623152</td>\n      <td>0.416807</td>\n      <td>0.731239</td>\n      <td>0.570000</td>\n      <td>0.473029</td>\n      <td>0.716981</td>\n      <td>0.119121</td>\n      <td>0.219527</td>\n    </tr>\n    <tr>\n      <th>test_8</th>\n      <td>0.507193</td>\n      <td>0.548313</td>\n      <td>0.375009</td>\n      <td>0.473903</td>\n      <td>0.753554</td>\n      <td>0.628891</td>\n      <td>0.629393</td>\n      <td>0.628389</td>\n      <td>0.718972</td>\n      <td>0.688193</td>\n    </tr>\n    <tr>\n      <th>test_9</th>\n      <td>0.520181</td>\n      <td>0.556739</td>\n      <td>0.634002</td>\n      <td>0.527732</td>\n      <td>0.779720</td>\n      <td>0.676823</td>\n      <td>0.606238</td>\n      <td>0.766010</td>\n      <td>0.243366</td>\n      <td>0.482795</td>\n    </tr>\n    <tr>\n      <th>averages_for_the_set</th>\n      <td>0.559571</td>\n      <td>0.594625</td>\n      <td>0.562582</td>\n      <td>0.530213</td>\n      <td>0.774662</td>\n      <td>0.682698</td>\n      <td>0.670179</td>\n      <td>0.708523</td>\n      <td>0.526387</td>\n      <td>0.541104</td>\n    </tr>\n  </tbody>\n</table>\n</div>"
     },
     "metadata": {},
     "execution_count": 8
    }
   ],
   "source": [
    "pattern_list = None\n",
    "binary_scores = inferer.benchmark_insts(pattern_list=pattern_list, file_prefix=f\"{dataset}_{version}\")\n",
    "binary_scores"
   ]
  },
  {
   "cell_type": "code",
   "execution_count": 9,
   "metadata": {},
   "outputs": [
    {
     "output_type": "stream",
     "name": "stderr",
     "text": [
      "Running metrics for miscellanous: 100%|██████████| 14/14 [00:05<00:00,  2.61it/s]\n",
      "Running metrics for inflammatory: 100%|██████████| 14/14 [00:15<00:00,  1.14s/it]\n",
      "Running metrics for epithelial: 100%|██████████| 14/14 [00:32<00:00,  2.32s/it]\n",
      "Running metrics for spindle: 100%|██████████| 14/14 [00:28<00:00,  2.01s/it]\n"
     ]
    },
    {
     "output_type": "execute_result",
     "data": {
      "text/plain": [
       "                                   AJI  AJI_plus     DICE2        PQ  \\\n",
       "name                                                                   \n",
       "miscellanous_avg_for_the_set  0.127832  0.127466  0.369044  0.139212   \n",
       "inflammatory_avg_for_the_set  0.404473  0.408429  0.794126  0.468249   \n",
       "epithelial_avg_for_the_set    0.530457  0.566429  0.465914  0.483528   \n",
       "spindle_avg_for_the_set       0.382670  0.391816  0.629451  0.375062   \n",
       "\n",
       "                                    SQ        DQ  inst_recall  inst_precision  \\\n",
       "name                                                                            \n",
       "miscellanous_avg_for_the_set  0.437140  0.174175     0.129781        0.342728   \n",
       "inflammatory_avg_for_the_set  0.837534  0.561419     0.600099        0.612188   \n",
       "epithelial_avg_for_the_set    0.772770  0.622764     0.650428        0.607152   \n",
       "spindle_avg_for_the_set       0.761120  0.496143     0.512008        0.503814   \n",
       "\n",
       "                                splits    merges  \n",
       "name                                              \n",
       "miscellanous_avg_for_the_set  0.008588  0.092919  \n",
       "inflammatory_avg_for_the_set  0.103427  0.081188  \n",
       "epithelial_avg_for_the_set    0.542694  0.400166  \n",
       "spindle_avg_for_the_set       0.230140  0.318827  "
      ],
      "text/html": "<div>\n<style scoped>\n    .dataframe tbody tr th:only-of-type {\n        vertical-align: middle;\n    }\n\n    .dataframe tbody tr th {\n        vertical-align: top;\n    }\n\n    .dataframe thead th {\n        text-align: right;\n    }\n</style>\n<table border=\"1\" class=\"dataframe\">\n  <thead>\n    <tr style=\"text-align: right;\">\n      <th></th>\n      <th>AJI</th>\n      <th>AJI_plus</th>\n      <th>DICE2</th>\n      <th>PQ</th>\n      <th>SQ</th>\n      <th>DQ</th>\n      <th>inst_recall</th>\n      <th>inst_precision</th>\n      <th>splits</th>\n      <th>merges</th>\n    </tr>\n    <tr>\n      <th>name</th>\n      <th></th>\n      <th></th>\n      <th></th>\n      <th></th>\n      <th></th>\n      <th></th>\n      <th></th>\n      <th></th>\n      <th></th>\n      <th></th>\n    </tr>\n  </thead>\n  <tbody>\n    <tr>\n      <th>miscellanous_avg_for_the_set</th>\n      <td>0.127832</td>\n      <td>0.127466</td>\n      <td>0.369044</td>\n      <td>0.139212</td>\n      <td>0.437140</td>\n      <td>0.174175</td>\n      <td>0.129781</td>\n      <td>0.342728</td>\n      <td>0.008588</td>\n      <td>0.092919</td>\n    </tr>\n    <tr>\n      <th>inflammatory_avg_for_the_set</th>\n      <td>0.404473</td>\n      <td>0.408429</td>\n      <td>0.794126</td>\n      <td>0.468249</td>\n      <td>0.837534</td>\n      <td>0.561419</td>\n      <td>0.600099</td>\n      <td>0.612188</td>\n      <td>0.103427</td>\n      <td>0.081188</td>\n    </tr>\n    <tr>\n      <th>epithelial_avg_for_the_set</th>\n      <td>0.530457</td>\n      <td>0.566429</td>\n      <td>0.465914</td>\n      <td>0.483528</td>\n      <td>0.772770</td>\n      <td>0.622764</td>\n      <td>0.650428</td>\n      <td>0.607152</td>\n      <td>0.542694</td>\n      <td>0.400166</td>\n    </tr>\n    <tr>\n      <th>spindle_avg_for_the_set</th>\n      <td>0.382670</td>\n      <td>0.391816</td>\n      <td>0.629451</td>\n      <td>0.375062</td>\n      <td>0.761120</td>\n      <td>0.496143</td>\n      <td>0.512008</td>\n      <td>0.503814</td>\n      <td>0.230140</td>\n      <td>0.318827</td>\n    </tr>\n  </tbody>\n</table>\n</div>"
     },
     "metadata": {},
     "execution_count": 9
    }
   ],
   "source": [
    "pattern_list = None\n",
    "type_scores = inferer.benchmark_types(pattern_list=pattern_list, file_prefix=f\"{dataset}_{version}\")\n",
    "type_scores = type_scores[type_scores.index.str.contains(\"avg\")]\n",
    "type_scores"
   ]
  },
  {
   "cell_type": "code",
   "execution_count": 10,
   "metadata": {},
   "outputs": [
    {
     "output_type": "execute_result",
     "data": {
      "text/plain": [
       "AJI               0.361358\n",
       "AJI_plus          0.373535\n",
       "DICE2             0.564634\n",
       "PQ                0.366513\n",
       "SQ                0.702141\n",
       "DQ                0.463625\n",
       "inst_recall       0.473079\n",
       "inst_precision    0.516470\n",
       "splits            0.221212\n",
       "merges            0.223275\n",
       "dtype: float64"
      ]
     },
     "metadata": {},
     "execution_count": 10
    }
   ],
   "source": [
    "type_scores[type_scores.index.str.contains(\"for_the\")].mean()"
   ]
  }
 ],
 "metadata": {
  "kernelspec": {
   "name": "python3",
   "display_name": "Python 3.6.9 64-bit ('DippaEnv': venv)"
  },
  "language_info": {
   "codemirror_mode": {
    "name": "ipython",
    "version": 3
   },
   "file_extension": ".py",
   "mimetype": "text/x-python",
   "name": "python",
   "nbconvert_exporter": "python",
   "pygments_lexer": "ipython3",
   "version": "3.6.9"
  },
  "metadata": {
   "interpreter": {
    "hash": "3ea01dde592f11f139bb8a18f7472b919436c8f8399691d376fd4b0010891aeb"
   }
  },
  "interpreter": {
   "hash": "07b5a4939881f2749f74c1bf1ba203f4f2a5c14ddfaee1b930c1cf8ac72ceae9"
  }
 },
 "nbformat": 4,
 "nbformat_minor": 4
}