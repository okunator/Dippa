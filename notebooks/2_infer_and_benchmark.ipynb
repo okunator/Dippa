{
 "cells": [
  {
   "cell_type": "code",
   "execution_count": null,
   "source": [
    "from src.dl.inference.inferer import Inferer\n",
    "import src.dl.lightning as lightning\n",
    "from src.utils.gson_merger import GSONMerger\n",
    "from src.data import PannukeDataModule, ConsepDataModule"
   ],
   "outputs": [],
   "metadata": {}
  },
  {
   "cell_type": "code",
   "execution_count": null,
   "source": [
    "# Initialize the inferer\n",
    "in_dir = \"my_in_dir\"\n",
    "gt_dir = \"my_gt_dir\" # This is optional. Can be None\n",
    "exp_name = \"ovca\" # name of the experiment (directory)\n",
    "exp_version = \"full\" # name of the experiment version (sub directory inside the experiment dir)\n",
    "lightning_model = lightning.SegModel.from_experiment(name=exp_name, version=exp_version)\n",
    "\n",
    "inferer = Inferer(\n",
    "    lightning_model,\n",
    "    in_data_dir=in_dir,\n",
    "    gt_mask_dir=gt_dir,\n",
    "    patch_size=(256, 256),\n",
    "    stride_size=80,\n",
    "    fn_pattern=\"*\",\n",
    "    model_weights=\"last\",\n",
    "    apply_weights=True,\n",
    "    post_proc_method=\"cellpose\",\n",
    "    loader_batch_size=1,\n",
    "    loader_num_workers=1,\n",
    "    model_batch_size=16,\n",
    "    n_images=185,\n",
    "    auto_range=False\n",
    ") "
   ],
   "outputs": [],
   "metadata": {}
  },
  {
   "cell_type": "code",
   "execution_count": null,
   "source": [
    "inferer.run_inference(\n",
    "    # save_dir=\"my_geojson_dir\",\n",
    "    # fformat=\"geojson\",\n",
    "    # offsets=True\n",
    ")"
   ],
   "outputs": [],
   "metadata": {
    "scrolled": true,
    "tags": []
   }
  },
  {
   "cell_type": "code",
   "execution_count": null,
   "source": [
    "import matplotlib.pyplot as plt\n",
    "from skimage.color import label2rgb\n",
    "from src.utils import FileHandler\n",
    "\n",
    "keys = list(inferer.soft_insts.keys())\n",
    "key = keys[1]\n",
    "\n",
    "fig, ax = plt.subplots(2, 2, figsize=(40, 40))\n",
    "ax = ax.flatten()\n",
    "ax[0].imshow(label2rgb(inferer.inst_maps[key], bg_label=0))\n",
    "ax[1].imshow(label2rgb(inferer.type_maps[key], bg_label=0))\n",
    "ax[2].imshow(label2rgb(FileHandler.read_mask([f for f in inferer.gt_mask_dir if key in f.name][0], \"inst_map\"), bg_label=0))\n",
    "ax[3].imshow(label2rgb(FileHandler.read_mask([f for f in inferer.gt_mask_dir if key in f.name][0], \"type_map\"), bg_label=0))"
   ],
   "outputs": [],
   "metadata": {}
  },
  {
   "cell_type": "code",
   "execution_count": null,
   "source": [
    "# merge the output geojson files to one file (QuPath readable)\n",
    "# Run this cell only for patched WSIs and if you need to convert outputs to geojson\n",
    "# gsonmerger = GSONMerger(in_dir=\"gson_dir\")\n",
    "# gsonmerger.merge(fname=\"big_gson_file.json\")"
   ],
   "outputs": [],
   "metadata": {}
  },
  {
   "cell_type": "code",
   "execution_count": null,
   "source": [
    "pattern_list = None\n",
    "binary_scores = inferer.benchmark_insts(pattern_list=pattern_list, file_prefix=f\"{exp_name}_{exp_version}\")\n",
    "binary_scores"
   ],
   "outputs": [],
   "metadata": {
    "tags": []
   }
  },
  {
   "cell_type": "code",
   "execution_count": null,
   "source": [
    "pattern_list = None\n",
    "type_scores = inferer.benchmark_types(\n",
    "    classes=PannukeDataModule.get_classes(),\n",
    "    pattern_list=pattern_list, \n",
    "    file_prefix=f\"{exp_version}\"\n",
    ")\n",
    "type_scores = type_scores[type_scores.index.str.contains(\"avg\")]\n",
    "type_scores"
   ],
   "outputs": [],
   "metadata": {}
  },
  {
   "cell_type": "code",
   "execution_count": null,
   "source": [
    "type_scores[type_scores.index.str.contains(\"for_the\")].mean()"
   ],
   "outputs": [],
   "metadata": {}
  }
 ],
 "metadata": {
  "kernelspec": {
   "name": "python3",
   "display_name": "Python 3.6.9 64-bit ('DippaEnv': venv)"
  },
  "language_info": {
   "codemirror_mode": {
    "name": "ipython",
    "version": 3
   },
   "file_extension": ".py",
   "mimetype": "text/x-python",
   "name": "python",
   "nbconvert_exporter": "python",
   "pygments_lexer": "ipython3",
   "version": "3.6.9"
  },
  "metadata": {
   "interpreter": {
    "hash": "3ea01dde592f11f139bb8a18f7472b919436c8f8399691d376fd4b0010891aeb"
   }
  },
  "interpreter": {
   "hash": "3ea01dde592f11f139bb8a18f7472b919436c8f8399691d376fd4b0010891aeb"
  }
 },
 "nbformat": 4,
 "nbformat_minor": 4
}