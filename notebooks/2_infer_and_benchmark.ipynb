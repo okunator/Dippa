{
 "cells": [
  {
   "cell_type": "code",
   "execution_count": 1,
   "metadata": {},
   "outputs": [],
   "source": [
    "from src.dl.inference.inferer import Inferer\n",
    "import src.dl.lightning as lightning\n",
    "from src.config import CONFIG"
   ]
  },
  {
   "cell_type": "code",
   "execution_count": 2,
   "metadata": {},
   "outputs": [],
   "source": [
    "lightning_model = lightning.SegModel.from_conf(CONFIG)\n",
    "\n",
    "inferer = Inferer(\n",
    "    lightning_model,\n",
    "    dataset=\"consep\",\n",
    "    stride_size=100,\n",
    "    fn_pattern=\"*_1*\"\n",
    ")"
   ]
  },
  {
   "cell_type": "code",
   "execution_count": 3,
   "metadata": {
    "scrolled": true
   },
   "outputs": [
    {
     "output_type": "stream",
     "name": "stderr",
     "text": [
      "Inference: /home/local/leos/Dippa/datasets/data/consep/test/images: 100%|██████████| 1/1 [00:18<00:00, 18.62s/batch, patches=1176/1176]\n"
     ]
    }
   ],
   "source": [
    "inferer.run_inference()"
   ]
  },
  {
   "cell_type": "code",
   "execution_count": 4,
   "metadata": {},
   "outputs": [
    {
     "output_type": "stream",
     "name": "stderr",
     "text": [
      "100%|██████████| 6/6 [00:10<00:00,  1.72s/it]\n"
     ]
    }
   ],
   "source": [
    "inferer.post_process()"
   ]
  },
  {
   "cell_type": "code",
   "execution_count": 5,
   "metadata": {},
   "outputs": [],
   "source": [
    "# inf.plot_outputs(\"panoptic_maps\", ixs = [0, 2], contour=True, gt_mask=True)"
   ]
  },
  {
   "cell_type": "code",
   "execution_count": 6,
   "metadata": {},
   "outputs": [
    {
     "output_type": "stream",
     "name": "stderr",
     "text": [
      "100%|██████████| 6/6 [00:32<00:00,  5.47s/it]\n"
     ]
    },
    {
     "output_type": "execute_result",
     "data": {
      "text/plain": [
       "                           AJI  AJI_plus     DICE2        PQ        SQ  \\\n",
       "name                                                                     \n",
       "test_1                0.004288  0.022279  0.008054  0.000000  0.000000   \n",
       "test_10               0.001061  0.005071  0.002060  0.000000  0.000000   \n",
       "test_11               0.042999  0.106220  0.070863  0.004823  0.537777   \n",
       "test_12               0.001462  0.007003  0.002894  0.000000  0.000000   \n",
       "test_13               0.000350  0.000839  0.000701  0.000000  0.000000   \n",
       "test_14               0.010854  0.033223  0.019229  0.000000  0.000000   \n",
       "averages_for_the_set  0.010169  0.029106  0.017300  0.000804  0.089629   \n",
       "\n",
       "                            DQ  inst_recall  inst_precision    splits  \\\n",
       "name                                                                    \n",
       "test_1                0.000000     0.000000        0.000000  3.590239   \n",
       "test_10               0.000000     0.000000        0.000000  1.790016   \n",
       "test_11               0.008969     0.006500        0.014463  4.663729   \n",
       "test_12               0.000000     0.000000        0.000000  2.265801   \n",
       "test_13               0.000000     0.000000        0.000000  0.771148   \n",
       "test_14               0.000000     0.000000        0.000000  4.252936   \n",
       "averages_for_the_set  0.001495     0.001083        0.002410  2.888978   \n",
       "\n",
       "                        merges  \n",
       "name                            \n",
       "test_1                1.827743  \n",
       "test_10               2.293893  \n",
       "test_11               1.241465  \n",
       "test_12               1.407175  \n",
       "test_13               3.340230  \n",
       "test_14               1.538470  \n",
       "averages_for_the_set  1.941496  "
      ],
      "text/html": "<div>\n<style scoped>\n    .dataframe tbody tr th:only-of-type {\n        vertical-align: middle;\n    }\n\n    .dataframe tbody tr th {\n        vertical-align: top;\n    }\n\n    .dataframe thead th {\n        text-align: right;\n    }\n</style>\n<table border=\"1\" class=\"dataframe\">\n  <thead>\n    <tr style=\"text-align: right;\">\n      <th></th>\n      <th>AJI</th>\n      <th>AJI_plus</th>\n      <th>DICE2</th>\n      <th>PQ</th>\n      <th>SQ</th>\n      <th>DQ</th>\n      <th>inst_recall</th>\n      <th>inst_precision</th>\n      <th>splits</th>\n      <th>merges</th>\n    </tr>\n    <tr>\n      <th>name</th>\n      <th></th>\n      <th></th>\n      <th></th>\n      <th></th>\n      <th></th>\n      <th></th>\n      <th></th>\n      <th></th>\n      <th></th>\n      <th></th>\n    </tr>\n  </thead>\n  <tbody>\n    <tr>\n      <th>test_1</th>\n      <td>0.004288</td>\n      <td>0.022279</td>\n      <td>0.008054</td>\n      <td>0.000000</td>\n      <td>0.000000</td>\n      <td>0.000000</td>\n      <td>0.000000</td>\n      <td>0.000000</td>\n      <td>3.590239</td>\n      <td>1.827743</td>\n    </tr>\n    <tr>\n      <th>test_10</th>\n      <td>0.001061</td>\n      <td>0.005071</td>\n      <td>0.002060</td>\n      <td>0.000000</td>\n      <td>0.000000</td>\n      <td>0.000000</td>\n      <td>0.000000</td>\n      <td>0.000000</td>\n      <td>1.790016</td>\n      <td>2.293893</td>\n    </tr>\n    <tr>\n      <th>test_11</th>\n      <td>0.042999</td>\n      <td>0.106220</td>\n      <td>0.070863</td>\n      <td>0.004823</td>\n      <td>0.537777</td>\n      <td>0.008969</td>\n      <td>0.006500</td>\n      <td>0.014463</td>\n      <td>4.663729</td>\n      <td>1.241465</td>\n    </tr>\n    <tr>\n      <th>test_12</th>\n      <td>0.001462</td>\n      <td>0.007003</td>\n      <td>0.002894</td>\n      <td>0.000000</td>\n      <td>0.000000</td>\n      <td>0.000000</td>\n      <td>0.000000</td>\n      <td>0.000000</td>\n      <td>2.265801</td>\n      <td>1.407175</td>\n    </tr>\n    <tr>\n      <th>test_13</th>\n      <td>0.000350</td>\n      <td>0.000839</td>\n      <td>0.000701</td>\n      <td>0.000000</td>\n      <td>0.000000</td>\n      <td>0.000000</td>\n      <td>0.000000</td>\n      <td>0.000000</td>\n      <td>0.771148</td>\n      <td>3.340230</td>\n    </tr>\n    <tr>\n      <th>test_14</th>\n      <td>0.010854</td>\n      <td>0.033223</td>\n      <td>0.019229</td>\n      <td>0.000000</td>\n      <td>0.000000</td>\n      <td>0.000000</td>\n      <td>0.000000</td>\n      <td>0.000000</td>\n      <td>4.252936</td>\n      <td>1.538470</td>\n    </tr>\n    <tr>\n      <th>averages_for_the_set</th>\n      <td>0.010169</td>\n      <td>0.029106</td>\n      <td>0.017300</td>\n      <td>0.000804</td>\n      <td>0.089629</td>\n      <td>0.001495</td>\n      <td>0.001083</td>\n      <td>0.002410</td>\n      <td>2.888978</td>\n      <td>1.941496</td>\n    </tr>\n  </tbody>\n</table>\n</div>"
     },
     "metadata": {},
     "execution_count": 6
    }
   ],
   "source": [
    "pattern_list = None\n",
    "inferer.benchmark_insts(pattern_list=pattern_list)"
   ]
  },
  {
   "cell_type": "code",
   "execution_count": 7,
   "metadata": {},
   "outputs": [
    {
     "output_type": "stream",
     "name": "stderr",
     "text": [
      "100%|██████████| 6/6 [00:03<00:00,  1.69it/s]\n",
      "100%|██████████| 6/6 [00:05<00:00,  1.02it/s]\n",
      "100%|██████████| 6/6 [00:06<00:00,  1.16s/it]\n",
      "100%|██████████| 6/6 [00:12<00:00,  2.15s/it]\n"
     ]
    },
    {
     "output_type": "execute_result",
     "data": {
      "text/plain": [
       "                                   AJI  AJI_plus     DICE2        PQ  \\\n",
       "name                                                                   \n",
       "miscellanous_avg_for_the_set  0.013213  0.013013  0.060968  0.000000   \n",
       "inflammatory_avg_for_the_set  0.004621  0.004362  0.084402  0.000000   \n",
       "epithelial_avg_for_the_set    0.007681  0.006395  0.074082  0.000282   \n",
       "spindle_avg_for_the_set       0.002902  0.005822  0.008496  0.000000   \n",
       "\n",
       "                                    SQ        DQ  inst_recall  inst_precision  \\\n",
       "name                                                                            \n",
       "miscellanous_avg_for_the_set  0.000000  0.000000     0.000000        0.000000   \n",
       "inflammatory_avg_for_the_set  0.000000  0.000000     0.000000        0.000000   \n",
       "epithelial_avg_for_the_set    0.100226  0.000562     0.000324        0.002128   \n",
       "spindle_avg_for_the_set       0.000000  0.000000     0.000000        0.000000   \n",
       "\n",
       "                                splits    merges  \n",
       "name                                              \n",
       "miscellanous_avg_for_the_set  0.057059  0.238919  \n",
       "inflammatory_avg_for_the_set  0.256453  0.463098  \n",
       "epithelial_avg_for_the_set    0.202606  1.695382  \n",
       "spindle_avg_for_the_set       3.167536  0.629356  "
      ],
      "text/html": "<div>\n<style scoped>\n    .dataframe tbody tr th:only-of-type {\n        vertical-align: middle;\n    }\n\n    .dataframe tbody tr th {\n        vertical-align: top;\n    }\n\n    .dataframe thead th {\n        text-align: right;\n    }\n</style>\n<table border=\"1\" class=\"dataframe\">\n  <thead>\n    <tr style=\"text-align: right;\">\n      <th></th>\n      <th>AJI</th>\n      <th>AJI_plus</th>\n      <th>DICE2</th>\n      <th>PQ</th>\n      <th>SQ</th>\n      <th>DQ</th>\n      <th>inst_recall</th>\n      <th>inst_precision</th>\n      <th>splits</th>\n      <th>merges</th>\n    </tr>\n    <tr>\n      <th>name</th>\n      <th></th>\n      <th></th>\n      <th></th>\n      <th></th>\n      <th></th>\n      <th></th>\n      <th></th>\n      <th></th>\n      <th></th>\n      <th></th>\n    </tr>\n  </thead>\n  <tbody>\n    <tr>\n      <th>miscellanous_avg_for_the_set</th>\n      <td>0.013213</td>\n      <td>0.013013</td>\n      <td>0.060968</td>\n      <td>0.000000</td>\n      <td>0.000000</td>\n      <td>0.000000</td>\n      <td>0.000000</td>\n      <td>0.000000</td>\n      <td>0.057059</td>\n      <td>0.238919</td>\n    </tr>\n    <tr>\n      <th>inflammatory_avg_for_the_set</th>\n      <td>0.004621</td>\n      <td>0.004362</td>\n      <td>0.084402</td>\n      <td>0.000000</td>\n      <td>0.000000</td>\n      <td>0.000000</td>\n      <td>0.000000</td>\n      <td>0.000000</td>\n      <td>0.256453</td>\n      <td>0.463098</td>\n    </tr>\n    <tr>\n      <th>epithelial_avg_for_the_set</th>\n      <td>0.007681</td>\n      <td>0.006395</td>\n      <td>0.074082</td>\n      <td>0.000282</td>\n      <td>0.100226</td>\n      <td>0.000562</td>\n      <td>0.000324</td>\n      <td>0.002128</td>\n      <td>0.202606</td>\n      <td>1.695382</td>\n    </tr>\n    <tr>\n      <th>spindle_avg_for_the_set</th>\n      <td>0.002902</td>\n      <td>0.005822</td>\n      <td>0.008496</td>\n      <td>0.000000</td>\n      <td>0.000000</td>\n      <td>0.000000</td>\n      <td>0.000000</td>\n      <td>0.000000</td>\n      <td>3.167536</td>\n      <td>0.629356</td>\n    </tr>\n  </tbody>\n</table>\n</div>"
     },
     "metadata": {},
     "execution_count": 7
    }
   ],
   "source": [
    "pattern_list = None\n",
    "scores = inferer.benchmark_types(pattern_list=pattern_list)\n",
    "scores[scores.index.str.contains(\"avg\")]"
   ]
  }
 ],
 "metadata": {
  "kernelspec": {
   "name": "python3",
   "display_name": "Python 3.6.9 64-bit ('DippaEnv')",
   "metadata": {
    "interpreter": {
     "hash": "3ea01dde592f11f139bb8a18f7472b919436c8f8399691d376fd4b0010891aeb"
    }
   }
  },
  "language_info": {
   "codemirror_mode": {
    "name": "ipython",
    "version": 3
   },
   "file_extension": ".py",
   "mimetype": "text/x-python",
   "name": "python",
   "nbconvert_exporter": "python",
   "pygments_lexer": "ipython3",
   "version": "3.6.9-final"
  }
 },
 "nbformat": 4,
 "nbformat_minor": 4
}