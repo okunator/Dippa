{
 "cells": [
  {
   "cell_type": "code",
   "execution_count": 1,
   "metadata": {},
   "outputs": [],
   "source": [
    "from src.dl.inference.inferer import Inferer\n",
    "import src.dl.lightning as lightning\n",
    "from src.config import CONFIG"
   ]
  },
  {
   "cell_type": "code",
   "execution_count": 2,
   "metadata": {},
   "outputs": [],
   "source": [
    "lightning_model = lightning.SegModel.from_experiment(name=\"testi\", version=\"dense_ws_bcn_full\")\n",
    "\n",
    "inferer = Inferer(\n",
    "    lightning_model,\n",
    "    dataset=\"pannuke\",\n",
    "    patch_size=(256, 256),\n",
    "    stride_size=80,\n",
    "    fn_pattern=\"*\",\n",
    "    data_fold=\"test\",\n",
    "    model_weights=\"last\",\n",
    "    apply_weights=False,\n",
    "    post_proc_method=\"cellpose\",\n",
    "    batch_size=1,\n",
    "    num_workers=1,\n",
    "    model_batch_size=1\n",
    ")"
   ]
  },
  {
   "cell_type": "code",
   "execution_count": null,
   "metadata": {},
   "outputs": [],
   "source": [
    "import torch\n",
    "import torch.nn as nn\n",
    "\n",
    "class GroupNorm(nn.GroupNorm):\n",
    "    def __init__(self,\n",
    "                 num_features: int,\n",
    "                 num_groups: int,\n",
    "                 **kwargs) -> None:\n",
    "        \"\"\"\n",
    "        Convenience wrapper for nn.GroupNorm to make kwargs\n",
    "        compatible with nn.BatchNorm\n",
    "\n",
    "        Args:\n",
    "        ----------\n",
    "            num_features (int):\n",
    "                Number of input channels/features\n",
    "            num_groups (int, default=32):\n",
    "                Number of groups to group the channels.\n",
    "                Typically n_features is a multiple of 32\n",
    "        \"\"\"\n",
    "        super(GroupNorm, self).__init__(\n",
    "            num_groups=num_groups,\n",
    "            num_channels=num_features\n",
    "        )\n",
    "\n"
   ]
  },
  {
   "cell_type": "code",
   "execution_count": 7,
   "metadata": {},
   "outputs": [],
   "source": [
    "# lightning_model"
   ]
  },
  {
   "cell_type": "code",
   "execution_count": 4,
   "metadata": {
    "scrolled": true,
    "tags": []
   },
   "outputs": [
    {
     "output_type": "stream",
     "name": "stderr",
     "text": [
      "Inference: /home/local/leos/Dippa/datasets/data/pannuke/test/images: 100%|██████████| 2722/2722 [02:15<00:00, 20.14batch/s, patches=2722/2722]\n"
     ]
    }
   ],
   "source": [
    "inferer.run_inference()"
   ]
  },
  {
   "cell_type": "code",
   "execution_count": 1,
   "metadata": {},
   "outputs": [],
   "source": [
    "# import matplotlib.pyplot as plt \n",
    "# from skimage.color import label2rgb\n",
    "\n",
    "# key = \"Breast_fold3_420\"\n",
    "# # key = \"test_11\"\n",
    "# # key=\"TCGA-2Z-A9J9-01A-01-TS1\"\n",
    "# fig, ax = plt.subplots(1, 2, figsize=(40, 40))\n",
    "# ax[0].imshow(inferer.soft_insts[key][..., 1])\n",
    "# ax[1].imshow(inferer.aux_maps[key][..., 1])\n",
    "# # ax[1].imshow(label2rgb(inferer.inst_maps[key], bg_label=0))"
   ]
  },
  {
   "cell_type": "code",
   "execution_count": 6,
   "metadata": {
    "tags": []
   },
   "outputs": [
    {
     "output_type": "stream",
     "name": "stderr",
     "text": [
      "  0%|          | 0/2722 [00:00<?, ?it/s]/home/local/leos/Dippa/DippaEnv/lib/python3.6/site-packages/torch/nn/functional.py:3385: UserWarning: Default grid_sample and affine_grid behavior has changed to align_corners=False since 1.3.0. Please specify align_corners=True if the old behavior is desired. See the documentation of grid_sample for details.\n",
      "  warnings.warn(\"Default grid_sample and affine_grid behavior has changed \"\n",
      "  0%|          | 13/2722 [00:01<03:15, 13.84it/s]/home/local/leos/Dippa/src/utils/img_utils.py:61: RuntimeWarning: divide by zero encountered in true_divide\n",
      "  normed = np.clip((im / colmax), a_min=a_min, a_max=a_max)\n",
      "/home/local/leos/Dippa/src/utils/img_utils.py:61: RuntimeWarning: invalid value encountered in true_divide\n",
      "  normed = np.clip((im / colmax), a_min=a_min, a_max=a_max)\n",
      "100%|██████████| 2722/2722 [04:12<00:00, 10.77it/s]\n"
     ]
    }
   ],
   "source": [
    "inferer.post_process()"
   ]
  },
  {
   "cell_type": "code",
   "execution_count": 7,
   "metadata": {
    "tags": []
   },
   "outputs": [
    {
     "output_type": "stream",
     "name": "stderr",
     "text": [
      "Runnning metrics: 100%|██████████| 14/14 [00:57<00:00,  4.14s/it]\n"
     ]
    },
    {
     "output_type": "execute_result",
     "data": {
      "text/plain": [
       "                              AJI  AJI_plus     DICE2        PQ        SQ  \\\n",
       "name                                                                        \n",
       "TCGA-2Z-A9J9-01A-01-TS1  0.644536  0.654973  0.747178  0.633636  0.758122   \n",
       "TCGA-44-2665-01B-06-BS6  0.693984  0.718394  0.716191  0.709329  0.794255   \n",
       "TCGA-69-7764-01A-01-TS1  0.671235  0.674774  0.765457  0.643620  0.783018   \n",
       "TCGA-A6-6782-01A-01-BS1  0.615620  0.640052  0.747649  0.614376  0.748192   \n",
       "TCGA-AC-A2FO-01A-01-TS1  0.602552  0.605665  0.751684  0.584666  0.717855   \n",
       "TCGA-AO-A0J2-01A-01-BSA  0.648162  0.666838  0.773386  0.605335  0.761447   \n",
       "TCGA-CU-A0YN-01A-02-BSB  0.648499  0.656921  0.794674  0.667559  0.772103   \n",
       "TCGA-EJ-A46H-01A-03-TSC  0.687240  0.694346  0.809522  0.672584  0.775317   \n",
       "TCGA-FG-A4MU-01B-01-TS1  0.688665  0.708801  0.770135  0.668236  0.783925   \n",
       "TCGA-GL-6846-01A-01-BS1  0.696114  0.708479  0.771598  0.701337  0.790638   \n",
       "TCGA-HC-7209-01A-01-TS1  0.681023  0.697987  0.769647  0.671939  0.778943   \n",
       "TCGA-HT-8564-01Z-00-DX1  0.688600  0.698983  0.782152  0.653376  0.742340   \n",
       "TCGA-IZ-8196-01A-01-BS1  0.728917  0.734493  0.814548  0.712265  0.795930   \n",
       "TCGA-ZF-A9R5-01A-01-TS1  0.758888  0.764664  0.840352  0.730414  0.798575   \n",
       "averages_for_the_set     0.675288  0.687527  0.775298  0.662048  0.771476   \n",
       "\n",
       "                               DQ  inst_recall  inst_precision    splits  \\\n",
       "name                                                                       \n",
       "TCGA-2Z-A9J9-01A-01-TS1  0.835796     0.885217        0.791602  1.074257   \n",
       "TCGA-44-2665-01B-06-BS6  0.893074     0.898533        0.887681  0.719898   \n",
       "TCGA-69-7764-01A-01-TS1  0.821974     0.916100        0.745387  0.705634   \n",
       "TCGA-A6-6782-01A-01-BS1  0.821147     0.827664        0.814732  0.605744   \n",
       "TCGA-AC-A2FO-01A-01-TS1  0.814462     0.821497        0.807547  0.679320   \n",
       "TCGA-AO-A0J2-01A-01-BSA  0.794979     0.800562        0.789474  0.713363   \n",
       "TCGA-CU-A0YN-01A-02-BSB  0.864598     0.905465        0.827260  1.095621   \n",
       "TCGA-EJ-A46H-01A-03-TSC  0.867495     0.899142        0.838000  0.580798   \n",
       "TCGA-FG-A4MU-01B-01-TS1  0.852423     0.832258        0.873589  0.636726   \n",
       "TCGA-GL-6846-01A-01-BS1  0.887052     0.907042        0.867925  0.620435   \n",
       "TCGA-HC-7209-01A-01-TS1  0.862629     0.898462        0.829545  0.502915   \n",
       "TCGA-HT-8564-01Z-00-DX1  0.880157     0.899598        0.861538  0.415355   \n",
       "TCGA-IZ-8196-01A-01-BS1  0.894884     0.902439        0.887454  0.611068   \n",
       "TCGA-ZF-A9R5-01A-01-TS1  0.914647     0.913684        0.915612  0.588154   \n",
       "averages_for_the_set     0.857523     0.879119        0.838382  0.682092   \n",
       "\n",
       "                           merges  \n",
       "name                               \n",
       "TCGA-2Z-A9J9-01A-01-TS1  0.515051  \n",
       "TCGA-44-2665-01B-06-BS6  0.736119  \n",
       "TCGA-69-7764-01A-01-TS1  0.618299  \n",
       "TCGA-A6-6782-01A-01-BS1  0.475734  \n",
       "TCGA-AC-A2FO-01A-01-TS1  1.170339  \n",
       "TCGA-AO-A0J2-01A-01-BSA  0.698752  \n",
       "TCGA-CU-A0YN-01A-02-BSB  0.592219  \n",
       "TCGA-EJ-A46H-01A-03-TSC  0.416323  \n",
       "TCGA-FG-A4MU-01B-01-TS1  0.552362  \n",
       "TCGA-GL-6846-01A-01-BS1  0.514437  \n",
       "TCGA-HC-7209-01A-01-TS1  0.379129  \n",
       "TCGA-HT-8564-01Z-00-DX1  0.231980  \n",
       "TCGA-IZ-8196-01A-01-BS1  0.611380  \n",
       "TCGA-ZF-A9R5-01A-01-TS1  0.388317  \n",
       "averages_for_the_set     0.564317  "
      ],
      "text/html": "<div>\n<style scoped>\n    .dataframe tbody tr th:only-of-type {\n        vertical-align: middle;\n    }\n\n    .dataframe tbody tr th {\n        vertical-align: top;\n    }\n\n    .dataframe thead th {\n        text-align: right;\n    }\n</style>\n<table border=\"1\" class=\"dataframe\">\n  <thead>\n    <tr style=\"text-align: right;\">\n      <th></th>\n      <th>AJI</th>\n      <th>AJI_plus</th>\n      <th>DICE2</th>\n      <th>PQ</th>\n      <th>SQ</th>\n      <th>DQ</th>\n      <th>inst_recall</th>\n      <th>inst_precision</th>\n      <th>splits</th>\n      <th>merges</th>\n    </tr>\n    <tr>\n      <th>name</th>\n      <th></th>\n      <th></th>\n      <th></th>\n      <th></th>\n      <th></th>\n      <th></th>\n      <th></th>\n      <th></th>\n      <th></th>\n      <th></th>\n    </tr>\n  </thead>\n  <tbody>\n    <tr>\n      <th>TCGA-2Z-A9J9-01A-01-TS1</th>\n      <td>0.644536</td>\n      <td>0.654973</td>\n      <td>0.747178</td>\n      <td>0.633636</td>\n      <td>0.758122</td>\n      <td>0.835796</td>\n      <td>0.885217</td>\n      <td>0.791602</td>\n      <td>1.074257</td>\n      <td>0.515051</td>\n    </tr>\n    <tr>\n      <th>TCGA-44-2665-01B-06-BS6</th>\n      <td>0.693984</td>\n      <td>0.718394</td>\n      <td>0.716191</td>\n      <td>0.709329</td>\n      <td>0.794255</td>\n      <td>0.893074</td>\n      <td>0.898533</td>\n      <td>0.887681</td>\n      <td>0.719898</td>\n      <td>0.736119</td>\n    </tr>\n    <tr>\n      <th>TCGA-69-7764-01A-01-TS1</th>\n      <td>0.671235</td>\n      <td>0.674774</td>\n      <td>0.765457</td>\n      <td>0.643620</td>\n      <td>0.783018</td>\n      <td>0.821974</td>\n      <td>0.916100</td>\n      <td>0.745387</td>\n      <td>0.705634</td>\n      <td>0.618299</td>\n    </tr>\n    <tr>\n      <th>TCGA-A6-6782-01A-01-BS1</th>\n      <td>0.615620</td>\n      <td>0.640052</td>\n      <td>0.747649</td>\n      <td>0.614376</td>\n      <td>0.748192</td>\n      <td>0.821147</td>\n      <td>0.827664</td>\n      <td>0.814732</td>\n      <td>0.605744</td>\n      <td>0.475734</td>\n    </tr>\n    <tr>\n      <th>TCGA-AC-A2FO-01A-01-TS1</th>\n      <td>0.602552</td>\n      <td>0.605665</td>\n      <td>0.751684</td>\n      <td>0.584666</td>\n      <td>0.717855</td>\n      <td>0.814462</td>\n      <td>0.821497</td>\n      <td>0.807547</td>\n      <td>0.679320</td>\n      <td>1.170339</td>\n    </tr>\n    <tr>\n      <th>TCGA-AO-A0J2-01A-01-BSA</th>\n      <td>0.648162</td>\n      <td>0.666838</td>\n      <td>0.773386</td>\n      <td>0.605335</td>\n      <td>0.761447</td>\n      <td>0.794979</td>\n      <td>0.800562</td>\n      <td>0.789474</td>\n      <td>0.713363</td>\n      <td>0.698752</td>\n    </tr>\n    <tr>\n      <th>TCGA-CU-A0YN-01A-02-BSB</th>\n      <td>0.648499</td>\n      <td>0.656921</td>\n      <td>0.794674</td>\n      <td>0.667559</td>\n      <td>0.772103</td>\n      <td>0.864598</td>\n      <td>0.905465</td>\n      <td>0.827260</td>\n      <td>1.095621</td>\n      <td>0.592219</td>\n    </tr>\n    <tr>\n      <th>TCGA-EJ-A46H-01A-03-TSC</th>\n      <td>0.687240</td>\n      <td>0.694346</td>\n      <td>0.809522</td>\n      <td>0.672584</td>\n      <td>0.775317</td>\n      <td>0.867495</td>\n      <td>0.899142</td>\n      <td>0.838000</td>\n      <td>0.580798</td>\n      <td>0.416323</td>\n    </tr>\n    <tr>\n      <th>TCGA-FG-A4MU-01B-01-TS1</th>\n      <td>0.688665</td>\n      <td>0.708801</td>\n      <td>0.770135</td>\n      <td>0.668236</td>\n      <td>0.783925</td>\n      <td>0.852423</td>\n      <td>0.832258</td>\n      <td>0.873589</td>\n      <td>0.636726</td>\n      <td>0.552362</td>\n    </tr>\n    <tr>\n      <th>TCGA-GL-6846-01A-01-BS1</th>\n      <td>0.696114</td>\n      <td>0.708479</td>\n      <td>0.771598</td>\n      <td>0.701337</td>\n      <td>0.790638</td>\n      <td>0.887052</td>\n      <td>0.907042</td>\n      <td>0.867925</td>\n      <td>0.620435</td>\n      <td>0.514437</td>\n    </tr>\n    <tr>\n      <th>TCGA-HC-7209-01A-01-TS1</th>\n      <td>0.681023</td>\n      <td>0.697987</td>\n      <td>0.769647</td>\n      <td>0.671939</td>\n      <td>0.778943</td>\n      <td>0.862629</td>\n      <td>0.898462</td>\n      <td>0.829545</td>\n      <td>0.502915</td>\n      <td>0.379129</td>\n    </tr>\n    <tr>\n      <th>TCGA-HT-8564-01Z-00-DX1</th>\n      <td>0.688600</td>\n      <td>0.698983</td>\n      <td>0.782152</td>\n      <td>0.653376</td>\n      <td>0.742340</td>\n      <td>0.880157</td>\n      <td>0.899598</td>\n      <td>0.861538</td>\n      <td>0.415355</td>\n      <td>0.231980</td>\n    </tr>\n    <tr>\n      <th>TCGA-IZ-8196-01A-01-BS1</th>\n      <td>0.728917</td>\n      <td>0.734493</td>\n      <td>0.814548</td>\n      <td>0.712265</td>\n      <td>0.795930</td>\n      <td>0.894884</td>\n      <td>0.902439</td>\n      <td>0.887454</td>\n      <td>0.611068</td>\n      <td>0.611380</td>\n    </tr>\n    <tr>\n      <th>TCGA-ZF-A9R5-01A-01-TS1</th>\n      <td>0.758888</td>\n      <td>0.764664</td>\n      <td>0.840352</td>\n      <td>0.730414</td>\n      <td>0.798575</td>\n      <td>0.914647</td>\n      <td>0.913684</td>\n      <td>0.915612</td>\n      <td>0.588154</td>\n      <td>0.388317</td>\n    </tr>\n    <tr>\n      <th>averages_for_the_set</th>\n      <td>0.675288</td>\n      <td>0.687527</td>\n      <td>0.775298</td>\n      <td>0.662048</td>\n      <td>0.771476</td>\n      <td>0.857523</td>\n      <td>0.879119</td>\n      <td>0.838382</td>\n      <td>0.682092</td>\n      <td>0.564317</td>\n    </tr>\n  </tbody>\n</table>\n</div>"
     },
     "metadata": {},
     "execution_count": 7
    }
   ],
   "source": [
    "pattern_list = None\n",
    "binary_scores = inferer.benchmark_insts(pattern_list=pattern_list, file_prefix=\"kumar_cellpose_swish\")\n",
    "binary_scores"
   ]
  },
  {
   "cell_type": "code",
   "execution_count": 8,
   "metadata": {},
   "outputs": [
    {
     "output_type": "stream",
     "name": "stderr",
     "text": [
      "Running metrics for neoplastic: 100%|██████████| 2722/2722 [00:33<00:00, 82.38it/s]\n",
      "Running metrics for inflammatory: 100%|██████████| 2722/2722 [00:14<00:00, 184.52it/s]\n",
      "Running metrics for connective: 100%|██████████| 2722/2722 [00:22<00:00, 118.65it/s]\n",
      "Running metrics for dead: 100%|██████████| 2722/2722 [00:01<00:00, 1759.08it/s]\n",
      "Running metrics for epithelial: 100%|██████████| 2722/2722 [00:10<00:00, 267.01it/s]\n"
     ]
    },
    {
     "output_type": "execute_result",
     "data": {
      "text/plain": [
       "                                   AJI  AJI_plus     DICE2        PQ  \\\n",
       "name                                                                   \n",
       "neoplastic_avg_for_the_set    0.566376  0.583768  0.725673  0.547161   \n",
       "inflammatory_avg_for_the_set  0.319065  0.321950  0.556191  0.356358   \n",
       "connective_avg_for_the_set    0.370084  0.373035  0.647051  0.372687   \n",
       "dead_avg_for_the_set          0.116120  0.118329  0.283840  0.114352   \n",
       "epithelial_avg_for_the_set    0.572461  0.584722  0.694049  0.558805   \n",
       "\n",
       "                                    SQ        DQ  inst_recall  inst_precision  \\\n",
       "name                                                                            \n",
       "neoplastic_avg_for_the_set    0.781370  0.648359     0.646645        0.688175   \n",
       "inflammatory_avg_for_the_set  0.531053  0.422565     0.425837        0.480948   \n",
       "connective_avg_for_the_set    0.628665  0.462492     0.476395        0.510393   \n",
       "dead_avg_for_the_set          0.280536  0.149065     0.180575        0.185921   \n",
       "epithelial_avg_for_the_set    0.756978  0.682887     0.684017        0.710353   \n",
       "\n",
       "                                splits    merges  \n",
       "name                                              \n",
       "neoplastic_avg_for_the_set    0.320618  0.359999  \n",
       "inflammatory_avg_for_the_set  0.089417  0.118989  \n",
       "connective_avg_for_the_set    0.138426  0.181070  \n",
       "dead_avg_for_the_set          0.160773  0.137662  \n",
       "epithelial_avg_for_the_set    0.270843  0.302256  "
      ],
      "text/html": "<div>\n<style scoped>\n    .dataframe tbody tr th:only-of-type {\n        vertical-align: middle;\n    }\n\n    .dataframe tbody tr th {\n        vertical-align: top;\n    }\n\n    .dataframe thead th {\n        text-align: right;\n    }\n</style>\n<table border=\"1\" class=\"dataframe\">\n  <thead>\n    <tr style=\"text-align: right;\">\n      <th></th>\n      <th>AJI</th>\n      <th>AJI_plus</th>\n      <th>DICE2</th>\n      <th>PQ</th>\n      <th>SQ</th>\n      <th>DQ</th>\n      <th>inst_recall</th>\n      <th>inst_precision</th>\n      <th>splits</th>\n      <th>merges</th>\n    </tr>\n    <tr>\n      <th>name</th>\n      <th></th>\n      <th></th>\n      <th></th>\n      <th></th>\n      <th></th>\n      <th></th>\n      <th></th>\n      <th></th>\n      <th></th>\n      <th></th>\n    </tr>\n  </thead>\n  <tbody>\n    <tr>\n      <th>neoplastic_avg_for_the_set</th>\n      <td>0.566376</td>\n      <td>0.583768</td>\n      <td>0.725673</td>\n      <td>0.547161</td>\n      <td>0.781370</td>\n      <td>0.648359</td>\n      <td>0.646645</td>\n      <td>0.688175</td>\n      <td>0.320618</td>\n      <td>0.359999</td>\n    </tr>\n    <tr>\n      <th>inflammatory_avg_for_the_set</th>\n      <td>0.319065</td>\n      <td>0.321950</td>\n      <td>0.556191</td>\n      <td>0.356358</td>\n      <td>0.531053</td>\n      <td>0.422565</td>\n      <td>0.425837</td>\n      <td>0.480948</td>\n      <td>0.089417</td>\n      <td>0.118989</td>\n    </tr>\n    <tr>\n      <th>connective_avg_for_the_set</th>\n      <td>0.370084</td>\n      <td>0.373035</td>\n      <td>0.647051</td>\n      <td>0.372687</td>\n      <td>0.628665</td>\n      <td>0.462492</td>\n      <td>0.476395</td>\n      <td>0.510393</td>\n      <td>0.138426</td>\n      <td>0.181070</td>\n    </tr>\n    <tr>\n      <th>dead_avg_for_the_set</th>\n      <td>0.116120</td>\n      <td>0.118329</td>\n      <td>0.283840</td>\n      <td>0.114352</td>\n      <td>0.280536</td>\n      <td>0.149065</td>\n      <td>0.180575</td>\n      <td>0.185921</td>\n      <td>0.160773</td>\n      <td>0.137662</td>\n    </tr>\n    <tr>\n      <th>epithelial_avg_for_the_set</th>\n      <td>0.572461</td>\n      <td>0.584722</td>\n      <td>0.694049</td>\n      <td>0.558805</td>\n      <td>0.756978</td>\n      <td>0.682887</td>\n      <td>0.684017</td>\n      <td>0.710353</td>\n      <td>0.270843</td>\n      <td>0.302256</td>\n    </tr>\n  </tbody>\n</table>\n</div>"
     },
     "metadata": {},
     "execution_count": 8
    }
   ],
   "source": [
    "pattern_list = None\n",
    "type_scores = inferer.benchmark_types(pattern_list=pattern_list, file_prefix=\"cellpose_swish\")\n",
    "type_scores = type_scores[type_scores.index.str.contains(\"avg\")]\n",
    "type_scores"
   ]
  },
  {
   "cell_type": "code",
   "execution_count": 9,
   "metadata": {},
   "outputs": [
    {
     "output_type": "execute_result",
     "data": {
      "text/plain": [
       "AJI               0.388821\n",
       "AJI_plus          0.396361\n",
       "DICE2             0.581361\n",
       "PQ                0.389873\n",
       "SQ                0.595720\n",
       "DQ                0.473073\n",
       "inst_recall       0.482694\n",
       "inst_precision    0.515158\n",
       "splits            0.196015\n",
       "merges            0.219995\n",
       "dtype: float64"
      ]
     },
     "metadata": {},
     "execution_count": 9
    }
   ],
   "source": [
    "type_scores[type_scores.index.str.contains(\"for_the\")].mean()"
   ]
  }
 ],
 "metadata": {
  "kernelspec": {
   "name": "python369jvsc74a57bd03ea01dde592f11f139bb8a18f7472b919436c8f8399691d376fd4b0010891aeb",
   "display_name": "Python 3.6.9 64-bit ('DippaEnv')"
  },
  "language_info": {
   "codemirror_mode": {
    "name": "ipython",
    "version": 3
   },
   "file_extension": ".py",
   "mimetype": "text/x-python",
   "name": "python",
   "nbconvert_exporter": "python",
   "pygments_lexer": "ipython3",
   "version": "3.6.9"
  }
 },
 "nbformat": 4,
 "nbformat_minor": 4
}