{
 "cells": [
  {
   "cell_type": "code",
   "execution_count": 1,
   "metadata": {},
   "outputs": [],
   "source": [
    "from src.dl.inference.inferer import Inferer\n",
    "import src.dl.lightning as lightning\n",
    "from src.config import CONFIG"
   ]
  },
  {
   "cell_type": "code",
   "execution_count": 2,
   "metadata": {},
   "outputs": [],
   "source": [
    "lightning_model = lightning.SegModel.from_experiment(name=\"baseline_pannuke\",version=\"hover_test3\")\n",
    "\n",
    "inferer = Inferer(\n",
    "    lightning_model,\n",
    "    dataset=\"pannuke\",\n",
    "    patch_size=(256, 256),\n",
    "    stride_size=80,\n",
    "    fn_pattern=\"*\",\n",
    "    data_fold=\"test\",\n",
    "    model_weights=\"last\",\n",
    "    apply_weights=True,\n",
    "    post_proc_method=\"hover\"\n",
    ")"
   ]
  },
  {
   "cell_type": "code",
   "execution_count": 3,
   "metadata": {
    "scrolled": true
   },
   "outputs": [
    {
     "output_type": "stream",
     "name": "stderr",
     "text": [
      "Inference: /home/local/leos/Dippa/datasets/data/pannuke/test/images: 100%|██████████| 341/341 [00:36<00:00,  9.45batch/s, patches=2722/2722]\n"
     ]
    }
   ],
   "source": [
    "inferer.run_inference()"
   ]
  },
  {
   "cell_type": "code",
   "execution_count": 4,
   "metadata": {
    "tags": []
   },
   "outputs": [
    {
     "output_type": "stream",
     "name": "stderr",
     "text": [
      "100%|██████████| 2722/2722 [01:21<00:00, 33.53it/s]\n"
     ]
    }
   ],
   "source": [
    "inferer.post_process()"
   ]
  },
  {
   "cell_type": "code",
   "execution_count": 5,
   "metadata": {
    "tags": []
   },
   "outputs": [
    {
     "output_type": "stream",
     "name": "stderr",
     "text": [
      "100%|██████████| 2722/2722 [01:08<00:00, 39.85it/s]\n"
     ]
    },
    {
     "output_type": "execute_result",
     "data": {
      "text/plain": [
       "                              AJI  AJI_plus     DICE2        PQ        SQ  \\\n",
       "name                                                                        \n",
       "Adrenal_gland_fold3_0    0.550321  0.558087  0.777749  0.558972  0.815168   \n",
       "Adrenal_gland_fold3_1    0.468160  0.471553  0.842145  0.487287  0.852753   \n",
       "Adrenal_gland_fold3_10   0.170251  0.170251  0.871384  0.260103  0.823658   \n",
       "Adrenal_gland_fold3_100  0.776759  0.776759  0.917539  0.620894  0.931342   \n",
       "Adrenal_gland_fold3_101  0.749808  0.749808  0.970506  0.753388  0.941735   \n",
       "...                           ...       ...       ...       ...       ...   \n",
       "Uterus_fold3_96          0.517758  0.540073  0.578525  0.497847  0.803345   \n",
       "Uterus_fold3_97          0.195127  0.195127  0.929476  0.314543  0.884652   \n",
       "Uterus_fold3_98          0.605867  0.652300  0.699844  0.558928  0.853100   \n",
       "Uterus_fold3_99          0.685948  0.708067  0.743282  0.647836  0.863782   \n",
       "averages_for_the_set     0.468159  0.483328  0.743864  0.477855  0.805895   \n",
       "\n",
       "                               DQ  inst_recall  inst_precision    splits  \\\n",
       "name                                                                       \n",
       "Adrenal_gland_fold3_0    0.685714     0.521739        1.000000  0.220801   \n",
       "Adrenal_gland_fold3_1    0.571429     0.413793        0.923077  0.174586   \n",
       "Adrenal_gland_fold3_10   0.315789     0.200000        0.750000  0.077202   \n",
       "Adrenal_gland_fold3_100  0.666667     0.625000        0.714286  0.055303   \n",
       "Adrenal_gland_fold3_101  0.800000     0.666667        1.000000  0.041298   \n",
       "...                           ...          ...             ...       ...   \n",
       "Uterus_fold3_96          0.619718     0.500000        0.814815  0.391760   \n",
       "Uterus_fold3_97          0.355556     0.216216        1.000000  0.059215   \n",
       "Uterus_fold3_98          0.655172     0.558824        0.791667  0.379578   \n",
       "Uterus_fold3_99          0.750000     0.617647        0.954545  0.194879   \n",
       "averages_for_the_set     0.580447     0.474531        0.838161  0.247571   \n",
       "\n",
       "                           merges  \n",
       "name                               \n",
       "Adrenal_gland_fold3_0    0.530790  \n",
       "Adrenal_gland_fold3_1    0.789225  \n",
       "Adrenal_gland_fold3_10   1.446753  \n",
       "Adrenal_gland_fold3_100  0.114349  \n",
       "Adrenal_gland_fold3_101  0.210057  \n",
       "...                           ...  \n",
       "Uterus_fold3_96          0.750446  \n",
       "Uterus_fold3_97          1.475031  \n",
       "Uterus_fold3_98          0.379168  \n",
       "Uterus_fold3_99          0.423848  \n",
       "averages_for_the_set     0.592808  \n",
       "\n",
       "[2609 rows x 10 columns]"
      ],
      "text/html": "<div>\n<style scoped>\n    .dataframe tbody tr th:only-of-type {\n        vertical-align: middle;\n    }\n\n    .dataframe tbody tr th {\n        vertical-align: top;\n    }\n\n    .dataframe thead th {\n        text-align: right;\n    }\n</style>\n<table border=\"1\" class=\"dataframe\">\n  <thead>\n    <tr style=\"text-align: right;\">\n      <th></th>\n      <th>AJI</th>\n      <th>AJI_plus</th>\n      <th>DICE2</th>\n      <th>PQ</th>\n      <th>SQ</th>\n      <th>DQ</th>\n      <th>inst_recall</th>\n      <th>inst_precision</th>\n      <th>splits</th>\n      <th>merges</th>\n    </tr>\n    <tr>\n      <th>name</th>\n      <th></th>\n      <th></th>\n      <th></th>\n      <th></th>\n      <th></th>\n      <th></th>\n      <th></th>\n      <th></th>\n      <th></th>\n      <th></th>\n    </tr>\n  </thead>\n  <tbody>\n    <tr>\n      <th>Adrenal_gland_fold3_0</th>\n      <td>0.550321</td>\n      <td>0.558087</td>\n      <td>0.777749</td>\n      <td>0.558972</td>\n      <td>0.815168</td>\n      <td>0.685714</td>\n      <td>0.521739</td>\n      <td>1.000000</td>\n      <td>0.220801</td>\n      <td>0.530790</td>\n    </tr>\n    <tr>\n      <th>Adrenal_gland_fold3_1</th>\n      <td>0.468160</td>\n      <td>0.471553</td>\n      <td>0.842145</td>\n      <td>0.487287</td>\n      <td>0.852753</td>\n      <td>0.571429</td>\n      <td>0.413793</td>\n      <td>0.923077</td>\n      <td>0.174586</td>\n      <td>0.789225</td>\n    </tr>\n    <tr>\n      <th>Adrenal_gland_fold3_10</th>\n      <td>0.170251</td>\n      <td>0.170251</td>\n      <td>0.871384</td>\n      <td>0.260103</td>\n      <td>0.823658</td>\n      <td>0.315789</td>\n      <td>0.200000</td>\n      <td>0.750000</td>\n      <td>0.077202</td>\n      <td>1.446753</td>\n    </tr>\n    <tr>\n      <th>Adrenal_gland_fold3_100</th>\n      <td>0.776759</td>\n      <td>0.776759</td>\n      <td>0.917539</td>\n      <td>0.620894</td>\n      <td>0.931342</td>\n      <td>0.666667</td>\n      <td>0.625000</td>\n      <td>0.714286</td>\n      <td>0.055303</td>\n      <td>0.114349</td>\n    </tr>\n    <tr>\n      <th>Adrenal_gland_fold3_101</th>\n      <td>0.749808</td>\n      <td>0.749808</td>\n      <td>0.970506</td>\n      <td>0.753388</td>\n      <td>0.941735</td>\n      <td>0.800000</td>\n      <td>0.666667</td>\n      <td>1.000000</td>\n      <td>0.041298</td>\n      <td>0.210057</td>\n    </tr>\n    <tr>\n      <th>...</th>\n      <td>...</td>\n      <td>...</td>\n      <td>...</td>\n      <td>...</td>\n      <td>...</td>\n      <td>...</td>\n      <td>...</td>\n      <td>...</td>\n      <td>...</td>\n      <td>...</td>\n    </tr>\n    <tr>\n      <th>Uterus_fold3_96</th>\n      <td>0.517758</td>\n      <td>0.540073</td>\n      <td>0.578525</td>\n      <td>0.497847</td>\n      <td>0.803345</td>\n      <td>0.619718</td>\n      <td>0.500000</td>\n      <td>0.814815</td>\n      <td>0.391760</td>\n      <td>0.750446</td>\n    </tr>\n    <tr>\n      <th>Uterus_fold3_97</th>\n      <td>0.195127</td>\n      <td>0.195127</td>\n      <td>0.929476</td>\n      <td>0.314543</td>\n      <td>0.884652</td>\n      <td>0.355556</td>\n      <td>0.216216</td>\n      <td>1.000000</td>\n      <td>0.059215</td>\n      <td>1.475031</td>\n    </tr>\n    <tr>\n      <th>Uterus_fold3_98</th>\n      <td>0.605867</td>\n      <td>0.652300</td>\n      <td>0.699844</td>\n      <td>0.558928</td>\n      <td>0.853100</td>\n      <td>0.655172</td>\n      <td>0.558824</td>\n      <td>0.791667</td>\n      <td>0.379578</td>\n      <td>0.379168</td>\n    </tr>\n    <tr>\n      <th>Uterus_fold3_99</th>\n      <td>0.685948</td>\n      <td>0.708067</td>\n      <td>0.743282</td>\n      <td>0.647836</td>\n      <td>0.863782</td>\n      <td>0.750000</td>\n      <td>0.617647</td>\n      <td>0.954545</td>\n      <td>0.194879</td>\n      <td>0.423848</td>\n    </tr>\n    <tr>\n      <th>averages_for_the_set</th>\n      <td>0.468159</td>\n      <td>0.483328</td>\n      <td>0.743864</td>\n      <td>0.477855</td>\n      <td>0.805895</td>\n      <td>0.580447</td>\n      <td>0.474531</td>\n      <td>0.838161</td>\n      <td>0.247571</td>\n      <td>0.592808</td>\n    </tr>\n  </tbody>\n</table>\n<p>2609 rows × 10 columns</p>\n</div>"
     },
     "metadata": {},
     "execution_count": 5
    }
   ],
   "source": [
    "pattern_list = None\n",
    "binary_scores = inferer.benchmark_insts(pattern_list=pattern_list, file_prefix=\"testi\")\n",
    "binary_scores"
   ]
  },
  {
   "cell_type": "code",
   "execution_count": 6,
   "metadata": {},
   "outputs": [
    {
     "output_type": "stream",
     "name": "stderr",
     "text": [
      "100%|██████████| 2722/2722 [00:31<00:00, 86.97it/s]\n",
      "100%|██████████| 2722/2722 [00:15<00:00, 179.58it/s]\n",
      "100%|██████████| 2722/2722 [00:19<00:00, 138.64it/s]\n",
      "100%|██████████| 2722/2722 [00:01<00:00, 2118.44it/s]\n",
      "100%|██████████| 2722/2722 [00:09<00:00, 281.06it/s]\n"
     ]
    },
    {
     "output_type": "execute_result",
     "data": {
      "text/plain": [
       "                                   AJI  AJI_plus     DICE2        PQ  \\\n",
       "name                                                                   \n",
       "neoplastic_avg_for_the_set    0.393731  0.409202  0.615924  0.389269   \n",
       "inflammatory_avg_for_the_set  0.273250  0.275896  0.526524  0.305600   \n",
       "connective_avg_for_the_set    0.212459  0.211908  0.504723  0.223894   \n",
       "dead_avg_for_the_set          0.000000  0.000000  0.000000  0.000000   \n",
       "epithelial_avg_for_the_set    0.377595  0.389606  0.581517  0.378236   \n",
       "\n",
       "                                    SQ        DQ  inst_recall  inst_precision  \\\n",
       "name                                                                            \n",
       "neoplastic_avg_for_the_set    0.693888  0.467554     0.409308        0.628215   \n",
       "inflammatory_avg_for_the_set  0.506835  0.363411     0.344289        0.462860   \n",
       "connective_avg_for_the_set    0.481690  0.278705     0.221220        0.482396   \n",
       "dead_avg_for_the_set          0.000000  0.000000     0.000000        0.000000   \n",
       "epithelial_avg_for_the_set    0.657556  0.466646     0.403288        0.634156   \n",
       "\n",
       "                                    splits    merges  \n",
       "name                                                  \n",
       "neoplastic_avg_for_the_set    3.094743e-01  0.523365  \n",
       "inflammatory_avg_for_the_set  9.215993e-02  0.146297  \n",
       "connective_avg_for_the_set    5.622636e-02  0.287493  \n",
       "dead_avg_for_the_set          3.097403e-17  0.219942  \n",
       "epithelial_avg_for_the_set    2.302775e-01  0.480244  "
      ],
      "text/html": "<div>\n<style scoped>\n    .dataframe tbody tr th:only-of-type {\n        vertical-align: middle;\n    }\n\n    .dataframe tbody tr th {\n        vertical-align: top;\n    }\n\n    .dataframe thead th {\n        text-align: right;\n    }\n</style>\n<table border=\"1\" class=\"dataframe\">\n  <thead>\n    <tr style=\"text-align: right;\">\n      <th></th>\n      <th>AJI</th>\n      <th>AJI_plus</th>\n      <th>DICE2</th>\n      <th>PQ</th>\n      <th>SQ</th>\n      <th>DQ</th>\n      <th>inst_recall</th>\n      <th>inst_precision</th>\n      <th>splits</th>\n      <th>merges</th>\n    </tr>\n    <tr>\n      <th>name</th>\n      <th></th>\n      <th></th>\n      <th></th>\n      <th></th>\n      <th></th>\n      <th></th>\n      <th></th>\n      <th></th>\n      <th></th>\n      <th></th>\n    </tr>\n  </thead>\n  <tbody>\n    <tr>\n      <th>neoplastic_avg_for_the_set</th>\n      <td>0.393731</td>\n      <td>0.409202</td>\n      <td>0.615924</td>\n      <td>0.389269</td>\n      <td>0.693888</td>\n      <td>0.467554</td>\n      <td>0.409308</td>\n      <td>0.628215</td>\n      <td>3.094743e-01</td>\n      <td>0.523365</td>\n    </tr>\n    <tr>\n      <th>inflammatory_avg_for_the_set</th>\n      <td>0.273250</td>\n      <td>0.275896</td>\n      <td>0.526524</td>\n      <td>0.305600</td>\n      <td>0.506835</td>\n      <td>0.363411</td>\n      <td>0.344289</td>\n      <td>0.462860</td>\n      <td>9.215993e-02</td>\n      <td>0.146297</td>\n    </tr>\n    <tr>\n      <th>connective_avg_for_the_set</th>\n      <td>0.212459</td>\n      <td>0.211908</td>\n      <td>0.504723</td>\n      <td>0.223894</td>\n      <td>0.481690</td>\n      <td>0.278705</td>\n      <td>0.221220</td>\n      <td>0.482396</td>\n      <td>5.622636e-02</td>\n      <td>0.287493</td>\n    </tr>\n    <tr>\n      <th>dead_avg_for_the_set</th>\n      <td>0.000000</td>\n      <td>0.000000</td>\n      <td>0.000000</td>\n      <td>0.000000</td>\n      <td>0.000000</td>\n      <td>0.000000</td>\n      <td>0.000000</td>\n      <td>0.000000</td>\n      <td>3.097403e-17</td>\n      <td>0.219942</td>\n    </tr>\n    <tr>\n      <th>epithelial_avg_for_the_set</th>\n      <td>0.377595</td>\n      <td>0.389606</td>\n      <td>0.581517</td>\n      <td>0.378236</td>\n      <td>0.657556</td>\n      <td>0.466646</td>\n      <td>0.403288</td>\n      <td>0.634156</td>\n      <td>2.302775e-01</td>\n      <td>0.480244</td>\n    </tr>\n  </tbody>\n</table>\n</div>"
     },
     "metadata": {},
     "execution_count": 6
    }
   ],
   "source": [
    "pattern_list = None\n",
    "type_scores = inferer.benchmark_types(pattern_list=pattern_list, file_prefix=\"testi\")\n",
    "type_scores = type_scores[type_scores.index.str.contains(\"avg\")]\n",
    "type_scores"
   ]
  }
 ],
 "metadata": {
  "kernelspec": {
   "name": "python3",
   "display_name": "Python 3.6.9 64-bit ('DippaEnv')",
   "metadata": {
    "interpreter": {
     "hash": "3ea01dde592f11f139bb8a18f7472b919436c8f8399691d376fd4b0010891aeb"
    }
   }
  },
  "language_info": {
   "codemirror_mode": {
    "name": "ipython",
    "version": 3
   },
   "file_extension": ".py",
   "mimetype": "text/x-python",
   "name": "python",
   "nbconvert_exporter": "python",
   "pygments_lexer": "ipython3",
   "version": "3.6.9-final"
  }
 },
 "nbformat": 4,
 "nbformat_minor": 4
}