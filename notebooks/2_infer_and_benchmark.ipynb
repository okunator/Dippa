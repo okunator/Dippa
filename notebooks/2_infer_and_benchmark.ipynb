{
 "cells": [
  {
   "cell_type": "code",
   "execution_count": 1,
   "metadata": {},
   "outputs": [],
   "source": [
    "from src.dl.inference.inferer import Inferer\n",
    "import src.dl.lightning as lightning\n",
    "from src.config import CONFIG"
   ]
  },
  {
   "cell_type": "code",
   "execution_count": 2,
   "metadata": {},
   "outputs": [],
   "source": [
    "lightning_model = lightning.SegModel.from_experiment(name=\"long_skip_pannuke_tests\", version=\"hover_unet3p_cat\")\n",
    "\n",
    "inferer = Inferer(\n",
    "    lightning_model,\n",
    "    dataset=\"pannuke\",\n",
    "    patch_size=(256, 256),\n",
    "    stride_size=80,\n",
    "    fn_pattern=\"*\",\n",
    "    data_fold=\"test\",\n",
    "    model_weights=\"last\",\n",
    "    apply_weights=False,\n",
    "    post_proc_method=\"cellpose\",\n",
    "    batch_size=8,\n",
    "    num_workers=8\n",
    ")"
   ]
  },
  {
   "cell_type": "code",
   "execution_count": 3,
   "metadata": {},
   "outputs": [],
   "source": [
    "# lightning_model"
   ]
  },
  {
   "cell_type": "code",
   "execution_count": 4,
   "metadata": {
    "scrolled": true,
    "tags": []
   },
   "outputs": [
    {
     "output_type": "stream",
     "name": "stderr",
     "text": [
      "Inference: /home/local/leos/Dippa/datasets/data/pannuke/test/images: 100%|██████████| 2722/2722 [02:09<00:00, 21.04batch/s, patches=2722/2722]\n"
     ]
    }
   ],
   "source": [
    "inferer.run_inference()"
   ]
  },
  {
   "cell_type": "code",
   "execution_count": 1,
   "metadata": {},
   "outputs": [
    {
     "output_type": "error",
     "ename": "NameError",
     "evalue": "name 'inferer' is not defined",
     "traceback": [
      "\u001b[0;31m---------------------------------------------------------------------------\u001b[0m",
      "\u001b[0;31mNameError\u001b[0m                                 Traceback (most recent call last)",
      "\u001b[0;32m<ipython-input-1-18a5a7feb2a8>\u001b[0m in \u001b[0;36m<module>\u001b[0;34m\u001b[0m\n\u001b[1;32m      4\u001b[0m \u001b[0mkey\u001b[0m \u001b[0;34m=\u001b[0m \u001b[0;34m\"Breast_fold3_420\"\u001b[0m\u001b[0;34m\u001b[0m\u001b[0;34m\u001b[0m\u001b[0m\n\u001b[1;32m      5\u001b[0m \u001b[0mfig\u001b[0m\u001b[0;34m,\u001b[0m \u001b[0max\u001b[0m \u001b[0;34m=\u001b[0m \u001b[0mplt\u001b[0m\u001b[0;34m.\u001b[0m\u001b[0msubplots\u001b[0m\u001b[0;34m(\u001b[0m\u001b[0;36m1\u001b[0m\u001b[0;34m,\u001b[0m \u001b[0;36m2\u001b[0m\u001b[0;34m,\u001b[0m \u001b[0mfigsize\u001b[0m\u001b[0;34m=\u001b[0m\u001b[0;34m(\u001b[0m\u001b[0;36m40\u001b[0m\u001b[0;34m,\u001b[0m \u001b[0;36m40\u001b[0m\u001b[0;34m)\u001b[0m\u001b[0;34m)\u001b[0m\u001b[0;34m\u001b[0m\u001b[0;34m\u001b[0m\u001b[0m\n\u001b[0;32m----> 6\u001b[0;31m \u001b[0max\u001b[0m\u001b[0;34m[\u001b[0m\u001b[0;36m0\u001b[0m\u001b[0;34m]\u001b[0m\u001b[0;34m.\u001b[0m\u001b[0mimshow\u001b[0m\u001b[0;34m(\u001b[0m\u001b[0minferer\u001b[0m\u001b[0;34m.\u001b[0m\u001b[0msoft_insts\u001b[0m\u001b[0;34m[\u001b[0m\u001b[0mkey\u001b[0m\u001b[0;34m]\u001b[0m\u001b[0;34m[\u001b[0m\u001b[0;34m...\u001b[0m\u001b[0;34m,\u001b[0m \u001b[0;36m1\u001b[0m\u001b[0;34m]\u001b[0m\u001b[0;34m)\u001b[0m\u001b[0;34m\u001b[0m\u001b[0;34m\u001b[0m\u001b[0m\n\u001b[0m\u001b[1;32m      7\u001b[0m \u001b[0max\u001b[0m\u001b[0;34m[\u001b[0m\u001b[0;36m1\u001b[0m\u001b[0;34m]\u001b[0m\u001b[0;34m.\u001b[0m\u001b[0mimshow\u001b[0m\u001b[0;34m(\u001b[0m\u001b[0minferer\u001b[0m\u001b[0;34m.\u001b[0m\u001b[0maux_maps\u001b[0m\u001b[0;34m[\u001b[0m\u001b[0mkey\u001b[0m\u001b[0;34m]\u001b[0m\u001b[0;34m[\u001b[0m\u001b[0;34m...\u001b[0m\u001b[0;34m,\u001b[0m \u001b[0;36m1\u001b[0m\u001b[0;34m]\u001b[0m\u001b[0;34m)\u001b[0m\u001b[0;34m\u001b[0m\u001b[0;34m\u001b[0m\u001b[0m\n",
      "\u001b[0;31mNameError\u001b[0m: name 'inferer' is not defined"
     ]
    }
   ],
   "source": [
    "import matplotlib.pyplot as plt \n",
    "from skimage.color import label2rgb\n",
    "\n",
    "key = \"Breast_fold3_420\"\n",
    "fig, ax = plt.subplots(1, 2, figsize=(40, 40))\n",
    "ax[0].imshow(inferer.soft_insts[key][..., 1])\n",
    "ax[1].imshow(inferer.aux_maps[key][..., 1])"
   ]
  },
  {
   "cell_type": "code",
   "execution_count": 6,
   "metadata": {
    "tags": []
   },
   "outputs": [
    {
     "output_type": "stream",
     "name": "stderr",
     "text": [
      "  0%|          | 0/2722 [00:00<?, ?it/s]/home/local/leos/Dippa/DippaEnv/lib/python3.6/site-packages/torch/nn/functional.py:3385: UserWarning: Default grid_sample and affine_grid behavior has changed to align_corners=False since 1.3.0. Please specify align_corners=True if the old behavior is desired. See the documentation of grid_sample for details.\n",
      "  warnings.warn(\"Default grid_sample and affine_grid behavior has changed \"\n",
      "  1%|          | 15/2722 [00:01<03:27, 13.03it/s]/home/local/leos/Dippa/src/utils/img_utils.py:61: RuntimeWarning: divide by zero encountered in true_divide\n",
      "  normed = np.clip((im / colmax), a_min=a_min, a_max=a_max)\n",
      "/home/local/leos/Dippa/src/utils/img_utils.py:61: RuntimeWarning: invalid value encountered in true_divide\n",
      "  normed = np.clip((im / colmax), a_min=a_min, a_max=a_max)\n",
      " 11%|█         | 300/2722 [00:24<02:41, 14.97it/s]"
     ]
    }
   ],
   "source": [
    "inferer.post_process()"
   ]
  },
  {
   "cell_type": "code",
   "execution_count": 9,
   "metadata": {
    "tags": []
   },
   "outputs": [
    {
     "output_type": "stream",
     "name": "stderr",
     "text": [
      "100%|██████████| 14/14 [01:23<00:00,  5.98s/it]\n"
     ]
    },
    {
     "output_type": "execute_result",
     "data": {
      "text/plain": [
       "                           AJI  AJI_plus     DICE2        PQ        SQ  \\\n",
       "name                                                                     \n",
       "test_1                0.512743  0.556343  0.459071  0.520689  0.750957   \n",
       "test_10               0.598013  0.613370  0.489585  0.595987  0.786702   \n",
       "test_11               0.439110  0.517195  0.442920  0.360053  0.741109   \n",
       "test_12               0.621044  0.649614  0.617224  0.602119  0.784067   \n",
       "test_13               0.559959  0.610119  0.637605  0.547771  0.788418   \n",
       "test_14               0.648174  0.653049  0.608779  0.630788  0.808159   \n",
       "test_2                0.541185  0.550612  0.711098  0.512782  0.754568   \n",
       "test_3                0.579524  0.614073  0.496996  0.532708  0.764914   \n",
       "test_4                0.601436  0.627289  0.487313  0.534310  0.775014   \n",
       "test_5                0.517630  0.563650  0.499917  0.558736  0.771806   \n",
       "test_6                0.585208  0.614236  0.664813  0.598462  0.783766   \n",
       "test_7                0.452853  0.473251  0.633237  0.377645  0.726092   \n",
       "test_8                0.469814  0.520064  0.361298  0.444925  0.748396   \n",
       "test_9                0.520142  0.549783  0.639037  0.530135  0.775015   \n",
       "averages_for_the_set  0.546202  0.579475  0.553492  0.524794  0.768499   \n",
       "\n",
       "                            DQ  inst_recall  inst_precision    splits  \\\n",
       "name                                                                    \n",
       "test_1                0.693367     0.640462        0.755798  0.492316   \n",
       "test_10               0.757576     0.769231        0.746269  0.818255   \n",
       "test_11               0.485830     0.389972        0.644172  0.671613   \n",
       "test_12               0.767943     0.750000        0.786765  0.405896   \n",
       "test_13               0.694772     0.606328        0.813425  0.558741   \n",
       "test_14               0.780526     0.908273        0.684282  1.049968   \n",
       "test_2                0.679570     0.644898        0.718182  0.320731   \n",
       "test_3                0.696429     0.692893        0.700000  0.431366   \n",
       "test_4                0.689420     0.724880        0.657267  0.621046   \n",
       "test_5                0.723934     0.671429        0.785347  0.613881   \n",
       "test_6                0.763573     0.726667        0.804428  0.269697   \n",
       "test_7                0.520107     0.402490        0.734848  0.113300   \n",
       "test_8                0.594505     0.570288        0.620870  0.741715   \n",
       "test_9                0.684032     0.588694        0.816216  0.226678   \n",
       "averages_for_the_set  0.680827     0.649036        0.733419  0.523943   \n",
       "\n",
       "                        merges  \n",
       "name                            \n",
       "test_1                0.704497  \n",
       "test_10               0.434865  \n",
       "test_11               0.823934  \n",
       "test_12               0.352982  \n",
       "test_13               0.886813  \n",
       "test_14               0.314110  \n",
       "test_2                0.460779  \n",
       "test_3                0.627570  \n",
       "test_4                0.589873  \n",
       "test_5                1.008065  \n",
       "test_6                0.272494  \n",
       "test_7                0.243758  \n",
       "test_8                0.741411  \n",
       "test_9                0.524489  \n",
       "averages_for_the_set  0.570403  "
      ],
      "text/html": "<div>\n<style scoped>\n    .dataframe tbody tr th:only-of-type {\n        vertical-align: middle;\n    }\n\n    .dataframe tbody tr th {\n        vertical-align: top;\n    }\n\n    .dataframe thead th {\n        text-align: right;\n    }\n</style>\n<table border=\"1\" class=\"dataframe\">\n  <thead>\n    <tr style=\"text-align: right;\">\n      <th></th>\n      <th>AJI</th>\n      <th>AJI_plus</th>\n      <th>DICE2</th>\n      <th>PQ</th>\n      <th>SQ</th>\n      <th>DQ</th>\n      <th>inst_recall</th>\n      <th>inst_precision</th>\n      <th>splits</th>\n      <th>merges</th>\n    </tr>\n    <tr>\n      <th>name</th>\n      <th></th>\n      <th></th>\n      <th></th>\n      <th></th>\n      <th></th>\n      <th></th>\n      <th></th>\n      <th></th>\n      <th></th>\n      <th></th>\n    </tr>\n  </thead>\n  <tbody>\n    <tr>\n      <th>test_1</th>\n      <td>0.512743</td>\n      <td>0.556343</td>\n      <td>0.459071</td>\n      <td>0.520689</td>\n      <td>0.750957</td>\n      <td>0.693367</td>\n      <td>0.640462</td>\n      <td>0.755798</td>\n      <td>0.492316</td>\n      <td>0.704497</td>\n    </tr>\n    <tr>\n      <th>test_10</th>\n      <td>0.598013</td>\n      <td>0.613370</td>\n      <td>0.489585</td>\n      <td>0.595987</td>\n      <td>0.786702</td>\n      <td>0.757576</td>\n      <td>0.769231</td>\n      <td>0.746269</td>\n      <td>0.818255</td>\n      <td>0.434865</td>\n    </tr>\n    <tr>\n      <th>test_11</th>\n      <td>0.439110</td>\n      <td>0.517195</td>\n      <td>0.442920</td>\n      <td>0.360053</td>\n      <td>0.741109</td>\n      <td>0.485830</td>\n      <td>0.389972</td>\n      <td>0.644172</td>\n      <td>0.671613</td>\n      <td>0.823934</td>\n    </tr>\n    <tr>\n      <th>test_12</th>\n      <td>0.621044</td>\n      <td>0.649614</td>\n      <td>0.617224</td>\n      <td>0.602119</td>\n      <td>0.784067</td>\n      <td>0.767943</td>\n      <td>0.750000</td>\n      <td>0.786765</td>\n      <td>0.405896</td>\n      <td>0.352982</td>\n    </tr>\n    <tr>\n      <th>test_13</th>\n      <td>0.559959</td>\n      <td>0.610119</td>\n      <td>0.637605</td>\n      <td>0.547771</td>\n      <td>0.788418</td>\n      <td>0.694772</td>\n      <td>0.606328</td>\n      <td>0.813425</td>\n      <td>0.558741</td>\n      <td>0.886813</td>\n    </tr>\n    <tr>\n      <th>test_14</th>\n      <td>0.648174</td>\n      <td>0.653049</td>\n      <td>0.608779</td>\n      <td>0.630788</td>\n      <td>0.808159</td>\n      <td>0.780526</td>\n      <td>0.908273</td>\n      <td>0.684282</td>\n      <td>1.049968</td>\n      <td>0.314110</td>\n    </tr>\n    <tr>\n      <th>test_2</th>\n      <td>0.541185</td>\n      <td>0.550612</td>\n      <td>0.711098</td>\n      <td>0.512782</td>\n      <td>0.754568</td>\n      <td>0.679570</td>\n      <td>0.644898</td>\n      <td>0.718182</td>\n      <td>0.320731</td>\n      <td>0.460779</td>\n    </tr>\n    <tr>\n      <th>test_3</th>\n      <td>0.579524</td>\n      <td>0.614073</td>\n      <td>0.496996</td>\n      <td>0.532708</td>\n      <td>0.764914</td>\n      <td>0.696429</td>\n      <td>0.692893</td>\n      <td>0.700000</td>\n      <td>0.431366</td>\n      <td>0.627570</td>\n    </tr>\n    <tr>\n      <th>test_4</th>\n      <td>0.601436</td>\n      <td>0.627289</td>\n      <td>0.487313</td>\n      <td>0.534310</td>\n      <td>0.775014</td>\n      <td>0.689420</td>\n      <td>0.724880</td>\n      <td>0.657267</td>\n      <td>0.621046</td>\n      <td>0.589873</td>\n    </tr>\n    <tr>\n      <th>test_5</th>\n      <td>0.517630</td>\n      <td>0.563650</td>\n      <td>0.499917</td>\n      <td>0.558736</td>\n      <td>0.771806</td>\n      <td>0.723934</td>\n      <td>0.671429</td>\n      <td>0.785347</td>\n      <td>0.613881</td>\n      <td>1.008065</td>\n    </tr>\n    <tr>\n      <th>test_6</th>\n      <td>0.585208</td>\n      <td>0.614236</td>\n      <td>0.664813</td>\n      <td>0.598462</td>\n      <td>0.783766</td>\n      <td>0.763573</td>\n      <td>0.726667</td>\n      <td>0.804428</td>\n      <td>0.269697</td>\n      <td>0.272494</td>\n    </tr>\n    <tr>\n      <th>test_7</th>\n      <td>0.452853</td>\n      <td>0.473251</td>\n      <td>0.633237</td>\n      <td>0.377645</td>\n      <td>0.726092</td>\n      <td>0.520107</td>\n      <td>0.402490</td>\n      <td>0.734848</td>\n      <td>0.113300</td>\n      <td>0.243758</td>\n    </tr>\n    <tr>\n      <th>test_8</th>\n      <td>0.469814</td>\n      <td>0.520064</td>\n      <td>0.361298</td>\n      <td>0.444925</td>\n      <td>0.748396</td>\n      <td>0.594505</td>\n      <td>0.570288</td>\n      <td>0.620870</td>\n      <td>0.741715</td>\n      <td>0.741411</td>\n    </tr>\n    <tr>\n      <th>test_9</th>\n      <td>0.520142</td>\n      <td>0.549783</td>\n      <td>0.639037</td>\n      <td>0.530135</td>\n      <td>0.775015</td>\n      <td>0.684032</td>\n      <td>0.588694</td>\n      <td>0.816216</td>\n      <td>0.226678</td>\n      <td>0.524489</td>\n    </tr>\n    <tr>\n      <th>averages_for_the_set</th>\n      <td>0.546202</td>\n      <td>0.579475</td>\n      <td>0.553492</td>\n      <td>0.524794</td>\n      <td>0.768499</td>\n      <td>0.680827</td>\n      <td>0.649036</td>\n      <td>0.733419</td>\n      <td>0.523943</td>\n      <td>0.570403</td>\n    </tr>\n  </tbody>\n</table>\n</div>"
     },
     "metadata": {},
     "execution_count": 9
    }
   ],
   "source": [
    "pattern_list = None\n",
    "binary_scores = inferer.benchmark_insts(pattern_list=pattern_list, file_prefix=\"hover_residual_preact\")\n",
    "binary_scores"
   ]
  },
  {
   "cell_type": "code",
   "execution_count": 10,
   "metadata": {},
   "outputs": [
    {
     "output_type": "stream",
     "name": "stderr",
     "text": [
      "100%|██████████| 14/14 [00:05<00:00,  2.38it/s]\n",
      "100%|██████████| 14/14 [00:14<00:00,  1.01s/it]\n",
      "100%|██████████| 14/14 [00:29<00:00,  2.09s/it]\n",
      "100%|██████████| 14/14 [00:24<00:00,  1.75s/it]\n"
     ]
    },
    {
     "output_type": "execute_result",
     "data": {
      "text/plain": [
       "                                   AJI  AJI_plus     DICE2        PQ  \\\n",
       "name                                                                   \n",
       "miscellanous_avg_for_the_set  0.091726  0.094289  0.368578  0.089707   \n",
       "inflammatory_avg_for_the_set  0.418000  0.421327  0.827366  0.473231   \n",
       "epithelial_avg_for_the_set    0.524052  0.557749  0.447956  0.480042   \n",
       "spindle_avg_for_the_set       0.375166  0.383633  0.633309  0.377032   \n",
       "\n",
       "                                    SQ        DQ  inst_recall  inst_precision  \\\n",
       "name                                                                            \n",
       "miscellanous_avg_for_the_set  0.429534  0.118219     0.077962        0.340344   \n",
       "inflammatory_avg_for_the_set  0.832852  0.568521     0.596082        0.658277   \n",
       "epithelial_avg_for_the_set    0.760472  0.628196     0.645714        0.624356   \n",
       "spindle_avg_for_the_set       0.748907  0.503318     0.514044        0.531118   \n",
       "\n",
       "                                splits    merges  \n",
       "name                                              \n",
       "miscellanous_avg_for_the_set  0.011676  0.078048  \n",
       "inflammatory_avg_for_the_set  0.084980  0.089678  \n",
       "epithelial_avg_for_the_set    0.524369  0.424744  \n",
       "spindle_avg_for_the_set       0.239344  0.315149  "
      ],
      "text/html": "<div>\n<style scoped>\n    .dataframe tbody tr th:only-of-type {\n        vertical-align: middle;\n    }\n\n    .dataframe tbody tr th {\n        vertical-align: top;\n    }\n\n    .dataframe thead th {\n        text-align: right;\n    }\n</style>\n<table border=\"1\" class=\"dataframe\">\n  <thead>\n    <tr style=\"text-align: right;\">\n      <th></th>\n      <th>AJI</th>\n      <th>AJI_plus</th>\n      <th>DICE2</th>\n      <th>PQ</th>\n      <th>SQ</th>\n      <th>DQ</th>\n      <th>inst_recall</th>\n      <th>inst_precision</th>\n      <th>splits</th>\n      <th>merges</th>\n    </tr>\n    <tr>\n      <th>name</th>\n      <th></th>\n      <th></th>\n      <th></th>\n      <th></th>\n      <th></th>\n      <th></th>\n      <th></th>\n      <th></th>\n      <th></th>\n      <th></th>\n    </tr>\n  </thead>\n  <tbody>\n    <tr>\n      <th>miscellanous_avg_for_the_set</th>\n      <td>0.091726</td>\n      <td>0.094289</td>\n      <td>0.368578</td>\n      <td>0.089707</td>\n      <td>0.429534</td>\n      <td>0.118219</td>\n      <td>0.077962</td>\n      <td>0.340344</td>\n      <td>0.011676</td>\n      <td>0.078048</td>\n    </tr>\n    <tr>\n      <th>inflammatory_avg_for_the_set</th>\n      <td>0.418000</td>\n      <td>0.421327</td>\n      <td>0.827366</td>\n      <td>0.473231</td>\n      <td>0.832852</td>\n      <td>0.568521</td>\n      <td>0.596082</td>\n      <td>0.658277</td>\n      <td>0.084980</td>\n      <td>0.089678</td>\n    </tr>\n    <tr>\n      <th>epithelial_avg_for_the_set</th>\n      <td>0.524052</td>\n      <td>0.557749</td>\n      <td>0.447956</td>\n      <td>0.480042</td>\n      <td>0.760472</td>\n      <td>0.628196</td>\n      <td>0.645714</td>\n      <td>0.624356</td>\n      <td>0.524369</td>\n      <td>0.424744</td>\n    </tr>\n    <tr>\n      <th>spindle_avg_for_the_set</th>\n      <td>0.375166</td>\n      <td>0.383633</td>\n      <td>0.633309</td>\n      <td>0.377032</td>\n      <td>0.748907</td>\n      <td>0.503318</td>\n      <td>0.514044</td>\n      <td>0.531118</td>\n      <td>0.239344</td>\n      <td>0.315149</td>\n    </tr>\n  </tbody>\n</table>\n</div>"
     },
     "metadata": {},
     "execution_count": 10
    }
   ],
   "source": [
    "pattern_list = None\n",
    "type_scores = inferer.benchmark_types(pattern_list=pattern_list, file_prefix=\"hover_residual_preact\")\n",
    "type_scores = type_scores[type_scores.index.str.contains(\"avg\")]\n",
    "type_scores"
   ]
  }
 ],
 "metadata": {
  "kernelspec": {
   "name": "python369jvsc74a57bd03ea01dde592f11f139bb8a18f7472b919436c8f8399691d376fd4b0010891aeb",
   "display_name": "Python 3.6.9 64-bit ('DippaEnv')"
  },
  "language_info": {
   "codemirror_mode": {
    "name": "ipython",
    "version": 3
   },
   "file_extension": ".py",
   "mimetype": "text/x-python",
   "name": "python",
   "nbconvert_exporter": "python",
   "pygments_lexer": "ipython3",
   "version": "3.6.9-final"
  }
 },
 "nbformat": 4,
 "nbformat_minor": 4
}