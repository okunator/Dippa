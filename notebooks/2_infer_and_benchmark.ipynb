{
 "cells": [
  {
   "cell_type": "code",
   "execution_count": 1,
   "metadata": {},
   "outputs": [],
   "source": [
    "from src.dl.inference.inferer import Inferer\n",
    "import src.dl.lightning as lightning\n",
    "from src.config import CONFIG"
   ]
  },
  {
   "cell_type": "code",
   "execution_count": 2,
   "metadata": {},
   "outputs": [],
   "source": [
    "lightning_model = lightning.SegModel.from_experiment(name=\"baseline_pannuke\", version=\"dense_hover_depth_test_4\")\n",
    "\n",
    "inferer = Inferer(\n",
    "    lightning_model,\n",
    "    dataset=\"pannuke\",\n",
    "    patch_size=(256, 256),\n",
    "    stride_size=80,\n",
    "    fn_pattern=\"*\",\n",
    "    data_fold=\"test\",\n",
    "    model_weights=\"last\",\n",
    "    apply_weights=False,\n",
    "    post_proc_method=\"hover\"\n",
    ")"
   ]
  },
  {
   "cell_type": "code",
   "execution_count": 2,
   "metadata": {
    "scrolled": true,
    "tags": []
   },
   "outputs": [],
   "source": [
    "inferer.run_inference()"
   ]
  },
  {
   "cell_type": "code",
   "execution_count": 1,
   "metadata": {},
   "outputs": [],
   "source": [
    "# import matplotlib.pyplot as plt \n",
    "# from skimage.color import label2rgb\n",
    "\n",
    "# key = \"Breast_fold3_420\"\n",
    "# fig, ax = plt.subplots(1, 2, figsize=(40, 40))\n",
    "# # ax[0].imshow(label2rgb(inferer.inst_maps[key], bg_label=0))\n",
    "# ax[1].imshow(inferer.aux_maps[key][..., 0])"
   ]
  },
  {
   "cell_type": "code",
   "execution_count": 7,
   "metadata": {
    "tags": []
   },
   "outputs": [
    {
     "output_type": "stream",
     "name": "stderr",
     "text": [
      "100%|██████████| 14/14 [01:49<00:00,  7.83s/it]\n"
     ]
    }
   ],
   "source": [
    "inferer.post_process()"
   ]
  },
  {
   "cell_type": "code",
   "execution_count": 10,
   "metadata": {
    "tags": []
   },
   "outputs": [
    {
     "output_type": "stream",
     "name": "stderr",
     "text": [
      "100%|██████████| 14/14 [01:28<00:00,  6.33s/it]\n"
     ]
    },
    {
     "output_type": "execute_result",
     "data": {
      "text/plain": [
       "                           AJI  AJI_plus     DICE2        PQ        SQ  \\\n",
       "name                                                                     \n",
       "test_1                0.466261  0.530545  0.440192  0.459939  0.714734   \n",
       "test_10               0.479532  0.517102  0.456290  0.466266  0.717170   \n",
       "test_11               0.307506  0.449820  0.381087  0.311920  0.705104   \n",
       "test_12               0.598967  0.629508  0.574408  0.532811  0.729066   \n",
       "test_13               0.519900  0.575264  0.598911  0.494015  0.757511   \n",
       "test_14               0.518742  0.545651  0.570007  0.499673  0.752414   \n",
       "test_2                0.453516  0.469258  0.646399  0.382577  0.719610   \n",
       "test_3                0.516372  0.593591  0.485472  0.481299  0.763674   \n",
       "test_4                0.530906  0.596674  0.487227  0.466662  0.766134   \n",
       "test_5                0.462997  0.530667  0.471516  0.480846  0.715061   \n",
       "test_6                0.550979  0.584729  0.645807  0.494714  0.723703   \n",
       "test_7                0.438825  0.479028  0.602047  0.369886  0.721816   \n",
       "test_8                0.309958  0.426701  0.306173  0.360734  0.711618   \n",
       "test_9                0.505290  0.542654  0.604486  0.483374  0.737455   \n",
       "averages_for_the_set  0.475697  0.533656  0.519287  0.448908  0.731076   \n",
       "\n",
       "                            DQ  inst_recall  inst_precision    splits  \\\n",
       "name                                                                    \n",
       "test_1                0.643510     0.610405        0.680412  0.908794   \n",
       "test_10               0.650147     0.652071        0.648235  1.370309   \n",
       "test_11               0.442375     0.352832        0.592824  1.004397   \n",
       "test_12               0.730813     0.745327        0.716854  0.703523   \n",
       "test_13               0.652156     0.584253        0.737918  1.032597   \n",
       "test_14               0.664093     0.773381        0.581867  1.649897   \n",
       "test_2                0.531646     0.685714        0.434109  0.960239   \n",
       "test_3                0.630241     0.629442        0.631043  0.699825   \n",
       "test_4                0.609113     0.607656        0.610577  0.882027   \n",
       "test_5                0.672454     0.638462        0.710269  1.163912   \n",
       "test_6                0.683587     0.673333        0.694158  0.536140   \n",
       "test_7                0.512438     0.427386        0.639752  0.212523   \n",
       "test_8                0.506920     0.468051        0.552830  1.017660   \n",
       "test_9                0.655462     0.608187        0.710706  0.516934   \n",
       "averages_for_the_set  0.613211     0.604036        0.638682  0.904198   \n",
       "\n",
       "                        merges  \n",
       "name                            \n",
       "test_1                0.576704  \n",
       "test_10               0.390662  \n",
       "test_11               0.744484  \n",
       "test_12               0.286949  \n",
       "test_13               0.690005  \n",
       "test_14               0.299604  \n",
       "test_2                0.314482  \n",
       "test_3                0.526979  \n",
       "test_4                0.560657  \n",
       "test_5                0.852598  \n",
       "test_6                0.211378  \n",
       "test_7                0.177884  \n",
       "test_8                0.739523  \n",
       "test_9                0.360640  \n",
       "averages_for_the_set  0.480896  "
      ],
      "text/html": "<div>\n<style scoped>\n    .dataframe tbody tr th:only-of-type {\n        vertical-align: middle;\n    }\n\n    .dataframe tbody tr th {\n        vertical-align: top;\n    }\n\n    .dataframe thead th {\n        text-align: right;\n    }\n</style>\n<table border=\"1\" class=\"dataframe\">\n  <thead>\n    <tr style=\"text-align: right;\">\n      <th></th>\n      <th>AJI</th>\n      <th>AJI_plus</th>\n      <th>DICE2</th>\n      <th>PQ</th>\n      <th>SQ</th>\n      <th>DQ</th>\n      <th>inst_recall</th>\n      <th>inst_precision</th>\n      <th>splits</th>\n      <th>merges</th>\n    </tr>\n    <tr>\n      <th>name</th>\n      <th></th>\n      <th></th>\n      <th></th>\n      <th></th>\n      <th></th>\n      <th></th>\n      <th></th>\n      <th></th>\n      <th></th>\n      <th></th>\n    </tr>\n  </thead>\n  <tbody>\n    <tr>\n      <th>test_1</th>\n      <td>0.466261</td>\n      <td>0.530545</td>\n      <td>0.440192</td>\n      <td>0.459939</td>\n      <td>0.714734</td>\n      <td>0.643510</td>\n      <td>0.610405</td>\n      <td>0.680412</td>\n      <td>0.908794</td>\n      <td>0.576704</td>\n    </tr>\n    <tr>\n      <th>test_10</th>\n      <td>0.479532</td>\n      <td>0.517102</td>\n      <td>0.456290</td>\n      <td>0.466266</td>\n      <td>0.717170</td>\n      <td>0.650147</td>\n      <td>0.652071</td>\n      <td>0.648235</td>\n      <td>1.370309</td>\n      <td>0.390662</td>\n    </tr>\n    <tr>\n      <th>test_11</th>\n      <td>0.307506</td>\n      <td>0.449820</td>\n      <td>0.381087</td>\n      <td>0.311920</td>\n      <td>0.705104</td>\n      <td>0.442375</td>\n      <td>0.352832</td>\n      <td>0.592824</td>\n      <td>1.004397</td>\n      <td>0.744484</td>\n    </tr>\n    <tr>\n      <th>test_12</th>\n      <td>0.598967</td>\n      <td>0.629508</td>\n      <td>0.574408</td>\n      <td>0.532811</td>\n      <td>0.729066</td>\n      <td>0.730813</td>\n      <td>0.745327</td>\n      <td>0.716854</td>\n      <td>0.703523</td>\n      <td>0.286949</td>\n    </tr>\n    <tr>\n      <th>test_13</th>\n      <td>0.519900</td>\n      <td>0.575264</td>\n      <td>0.598911</td>\n      <td>0.494015</td>\n      <td>0.757511</td>\n      <td>0.652156</td>\n      <td>0.584253</td>\n      <td>0.737918</td>\n      <td>1.032597</td>\n      <td>0.690005</td>\n    </tr>\n    <tr>\n      <th>test_14</th>\n      <td>0.518742</td>\n      <td>0.545651</td>\n      <td>0.570007</td>\n      <td>0.499673</td>\n      <td>0.752414</td>\n      <td>0.664093</td>\n      <td>0.773381</td>\n      <td>0.581867</td>\n      <td>1.649897</td>\n      <td>0.299604</td>\n    </tr>\n    <tr>\n      <th>test_2</th>\n      <td>0.453516</td>\n      <td>0.469258</td>\n      <td>0.646399</td>\n      <td>0.382577</td>\n      <td>0.719610</td>\n      <td>0.531646</td>\n      <td>0.685714</td>\n      <td>0.434109</td>\n      <td>0.960239</td>\n      <td>0.314482</td>\n    </tr>\n    <tr>\n      <th>test_3</th>\n      <td>0.516372</td>\n      <td>0.593591</td>\n      <td>0.485472</td>\n      <td>0.481299</td>\n      <td>0.763674</td>\n      <td>0.630241</td>\n      <td>0.629442</td>\n      <td>0.631043</td>\n      <td>0.699825</td>\n      <td>0.526979</td>\n    </tr>\n    <tr>\n      <th>test_4</th>\n      <td>0.530906</td>\n      <td>0.596674</td>\n      <td>0.487227</td>\n      <td>0.466662</td>\n      <td>0.766134</td>\n      <td>0.609113</td>\n      <td>0.607656</td>\n      <td>0.610577</td>\n      <td>0.882027</td>\n      <td>0.560657</td>\n    </tr>\n    <tr>\n      <th>test_5</th>\n      <td>0.462997</td>\n      <td>0.530667</td>\n      <td>0.471516</td>\n      <td>0.480846</td>\n      <td>0.715061</td>\n      <td>0.672454</td>\n      <td>0.638462</td>\n      <td>0.710269</td>\n      <td>1.163912</td>\n      <td>0.852598</td>\n    </tr>\n    <tr>\n      <th>test_6</th>\n      <td>0.550979</td>\n      <td>0.584729</td>\n      <td>0.645807</td>\n      <td>0.494714</td>\n      <td>0.723703</td>\n      <td>0.683587</td>\n      <td>0.673333</td>\n      <td>0.694158</td>\n      <td>0.536140</td>\n      <td>0.211378</td>\n    </tr>\n    <tr>\n      <th>test_7</th>\n      <td>0.438825</td>\n      <td>0.479028</td>\n      <td>0.602047</td>\n      <td>0.369886</td>\n      <td>0.721816</td>\n      <td>0.512438</td>\n      <td>0.427386</td>\n      <td>0.639752</td>\n      <td>0.212523</td>\n      <td>0.177884</td>\n    </tr>\n    <tr>\n      <th>test_8</th>\n      <td>0.309958</td>\n      <td>0.426701</td>\n      <td>0.306173</td>\n      <td>0.360734</td>\n      <td>0.711618</td>\n      <td>0.506920</td>\n      <td>0.468051</td>\n      <td>0.552830</td>\n      <td>1.017660</td>\n      <td>0.739523</td>\n    </tr>\n    <tr>\n      <th>test_9</th>\n      <td>0.505290</td>\n      <td>0.542654</td>\n      <td>0.604486</td>\n      <td>0.483374</td>\n      <td>0.737455</td>\n      <td>0.655462</td>\n      <td>0.608187</td>\n      <td>0.710706</td>\n      <td>0.516934</td>\n      <td>0.360640</td>\n    </tr>\n    <tr>\n      <th>averages_for_the_set</th>\n      <td>0.475697</td>\n      <td>0.533656</td>\n      <td>0.519287</td>\n      <td>0.448908</td>\n      <td>0.731076</td>\n      <td>0.613211</td>\n      <td>0.604036</td>\n      <td>0.638682</td>\n      <td>0.904198</td>\n      <td>0.480896</td>\n    </tr>\n  </tbody>\n</table>\n</div>"
     },
     "metadata": {},
     "execution_count": 10
    }
   ],
   "source": [
    "pattern_list = None\n",
    "binary_scores = inferer.benchmark_insts(pattern_list=pattern_list, file_prefix=\"testi\")\n",
    "binary_scores"
   ]
  },
  {
   "cell_type": "code",
   "execution_count": 14,
   "metadata": {},
   "outputs": [
    {
     "output_type": "stream",
     "name": "stderr",
     "text": [
      "100%|██████████| 2722/2722 [00:34<00:00, 79.50it/s]\n",
      "100%|██████████| 2722/2722 [00:16<00:00, 166.65it/s]\n",
      "100%|██████████| 2722/2722 [00:22<00:00, 120.87it/s]\n",
      "100%|██████████| 2722/2722 [00:01<00:00, 2421.18it/s]\n",
      "100%|██████████| 2722/2722 [00:10<00:00, 260.56it/s]\n"
     ]
    },
    {
     "output_type": "execute_result",
     "data": {
      "text/plain": [
       "                                   AJI  AJI_plus     DICE2        PQ  \\\n",
       "name                                                                   \n",
       "neoplastic_avg_for_the_set    0.550523  0.564279  0.713839  0.528140   \n",
       "inflammatory_avg_for_the_set  0.311180  0.314832  0.561450  0.350691   \n",
       "connective_avg_for_the_set    0.331191  0.333350  0.611216  0.340060   \n",
       "dead_avg_for_the_set          0.000000  0.000000  0.000000  0.000000   \n",
       "epithelial_avg_for_the_set    0.513172  0.521623  0.664420  0.507428   \n",
       "\n",
       "                                    SQ        DQ  inst_recall  inst_precision  \\\n",
       "name                                                                            \n",
       "neoplastic_avg_for_the_set    0.781681  0.629511     0.653826        0.645490   \n",
       "inflammatory_avg_for_the_set  0.537572  0.416699     0.427901        0.467037   \n",
       "connective_avg_for_the_set    0.595625  0.425538     0.440532        0.474239   \n",
       "dead_avg_for_the_set          0.000000  0.000000     0.000000        0.000000   \n",
       "epithelial_avg_for_the_set    0.739852  0.623251     0.636081        0.657981   \n",
       "\n",
       "                                    splits    merges  \n",
       "name                                                  \n",
       "neoplastic_avg_for_the_set    3.715350e-01  0.359930  \n",
       "inflammatory_avg_for_the_set  1.080225e-01  0.120630  \n",
       "connective_avg_for_the_set    1.332037e-01  0.200143  \n",
       "dead_avg_for_the_set          3.097403e-17  0.219942  \n",
       "epithelial_avg_for_the_set    3.011833e-01  0.342391  "
      ],
      "text/html": "<div>\n<style scoped>\n    .dataframe tbody tr th:only-of-type {\n        vertical-align: middle;\n    }\n\n    .dataframe tbody tr th {\n        vertical-align: top;\n    }\n\n    .dataframe thead th {\n        text-align: right;\n    }\n</style>\n<table border=\"1\" class=\"dataframe\">\n  <thead>\n    <tr style=\"text-align: right;\">\n      <th></th>\n      <th>AJI</th>\n      <th>AJI_plus</th>\n      <th>DICE2</th>\n      <th>PQ</th>\n      <th>SQ</th>\n      <th>DQ</th>\n      <th>inst_recall</th>\n      <th>inst_precision</th>\n      <th>splits</th>\n      <th>merges</th>\n    </tr>\n    <tr>\n      <th>name</th>\n      <th></th>\n      <th></th>\n      <th></th>\n      <th></th>\n      <th></th>\n      <th></th>\n      <th></th>\n      <th></th>\n      <th></th>\n      <th></th>\n    </tr>\n  </thead>\n  <tbody>\n    <tr>\n      <th>neoplastic_avg_for_the_set</th>\n      <td>0.550523</td>\n      <td>0.564279</td>\n      <td>0.713839</td>\n      <td>0.528140</td>\n      <td>0.781681</td>\n      <td>0.629511</td>\n      <td>0.653826</td>\n      <td>0.645490</td>\n      <td>3.715350e-01</td>\n      <td>0.359930</td>\n    </tr>\n    <tr>\n      <th>inflammatory_avg_for_the_set</th>\n      <td>0.311180</td>\n      <td>0.314832</td>\n      <td>0.561450</td>\n      <td>0.350691</td>\n      <td>0.537572</td>\n      <td>0.416699</td>\n      <td>0.427901</td>\n      <td>0.467037</td>\n      <td>1.080225e-01</td>\n      <td>0.120630</td>\n    </tr>\n    <tr>\n      <th>connective_avg_for_the_set</th>\n      <td>0.331191</td>\n      <td>0.333350</td>\n      <td>0.611216</td>\n      <td>0.340060</td>\n      <td>0.595625</td>\n      <td>0.425538</td>\n      <td>0.440532</td>\n      <td>0.474239</td>\n      <td>1.332037e-01</td>\n      <td>0.200143</td>\n    </tr>\n    <tr>\n      <th>dead_avg_for_the_set</th>\n      <td>0.000000</td>\n      <td>0.000000</td>\n      <td>0.000000</td>\n      <td>0.000000</td>\n      <td>0.000000</td>\n      <td>0.000000</td>\n      <td>0.000000</td>\n      <td>0.000000</td>\n      <td>3.097403e-17</td>\n      <td>0.219942</td>\n    </tr>\n    <tr>\n      <th>epithelial_avg_for_the_set</th>\n      <td>0.513172</td>\n      <td>0.521623</td>\n      <td>0.664420</td>\n      <td>0.507428</td>\n      <td>0.739852</td>\n      <td>0.623251</td>\n      <td>0.636081</td>\n      <td>0.657981</td>\n      <td>3.011833e-01</td>\n      <td>0.342391</td>\n    </tr>\n  </tbody>\n</table>\n</div>"
     },
     "metadata": {},
     "execution_count": 14
    }
   ],
   "source": [
    "pattern_list = None\n",
    "type_scores = inferer.benchmark_types(pattern_list=pattern_list, file_prefix=\"testi\")\n",
    "type_scores = type_scores[type_scores.index.str.contains(\"avg\")]\n",
    "type_scores"
   ]
  }
 ],
 "metadata": {
  "kernelspec": {
   "name": "python3",
   "display_name": "Python 3.6.9 64-bit ('DippaEnv')",
   "metadata": {
    "interpreter": {
     "hash": "3ea01dde592f11f139bb8a18f7472b919436c8f8399691d376fd4b0010891aeb"
    }
   }
  },
  "language_info": {
   "codemirror_mode": {
    "name": "ipython",
    "version": 3
   },
   "file_extension": ".py",
   "mimetype": "text/x-python",
   "name": "python",
   "nbconvert_exporter": "python",
   "pygments_lexer": "ipython3",
   "version": "3.6.9-final"
  }
 },
 "nbformat": 4,
 "nbformat_minor": 4
}