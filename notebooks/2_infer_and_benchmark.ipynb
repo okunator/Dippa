{
 "cells": [
  {
   "cell_type": "code",
   "execution_count": 1,
   "metadata": {},
   "outputs": [],
   "source": [
    "from src.dl.inference.inferer import Inferer\n",
    "import src.dl.lightning as lightning\n",
    "from src.config import CONFIG"
   ]
  },
  {
   "cell_type": "code",
   "execution_count": 2,
   "metadata": {},
   "outputs": [],
   "source": [
    "lightning_model = lightning.SegModel.from_conf(CONFIG)\n",
    "\n",
    "inferer = Inferer(\n",
    "    lightning_model,\n",
    "    dataset=\"consep\",\n",
    "    stride_size=80,\n",
    "    fn_pattern=\"*\",\n",
    "    model_weights=\"last\",\n",
    "    apply_weights=False,\n",
    "    # post_proc_method=\"hover\"\n",
    ")"
   ]
  },
  {
   "cell_type": "code",
   "execution_count": 3,
   "metadata": {
    "scrolled": true
   },
   "outputs": [
    {
     "output_type": "stream",
     "name": "stderr",
     "text": [
      "Inference: /home/local/leos/Dippa/datasets/data/consep/test/images: 100%|██████████| 2/2 [01:04<00:00, 32.06s/batch, patches=4046/4046]\n"
     ]
    }
   ],
   "source": [
    "inferer.run_inference()"
   ]
  },
  {
   "cell_type": "code",
   "execution_count": 4,
   "metadata": {},
   "outputs": [
    {
     "output_type": "stream",
     "name": "stderr",
     "text": [
      "100%|██████████| 14/14 [00:56<00:00,  4.06s/it]\n"
     ]
    }
   ],
   "source": [
    "inferer.post_process()"
   ]
  },
  {
   "cell_type": "code",
   "execution_count": 5,
   "metadata": {},
   "outputs": [],
   "source": [
    "# import matplotlib.pyplot as plt\n",
    "# from skimage.color import label2rgb\n",
    "\n",
    "# fig, ax = plt.subplots(1, 1, figsize=(20, 20))\n",
    "# ax.imshow(label2rgb(inferer.inst_maps[\"test_11\"], bg_label=0))"
   ]
  },
  {
   "cell_type": "code",
   "execution_count": 6,
   "metadata": {},
   "outputs": [
    {
     "output_type": "stream",
     "name": "stderr",
     "text": [
      "100%|██████████| 14/14 [01:40<00:00,  7.15s/it]\n"
     ]
    },
    {
     "output_type": "execute_result",
     "data": {
      "text/plain": [
       "                           AJI  AJI_plus     DICE2        PQ        SQ  \\\n",
       "name                                                                     \n",
       "test_1                0.472926  0.496966  0.407889  0.396094  0.726172   \n",
       "test_10               0.545739  0.555669  0.453285  0.504908  0.758918   \n",
       "test_11               0.415675  0.459884  0.401134  0.310895  0.701837   \n",
       "test_12               0.559337  0.573326  0.538440  0.496633  0.751956   \n",
       "test_13               0.547408  0.578215  0.599701  0.501528  0.757609   \n",
       "test_14               0.562553  0.564529  0.564365  0.499689  0.769707   \n",
       "test_2                0.440814  0.444751  0.536686  0.317227  0.701292   \n",
       "test_3                0.413800  0.421724  0.359834  0.302273  0.726258   \n",
       "test_4                0.436491  0.444452  0.374085  0.321366  0.722144   \n",
       "test_5                0.481703  0.495520  0.450099  0.446777  0.744628   \n",
       "test_6                0.473212  0.484881  0.495196  0.387670  0.753161   \n",
       "test_7                0.465603  0.480170  0.585570  0.378185  0.693874   \n",
       "test_8                0.406445  0.423732  0.317913  0.329315  0.709294   \n",
       "test_9                0.501647  0.516959  0.562548  0.454059  0.764847   \n",
       "averages_for_the_set  0.480240  0.495770  0.474767  0.403330  0.734407   \n",
       "\n",
       "                            DQ  inst_recall  inst_precision    splits  \\\n",
       "name                                                                    \n",
       "test_1                0.545455     0.600000        0.500000  0.645824   \n",
       "test_10               0.665300     0.768047        0.586799  0.883562   \n",
       "test_11               0.442974     0.403900        0.490417  0.770737   \n",
       "test_12               0.660455     0.745327        0.592937  0.516041   \n",
       "test_13               0.661988     0.624724        0.703980  0.689242   \n",
       "test_14               0.649194     0.868705        0.518240  1.227664   \n",
       "test_2                0.452347     0.648980        0.347162  0.545372   \n",
       "test_3                0.416206     0.573604        0.326590  0.668719   \n",
       "test_4                0.445017     0.619617        0.347185  0.837691   \n",
       "test_5                0.600000     0.652747        0.555140  0.881309   \n",
       "test_6                0.514725     0.670000        0.417879  0.470736   \n",
       "test_7                0.545035     0.489627        0.614583  0.148980   \n",
       "test_8                0.464286     0.539936        0.407229  0.921936   \n",
       "test_9                0.593660     0.602339        0.585227  0.300841   \n",
       "averages_for_the_set  0.546903     0.629111        0.499526  0.679190   \n",
       "\n",
       "                        merges  \n",
       "name                            \n",
       "test_1                0.670128  \n",
       "test_10               0.445246  \n",
       "test_11               0.823053  \n",
       "test_12               0.334265  \n",
       "test_13               0.873267  \n",
       "test_14               0.301579  \n",
       "test_2                0.378709  \n",
       "test_3                0.585533  \n",
       "test_4                0.565123  \n",
       "test_5                0.892284  \n",
       "test_6                0.216123  \n",
       "test_7                0.205874  \n",
       "test_8                0.717341  \n",
       "test_9                0.453779  \n",
       "averages_for_the_set  0.533022  "
      ],
      "text/html": "<div>\n<style scoped>\n    .dataframe tbody tr th:only-of-type {\n        vertical-align: middle;\n    }\n\n    .dataframe tbody tr th {\n        vertical-align: top;\n    }\n\n    .dataframe thead th {\n        text-align: right;\n    }\n</style>\n<table border=\"1\" class=\"dataframe\">\n  <thead>\n    <tr style=\"text-align: right;\">\n      <th></th>\n      <th>AJI</th>\n      <th>AJI_plus</th>\n      <th>DICE2</th>\n      <th>PQ</th>\n      <th>SQ</th>\n      <th>DQ</th>\n      <th>inst_recall</th>\n      <th>inst_precision</th>\n      <th>splits</th>\n      <th>merges</th>\n    </tr>\n    <tr>\n      <th>name</th>\n      <th></th>\n      <th></th>\n      <th></th>\n      <th></th>\n      <th></th>\n      <th></th>\n      <th></th>\n      <th></th>\n      <th></th>\n      <th></th>\n    </tr>\n  </thead>\n  <tbody>\n    <tr>\n      <th>test_1</th>\n      <td>0.472926</td>\n      <td>0.496966</td>\n      <td>0.407889</td>\n      <td>0.396094</td>\n      <td>0.726172</td>\n      <td>0.545455</td>\n      <td>0.600000</td>\n      <td>0.500000</td>\n      <td>0.645824</td>\n      <td>0.670128</td>\n    </tr>\n    <tr>\n      <th>test_10</th>\n      <td>0.545739</td>\n      <td>0.555669</td>\n      <td>0.453285</td>\n      <td>0.504908</td>\n      <td>0.758918</td>\n      <td>0.665300</td>\n      <td>0.768047</td>\n      <td>0.586799</td>\n      <td>0.883562</td>\n      <td>0.445246</td>\n    </tr>\n    <tr>\n      <th>test_11</th>\n      <td>0.415675</td>\n      <td>0.459884</td>\n      <td>0.401134</td>\n      <td>0.310895</td>\n      <td>0.701837</td>\n      <td>0.442974</td>\n      <td>0.403900</td>\n      <td>0.490417</td>\n      <td>0.770737</td>\n      <td>0.823053</td>\n    </tr>\n    <tr>\n      <th>test_12</th>\n      <td>0.559337</td>\n      <td>0.573326</td>\n      <td>0.538440</td>\n      <td>0.496633</td>\n      <td>0.751956</td>\n      <td>0.660455</td>\n      <td>0.745327</td>\n      <td>0.592937</td>\n      <td>0.516041</td>\n      <td>0.334265</td>\n    </tr>\n    <tr>\n      <th>test_13</th>\n      <td>0.547408</td>\n      <td>0.578215</td>\n      <td>0.599701</td>\n      <td>0.501528</td>\n      <td>0.757609</td>\n      <td>0.661988</td>\n      <td>0.624724</td>\n      <td>0.703980</td>\n      <td>0.689242</td>\n      <td>0.873267</td>\n    </tr>\n    <tr>\n      <th>test_14</th>\n      <td>0.562553</td>\n      <td>0.564529</td>\n      <td>0.564365</td>\n      <td>0.499689</td>\n      <td>0.769707</td>\n      <td>0.649194</td>\n      <td>0.868705</td>\n      <td>0.518240</td>\n      <td>1.227664</td>\n      <td>0.301579</td>\n    </tr>\n    <tr>\n      <th>test_2</th>\n      <td>0.440814</td>\n      <td>0.444751</td>\n      <td>0.536686</td>\n      <td>0.317227</td>\n      <td>0.701292</td>\n      <td>0.452347</td>\n      <td>0.648980</td>\n      <td>0.347162</td>\n      <td>0.545372</td>\n      <td>0.378709</td>\n    </tr>\n    <tr>\n      <th>test_3</th>\n      <td>0.413800</td>\n      <td>0.421724</td>\n      <td>0.359834</td>\n      <td>0.302273</td>\n      <td>0.726258</td>\n      <td>0.416206</td>\n      <td>0.573604</td>\n      <td>0.326590</td>\n      <td>0.668719</td>\n      <td>0.585533</td>\n    </tr>\n    <tr>\n      <th>test_4</th>\n      <td>0.436491</td>\n      <td>0.444452</td>\n      <td>0.374085</td>\n      <td>0.321366</td>\n      <td>0.722144</td>\n      <td>0.445017</td>\n      <td>0.619617</td>\n      <td>0.347185</td>\n      <td>0.837691</td>\n      <td>0.565123</td>\n    </tr>\n    <tr>\n      <th>test_5</th>\n      <td>0.481703</td>\n      <td>0.495520</td>\n      <td>0.450099</td>\n      <td>0.446777</td>\n      <td>0.744628</td>\n      <td>0.600000</td>\n      <td>0.652747</td>\n      <td>0.555140</td>\n      <td>0.881309</td>\n      <td>0.892284</td>\n    </tr>\n    <tr>\n      <th>test_6</th>\n      <td>0.473212</td>\n      <td>0.484881</td>\n      <td>0.495196</td>\n      <td>0.387670</td>\n      <td>0.753161</td>\n      <td>0.514725</td>\n      <td>0.670000</td>\n      <td>0.417879</td>\n      <td>0.470736</td>\n      <td>0.216123</td>\n    </tr>\n    <tr>\n      <th>test_7</th>\n      <td>0.465603</td>\n      <td>0.480170</td>\n      <td>0.585570</td>\n      <td>0.378185</td>\n      <td>0.693874</td>\n      <td>0.545035</td>\n      <td>0.489627</td>\n      <td>0.614583</td>\n      <td>0.148980</td>\n      <td>0.205874</td>\n    </tr>\n    <tr>\n      <th>test_8</th>\n      <td>0.406445</td>\n      <td>0.423732</td>\n      <td>0.317913</td>\n      <td>0.329315</td>\n      <td>0.709294</td>\n      <td>0.464286</td>\n      <td>0.539936</td>\n      <td>0.407229</td>\n      <td>0.921936</td>\n      <td>0.717341</td>\n    </tr>\n    <tr>\n      <th>test_9</th>\n      <td>0.501647</td>\n      <td>0.516959</td>\n      <td>0.562548</td>\n      <td>0.454059</td>\n      <td>0.764847</td>\n      <td>0.593660</td>\n      <td>0.602339</td>\n      <td>0.585227</td>\n      <td>0.300841</td>\n      <td>0.453779</td>\n    </tr>\n    <tr>\n      <th>averages_for_the_set</th>\n      <td>0.480240</td>\n      <td>0.495770</td>\n      <td>0.474767</td>\n      <td>0.403330</td>\n      <td>0.734407</td>\n      <td>0.546903</td>\n      <td>0.629111</td>\n      <td>0.499526</td>\n      <td>0.679190</td>\n      <td>0.533022</td>\n    </tr>\n  </tbody>\n</table>\n</div>"
     },
     "metadata": {},
     "execution_count": 6
    }
   ],
   "source": [
    "pattern_list = None\n",
    "binary_scores = inferer.benchmark_insts(pattern_list=pattern_list, file_prefix=\"2\")\n",
    "binary_scores"
   ]
  },
  {
   "cell_type": "code",
   "execution_count": 7,
   "metadata": {},
   "outputs": [
    {
     "output_type": "stream",
     "name": "stderr",
     "text": [
      "100%|██████████| 14/14 [00:06<00:00,  2.18it/s]\n",
      " 43%|████▎     | 6/14 [00:01<00:01,  4.39it/s]"
     ]
    }
   ],
   "source": [
    "pattern_list = None\n",
    "type_scores = inferer.benchmark_types(pattern_list=pattern_list, file_prefix=\"1\")\n",
    "type_scores = type_scores[type_scores.index.str.contains(\"avg\")]\n",
    "type_scores"
   ]
  }
 ],
 "metadata": {
  "kernelspec": {
   "name": "python3",
   "display_name": "Python 3.6.9 64-bit ('DippaEnv')",
   "metadata": {
    "interpreter": {
     "hash": "3ea01dde592f11f139bb8a18f7472b919436c8f8399691d376fd4b0010891aeb"
    }
   }
  },
  "language_info": {
   "codemirror_mode": {
    "name": "ipython",
    "version": 3
   },
   "file_extension": ".py",
   "mimetype": "text/x-python",
   "name": "python",
   "nbconvert_exporter": "python",
   "pygments_lexer": "ipython3",
   "version": "3.6.9-final"
  }
 },
 "nbformat": 4,
 "nbformat_minor": 4
}