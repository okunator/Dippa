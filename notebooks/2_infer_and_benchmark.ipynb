{
 "cells": [
  {
   "cell_type": "code",
   "execution_count": 1,
   "metadata": {},
   "outputs": [],
   "source": [
    "from src.dl.inference.inferer import Inferer\n",
    "import src.dl.lightning as lightning\n",
    "from src.config import CONFIG"
   ]
  },
  {
   "cell_type": "code",
   "execution_count": 2,
   "metadata": {},
   "outputs": [],
   "source": [
    "lightning_model = lightning.SegModel.from_experiment(name=\"baseline_pannuke\",version=\"hover\")\n",
    "\n",
    "inferer = Inferer(\n",
    "    lightning_model,\n",
    "    dataset=\"pannuke\",\n",
    "    patch_size=(256, 256),\n",
    "    stride_size=80,\n",
    "    fn_pattern=\"*\",\n",
    "    data_fold=\"test\",\n",
    "    model_weights=\"last\",\n",
    "    apply_weights=False,\n",
    "    post_proc_method=\"cellpose\"\n",
    ")"
   ]
  },
  {
   "cell_type": "code",
   "execution_count": 3,
   "metadata": {
    "scrolled": true
   },
   "outputs": [
    {
     "output_type": "stream",
     "name": "stderr",
     "text": [
      "Inference: /home/local/leos/Dippa/datasets/data/pannuke/test/images: 100%|██████████| 341/341 [00:36<00:00,  9.27batch/s, patches=2722/2722]\n"
     ]
    }
   ],
   "source": [
    "inferer.run_inference()"
   ]
  },
  {
   "cell_type": "code",
   "execution_count": 4,
   "metadata": {},
   "outputs": [],
   "source": [
    "# inferer.soft_insts"
   ]
  },
  {
   "cell_type": "code",
   "execution_count": 5,
   "metadata": {},
   "outputs": [],
   "source": [
    "# import matplotlib.pyplot as plt \n",
    "# plt.imshow(inferer.aux_maps['Breast_fold3_62'][..., 1])"
   ]
  },
  {
   "cell_type": "code",
   "execution_count": 6,
   "metadata": {
    "tags": []
   },
   "outputs": [
    {
     "output_type": "stream",
     "name": "stderr",
     "text": [
      "  0%|          | 0/2722 [00:00<?, ?it/s]/home/local/leos/Dippa/DippaEnv/lib/python3.6/site-packages/torch/nn/functional.py:3385: UserWarning: Default grid_sample and affine_grid behavior has changed to align_corners=False since 1.3.0. Please specify align_corners=True if the old behavior is desired. See the documentation of grid_sample for details.\n",
      "  warnings.warn(\"Default grid_sample and affine_grid behavior has changed \"\n",
      "  1%|          | 15/2722 [00:01<03:36, 12.51it/s]/home/local/leos/Dippa/src/utils/img_utils.py:61: RuntimeWarning: divide by zero encountered in true_divide\n",
      "  normed = np.clip((im / colmax), a_min=a_min, a_max=a_max)\n",
      "/home/local/leos/Dippa/src/utils/img_utils.py:61: RuntimeWarning: invalid value encountered in true_divide\n",
      "  normed = np.clip((im / colmax), a_min=a_min, a_max=a_max)\n",
      "100%|██████████| 2722/2722 [04:05<00:00, 11.09it/s]\n"
     ]
    }
   ],
   "source": [
    "inferer.post_process()"
   ]
  },
  {
   "cell_type": "code",
   "execution_count": 7,
   "metadata": {
    "tags": []
   },
   "outputs": [
    {
     "output_type": "stream",
     "name": "stderr",
     "text": [
      "100%|██████████| 2722/2722 [01:21<00:00, 33.48it/s]\n"
     ]
    },
    {
     "output_type": "execute_result",
     "data": {
      "text/plain": [
       "                              AJI  AJI_plus     DICE2        PQ        SQ  \\\n",
       "name                                                                        \n",
       "Adrenal_gland_fold3_0    0.715410  0.734081  0.812332  0.706516  0.843894   \n",
       "Adrenal_gland_fold3_1    0.702564  0.718936  0.840688  0.682747  0.837916   \n",
       "Adrenal_gland_fold3_10   0.797127  0.797127  0.900026  0.721985  0.878939   \n",
       "Adrenal_gland_fold3_100  0.822071  0.822071  0.968724  0.814185  0.930498   \n",
       "Adrenal_gland_fold3_101  0.794434  0.794434  0.958183  0.808371  0.909418   \n",
       "...                           ...       ...       ...       ...       ...   \n",
       "Uterus_fold3_96          0.637566  0.642674  0.676107  0.616205  0.824920   \n",
       "Uterus_fold3_97          0.758090  0.780909  0.839855  0.741323  0.836977   \n",
       "Uterus_fold3_98          0.710966  0.739831  0.693017  0.641455  0.846720   \n",
       "Uterus_fold3_99          0.825766  0.825766  0.881352  0.753351  0.860972   \n",
       "averages_for_the_set     0.650520  0.668961  0.762681  0.613853  0.813679   \n",
       "\n",
       "                               DQ  inst_recall  inst_precision    splits  \\\n",
       "name                                                                       \n",
       "Adrenal_gland_fold3_0    0.837209     0.782609        0.900000  0.237587   \n",
       "Adrenal_gland_fold3_1    0.814815     0.758621        0.880000  0.198425   \n",
       "Adrenal_gland_fold3_10   0.821429     0.766667        0.884615  0.217017   \n",
       "Adrenal_gland_fold3_100  0.875000     0.875000        0.875000  0.118560   \n",
       "Adrenal_gland_fold3_101  0.888889     0.888889        0.888889  0.056084   \n",
       "...                           ...          ...             ...       ...   \n",
       "Uterus_fold3_96          0.746988     0.704545        0.794872  0.445503   \n",
       "Uterus_fold3_97          0.885714     0.837838        0.939394  0.214778   \n",
       "Uterus_fold3_98          0.757576     0.735294        0.781250  0.382630   \n",
       "Uterus_fold3_99          0.875000     0.823529        0.933333  0.162174   \n",
       "averages_for_the_set     0.741655     0.725634        0.776944  0.275412   \n",
       "\n",
       "                           merges  \n",
       "name                               \n",
       "Adrenal_gland_fold3_0    0.260724  \n",
       "Adrenal_gland_fold3_1    0.387187  \n",
       "Adrenal_gland_fold3_10   0.366462  \n",
       "Adrenal_gland_fold3_100  0.059920  \n",
       "Adrenal_gland_fold3_101  0.167656  \n",
       "...                           ...  \n",
       "Uterus_fold3_96          0.462230  \n",
       "Uterus_fold3_97          0.325769  \n",
       "Uterus_fold3_98          0.346693  \n",
       "Uterus_fold3_99          0.300958  \n",
       "averages_for_the_set     0.371667  \n",
       "\n",
       "[2609 rows x 10 columns]"
      ],
      "text/html": "<div>\n<style scoped>\n    .dataframe tbody tr th:only-of-type {\n        vertical-align: middle;\n    }\n\n    .dataframe tbody tr th {\n        vertical-align: top;\n    }\n\n    .dataframe thead th {\n        text-align: right;\n    }\n</style>\n<table border=\"1\" class=\"dataframe\">\n  <thead>\n    <tr style=\"text-align: right;\">\n      <th></th>\n      <th>AJI</th>\n      <th>AJI_plus</th>\n      <th>DICE2</th>\n      <th>PQ</th>\n      <th>SQ</th>\n      <th>DQ</th>\n      <th>inst_recall</th>\n      <th>inst_precision</th>\n      <th>splits</th>\n      <th>merges</th>\n    </tr>\n    <tr>\n      <th>name</th>\n      <th></th>\n      <th></th>\n      <th></th>\n      <th></th>\n      <th></th>\n      <th></th>\n      <th></th>\n      <th></th>\n      <th></th>\n      <th></th>\n    </tr>\n  </thead>\n  <tbody>\n    <tr>\n      <th>Adrenal_gland_fold3_0</th>\n      <td>0.715410</td>\n      <td>0.734081</td>\n      <td>0.812332</td>\n      <td>0.706516</td>\n      <td>0.843894</td>\n      <td>0.837209</td>\n      <td>0.782609</td>\n      <td>0.900000</td>\n      <td>0.237587</td>\n      <td>0.260724</td>\n    </tr>\n    <tr>\n      <th>Adrenal_gland_fold3_1</th>\n      <td>0.702564</td>\n      <td>0.718936</td>\n      <td>0.840688</td>\n      <td>0.682747</td>\n      <td>0.837916</td>\n      <td>0.814815</td>\n      <td>0.758621</td>\n      <td>0.880000</td>\n      <td>0.198425</td>\n      <td>0.387187</td>\n    </tr>\n    <tr>\n      <th>Adrenal_gland_fold3_10</th>\n      <td>0.797127</td>\n      <td>0.797127</td>\n      <td>0.900026</td>\n      <td>0.721985</td>\n      <td>0.878939</td>\n      <td>0.821429</td>\n      <td>0.766667</td>\n      <td>0.884615</td>\n      <td>0.217017</td>\n      <td>0.366462</td>\n    </tr>\n    <tr>\n      <th>Adrenal_gland_fold3_100</th>\n      <td>0.822071</td>\n      <td>0.822071</td>\n      <td>0.968724</td>\n      <td>0.814185</td>\n      <td>0.930498</td>\n      <td>0.875000</td>\n      <td>0.875000</td>\n      <td>0.875000</td>\n      <td>0.118560</td>\n      <td>0.059920</td>\n    </tr>\n    <tr>\n      <th>Adrenal_gland_fold3_101</th>\n      <td>0.794434</td>\n      <td>0.794434</td>\n      <td>0.958183</td>\n      <td>0.808371</td>\n      <td>0.909418</td>\n      <td>0.888889</td>\n      <td>0.888889</td>\n      <td>0.888889</td>\n      <td>0.056084</td>\n      <td>0.167656</td>\n    </tr>\n    <tr>\n      <th>...</th>\n      <td>...</td>\n      <td>...</td>\n      <td>...</td>\n      <td>...</td>\n      <td>...</td>\n      <td>...</td>\n      <td>...</td>\n      <td>...</td>\n      <td>...</td>\n      <td>...</td>\n    </tr>\n    <tr>\n      <th>Uterus_fold3_96</th>\n      <td>0.637566</td>\n      <td>0.642674</td>\n      <td>0.676107</td>\n      <td>0.616205</td>\n      <td>0.824920</td>\n      <td>0.746988</td>\n      <td>0.704545</td>\n      <td>0.794872</td>\n      <td>0.445503</td>\n      <td>0.462230</td>\n    </tr>\n    <tr>\n      <th>Uterus_fold3_97</th>\n      <td>0.758090</td>\n      <td>0.780909</td>\n      <td>0.839855</td>\n      <td>0.741323</td>\n      <td>0.836977</td>\n      <td>0.885714</td>\n      <td>0.837838</td>\n      <td>0.939394</td>\n      <td>0.214778</td>\n      <td>0.325769</td>\n    </tr>\n    <tr>\n      <th>Uterus_fold3_98</th>\n      <td>0.710966</td>\n      <td>0.739831</td>\n      <td>0.693017</td>\n      <td>0.641455</td>\n      <td>0.846720</td>\n      <td>0.757576</td>\n      <td>0.735294</td>\n      <td>0.781250</td>\n      <td>0.382630</td>\n      <td>0.346693</td>\n    </tr>\n    <tr>\n      <th>Uterus_fold3_99</th>\n      <td>0.825766</td>\n      <td>0.825766</td>\n      <td>0.881352</td>\n      <td>0.753351</td>\n      <td>0.860972</td>\n      <td>0.875000</td>\n      <td>0.823529</td>\n      <td>0.933333</td>\n      <td>0.162174</td>\n      <td>0.300958</td>\n    </tr>\n    <tr>\n      <th>averages_for_the_set</th>\n      <td>0.650520</td>\n      <td>0.668961</td>\n      <td>0.762681</td>\n      <td>0.613853</td>\n      <td>0.813679</td>\n      <td>0.741655</td>\n      <td>0.725634</td>\n      <td>0.776944</td>\n      <td>0.275412</td>\n      <td>0.371667</td>\n    </tr>\n  </tbody>\n</table>\n<p>2609 rows × 10 columns</p>\n</div>"
     },
     "metadata": {},
     "execution_count": 7
    }
   ],
   "source": [
    "pattern_list = None\n",
    "binary_scores = inferer.benchmark_insts(pattern_list=pattern_list, file_prefix=\"testi\")\n",
    "binary_scores"
   ]
  },
  {
   "cell_type": "code",
   "execution_count": 9,
   "metadata": {},
   "outputs": [
    {
     "output_type": "stream",
     "name": "stderr",
     "text": [
      "100%|██████████| 2722/2722 [00:33<00:00, 81.66it/s]\n",
      "100%|██████████| 2722/2722 [00:15<00:00, 179.23it/s]\n",
      "100%|██████████| 2722/2722 [00:21<00:00, 128.91it/s]\n",
      "100%|██████████| 2722/2722 [00:01<00:00, 2526.18it/s]\n",
      "100%|██████████| 2722/2722 [00:10<00:00, 266.96it/s]\n"
     ]
    },
    {
     "output_type": "execute_result",
     "data": {
      "text/plain": [
       "                                   AJI  AJI_plus     DICE2        PQ  \\\n",
       "name                                                                   \n",
       "neoplastic_avg_for_the_set    0.548899  0.565488  0.715245  0.534175   \n",
       "inflammatory_avg_for_the_set  0.323400  0.326871  0.562795  0.361782   \n",
       "connective_avg_for_the_set    0.331523  0.333646  0.628527  0.349320   \n",
       "dead_avg_for_the_set          0.000000  0.000000  0.000000  0.000000   \n",
       "epithelial_avg_for_the_set    0.506937  0.517948  0.670908  0.503155   \n",
       "\n",
       "                                    SQ        DQ  inst_recall  inst_precision  \\\n",
       "name                                                                            \n",
       "neoplastic_avg_for_the_set    0.782514  0.634776     0.636719        0.677485   \n",
       "inflammatory_avg_for_the_set  0.540561  0.428023     0.418593        0.507244   \n",
       "connective_avg_for_the_set    0.600296  0.435276     0.419109        0.529921   \n",
       "dead_avg_for_the_set          0.000000  0.000000     0.000000        0.000000   \n",
       "epithelial_avg_for_the_set    0.744730  0.617029     0.594649        0.696709   \n",
       "\n",
       "                                    splits    merges  \n",
       "name                                                  \n",
       "neoplastic_avg_for_the_set    3.496060e-01  0.360959  \n",
       "inflammatory_avg_for_the_set  7.890313e-02  0.124867  \n",
       "connective_avg_for_the_set    1.150831e-01  0.207514  \n",
       "dead_avg_for_the_set          3.097403e-17  0.219942  \n",
       "epithelial_avg_for_the_set    2.574938e-01  0.366365  "
      ],
      "text/html": "<div>\n<style scoped>\n    .dataframe tbody tr th:only-of-type {\n        vertical-align: middle;\n    }\n\n    .dataframe tbody tr th {\n        vertical-align: top;\n    }\n\n    .dataframe thead th {\n        text-align: right;\n    }\n</style>\n<table border=\"1\" class=\"dataframe\">\n  <thead>\n    <tr style=\"text-align: right;\">\n      <th></th>\n      <th>AJI</th>\n      <th>AJI_plus</th>\n      <th>DICE2</th>\n      <th>PQ</th>\n      <th>SQ</th>\n      <th>DQ</th>\n      <th>inst_recall</th>\n      <th>inst_precision</th>\n      <th>splits</th>\n      <th>merges</th>\n    </tr>\n    <tr>\n      <th>name</th>\n      <th></th>\n      <th></th>\n      <th></th>\n      <th></th>\n      <th></th>\n      <th></th>\n      <th></th>\n      <th></th>\n      <th></th>\n      <th></th>\n    </tr>\n  </thead>\n  <tbody>\n    <tr>\n      <th>neoplastic_avg_for_the_set</th>\n      <td>0.548899</td>\n      <td>0.565488</td>\n      <td>0.715245</td>\n      <td>0.534175</td>\n      <td>0.782514</td>\n      <td>0.634776</td>\n      <td>0.636719</td>\n      <td>0.677485</td>\n      <td>3.496060e-01</td>\n      <td>0.360959</td>\n    </tr>\n    <tr>\n      <th>inflammatory_avg_for_the_set</th>\n      <td>0.323400</td>\n      <td>0.326871</td>\n      <td>0.562795</td>\n      <td>0.361782</td>\n      <td>0.540561</td>\n      <td>0.428023</td>\n      <td>0.418593</td>\n      <td>0.507244</td>\n      <td>7.890313e-02</td>\n      <td>0.124867</td>\n    </tr>\n    <tr>\n      <th>connective_avg_for_the_set</th>\n      <td>0.331523</td>\n      <td>0.333646</td>\n      <td>0.628527</td>\n      <td>0.349320</td>\n      <td>0.600296</td>\n      <td>0.435276</td>\n      <td>0.419109</td>\n      <td>0.529921</td>\n      <td>1.150831e-01</td>\n      <td>0.207514</td>\n    </tr>\n    <tr>\n      <th>dead_avg_for_the_set</th>\n      <td>0.000000</td>\n      <td>0.000000</td>\n      <td>0.000000</td>\n      <td>0.000000</td>\n      <td>0.000000</td>\n      <td>0.000000</td>\n      <td>0.000000</td>\n      <td>0.000000</td>\n      <td>3.097403e-17</td>\n      <td>0.219942</td>\n    </tr>\n    <tr>\n      <th>epithelial_avg_for_the_set</th>\n      <td>0.506937</td>\n      <td>0.517948</td>\n      <td>0.670908</td>\n      <td>0.503155</td>\n      <td>0.744730</td>\n      <td>0.617029</td>\n      <td>0.594649</td>\n      <td>0.696709</td>\n      <td>2.574938e-01</td>\n      <td>0.366365</td>\n    </tr>\n  </tbody>\n</table>\n</div>"
     },
     "metadata": {},
     "execution_count": 9
    }
   ],
   "source": [
    "pattern_list = None\n",
    "type_scores = inferer.benchmark_types(pattern_list=pattern_list, file_prefix=\"testi\")\n",
    "type_scores = type_scores[type_scores.index.str.contains(\"avg\")]\n",
    "type_scores"
   ]
  }
 ],
 "metadata": {
  "kernelspec": {
   "name": "python3",
   "display_name": "Python 3.6.9 64-bit ('DippaEnv': venv)",
   "metadata": {
    "interpreter": {
     "hash": "3ea01dde592f11f139bb8a18f7472b919436c8f8399691d376fd4b0010891aeb"
    }
   }
  },
  "language_info": {
   "codemirror_mode": {
    "name": "ipython",
    "version": 3
   },
   "file_extension": ".py",
   "mimetype": "text/x-python",
   "name": "python",
   "nbconvert_exporter": "python",
   "pygments_lexer": "ipython3",
   "version": "3.6.9"
  }
 },
 "nbformat": 4,
 "nbformat_minor": 4
}