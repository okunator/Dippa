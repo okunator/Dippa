{
 "cells": [
  {
   "cell_type": "code",
   "execution_count": 1,
   "metadata": {},
   "outputs": [],
   "source": [
    "import warnings\n",
    "warnings.filterwarnings('ignore')\n",
    "\n",
    "import gc\n",
    "import glob\n",
    "import ray\n",
    "import sys\n",
    "import os\n",
    "import re\n",
    "import cv2\n",
    "import psutil\n",
    "import scipy.io\n",
    "import numpy as np\n",
    "import pandas as pd\n",
    "import matplotlib.pyplot as plt\n",
    "\n",
    "from utils.metrics import PQ\n",
    "from utils.process_utils import remap_label\n",
    "from utils.post_processing import *\n",
    "from itertools import product\n",
    "from collections import OrderedDict"
   ]
  },
  {
   "cell_type": "markdown",
   "metadata": {},
   "source": [
    "# Filepaths"
   ]
  },
  {
   "cell_type": "code",
   "execution_count": 2,
   "metadata": {},
   "outputs": [],
   "source": [
    "prob_map_pth = \"/home/leos/IMAGE_ANALYSIS/model_ouputs/Kumar/probability_maps/V1/patch_224/unet_smp_seresnet50_kumar/orig/*.mat\"\n",
    "images_pth = \"/home/leos/IMAGE_ANALYSIS/datasets/H&E/nuclei_segmentation/exhaustive_annotations/Nucleisegmentation-Kumar/test/Images/*.tif\"\n",
    "labels_pth = \"/home/leos/IMAGE_ANALYSIS/datasets/H&E/nuclei_segmentation/exhaustive_annotations/Nucleisegmentation-Kumar/test/Labels/*.mat\""
   ]
  },
  {
   "cell_type": "code",
   "execution_count": 3,
   "metadata": {},
   "outputs": [
    {
     "name": "stdout",
     "output_type": "stream",
     "text": [
      "TCGA-2Z-A9J9-01A-01-TS1.tif ,  TCGA-2Z-A9J9-01A-01-TS1_prob_map_orig.mat ,  TCGA-2Z-A9J9-01A-01-TS1_mask.mat\n",
      "TCGA-44-2665-01B-06-BS6.tif ,  TCGA-44-2665-01B-06-BS6_prob_map_orig.mat ,  TCGA-44-2665-01B-06-BS6_mask.mat\n",
      "TCGA-69-7764-01A-01-TS1.tif ,  TCGA-69-7764-01A-01-TS1_prob_map_orig.mat ,  TCGA-69-7764-01A-01-TS1_mask.mat\n",
      "TCGA-A6-6782-01A-01-BS1.tif ,  TCGA-A6-6782-01A-01-BS1_prob_map_orig.mat ,  TCGA-A6-6782-01A-01-BS1_mask.mat\n",
      "TCGA-AC-A2FO-01A-01-TS1.tif ,  TCGA-AC-A2FO-01A-01-TS1_prob_map_orig.mat ,  TCGA-AC-A2FO-01A-01-TS1_mask.mat\n",
      "TCGA-AO-A0J2-01A-01-BSA.tif ,  TCGA-AO-A0J2-01A-01-BSA_prob_map_orig.mat ,  TCGA-AO-A0J2-01A-01-BSA_mask.mat\n",
      "TCGA-CU-A0YN-01A-02-BSB.tif ,  TCGA-CU-A0YN-01A-02-BSB_prob_map_orig.mat ,  TCGA-CU-A0YN-01A-02-BSB_mask.mat\n",
      "TCGA-EJ-A46H-01A-03-TSC.tif ,  TCGA-EJ-A46H-01A-03-TSC_prob_map_orig.mat ,  TCGA-EJ-A46H-01A-03-TSC_mask.mat\n",
      "TCGA-FG-A4MU-01B-01-TS1.tif ,  TCGA-FG-A4MU-01B-01-TS1_prob_map_orig.mat ,  TCGA-FG-A4MU-01B-01-TS1_mask.mat\n",
      "TCGA-GL-6846-01A-01-BS1.tif ,  TCGA-GL-6846-01A-01-BS1_prob_map_orig.mat ,  TCGA-GL-6846-01A-01-BS1_mask.mat\n",
      "TCGA-HC-7209-01A-01-TS1.tif ,  TCGA-HC-7209-01A-01-TS1_prob_map_orig.mat ,  TCGA-HC-7209-01A-01-TS1_mask.mat\n",
      "TCGA-HT-8564-01Z-00-DX1.tif ,  TCGA-HT-8564-01Z-00-DX1_prob_map_orig.mat ,  TCGA-HT-8564-01Z-00-DX1_mask.mat\n",
      "TCGA-IZ-8196-01A-01-BS1.tif ,  TCGA-IZ-8196-01A-01-BS1_prob_map_orig.mat ,  TCGA-IZ-8196-01A-01-BS1_mask.mat\n",
      "TCGA-ZF-A9R5-01A-01-TS1.tif ,  TCGA-ZF-A9R5-01A-01-TS1_prob_map_orig.mat ,  TCGA-ZF-A9R5-01A-01-TS1_mask.mat\n"
     ]
    }
   ],
   "source": [
    "files = sorted(glob.glob(images_pth))\n",
    "gt_masks = sorted(glob.glob(labels_pth))\n",
    "prob_maps = sorted(glob.glob(prob_map_pth))\n",
    "\n",
    "# check that ordering is the same \n",
    "for f, p, g in list(zip(files, prob_maps, gt_masks)):\n",
    "    print(f.split('/')[-1], \", \",  p.split('/')[-1], \", \", g.split('/')[-1])"
   ]
  },
  {
   "cell_type": "markdown",
   "metadata": {},
   "source": [
    "# Run thresholding for all probability maps\n",
    "- First we create the functions that are used in the pipeline \n",
    "- Second we create the parameter space\n",
    "- Third we use ray to run the pipeline for different parameter settings in parallel"
   ]
  },
  {
   "cell_type": "markdown",
   "metadata": {},
   "source": [
    "## 1. Create functions with ray.remote decorator that are used in the pipeline"
   ]
  },
  {
   "cell_type": "code",
   "execution_count": 4,
   "metadata": {},
   "outputs": [],
   "source": [
    "# Garbage collector to empty memory\n",
    "def auto_garbage_collect(pct=80.0):\n",
    "    if psutil.virtual_memory().percent >= pct:\n",
    "        gc.collect()"
   ]
  },
  {
   "cell_type": "code",
   "execution_count": 5,
   "metadata": {},
   "outputs": [],
   "source": [
    "@ray.remote\n",
    "def load_gt(fn):\n",
    "    return scipy.io.loadmat(fn)['inst_map']\n",
    "\n",
    "\n",
    "@ray.remote\n",
    "def load_probmap(fn):\n",
    "    return scipy.io.loadmat(fn)['prob_map']\n",
    "\n",
    "\n",
    "@ray.remote\n",
    "def activate(prob_map, method):\n",
    "    return activation(prob_map, method)\n",
    "    \n",
    "\n",
    "@ray.remote\n",
    "def thresh_naive(prob_map, thrsh, act, fn):\n",
    "    thresh_mask = naive_thresh(prob_map, thrsh)\n",
    "    return {\n",
    "        'inst_map': thresh_mask, \n",
    "        'activation':act, \n",
    "        'threshold':thrsh, \n",
    "        'fn':fn.split('/')[-1]\n",
    "    }\n",
    "\n",
    "\n",
    "@ray.remote\n",
    "def thresh_sauvola(prob_map, win_size, act, fn):\n",
    "    thresh_mask = sauvola_thresh(prob_map, win_size)\n",
    "    return {\n",
    "        'inst_map': thresh_mask, \n",
    "        'activation':act, \n",
    "        'threshold':win_size, \n",
    "        'fn':fn.split('/')[-1]\n",
    "    }\n",
    "\n",
    "\n",
    "@ray.remote\n",
    "def thresh_niblack(prob_map, win_size, act, fn):\n",
    "    thresh_mask = niblack_thresh(prob_map, win_size)\n",
    "    return {\n",
    "        'inst_map': thresh_mask, \n",
    "        'activation':act, \n",
    "        'threshold':win_size, \n",
    "        'fn':fn.split('/')[-1]\n",
    "    }\n",
    "\n",
    "\n",
    "@ray.remote\n",
    "def compute_PQ(true, pred, fn, key):\n",
    "    metrics = PQ(true, pred)\n",
    "    return {\n",
    "        'metrics':metrics,\n",
    "        'fn':fn,\n",
    "        'key':key\n",
    "    }\n",
    "\n",
    "\n",
    "@ray.remote\n",
    "def run_watershed(inst_map, win_size, fn):\n",
    "    ws_mask = inv_dist_watershed(inst_map, win_size)\n",
    "    return {\n",
    "        'inst_map':ws_mask,\n",
    "        'fn':fn\n",
    "    }\n",
    "\n",
    "\n",
    "@ray.remote\n",
    "def run_random_walker(inst_map, contour, fn):\n",
    "    rw_mask = random_walk(inst_map, contour)\n",
    "    return {\n",
    "        'inst_map':rw_mask,\n",
    "        'fn':fn\n",
    "    }"
   ]
  },
  {
   "cell_type": "markdown",
   "metadata": {},
   "source": [
    "## 2. Create the parameter space"
   ]
  },
  {
   "cell_type": "code",
   "execution_count": 6,
   "metadata": {},
   "outputs": [],
   "source": [
    "# Adjust either the thresholds or window sizes depending on what thresholding method youre using\n",
    "# NOTE: too big parameter spaces will require lots of memory so make sure you have some\n",
    "\n",
    "# thresholds = [3, 2.5, 2.2 ,2, 1.9, 1.8, 1.7, 1.6, 1.5, 1.4, 1.3]\n",
    "win_sizes = [num for num in range(13, 35) if num%2 != 0]\n",
    "activations = ['sigmoid', 'relu']\n",
    "combinations = list(product(*[activations, win_sizes, prob_maps]))"
   ]
  },
  {
   "cell_type": "markdown",
   "metadata": {},
   "source": [
    "## 3. Run the thresholding pipeline\n",
    "- Ray is used here to parallelize the pipeline"
   ]
  },
  {
   "cell_type": "code",
   "execution_count": 7,
   "metadata": {},
   "outputs": [
    {
     "name": "stderr",
     "output_type": "stream",
     "text": [
      "2020-06-25 16:39:09,712\tINFO resource_spec.py:212 -- Starting Ray with 15.48 GiB memory available for workers and up to 7.74 GiB for objects. You can adjust these settings with ray.init(memory=<bytes>, object_store_memory=<bytes>).\n",
      "2020-06-25 16:39:10,077\tINFO services.py:1170 -- View the Ray dashboard at \u001b[1m\u001b[32mlocalhost:8265\u001b[39m\u001b[22m\n"
     ]
    },
    {
     "data": {
      "text/plain": [
       "{'node_ip_address': '128.214.129.142',\n",
       " 'raylet_ip_address': '128.214.129.142',\n",
       " 'redis_address': '128.214.129.142:38893',\n",
       " 'object_store_address': '/tmp/ray/session_2020-06-25_16-39-09_711448_30689/sockets/plasma_store',\n",
       " 'raylet_socket_name': '/tmp/ray/session_2020-06-25_16-39-09_711448_30689/sockets/raylet',\n",
       " 'webui_url': 'localhost:8265',\n",
       " 'session_dir': '/tmp/ray/session_2020-06-25_16-39-09_711448_30689'}"
      ]
     },
     "execution_count": 7,
     "metadata": {},
     "output_type": "execute_result"
    }
   ],
   "source": [
    "ray.init()"
   ]
  },
  {
   "cell_type": "markdown",
   "metadata": {},
   "source": [
    "### Thresholding pipeline\n",
    "\n",
    "1. Load probability map\n",
    "2. Run activation\n",
    "3. Run thresholding (naive)\n",
    "\n",
    "(Naive thresholding = try out different thresholds and find out which one works out the best)\n",
    "\n",
    "NOTE: Other thresholding functions can also be used but they need to be added "
   ]
  },
  {
   "cell_type": "code",
   "execution_count": 8,
   "metadata": {
    "scrolled": true
   },
   "outputs": [
    {
     "name": "stdout",
     "output_type": "stream",
     "text": [
      "CPU times: user 855 ms, sys: 230 ms, total: 1.09 s\n",
      "Wall time: 13.3 s\n"
     ]
    }
   ],
   "source": [
    "%%time\n",
    "\n",
    "thresholded_masks = []\n",
    "for act, thrsh, fn in combinations:\n",
    "    prob_map = load_probmap.remote(fn)\n",
    "    act_prob_map = activate.remote(prob_map, act)\n",
    "    \n",
    "    # Choose the tresholding function here\n",
    "    #thresh_mask = thresh.remote(act_prob_map, thrsh, act, fn)\n",
    "    #thresh_mask = thresh_niblack.remote(act_prob_map, thrsh, act, fn)\n",
    "    thresh_mask = thresh_sauvola.remote(act_prob_map, thrsh, act, fn)\n",
    "    thresholded_masks.append(thresh_mask)\n",
    "\n",
    "thresholded_masks = ray.get(thresholded_masks)"
   ]
  },
  {
   "cell_type": "markdown",
   "metadata": {},
   "source": [
    "### Group the obtained masks\n",
    "- This is done only to make it easier to compute the PQ metrics\n",
    "- Very quick operation"
   ]
  },
  {
   "cell_type": "code",
   "execution_count": 9,
   "metadata": {},
   "outputs": [
    {
     "name": "stdout",
     "output_type": "stream",
     "text": [
      "CPU times: user 6.86 ms, sys: 0 ns, total: 6.86 ms\n",
      "Wall time: 6.77 ms\n"
     ]
    }
   ],
   "source": [
    "%%time\n",
    "\n",
    "# Group the masks in separate dicts based on the parameter settings\n",
    "masks_grouped = OrderedDict()\n",
    "for act, thresh, _ in combinations:\n",
    "    key = act + '_' + str(thresh)\n",
    "    masks = []\n",
    "    for mask in thresholded_masks:\n",
    "        if mask['threshold'] == thresh and mask['activation'] == act:\n",
    "            masks.append(mask)\n",
    "    masks_grouped[key] = masks"
   ]
  },
  {
   "cell_type": "markdown",
   "metadata": {},
   "source": [
    "# Compute PQ, SQ and DQ for every masks in every parameter setting\n",
    "- Ray is used here again to parallelize computations"
   ]
  },
  {
   "cell_type": "code",
   "execution_count": 10,
   "metadata": {},
   "outputs": [],
   "source": [
    "# Shut down ray to release memory\n",
    "ray.shutdown()"
   ]
  },
  {
   "cell_type": "code",
   "execution_count": 11,
   "metadata": {},
   "outputs": [
    {
     "data": {
      "text/plain": [
       "0"
      ]
     },
     "execution_count": 11,
     "metadata": {},
     "output_type": "execute_result"
    }
   ],
   "source": [
    "del thresholded_masks\n",
    "gc.collect()"
   ]
  },
  {
   "cell_type": "code",
   "execution_count": 12,
   "metadata": {},
   "outputs": [
    {
     "name": "stderr",
     "output_type": "stream",
     "text": [
      "2020-06-25 16:39:24,898\tINFO resource_spec.py:212 -- Starting Ray with 15.43 GiB memory available for workers and up to 7.73 GiB for objects. You can adjust these settings with ray.init(memory=<bytes>, object_store_memory=<bytes>).\n",
      "2020-06-25 16:39:25,212\tINFO services.py:1170 -- View the Ray dashboard at \u001b[1m\u001b[32mlocalhost:8265\u001b[39m\u001b[22m\n"
     ]
    },
    {
     "data": {
      "text/plain": [
       "{'node_ip_address': '128.214.129.142',\n",
       " 'raylet_ip_address': '128.214.129.142',\n",
       " 'redis_address': '128.214.129.142:43203',\n",
       " 'object_store_address': '/tmp/ray/session_2020-06-25_16-39-24_897494_30689/sockets/plasma_store',\n",
       " 'raylet_socket_name': '/tmp/ray/session_2020-06-25_16-39-24_897494_30689/sockets/raylet',\n",
       " 'webui_url': 'localhost:8265',\n",
       " 'session_dir': '/tmp/ray/session_2020-06-25_16-39-24_897494_30689'}"
      ]
     },
     "execution_count": 12,
     "metadata": {},
     "output_type": "execute_result"
    }
   ],
   "source": [
    "# Start ray again\n",
    "ray.init()"
   ]
  },
  {
   "cell_type": "code",
   "execution_count": 13,
   "metadata": {},
   "outputs": [
    {
     "name": "stdout",
     "output_type": "stream",
     "text": [
      "CPU times: user 5.79 s, sys: 1.51 s, total: 7.3 s\n",
      "Wall time: 2min 54s\n"
     ]
    }
   ],
   "source": [
    "%%time\n",
    "PQs = []\n",
    "for i, key in enumerate(masks_grouped.keys()):\n",
    "    mask_group = masks_grouped[key]\n",
    "\n",
    "    for mask, gt_fn in zip(mask_group, gt_masks):\n",
    "        true = load_gt.remote(gt_fn)\n",
    "        pred = mask['inst_map']\n",
    "        fn = mask['fn']\n",
    "        \n",
    "        pq = compute_PQ.remote(true, pred, fn, key)\n",
    "        PQs.append(pq)\n",
    "        \n",
    "PQs = ray.get(PQs)"
   ]
  },
  {
   "cell_type": "markdown",
   "metadata": {},
   "source": [
    "### Group the PQ metrics based on the parameter setting\n",
    "- This is again only done to make the downstream computations more straigth forward\n",
    "- Quick to do"
   ]
  },
  {
   "cell_type": "code",
   "execution_count": 14,
   "metadata": {},
   "outputs": [
    {
     "name": "stdout",
     "output_type": "stream",
     "text": [
      "CPU times: user 394 µs, sys: 97 µs, total: 491 µs\n",
      "Wall time: 494 µs\n"
     ]
    }
   ],
   "source": [
    "%%time\n",
    "\n",
    "PQs_grouped = OrderedDict()\n",
    "for key in masks_grouped.keys():\n",
    "    PQ_group = []\n",
    "    for d in PQs:\n",
    "        if d['key'] == key:\n",
    "            PQ_group.append(d['metrics'])\n",
    "    PQs_grouped[key] = PQ_group"
   ]
  },
  {
   "cell_type": "markdown",
   "metadata": {},
   "source": [
    "### Compute the averages of the metrics for each parameter setting\n",
    "- the highest weighted sum is chosen as the best parameter setting"
   ]
  },
  {
   "cell_type": "code",
   "execution_count": 15,
   "metadata": {},
   "outputs": [
    {
     "name": "stdout",
     "output_type": "stream",
     "text": [
      "best param setting for thresholding:  relu_21 \n",
      "\n",
      "metrics averaged:\n",
      "pq             0.511774\n",
      "sq             0.720860\n",
      "dq             0.708242\n",
      "sensitivity    0.825767\n",
      "precision      0.625327\n",
      "dtype: float64\n",
      "\n",
      "weighted sum = 2.1140554071370956\n"
     ]
    }
   ],
   "source": [
    "best = -np.Infinity\n",
    "best_key = None\n",
    "best_m = None\n",
    "weights = np.array([1.2, 1.0, 1.1, 0.0, 0.0])\n",
    "\n",
    "for key in PQs_grouped.keys():\n",
    "    m = pd.DataFrame(PQs_grouped[key]).mean(axis=0)\n",
    "    ws = m @ weights\n",
    "    if ws > best:\n",
    "        best = ws\n",
    "        best_key = key\n",
    "        best_m = m\n",
    "\n",
    "print('best param setting for thresholding: ', best_key, '\\n')\n",
    "print('metrics averaged:\\n', best_m, '\\n', sep='')\n",
    "print('weighted sum =', best)"
   ]
  },
  {
   "cell_type": "markdown",
   "metadata": {},
   "source": [
    "# Run post-processing segmentation pipeline for the masks that had highest averaged PQ in the thresholding part"
   ]
  },
  {
   "cell_type": "code",
   "execution_count": 16,
   "metadata": {},
   "outputs": [],
   "source": [
    "del PQs_grouped\n",
    "best_masks = masks_grouped[best_key]"
   ]
  },
  {
   "cell_type": "code",
   "execution_count": 17,
   "metadata": {},
   "outputs": [
    {
     "name": "stdout",
     "output_type": "stream",
     "text": [
      "\u001b[2m\u001b[36m(pid=4561)\u001b[0m /home/leos/.local/lib/python3.6/site-packages/skimage/morphology/_deprecated.py:5: skimage_deprecation: Function ``watershed`` is deprecated and will be removed in version 0.19. Use ``skimage.segmentation.watershed`` instead.\n",
      "\u001b[2m\u001b[36m(pid=4561)\u001b[0m   def watershed(image, markers=None, connectivity=1, offset=None, mask=None,\n",
      "\u001b[2m\u001b[36m(pid=4922)\u001b[0m /home/leos/.local/lib/python3.6/site-packages/skimage/morphology/_deprecated.py:5: skimage_deprecation: Function ``watershed`` is deprecated and will be removed in version 0.19. Use ``skimage.segmentation.watershed`` instead.\n",
      "\u001b[2m\u001b[36m(pid=4922)\u001b[0m   def watershed(image, markers=None, connectivity=1, offset=None, mask=None,\n",
      "\u001b[2m\u001b[36m(pid=4671)\u001b[0m /home/leos/.local/lib/python3.6/site-packages/skimage/morphology/_deprecated.py:5: skimage_deprecation: Function ``watershed`` is deprecated and will be removed in version 0.19. Use ``skimage.segmentation.watershed`` instead.\n",
      "\u001b[2m\u001b[36m(pid=4671)\u001b[0m   def watershed(image, markers=None, connectivity=1, offset=None, mask=None,\n",
      "\u001b[2m\u001b[36m(pid=4463)\u001b[0m /home/leos/.local/lib/python3.6/site-packages/skimage/morphology/_deprecated.py:5: skimage_deprecation: Function ``watershed`` is deprecated and will be removed in version 0.19. Use ``skimage.segmentation.watershed`` instead.\n",
      "\u001b[2m\u001b[36m(pid=4463)\u001b[0m   def watershed(image, markers=None, connectivity=1, offset=None, mask=None,\n",
      "\u001b[2m\u001b[36m(pid=4662)\u001b[0m /home/leos/.local/lib/python3.6/site-packages/skimage/morphology/_deprecated.py:5: skimage_deprecation: Function ``watershed`` is deprecated and will be removed in version 0.19. Use ``skimage.segmentation.watershed`` instead.\n",
      "\u001b[2m\u001b[36m(pid=4662)\u001b[0m   def watershed(image, markers=None, connectivity=1, offset=None, mask=None,\n",
      "\u001b[2m\u001b[36m(pid=4471)\u001b[0m /home/leos/.local/lib/python3.6/site-packages/skimage/morphology/_deprecated.py:5: skimage_deprecation: Function ``watershed`` is deprecated and will be removed in version 0.19. Use ``skimage.segmentation.watershed`` instead.\n",
      "\u001b[2m\u001b[36m(pid=4471)\u001b[0m   def watershed(image, markers=None, connectivity=1, offset=None, mask=None,\n",
      "\u001b[2m\u001b[36m(pid=4609)\u001b[0m /home/leos/.local/lib/python3.6/site-packages/skimage/morphology/_deprecated.py:5: skimage_deprecation: Function ``watershed`` is deprecated and will be removed in version 0.19. Use ``skimage.segmentation.watershed`` instead.\n",
      "\u001b[2m\u001b[36m(pid=4609)\u001b[0m   def watershed(image, markers=None, connectivity=1, offset=None, mask=None,\n",
      "\u001b[2m\u001b[36m(pid=4465)\u001b[0m /home/leos/.local/lib/python3.6/site-packages/skimage/morphology/_deprecated.py:5: skimage_deprecation: Function ``watershed`` is deprecated and will be removed in version 0.19. Use ``skimage.segmentation.watershed`` instead.\n",
      "\u001b[2m\u001b[36m(pid=4465)\u001b[0m   def watershed(image, markers=None, connectivity=1, offset=None, mask=None,\n",
      "\u001b[2m\u001b[36m(pid=4460)\u001b[0m /home/leos/.local/lib/python3.6/site-packages/skimage/morphology/_deprecated.py:5: skimage_deprecation: Function ``watershed`` is deprecated and will be removed in version 0.19. Use ``skimage.segmentation.watershed`` instead.\n",
      "\u001b[2m\u001b[36m(pid=4460)\u001b[0m   def watershed(image, markers=None, connectivity=1, offset=None, mask=None,\n",
      "\u001b[2m\u001b[36m(pid=4874)\u001b[0m /home/leos/.local/lib/python3.6/site-packages/skimage/morphology/_deprecated.py:5: skimage_deprecation: Function ``watershed`` is deprecated and will be removed in version 0.19. Use ``skimage.segmentation.watershed`` instead.\n",
      "\u001b[2m\u001b[36m(pid=4874)\u001b[0m   def watershed(image, markers=None, connectivity=1, offset=None, mask=None,\n",
      "\u001b[2m\u001b[36m(pid=4821)\u001b[0m /home/leos/.local/lib/python3.6/site-packages/skimage/morphology/_deprecated.py:5: skimage_deprecation: Function ``watershed`` is deprecated and will be removed in version 0.19. Use ``skimage.segmentation.watershed`` instead.\n",
      "\u001b[2m\u001b[36m(pid=4821)\u001b[0m   def watershed(image, markers=None, connectivity=1, offset=None, mask=None,\n",
      "\u001b[2m\u001b[36m(pid=4725)\u001b[0m /home/leos/.local/lib/python3.6/site-packages/skimage/morphology/_deprecated.py:5: skimage_deprecation: Function ``watershed`` is deprecated and will be removed in version 0.19. Use ``skimage.segmentation.watershed`` instead.\n",
      "\u001b[2m\u001b[36m(pid=4725)\u001b[0m   def watershed(image, markers=None, connectivity=1, offset=None, mask=None,\n",
      "\u001b[2m\u001b[36m(pid=4922)\u001b[0m /home/leos/.local/lib/python3.6/site-packages/skimage/morphology/_deprecated.py:5: skimage_deprecation: Function ``watershed`` is deprecated and will be removed in version 0.19. Use ``skimage.segmentation.watershed`` instead.\n",
      "\u001b[2m\u001b[36m(pid=4922)\u001b[0m   def watershed(image, markers=None, connectivity=1, offset=None, mask=None,\n",
      "\u001b[2m\u001b[36m(pid=4561)\u001b[0m /home/leos/.local/lib/python3.6/site-packages/skimage/morphology/_deprecated.py:5: skimage_deprecation: Function ``watershed`` is deprecated and will be removed in version 0.19. Use ``skimage.segmentation.watershed`` instead.\n",
      "\u001b[2m\u001b[36m(pid=4561)\u001b[0m   def watershed(image, markers=None, connectivity=1, offset=None, mask=None,\n",
      "CPU times: user 535 ms, sys: 128 ms, total: 663 ms\n",
      "Wall time: 16.7 s\n"
     ]
    }
   ],
   "source": [
    "%%time\n",
    "metrics = []\n",
    "result_masks = []\n",
    "\n",
    "for mask in best_masks:\n",
    "    # UNCOMMENT the segmentation method that is used \n",
    "    inst_map = run_watershed.remote(mask['inst_map'], 13, mask['fn'])\n",
    "    # inst_map = run_random_walker.remote(mask['inst_map'], mask_contours(mask['inst_map']), mask['fn'])\n",
    "    result_masks.append(inst_map)\n",
    "result_masks = ray.get(result_masks)\n",
    "    \n",
    "for mask, gt_fn in zip(result_masks, gt_masks):\n",
    "    gt = load_gt.remote(gt_fn)\n",
    "    pq = compute_PQ.remote(gt, mask['inst_map'], mask['fn'], best_key)\n",
    "    metrics.append(pq)    \n",
    "metrics = ray.get(metrics)"
   ]
  },
  {
   "cell_type": "code",
   "execution_count": 18,
   "metadata": {},
   "outputs": [
    {
     "name": "stdout",
     "output_type": "stream",
     "text": [
      "metrics averaged after segmentation:\n",
      "\n",
      "pq             0.501275\n",
      "sq             0.719573\n",
      "dq             0.695019\n",
      "sensitivity    0.862479\n",
      "precision      0.587216\n",
      "dtype: float64\n",
      "\n",
      "weighted sum = 2.085623995373284\n"
     ]
    }
   ],
   "source": [
    "m = pd.DataFrame([m['metrics'] for m in metrics]).mean(axis=0)\n",
    "ws = m @ weights\n",
    "\n",
    "print('metrics averaged after segmentation:\\n\\n', m, '\\n', sep='')\n",
    "print('weighted sum =', ws)"
   ]
  },
  {
   "cell_type": "markdown",
   "metadata": {},
   "source": [
    "# Save result masks"
   ]
  },
  {
   "cell_type": "markdown",
   "metadata": {},
   "source": [
    "NOTE: Modify the filename variable according to your needs"
   ]
  },
  {
   "cell_type": "code",
   "execution_count": 19,
   "metadata": {},
   "outputs": [],
   "source": [
    "# OUTPUT_DIR = \"/home/leos/IMAGE_ANALYSIS/model_ouputs/Kumar/result_segmentations/V1/patch_224/unet_smp_seresnet50_kumar/hovernet_watershed_opening/Labels/\"\n",
    "# for mask in result_masks:\n",
    "#     # modify the fn according to your needs\n",
    "#     fn = mask['fn'].split('/')[-1].split('_')[0]\n",
    "#     fn_mat = OUTPUT_DIR + fn + '_result_mask.mat'\n",
    "#     inst_map = mask['inst_map']\n",
    "#     print(\"write: \",  fn_mat)\n",
    "#     scipy.io.savemat(fn_mat, mdict={'inst_map': inst_map})"
   ]
  },
  {
   "cell_type": "code",
   "execution_count": 20,
   "metadata": {},
   "outputs": [],
   "source": [
    "ray.shutdown()"
   ]
  }
 ],
 "metadata": {
  "kernelspec": {
   "display_name": "Python 3",
   "language": "python",
   "name": "python3"
  },
  "language_info": {
   "codemirror_mode": {
    "name": "ipython",
    "version": 3
   },
   "file_extension": ".py",
   "mimetype": "text/x-python",
   "name": "python",
   "nbconvert_exporter": "python",
   "pygments_lexer": "ipython3",
   "version": "3.6.9"
  }
 },
 "nbformat": 4,
 "nbformat_minor": 4
}
