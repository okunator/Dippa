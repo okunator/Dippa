{
 "cells": [
  {
   "cell_type": "code",
   "execution_count": 1,
   "metadata": {},
   "outputs": [],
   "source": [
    "import warnings\n",
    "warnings.filterwarnings('ignore')\n",
    "\n",
    "import sys\n",
    "sys.path.append('..')"
   ]
  },
  {
   "cell_type": "code",
   "execution_count": 2,
   "metadata": {},
   "outputs": [
    {
     "name": "stderr",
     "output_type": "stream",
     "text": [
      "/usr/lib/python3.6/importlib/_bootstrap.py:219: RuntimeWarning:\n",
      "\n",
      "numpy.ufunc size changed, may indicate binary incompatibility. Expected 192 from C header, got 216 from PyObject\n",
      "\n",
      "/usr/lib/python3.6/importlib/_bootstrap.py:219: RuntimeWarning:\n",
      "\n",
      "numpy.ufunc size changed, may indicate binary incompatibility. Expected 192 from C header, got 216 from PyObject\n",
      "\n",
      "/usr/lib/python3.6/importlib/_bootstrap.py:219: RuntimeWarning:\n",
      "\n",
      "numpy.ufunc size changed, may indicate binary incompatibility. Expected 192 from C header, got 216 from PyObject\n",
      "\n",
      "/usr/lib/python3.6/importlib/_bootstrap.py:219: RuntimeWarning:\n",
      "\n",
      "numpy.ufunc size changed, may indicate binary incompatibility. Expected 216, got 192\n",
      "\n",
      "/usr/lib/python3.6/importlib/_bootstrap.py:219: ImportWarning:\n",
      "\n",
      "can't resolve package from __spec__ or __package__, falling back on __name__ and __path__\n",
      "\n",
      "/usr/lib/python3.6/importlib/_bootstrap.py:219: RuntimeWarning:\n",
      "\n",
      "numpy.ufunc size changed, may indicate binary incompatibility. Expected 216, got 192\n",
      "\n",
      "/usr/lib/python3.6/importlib/_bootstrap.py:219: ImportWarning:\n",
      "\n",
      "can't resolve package from __spec__ or __package__, falling back on __name__ and __path__\n",
      "\n"
     ]
    }
   ],
   "source": [
    "from omegaconf import OmegaConf\n",
    "import torch\n",
    "import segmentation_models_pytorch as smp\n",
    "from torch import nn\n",
    "from pytorch_lightning.logging import TensorBoardLogger\n",
    "from dl.lightning_model import *"
   ]
  },
  {
   "cell_type": "code",
   "execution_count": 3,
   "metadata": {},
   "outputs": [],
   "source": [
    "model = smp.FPN(encoder_name=\"resnext50_32x4d\", classes=2, decoder_merge_policy='cat')\n",
    "# class_weight = dataset[\"train\"].numpixels[1,0:2]\n",
    "# class_weight = torch.from_numpy(1-class_weight/class_weight.sum()).type('torch.FloatTensor')\n",
    "criterion = nn.CrossEntropyLoss(\n",
    "    ignore_index = -100,\n",
    "    reduction = 'none'\n",
    ")"
   ]
  },
  {
   "cell_type": "code",
   "execution_count": 4,
   "metadata": {},
   "outputs": [
    {
     "name": "stdout",
     "output_type": "stream",
     "text": [
      "dirs:\n",
      "  test_dir: /home/leos/IMAGE_ANALYSIS/HDF5_data/databases/Kumar/patch_224/test_Kumar.pytable\n",
      "  train_dir: /home/leos/IMAGE_ANALYSIS/HDF5_data/databases/Kumar/patch_224/train_Kumar.pytable\n",
      "dataloader_args:\n",
      "  batch_size: 6\n",
      "  n_classes: 2\n",
      "optimizer_args:\n",
      "  lr: 0.001\n",
      "  encoder_lr: 0.0005\n",
      "  weight_decay: 0.0003\n",
      "  encoder_weight_decay: 3.0e-05\n",
      "scheduler_args:\n",
      "  factor: 0.25\n",
      "  patience: 2\n",
      "loss_args:\n",
      "  edge_weight: 1.1\n",
      "\n"
     ]
    }
   ],
   "source": [
    "conf = OmegaConf.create(\n",
    "    {\n",
    "        'dirs': {\n",
    "            'test_dir': \"/home/leos/IMAGE_ANALYSIS/HDF5_data/databases/Kumar/patch_224/test_Kumar.pytable\",\n",
    "            'train_dir': \"/home/leos/IMAGE_ANALYSIS/HDF5_data/databases/Kumar/patch_224/train_Kumar.pytable\"\n",
    "        },\n",
    "        \n",
    "        'dataloader_args': {\n",
    "            'batch_size':6,\n",
    "            'n_classes':2\n",
    "        },\n",
    "        \n",
    "        'optimizer_args':{\n",
    "            'lr':0.001,\n",
    "            'encoder_lr':0.0005,\n",
    "            'weight_decay':0.0003,\n",
    "            'encoder_weight_decay':0.00003\n",
    "        },\n",
    "        \n",
    "        'scheduler_args': {\n",
    "            'factor':0.25,\n",
    "            'patience':2\n",
    "        },\n",
    "    \n",
    "        'loss_args' : {\n",
    "            'edge_weight' : 1.1,\n",
    "        }\n",
    "\n",
    "    }\n",
    ")\n",
    "print(conf.pretty())"
   ]
  },
  {
   "cell_type": "code",
   "execution_count": 5,
   "metadata": {},
   "outputs": [],
   "source": [
    "# config = {\n",
    "#     'test_dir': \"/home/leos/IMAGE_ANALYSIS/HDF5_data/databases/Kumar/patch_224/test_Kumar.pytable\",\n",
    "#     'train_dir': \"/home/leos/IMAGE_ANALYSIS/HDF5_data/databases/Kumar/patch_224/train_Kumar.pytable\", \n",
    "#     'batch_size': 6,\n",
    "#     'lr': 0.001,\n",
    "#     'encoder_lr': 0.0005,\n",
    "#     'edge_weight':torch.tensor(1.1),\n",
    "#     'model': model,\n",
    "#     'criterion':criterion,\n",
    "# }\n",
    "logdir = \"/home/leos/IMAGE_ANALYSIS/trained_dl_models/smp/Kumar/V1/patch_224/test_lightning/lightning_logs/\"\n",
    "model_dir = '/home/leos/IMAGE_ANALYSIS/trained_dl_models/smp/Kumar/V1/patch_224/test_lightning/'"
   ]
  },
  {
   "cell_type": "code",
   "execution_count": 6,
   "metadata": {},
   "outputs": [
    {
     "data": {
      "text/plain": [
       "Reusing TensorBoard on port 6006 (pid 16892), started 1:02:53 ago. (Use '!kill 16892' to kill it.)"
      ]
     },
     "metadata": {},
     "output_type": "display_data"
    },
    {
     "data": {
      "text/html": [
       "\n",
       "      <iframe id=\"tensorboard-frame-d146c73e528e8c39\" width=\"100%\" height=\"800\" frameborder=\"0\">\n",
       "      </iframe>\n",
       "      <script>\n",
       "        (function() {\n",
       "          const frame = document.getElementById(\"tensorboard-frame-d146c73e528e8c39\");\n",
       "          const url = new URL(\"/\", window.location);\n",
       "          url.port = 6006;\n",
       "          frame.src = url;\n",
       "        })();\n",
       "      </script>\n",
       "  "
      ],
      "text/plain": [
       "<IPython.core.display.HTML object>"
      ]
     },
     "metadata": {},
     "output_type": "display_data"
    }
   ],
   "source": [
    "%load_ext tensorboard\n",
    "%tensorboard --logdir {logdir}"
   ]
  },
  {
   "cell_type": "code",
   "execution_count": 7,
   "metadata": {},
   "outputs": [
    {
     "name": "stderr",
     "output_type": "stream",
     "text": [
      "/home/leos/.local/lib/python3.6/site-packages/pytorch_lightning/utilities/distributed.py:25: UserWarning:\n",
      "\n",
      "Checkpoint directory /home/leos/IMAGE_ANALYSIS/trained_dl_models/smp/Kumar/V1/patch_224/test_lightning/ exists and is not empty with save_top_k != 0.All files in this directory will be deleted when a checkpoint is saved!\n",
      "\n"
     ]
    }
   ],
   "source": [
    "checkpoint_callback = pl.callbacks.ModelCheckpoint(\n",
    "    filepath = model_dir,\n",
    "    save_top_k = 1,\n",
    "    save_last = True,\n",
    "    verbose = True, \n",
    "    monitor = 'val_loss',\n",
    "    mode = 'min',\n",
    "    prefix = ''\n",
    ")\n",
    "\n",
    "logger = TensorBoardLogger(save_dir=logdir, name=\"FPN\")"
   ]
  },
  {
   "cell_type": "code",
   "execution_count": 8,
   "metadata": {
    "scrolled": true
   },
   "outputs": [
    {
     "name": "stderr",
     "output_type": "stream",
     "text": [
      "GPU available: True, used: True\n",
      "TPU available: False, using: 0 TPU cores\n",
      "CUDA_VISIBLE_DEVICES: [0]\n",
      "/usr/lib/python3.6/importlib/_bootstrap.py:219: ImportWarning:\n",
      "\n",
      "can't resolve package from __spec__ or __package__, falling back on __name__ and __path__\n",
      "\n",
      "\n",
      "  | Name      | Type             | Params\n",
      "-----------------------------------------------\n",
      "0 | model     | FPN              | 25 M  \n",
      "1 | criterion | CrossEntropyLoss | 0     \n"
     ]
    },
    {
     "data": {
      "application/vnd.jupyter.widget-view+json": {
       "model_id": "",
       "version_major": 2,
       "version_minor": 0
      },
      "text/plain": [
       "HBox(children=(FloatProgress(value=1.0, bar_style='info', description='Validation sanity check', layout=Layout…"
      ]
     },
     "metadata": {},
     "output_type": "display_data"
    },
    {
     "data": {
      "application/vnd.jupyter.widget-view+json": {
       "model_id": "9430bb510fed44999e30a0abc49d4505",
       "version_major": 2,
       "version_minor": 0
      },
      "text/plain": [
       "HBox(children=(FloatProgress(value=1.0, bar_style='info', description='Training', layout=Layout(flex='2'), max…"
      ]
     },
     "metadata": {},
     "output_type": "display_data"
    },
    {
     "data": {
      "application/vnd.jupyter.widget-view+json": {
       "model_id": "",
       "version_major": 2,
       "version_minor": 0
      },
      "text/plain": [
       "HBox(children=(FloatProgress(value=1.0, bar_style='info', description='Validating', layout=Layout(flex='2'), m…"
      ]
     },
     "metadata": {},
     "output_type": "display_data"
    },
    {
     "name": "stderr",
     "output_type": "stream",
     "text": [
      "\n",
      "Epoch 00000: val_loss reached 0.24877 (best 0.24877), saving model to /home/leos/IMAGE_ANALYSIS/trained_dl_models/smp/Kumar/V1/patch_224/test_lightning/epoch=0.ckpt as top 1\n"
     ]
    },
    {
     "data": {
      "application/vnd.jupyter.widget-view+json": {
       "model_id": "",
       "version_major": 2,
       "version_minor": 0
      },
      "text/plain": [
       "HBox(children=(FloatProgress(value=1.0, bar_style='info', description='Validating', layout=Layout(flex='2'), m…"
      ]
     },
     "metadata": {},
     "output_type": "display_data"
    },
    {
     "name": "stderr",
     "output_type": "stream",
     "text": [
      "\n",
      "Epoch 00001: val_loss reached 0.20884 (best 0.20884), saving model to /home/leos/IMAGE_ANALYSIS/trained_dl_models/smp/Kumar/V1/patch_224/test_lightning/epoch=1.ckpt as top 1\n"
     ]
    },
    {
     "data": {
      "application/vnd.jupyter.widget-view+json": {
       "model_id": "",
       "version_major": 2,
       "version_minor": 0
      },
      "text/plain": [
       "HBox(children=(FloatProgress(value=1.0, bar_style='info', description='Validating', layout=Layout(flex='2'), m…"
      ]
     },
     "metadata": {},
     "output_type": "display_data"
    },
    {
     "name": "stderr",
     "output_type": "stream",
     "text": [
      "\n",
      "Epoch 00002: val_loss reached 0.20376 (best 0.20376), saving model to /home/leos/IMAGE_ANALYSIS/trained_dl_models/smp/Kumar/V1/patch_224/test_lightning/epoch=2.ckpt as top 1\n"
     ]
    },
    {
     "data": {
      "application/vnd.jupyter.widget-view+json": {
       "model_id": "",
       "version_major": 2,
       "version_minor": 0
      },
      "text/plain": [
       "HBox(children=(FloatProgress(value=1.0, bar_style='info', description='Validating', layout=Layout(flex='2'), m…"
      ]
     },
     "metadata": {},
     "output_type": "display_data"
    },
    {
     "name": "stderr",
     "output_type": "stream",
     "text": [
      "\n",
      "Epoch 00003: val_loss reached 0.18919 (best 0.18919), saving model to /home/leos/IMAGE_ANALYSIS/trained_dl_models/smp/Kumar/V1/patch_224/test_lightning/epoch=3.ckpt as top 1\n"
     ]
    },
    {
     "data": {
      "application/vnd.jupyter.widget-view+json": {
       "model_id": "",
       "version_major": 2,
       "version_minor": 0
      },
      "text/plain": [
       "HBox(children=(FloatProgress(value=1.0, bar_style='info', description='Validating', layout=Layout(flex='2'), m…"
      ]
     },
     "metadata": {},
     "output_type": "display_data"
    },
    {
     "name": "stderr",
     "output_type": "stream",
     "text": [
      "\n",
      "Epoch 00004: val_loss  was not in top 1\n"
     ]
    },
    {
     "data": {
      "application/vnd.jupyter.widget-view+json": {
       "model_id": "",
       "version_major": 2,
       "version_minor": 0
      },
      "text/plain": [
       "HBox(children=(FloatProgress(value=1.0, bar_style='info', description='Validating', layout=Layout(flex='2'), m…"
      ]
     },
     "metadata": {},
     "output_type": "display_data"
    },
    {
     "name": "stderr",
     "output_type": "stream",
     "text": [
      "\n",
      "Epoch 00005: val_loss reached 0.18001 (best 0.18001), saving model to /home/leos/IMAGE_ANALYSIS/trained_dl_models/smp/Kumar/V1/patch_224/test_lightning/epoch=5.ckpt as top 1\n"
     ]
    },
    {
     "data": {
      "application/vnd.jupyter.widget-view+json": {
       "model_id": "",
       "version_major": 2,
       "version_minor": 0
      },
      "text/plain": [
       "HBox(children=(FloatProgress(value=1.0, bar_style='info', description='Validating', layout=Layout(flex='2'), m…"
      ]
     },
     "metadata": {},
     "output_type": "display_data"
    },
    {
     "name": "stderr",
     "output_type": "stream",
     "text": [
      "\n",
      "Epoch 00006: val_loss  was not in top 1\n"
     ]
    },
    {
     "data": {
      "application/vnd.jupyter.widget-view+json": {
       "model_id": "",
       "version_major": 2,
       "version_minor": 0
      },
      "text/plain": [
       "HBox(children=(FloatProgress(value=1.0, bar_style='info', description='Validating', layout=Layout(flex='2'), m…"
      ]
     },
     "metadata": {},
     "output_type": "display_data"
    },
    {
     "name": "stderr",
     "output_type": "stream",
     "text": [
      "\n",
      "Epoch 00007: val_loss  was not in top 1\n"
     ]
    },
    {
     "data": {
      "application/vnd.jupyter.widget-view+json": {
       "model_id": "",
       "version_major": 2,
       "version_minor": 0
      },
      "text/plain": [
       "HBox(children=(FloatProgress(value=1.0, bar_style='info', description='Validating', layout=Layout(flex='2'), m…"
      ]
     },
     "metadata": {},
     "output_type": "display_data"
    },
    {
     "name": "stderr",
     "output_type": "stream",
     "text": [
      "\n",
      "Epoch 00008: val_loss reached 0.17601 (best 0.17601), saving model to /home/leos/IMAGE_ANALYSIS/trained_dl_models/smp/Kumar/V1/patch_224/test_lightning/epoch=8.ckpt as top 1\n"
     ]
    },
    {
     "data": {
      "application/vnd.jupyter.widget-view+json": {
       "model_id": "",
       "version_major": 2,
       "version_minor": 0
      },
      "text/plain": [
       "HBox(children=(FloatProgress(value=1.0, bar_style='info', description='Validating', layout=Layout(flex='2'), m…"
      ]
     },
     "metadata": {},
     "output_type": "display_data"
    },
    {
     "name": "stderr",
     "output_type": "stream",
     "text": [
      "\n",
      "Epoch 00009: val_loss  was not in top 1\n"
     ]
    },
    {
     "data": {
      "application/vnd.jupyter.widget-view+json": {
       "model_id": "",
       "version_major": 2,
       "version_minor": 0
      },
      "text/plain": [
       "HBox(children=(FloatProgress(value=1.0, bar_style='info', description='Validating', layout=Layout(flex='2'), m…"
      ]
     },
     "metadata": {},
     "output_type": "display_data"
    },
    {
     "name": "stderr",
     "output_type": "stream",
     "text": [
      "\n",
      "Epoch 00010: val_loss  was not in top 1\n"
     ]
    },
    {
     "data": {
      "application/vnd.jupyter.widget-view+json": {
       "model_id": "",
       "version_major": 2,
       "version_minor": 0
      },
      "text/plain": [
       "HBox(children=(FloatProgress(value=1.0, bar_style='info', description='Validating', layout=Layout(flex='2'), m…"
      ]
     },
     "metadata": {},
     "output_type": "display_data"
    },
    {
     "name": "stderr",
     "output_type": "stream",
     "text": [
      "\n",
      "Epoch 00011: val_loss reached 0.17461 (best 0.17461), saving model to /home/leos/IMAGE_ANALYSIS/trained_dl_models/smp/Kumar/V1/patch_224/test_lightning/epoch=11.ckpt as top 1\n"
     ]
    },
    {
     "data": {
      "application/vnd.jupyter.widget-view+json": {
       "model_id": "",
       "version_major": 2,
       "version_minor": 0
      },
      "text/plain": [
       "HBox(children=(FloatProgress(value=1.0, bar_style='info', description='Validating', layout=Layout(flex='2'), m…"
      ]
     },
     "metadata": {},
     "output_type": "display_data"
    },
    {
     "name": "stderr",
     "output_type": "stream",
     "text": [
      "\n",
      "Epoch 00012: val_loss  was not in top 1\n"
     ]
    },
    {
     "data": {
      "application/vnd.jupyter.widget-view+json": {
       "model_id": "",
       "version_major": 2,
       "version_minor": 0
      },
      "text/plain": [
       "HBox(children=(FloatProgress(value=1.0, bar_style='info', description='Validating', layout=Layout(flex='2'), m…"
      ]
     },
     "metadata": {},
     "output_type": "display_data"
    },
    {
     "name": "stderr",
     "output_type": "stream",
     "text": [
      "\n",
      "Epoch 00013: val_loss  was not in top 1\n"
     ]
    },
    {
     "data": {
      "application/vnd.jupyter.widget-view+json": {
       "model_id": "",
       "version_major": 2,
       "version_minor": 0
      },
      "text/plain": [
       "HBox(children=(FloatProgress(value=1.0, bar_style='info', description='Validating', layout=Layout(flex='2'), m…"
      ]
     },
     "metadata": {},
     "output_type": "display_data"
    },
    {
     "name": "stderr",
     "output_type": "stream",
     "text": [
      "\n",
      "Epoch 00014: val_loss  was not in top 1\n"
     ]
    },
    {
     "name": "stdout",
     "output_type": "stream",
     "text": [
      "Epoch    15: reducing learning rate of group 0 to 1.2500e-04.\n",
      "Epoch    15: reducing learning rate of group 1 to 1.2500e-04.\n",
      "Epoch    15: reducing learning rate of group 2 to 1.2500e-04.\n",
      "Epoch    15: reducing learning rate of group 3 to 1.2500e-04.\n",
      "Epoch    15: reducing learning rate of group 4 to 1.2500e-04.\n",
      "Epoch    15: reducing learning rate of group 5 to 1.2500e-04.\n",
      "Epoch    15: reducing learning rate of group 6 to 1.2500e-04.\n",
      "Epoch    15: reducing learning rate of group 7 to 1.2500e-04.\n",
      "Epoch    15: reducing learning rate of group 8 to 1.2500e-04.\n",
      "Epoch    15: reducing learning rate of group 9 to 1.2500e-04.\n",
      "Epoch    15: reducing learning rate of group 10 to 1.2500e-04.\n",
      "Epoch    15: reducing learning rate of group 11 to 1.2500e-04.\n",
      "Epoch    15: reducing learning rate of group 12 to 1.2500e-04.\n",
      "Epoch    15: reducing learning rate of group 13 to 1.2500e-04.\n",
      "Epoch    15: reducing learning rate of group 14 to 1.2500e-04.\n",
      "Epoch    15: reducing learning rate of group 15 to 1.2500e-04.\n",
      "Epoch    15: reducing learning rate of group 16 to 1.2500e-04.\n",
      "Epoch    15: reducing learning rate of group 17 to 1.2500e-04.\n",
      "Epoch    15: reducing learning rate of group 18 to 1.2500e-04.\n",
      "Epoch    15: reducing learning rate of group 19 to 1.2500e-04.\n",
      "Epoch    15: reducing learning rate of group 20 to 1.2500e-04.\n",
      "Epoch    15: reducing learning rate of group 21 to 1.2500e-04.\n",
      "Epoch    15: reducing learning rate of group 22 to 1.2500e-04.\n",
      "Epoch    15: reducing learning rate of group 23 to 1.2500e-04.\n",
      "Epoch    15: reducing learning rate of group 24 to 1.2500e-04.\n",
      "Epoch    15: reducing learning rate of group 25 to 1.2500e-04.\n",
      "Epoch    15: reducing learning rate of group 26 to 1.2500e-04.\n",
      "Epoch    15: reducing learning rate of group 27 to 1.2500e-04.\n",
      "Epoch    15: reducing learning rate of group 28 to 1.2500e-04.\n",
      "Epoch    15: reducing learning rate of group 29 to 1.2500e-04.\n",
      "Epoch    15: reducing learning rate of group 30 to 1.2500e-04.\n",
      "Epoch    15: reducing learning rate of group 31 to 1.2500e-04.\n",
      "Epoch    15: reducing learning rate of group 32 to 1.2500e-04.\n",
      "Epoch    15: reducing learning rate of group 33 to 1.2500e-04.\n",
      "Epoch    15: reducing learning rate of group 34 to 1.2500e-04.\n",
      "Epoch    15: reducing learning rate of group 35 to 1.2500e-04.\n",
      "Epoch    15: reducing learning rate of group 36 to 1.2500e-04.\n",
      "Epoch    15: reducing learning rate of group 37 to 1.2500e-04.\n",
      "Epoch    15: reducing learning rate of group 38 to 1.2500e-04.\n",
      "Epoch    15: reducing learning rate of group 39 to 1.2500e-04.\n",
      "Epoch    15: reducing learning rate of group 40 to 1.2500e-04.\n",
      "Epoch    15: reducing learning rate of group 41 to 1.2500e-04.\n",
      "Epoch    15: reducing learning rate of group 42 to 1.2500e-04.\n",
      "Epoch    15: reducing learning rate of group 43 to 1.2500e-04.\n",
      "Epoch    15: reducing learning rate of group 44 to 1.2500e-04.\n",
      "Epoch    15: reducing learning rate of group 45 to 1.2500e-04.\n",
      "Epoch    15: reducing learning rate of group 46 to 1.2500e-04.\n",
      "Epoch    15: reducing learning rate of group 47 to 1.2500e-04.\n",
      "Epoch    15: reducing learning rate of group 48 to 1.2500e-04.\n",
      "Epoch    15: reducing learning rate of group 49 to 1.2500e-04.\n",
      "Epoch    15: reducing learning rate of group 50 to 1.2500e-04.\n",
      "Epoch    15: reducing learning rate of group 51 to 1.2500e-04.\n",
      "Epoch    15: reducing learning rate of group 52 to 1.2500e-04.\n",
      "Epoch    15: reducing learning rate of group 53 to 1.2500e-04.\n",
      "Epoch    15: reducing learning rate of group 54 to 1.2500e-04.\n",
      "Epoch    15: reducing learning rate of group 55 to 1.2500e-04.\n",
      "Epoch    15: reducing learning rate of group 56 to 1.2500e-04.\n",
      "Epoch    15: reducing learning rate of group 57 to 1.2500e-04.\n",
      "Epoch    15: reducing learning rate of group 58 to 1.2500e-04.\n",
      "Epoch    15: reducing learning rate of group 59 to 1.2500e-04.\n",
      "Epoch    15: reducing learning rate of group 60 to 1.2500e-04.\n",
      "Epoch    15: reducing learning rate of group 61 to 1.2500e-04.\n",
      "Epoch    15: reducing learning rate of group 62 to 1.2500e-04.\n",
      "Epoch    15: reducing learning rate of group 63 to 1.2500e-04.\n",
      "Epoch    15: reducing learning rate of group 64 to 1.2500e-04.\n",
      "Epoch    15: reducing learning rate of group 65 to 1.2500e-04.\n",
      "Epoch    15: reducing learning rate of group 66 to 1.2500e-04.\n",
      "Epoch    15: reducing learning rate of group 67 to 1.2500e-04.\n",
      "Epoch    15: reducing learning rate of group 68 to 1.2500e-04.\n",
      "Epoch    15: reducing learning rate of group 69 to 1.2500e-04.\n",
      "Epoch    15: reducing learning rate of group 70 to 1.2500e-04.\n",
      "Epoch    15: reducing learning rate of group 71 to 1.2500e-04.\n",
      "Epoch    15: reducing learning rate of group 72 to 1.2500e-04.\n",
      "Epoch    15: reducing learning rate of group 73 to 1.2500e-04.\n",
      "Epoch    15: reducing learning rate of group 74 to 1.2500e-04.\n",
      "Epoch    15: reducing learning rate of group 75 to 1.2500e-04.\n",
      "Epoch    15: reducing learning rate of group 76 to 1.2500e-04.\n",
      "Epoch    15: reducing learning rate of group 77 to 1.2500e-04.\n",
      "Epoch    15: reducing learning rate of group 78 to 1.2500e-04.\n",
      "Epoch    15: reducing learning rate of group 79 to 1.2500e-04.\n",
      "Epoch    15: reducing learning rate of group 80 to 1.2500e-04.\n",
      "Epoch    15: reducing learning rate of group 81 to 1.2500e-04.\n",
      "Epoch    15: reducing learning rate of group 82 to 1.2500e-04.\n",
      "Epoch    15: reducing learning rate of group 83 to 1.2500e-04.\n",
      "Epoch    15: reducing learning rate of group 84 to 1.2500e-04.\n",
      "Epoch    15: reducing learning rate of group 85 to 1.2500e-04.\n",
      "Epoch    15: reducing learning rate of group 86 to 1.2500e-04.\n",
      "Epoch    15: reducing learning rate of group 87 to 1.2500e-04.\n",
      "Epoch    15: reducing learning rate of group 88 to 1.2500e-04.\n",
      "Epoch    15: reducing learning rate of group 89 to 1.2500e-04.\n",
      "Epoch    15: reducing learning rate of group 90 to 1.2500e-04.\n",
      "Epoch    15: reducing learning rate of group 91 to 1.2500e-04.\n",
      "Epoch    15: reducing learning rate of group 92 to 1.2500e-04.\n",
      "Epoch    15: reducing learning rate of group 93 to 1.2500e-04.\n",
      "Epoch    15: reducing learning rate of group 94 to 1.2500e-04.\n",
      "Epoch    15: reducing learning rate of group 95 to 1.2500e-04.\n",
      "Epoch    15: reducing learning rate of group 96 to 1.2500e-04.\n",
      "Epoch    15: reducing learning rate of group 97 to 1.2500e-04.\n",
      "Epoch    15: reducing learning rate of group 98 to 1.2500e-04.\n",
      "Epoch    15: reducing learning rate of group 99 to 1.2500e-04.\n",
      "Epoch    15: reducing learning rate of group 100 to 1.2500e-04.\n",
      "Epoch    15: reducing learning rate of group 101 to 1.2500e-04.\n",
      "Epoch    15: reducing learning rate of group 102 to 1.2500e-04.\n",
      "Epoch    15: reducing learning rate of group 103 to 1.2500e-04.\n",
      "Epoch    15: reducing learning rate of group 104 to 1.2500e-04.\n",
      "Epoch    15: reducing learning rate of group 105 to 1.2500e-04.\n",
      "Epoch    15: reducing learning rate of group 106 to 1.2500e-04.\n",
      "Epoch    15: reducing learning rate of group 107 to 1.2500e-04.\n",
      "Epoch    15: reducing learning rate of group 108 to 1.2500e-04.\n",
      "Epoch    15: reducing learning rate of group 109 to 1.2500e-04.\n",
      "Epoch    15: reducing learning rate of group 110 to 1.2500e-04.\n",
      "Epoch    15: reducing learning rate of group 111 to 1.2500e-04.\n",
      "Epoch    15: reducing learning rate of group 112 to 1.2500e-04.\n",
      "Epoch    15: reducing learning rate of group 113 to 1.2500e-04.\n",
      "Epoch    15: reducing learning rate of group 114 to 1.2500e-04.\n",
      "Epoch    15: reducing learning rate of group 115 to 1.2500e-04.\n",
      "Epoch    15: reducing learning rate of group 116 to 1.2500e-04.\n",
      "Epoch    15: reducing learning rate of group 117 to 1.2500e-04.\n",
      "Epoch    15: reducing learning rate of group 118 to 1.2500e-04.\n",
      "Epoch    15: reducing learning rate of group 119 to 1.2500e-04.\n",
      "Epoch    15: reducing learning rate of group 120 to 1.2500e-04.\n",
      "Epoch    15: reducing learning rate of group 121 to 1.2500e-04.\n",
      "Epoch    15: reducing learning rate of group 122 to 1.2500e-04.\n",
      "Epoch    15: reducing learning rate of group 123 to 1.2500e-04.\n",
      "Epoch    15: reducing learning rate of group 124 to 1.2500e-04.\n",
      "Epoch    15: reducing learning rate of group 125 to 1.2500e-04.\n",
      "Epoch    15: reducing learning rate of group 126 to 1.2500e-04.\n",
      "Epoch    15: reducing learning rate of group 127 to 1.2500e-04.\n",
      "Epoch    15: reducing learning rate of group 128 to 1.2500e-04.\n",
      "Epoch    15: reducing learning rate of group 129 to 1.2500e-04.\n",
      "Epoch    15: reducing learning rate of group 130 to 1.2500e-04.\n",
      "Epoch    15: reducing learning rate of group 131 to 1.2500e-04.\n",
      "Epoch    15: reducing learning rate of group 132 to 1.2500e-04.\n",
      "Epoch    15: reducing learning rate of group 133 to 1.2500e-04.\n",
      "Epoch    15: reducing learning rate of group 134 to 1.2500e-04.\n",
      "Epoch    15: reducing learning rate of group 135 to 1.2500e-04.\n",
      "Epoch    15: reducing learning rate of group 136 to 1.2500e-04.\n",
      "Epoch    15: reducing learning rate of group 137 to 1.2500e-04.\n",
      "Epoch    15: reducing learning rate of group 138 to 1.2500e-04.\n",
      "Epoch    15: reducing learning rate of group 139 to 1.2500e-04.\n",
      "Epoch    15: reducing learning rate of group 140 to 1.2500e-04.\n",
      "Epoch    15: reducing learning rate of group 141 to 1.2500e-04.\n",
      "Epoch    15: reducing learning rate of group 142 to 1.2500e-04.\n",
      "Epoch    15: reducing learning rate of group 143 to 1.2500e-04.\n",
      "Epoch    15: reducing learning rate of group 144 to 1.2500e-04.\n",
      "Epoch    15: reducing learning rate of group 145 to 1.2500e-04.\n",
      "Epoch    15: reducing learning rate of group 146 to 1.2500e-04.\n",
      "Epoch    15: reducing learning rate of group 147 to 1.2500e-04.\n",
      "Epoch    15: reducing learning rate of group 148 to 1.2500e-04.\n",
      "Epoch    15: reducing learning rate of group 149 to 1.2500e-04.\n",
      "Epoch    15: reducing learning rate of group 150 to 1.2500e-04.\n",
      "Epoch    15: reducing learning rate of group 151 to 1.2500e-04.\n",
      "Epoch    15: reducing learning rate of group 152 to 1.2500e-04.\n",
      "Epoch    15: reducing learning rate of group 153 to 1.2500e-04.\n",
      "Epoch    15: reducing learning rate of group 154 to 1.2500e-04.\n",
      "Epoch    15: reducing learning rate of group 155 to 1.2500e-04.\n",
      "Epoch    15: reducing learning rate of group 156 to 1.2500e-04.\n",
      "Epoch    15: reducing learning rate of group 157 to 1.2500e-04.\n",
      "Epoch    15: reducing learning rate of group 158 to 1.2500e-04.\n",
      "Epoch    15: reducing learning rate of group 159 to 2.5000e-04.\n",
      "Epoch    15: reducing learning rate of group 160 to 2.5000e-04.\n",
      "Epoch    15: reducing learning rate of group 161 to 2.5000e-04.\n",
      "Epoch    15: reducing learning rate of group 162 to 2.5000e-04.\n",
      "Epoch    15: reducing learning rate of group 163 to 2.5000e-04.\n",
      "Epoch    15: reducing learning rate of group 164 to 2.5000e-04.\n",
      "Epoch    15: reducing learning rate of group 165 to 2.5000e-04.\n",
      "Epoch    15: reducing learning rate of group 166 to 2.5000e-04.\n",
      "Epoch    15: reducing learning rate of group 167 to 2.5000e-04.\n",
      "Epoch    15: reducing learning rate of group 168 to 2.5000e-04.\n",
      "Epoch    15: reducing learning rate of group 169 to 2.5000e-04.\n",
      "Epoch    15: reducing learning rate of group 170 to 2.5000e-04.\n",
      "Epoch    15: reducing learning rate of group 171 to 2.5000e-04.\n",
      "Epoch    15: reducing learning rate of group 172 to 2.5000e-04.\n",
      "Epoch    15: reducing learning rate of group 173 to 2.5000e-04.\n",
      "Epoch    15: reducing learning rate of group 174 to 2.5000e-04.\n",
      "Epoch    15: reducing learning rate of group 175 to 2.5000e-04.\n",
      "Epoch    15: reducing learning rate of group 176 to 2.5000e-04.\n",
      "Epoch    15: reducing learning rate of group 177 to 2.5000e-04.\n",
      "Epoch    15: reducing learning rate of group 178 to 2.5000e-04.\n",
      "Epoch    15: reducing learning rate of group 179 to 2.5000e-04.\n",
      "Epoch    15: reducing learning rate of group 180 to 2.5000e-04.\n",
      "Epoch    15: reducing learning rate of group 181 to 2.5000e-04.\n",
      "Epoch    15: reducing learning rate of group 182 to 2.5000e-04.\n",
      "Epoch    15: reducing learning rate of group 183 to 2.5000e-04.\n",
      "Epoch    15: reducing learning rate of group 184 to 2.5000e-04.\n",
      "Epoch    15: reducing learning rate of group 185 to 2.5000e-04.\n",
      "Epoch    15: reducing learning rate of group 186 to 2.5000e-04.\n",
      "Epoch    15: reducing learning rate of group 187 to 2.5000e-04.\n",
      "Epoch    15: reducing learning rate of group 188 to 2.5000e-04.\n",
      "Epoch    15: reducing learning rate of group 189 to 2.5000e-04.\n"
     ]
    },
    {
     "data": {
      "application/vnd.jupyter.widget-view+json": {
       "model_id": "",
       "version_major": 2,
       "version_minor": 0
      },
      "text/plain": [
       "HBox(children=(FloatProgress(value=1.0, bar_style='info', description='Validating', layout=Layout(flex='2'), m…"
      ]
     },
     "metadata": {},
     "output_type": "display_data"
    },
    {
     "name": "stderr",
     "output_type": "stream",
     "text": [
      "\n",
      "Epoch 00015: val_loss  was not in top 1\n"
     ]
    },
    {
     "data": {
      "application/vnd.jupyter.widget-view+json": {
       "model_id": "",
       "version_major": 2,
       "version_minor": 0
      },
      "text/plain": [
       "HBox(children=(FloatProgress(value=1.0, bar_style='info', description='Validating', layout=Layout(flex='2'), m…"
      ]
     },
     "metadata": {},
     "output_type": "display_data"
    },
    {
     "name": "stderr",
     "output_type": "stream",
     "text": [
      "\n",
      "Epoch 00016: val_loss  was not in top 1\n"
     ]
    },
    {
     "data": {
      "application/vnd.jupyter.widget-view+json": {
       "model_id": "",
       "version_major": 2,
       "version_minor": 0
      },
      "text/plain": [
       "HBox(children=(FloatProgress(value=1.0, bar_style='info', description='Validating', layout=Layout(flex='2'), m…"
      ]
     },
     "metadata": {},
     "output_type": "display_data"
    },
    {
     "name": "stderr",
     "output_type": "stream",
     "text": [
      "\n",
      "Epoch 00017: val_loss reached 0.17337 (best 0.17337), saving model to /home/leos/IMAGE_ANALYSIS/trained_dl_models/smp/Kumar/V1/patch_224/test_lightning/epoch=17.ckpt as top 1\n"
     ]
    },
    {
     "data": {
      "application/vnd.jupyter.widget-view+json": {
       "model_id": "",
       "version_major": 2,
       "version_minor": 0
      },
      "text/plain": [
       "HBox(children=(FloatProgress(value=1.0, bar_style='info', description='Validating', layout=Layout(flex='2'), m…"
      ]
     },
     "metadata": {},
     "output_type": "display_data"
    },
    {
     "name": "stderr",
     "output_type": "stream",
     "text": [
      "\n",
      "Epoch 00018: val_loss  was not in top 1\n"
     ]
    },
    {
     "data": {
      "application/vnd.jupyter.widget-view+json": {
       "model_id": "",
       "version_major": 2,
       "version_minor": 0
      },
      "text/plain": [
       "HBox(children=(FloatProgress(value=1.0, bar_style='info', description='Validating', layout=Layout(flex='2'), m…"
      ]
     },
     "metadata": {},
     "output_type": "display_data"
    },
    {
     "name": "stderr",
     "output_type": "stream",
     "text": [
      "\n",
      "Epoch 00019: val_loss  was not in top 1\n"
     ]
    },
    {
     "data": {
      "application/vnd.jupyter.widget-view+json": {
       "model_id": "",
       "version_major": 2,
       "version_minor": 0
      },
      "text/plain": [
       "HBox(children=(FloatProgress(value=1.0, bar_style='info', description='Validating', layout=Layout(flex='2'), m…"
      ]
     },
     "metadata": {},
     "output_type": "display_data"
    },
    {
     "name": "stderr",
     "output_type": "stream",
     "text": [
      "\n",
      "Epoch 00020: val_loss  was not in top 1\n"
     ]
    },
    {
     "name": "stdout",
     "output_type": "stream",
     "text": [
      "Epoch    21: reducing learning rate of group 0 to 3.1250e-05.\n",
      "Epoch    21: reducing learning rate of group 1 to 3.1250e-05.\n",
      "Epoch    21: reducing learning rate of group 2 to 3.1250e-05.\n",
      "Epoch    21: reducing learning rate of group 3 to 3.1250e-05.\n",
      "Epoch    21: reducing learning rate of group 4 to 3.1250e-05.\n",
      "Epoch    21: reducing learning rate of group 5 to 3.1250e-05.\n",
      "Epoch    21: reducing learning rate of group 6 to 3.1250e-05.\n",
      "Epoch    21: reducing learning rate of group 7 to 3.1250e-05.\n",
      "Epoch    21: reducing learning rate of group 8 to 3.1250e-05.\n",
      "Epoch    21: reducing learning rate of group 9 to 3.1250e-05.\n",
      "Epoch    21: reducing learning rate of group 10 to 3.1250e-05.\n",
      "Epoch    21: reducing learning rate of group 11 to 3.1250e-05.\n",
      "Epoch    21: reducing learning rate of group 12 to 3.1250e-05.\n",
      "Epoch    21: reducing learning rate of group 13 to 3.1250e-05.\n",
      "Epoch    21: reducing learning rate of group 14 to 3.1250e-05.\n",
      "Epoch    21: reducing learning rate of group 15 to 3.1250e-05.\n",
      "Epoch    21: reducing learning rate of group 16 to 3.1250e-05.\n",
      "Epoch    21: reducing learning rate of group 17 to 3.1250e-05.\n",
      "Epoch    21: reducing learning rate of group 18 to 3.1250e-05.\n",
      "Epoch    21: reducing learning rate of group 19 to 3.1250e-05.\n",
      "Epoch    21: reducing learning rate of group 20 to 3.1250e-05.\n",
      "Epoch    21: reducing learning rate of group 21 to 3.1250e-05.\n",
      "Epoch    21: reducing learning rate of group 22 to 3.1250e-05.\n",
      "Epoch    21: reducing learning rate of group 23 to 3.1250e-05.\n",
      "Epoch    21: reducing learning rate of group 24 to 3.1250e-05.\n",
      "Epoch    21: reducing learning rate of group 25 to 3.1250e-05.\n",
      "Epoch    21: reducing learning rate of group 26 to 3.1250e-05.\n",
      "Epoch    21: reducing learning rate of group 27 to 3.1250e-05.\n",
      "Epoch    21: reducing learning rate of group 28 to 3.1250e-05.\n",
      "Epoch    21: reducing learning rate of group 29 to 3.1250e-05.\n",
      "Epoch    21: reducing learning rate of group 30 to 3.1250e-05.\n",
      "Epoch    21: reducing learning rate of group 31 to 3.1250e-05.\n",
      "Epoch    21: reducing learning rate of group 32 to 3.1250e-05.\n",
      "Epoch    21: reducing learning rate of group 33 to 3.1250e-05.\n",
      "Epoch    21: reducing learning rate of group 34 to 3.1250e-05.\n",
      "Epoch    21: reducing learning rate of group 35 to 3.1250e-05.\n",
      "Epoch    21: reducing learning rate of group 36 to 3.1250e-05.\n",
      "Epoch    21: reducing learning rate of group 37 to 3.1250e-05.\n",
      "Epoch    21: reducing learning rate of group 38 to 3.1250e-05.\n",
      "Epoch    21: reducing learning rate of group 39 to 3.1250e-05.\n",
      "Epoch    21: reducing learning rate of group 40 to 3.1250e-05.\n",
      "Epoch    21: reducing learning rate of group 41 to 3.1250e-05.\n",
      "Epoch    21: reducing learning rate of group 42 to 3.1250e-05.\n",
      "Epoch    21: reducing learning rate of group 43 to 3.1250e-05.\n",
      "Epoch    21: reducing learning rate of group 44 to 3.1250e-05.\n",
      "Epoch    21: reducing learning rate of group 45 to 3.1250e-05.\n",
      "Epoch    21: reducing learning rate of group 46 to 3.1250e-05.\n",
      "Epoch    21: reducing learning rate of group 47 to 3.1250e-05.\n",
      "Epoch    21: reducing learning rate of group 48 to 3.1250e-05.\n",
      "Epoch    21: reducing learning rate of group 49 to 3.1250e-05.\n",
      "Epoch    21: reducing learning rate of group 50 to 3.1250e-05.\n",
      "Epoch    21: reducing learning rate of group 51 to 3.1250e-05.\n",
      "Epoch    21: reducing learning rate of group 52 to 3.1250e-05.\n",
      "Epoch    21: reducing learning rate of group 53 to 3.1250e-05.\n",
      "Epoch    21: reducing learning rate of group 54 to 3.1250e-05.\n",
      "Epoch    21: reducing learning rate of group 55 to 3.1250e-05.\n",
      "Epoch    21: reducing learning rate of group 56 to 3.1250e-05.\n",
      "Epoch    21: reducing learning rate of group 57 to 3.1250e-05.\n",
      "Epoch    21: reducing learning rate of group 58 to 3.1250e-05.\n",
      "Epoch    21: reducing learning rate of group 59 to 3.1250e-05.\n",
      "Epoch    21: reducing learning rate of group 60 to 3.1250e-05.\n",
      "Epoch    21: reducing learning rate of group 61 to 3.1250e-05.\n",
      "Epoch    21: reducing learning rate of group 62 to 3.1250e-05.\n",
      "Epoch    21: reducing learning rate of group 63 to 3.1250e-05.\n",
      "Epoch    21: reducing learning rate of group 64 to 3.1250e-05.\n",
      "Epoch    21: reducing learning rate of group 65 to 3.1250e-05.\n",
      "Epoch    21: reducing learning rate of group 66 to 3.1250e-05.\n",
      "Epoch    21: reducing learning rate of group 67 to 3.1250e-05.\n",
      "Epoch    21: reducing learning rate of group 68 to 3.1250e-05.\n",
      "Epoch    21: reducing learning rate of group 69 to 3.1250e-05.\n",
      "Epoch    21: reducing learning rate of group 70 to 3.1250e-05.\n",
      "Epoch    21: reducing learning rate of group 71 to 3.1250e-05.\n",
      "Epoch    21: reducing learning rate of group 72 to 3.1250e-05.\n",
      "Epoch    21: reducing learning rate of group 73 to 3.1250e-05.\n",
      "Epoch    21: reducing learning rate of group 74 to 3.1250e-05.\n",
      "Epoch    21: reducing learning rate of group 75 to 3.1250e-05.\n",
      "Epoch    21: reducing learning rate of group 76 to 3.1250e-05.\n",
      "Epoch    21: reducing learning rate of group 77 to 3.1250e-05.\n",
      "Epoch    21: reducing learning rate of group 78 to 3.1250e-05.\n",
      "Epoch    21: reducing learning rate of group 79 to 3.1250e-05.\n",
      "Epoch    21: reducing learning rate of group 80 to 3.1250e-05.\n",
      "Epoch    21: reducing learning rate of group 81 to 3.1250e-05.\n",
      "Epoch    21: reducing learning rate of group 82 to 3.1250e-05.\n",
      "Epoch    21: reducing learning rate of group 83 to 3.1250e-05.\n",
      "Epoch    21: reducing learning rate of group 84 to 3.1250e-05.\n",
      "Epoch    21: reducing learning rate of group 85 to 3.1250e-05.\n",
      "Epoch    21: reducing learning rate of group 86 to 3.1250e-05.\n",
      "Epoch    21: reducing learning rate of group 87 to 3.1250e-05.\n",
      "Epoch    21: reducing learning rate of group 88 to 3.1250e-05.\n",
      "Epoch    21: reducing learning rate of group 89 to 3.1250e-05.\n",
      "Epoch    21: reducing learning rate of group 90 to 3.1250e-05.\n",
      "Epoch    21: reducing learning rate of group 91 to 3.1250e-05.\n",
      "Epoch    21: reducing learning rate of group 92 to 3.1250e-05.\n",
      "Epoch    21: reducing learning rate of group 93 to 3.1250e-05.\n",
      "Epoch    21: reducing learning rate of group 94 to 3.1250e-05.\n",
      "Epoch    21: reducing learning rate of group 95 to 3.1250e-05.\n",
      "Epoch    21: reducing learning rate of group 96 to 3.1250e-05.\n",
      "Epoch    21: reducing learning rate of group 97 to 3.1250e-05.\n",
      "Epoch    21: reducing learning rate of group 98 to 3.1250e-05.\n",
      "Epoch    21: reducing learning rate of group 99 to 3.1250e-05.\n",
      "Epoch    21: reducing learning rate of group 100 to 3.1250e-05.\n",
      "Epoch    21: reducing learning rate of group 101 to 3.1250e-05.\n",
      "Epoch    21: reducing learning rate of group 102 to 3.1250e-05.\n",
      "Epoch    21: reducing learning rate of group 103 to 3.1250e-05.\n",
      "Epoch    21: reducing learning rate of group 104 to 3.1250e-05.\n",
      "Epoch    21: reducing learning rate of group 105 to 3.1250e-05.\n",
      "Epoch    21: reducing learning rate of group 106 to 3.1250e-05.\n",
      "Epoch    21: reducing learning rate of group 107 to 3.1250e-05.\n",
      "Epoch    21: reducing learning rate of group 108 to 3.1250e-05.\n",
      "Epoch    21: reducing learning rate of group 109 to 3.1250e-05.\n",
      "Epoch    21: reducing learning rate of group 110 to 3.1250e-05.\n",
      "Epoch    21: reducing learning rate of group 111 to 3.1250e-05.\n",
      "Epoch    21: reducing learning rate of group 112 to 3.1250e-05.\n",
      "Epoch    21: reducing learning rate of group 113 to 3.1250e-05.\n",
      "Epoch    21: reducing learning rate of group 114 to 3.1250e-05.\n",
      "Epoch    21: reducing learning rate of group 115 to 3.1250e-05.\n",
      "Epoch    21: reducing learning rate of group 116 to 3.1250e-05.\n",
      "Epoch    21: reducing learning rate of group 117 to 3.1250e-05.\n",
      "Epoch    21: reducing learning rate of group 118 to 3.1250e-05.\n",
      "Epoch    21: reducing learning rate of group 119 to 3.1250e-05.\n",
      "Epoch    21: reducing learning rate of group 120 to 3.1250e-05.\n",
      "Epoch    21: reducing learning rate of group 121 to 3.1250e-05.\n",
      "Epoch    21: reducing learning rate of group 122 to 3.1250e-05.\n",
      "Epoch    21: reducing learning rate of group 123 to 3.1250e-05.\n",
      "Epoch    21: reducing learning rate of group 124 to 3.1250e-05.\n",
      "Epoch    21: reducing learning rate of group 125 to 3.1250e-05.\n",
      "Epoch    21: reducing learning rate of group 126 to 3.1250e-05.\n",
      "Epoch    21: reducing learning rate of group 127 to 3.1250e-05.\n",
      "Epoch    21: reducing learning rate of group 128 to 3.1250e-05.\n",
      "Epoch    21: reducing learning rate of group 129 to 3.1250e-05.\n",
      "Epoch    21: reducing learning rate of group 130 to 3.1250e-05.\n",
      "Epoch    21: reducing learning rate of group 131 to 3.1250e-05.\n",
      "Epoch    21: reducing learning rate of group 132 to 3.1250e-05.\n",
      "Epoch    21: reducing learning rate of group 133 to 3.1250e-05.\n",
      "Epoch    21: reducing learning rate of group 134 to 3.1250e-05.\n",
      "Epoch    21: reducing learning rate of group 135 to 3.1250e-05.\n",
      "Epoch    21: reducing learning rate of group 136 to 3.1250e-05.\n",
      "Epoch    21: reducing learning rate of group 137 to 3.1250e-05.\n",
      "Epoch    21: reducing learning rate of group 138 to 3.1250e-05.\n",
      "Epoch    21: reducing learning rate of group 139 to 3.1250e-05.\n",
      "Epoch    21: reducing learning rate of group 140 to 3.1250e-05.\n",
      "Epoch    21: reducing learning rate of group 141 to 3.1250e-05.\n",
      "Epoch    21: reducing learning rate of group 142 to 3.1250e-05.\n",
      "Epoch    21: reducing learning rate of group 143 to 3.1250e-05.\n",
      "Epoch    21: reducing learning rate of group 144 to 3.1250e-05.\n",
      "Epoch    21: reducing learning rate of group 145 to 3.1250e-05.\n",
      "Epoch    21: reducing learning rate of group 146 to 3.1250e-05.\n",
      "Epoch    21: reducing learning rate of group 147 to 3.1250e-05.\n",
      "Epoch    21: reducing learning rate of group 148 to 3.1250e-05.\n",
      "Epoch    21: reducing learning rate of group 149 to 3.1250e-05.\n",
      "Epoch    21: reducing learning rate of group 150 to 3.1250e-05.\n",
      "Epoch    21: reducing learning rate of group 151 to 3.1250e-05.\n",
      "Epoch    21: reducing learning rate of group 152 to 3.1250e-05.\n",
      "Epoch    21: reducing learning rate of group 153 to 3.1250e-05.\n",
      "Epoch    21: reducing learning rate of group 154 to 3.1250e-05.\n",
      "Epoch    21: reducing learning rate of group 155 to 3.1250e-05.\n",
      "Epoch    21: reducing learning rate of group 156 to 3.1250e-05.\n",
      "Epoch    21: reducing learning rate of group 157 to 3.1250e-05.\n",
      "Epoch    21: reducing learning rate of group 158 to 3.1250e-05.\n",
      "Epoch    21: reducing learning rate of group 159 to 6.2500e-05.\n",
      "Epoch    21: reducing learning rate of group 160 to 6.2500e-05.\n",
      "Epoch    21: reducing learning rate of group 161 to 6.2500e-05.\n",
      "Epoch    21: reducing learning rate of group 162 to 6.2500e-05.\n",
      "Epoch    21: reducing learning rate of group 163 to 6.2500e-05.\n",
      "Epoch    21: reducing learning rate of group 164 to 6.2500e-05.\n",
      "Epoch    21: reducing learning rate of group 165 to 6.2500e-05.\n",
      "Epoch    21: reducing learning rate of group 166 to 6.2500e-05.\n",
      "Epoch    21: reducing learning rate of group 167 to 6.2500e-05.\n",
      "Epoch    21: reducing learning rate of group 168 to 6.2500e-05.\n",
      "Epoch    21: reducing learning rate of group 169 to 6.2500e-05.\n",
      "Epoch    21: reducing learning rate of group 170 to 6.2500e-05.\n",
      "Epoch    21: reducing learning rate of group 171 to 6.2500e-05.\n",
      "Epoch    21: reducing learning rate of group 172 to 6.2500e-05.\n",
      "Epoch    21: reducing learning rate of group 173 to 6.2500e-05.\n",
      "Epoch    21: reducing learning rate of group 174 to 6.2500e-05.\n",
      "Epoch    21: reducing learning rate of group 175 to 6.2500e-05.\n",
      "Epoch    21: reducing learning rate of group 176 to 6.2500e-05.\n",
      "Epoch    21: reducing learning rate of group 177 to 6.2500e-05.\n",
      "Epoch    21: reducing learning rate of group 178 to 6.2500e-05.\n",
      "Epoch    21: reducing learning rate of group 179 to 6.2500e-05.\n",
      "Epoch    21: reducing learning rate of group 180 to 6.2500e-05.\n",
      "Epoch    21: reducing learning rate of group 181 to 6.2500e-05.\n",
      "Epoch    21: reducing learning rate of group 182 to 6.2500e-05.\n",
      "Epoch    21: reducing learning rate of group 183 to 6.2500e-05.\n",
      "Epoch    21: reducing learning rate of group 184 to 6.2500e-05.\n",
      "Epoch    21: reducing learning rate of group 185 to 6.2500e-05.\n",
      "Epoch    21: reducing learning rate of group 186 to 6.2500e-05.\n",
      "Epoch    21: reducing learning rate of group 187 to 6.2500e-05.\n",
      "Epoch    21: reducing learning rate of group 188 to 6.2500e-05.\n",
      "Epoch    21: reducing learning rate of group 189 to 6.2500e-05.\n"
     ]
    },
    {
     "data": {
      "application/vnd.jupyter.widget-view+json": {
       "model_id": "",
       "version_major": 2,
       "version_minor": 0
      },
      "text/plain": [
       "HBox(children=(FloatProgress(value=1.0, bar_style='info', description='Validating', layout=Layout(flex='2'), m…"
      ]
     },
     "metadata": {},
     "output_type": "display_data"
    },
    {
     "name": "stderr",
     "output_type": "stream",
     "text": [
      "\n",
      "Epoch 00021: val_loss  was not in top 1\n"
     ]
    },
    {
     "data": {
      "application/vnd.jupyter.widget-view+json": {
       "model_id": "",
       "version_major": 2,
       "version_minor": 0
      },
      "text/plain": [
       "HBox(children=(FloatProgress(value=1.0, bar_style='info', description='Validating', layout=Layout(flex='2'), m…"
      ]
     },
     "metadata": {},
     "output_type": "display_data"
    },
    {
     "name": "stderr",
     "output_type": "stream",
     "text": [
      "\n",
      "Epoch 00022: val_loss  was not in top 1\n"
     ]
    },
    {
     "data": {
      "application/vnd.jupyter.widget-view+json": {
       "model_id": "",
       "version_major": 2,
       "version_minor": 0
      },
      "text/plain": [
       "HBox(children=(FloatProgress(value=1.0, bar_style='info', description='Validating', layout=Layout(flex='2'), m…"
      ]
     },
     "metadata": {},
     "output_type": "display_data"
    },
    {
     "name": "stderr",
     "output_type": "stream",
     "text": [
      "\n",
      "Epoch 00023: val_loss  was not in top 1\n"
     ]
    },
    {
     "name": "stdout",
     "output_type": "stream",
     "text": [
      "Epoch    24: reducing learning rate of group 0 to 7.8125e-06.\n",
      "Epoch    24: reducing learning rate of group 1 to 7.8125e-06.\n",
      "Epoch    24: reducing learning rate of group 2 to 7.8125e-06.\n",
      "Epoch    24: reducing learning rate of group 3 to 7.8125e-06.\n",
      "Epoch    24: reducing learning rate of group 4 to 7.8125e-06.\n",
      "Epoch    24: reducing learning rate of group 5 to 7.8125e-06.\n",
      "Epoch    24: reducing learning rate of group 6 to 7.8125e-06.\n",
      "Epoch    24: reducing learning rate of group 7 to 7.8125e-06.\n",
      "Epoch    24: reducing learning rate of group 8 to 7.8125e-06.\n",
      "Epoch    24: reducing learning rate of group 9 to 7.8125e-06.\n",
      "Epoch    24: reducing learning rate of group 10 to 7.8125e-06.\n",
      "Epoch    24: reducing learning rate of group 11 to 7.8125e-06.\n",
      "Epoch    24: reducing learning rate of group 12 to 7.8125e-06.\n",
      "Epoch    24: reducing learning rate of group 13 to 7.8125e-06.\n",
      "Epoch    24: reducing learning rate of group 14 to 7.8125e-06.\n",
      "Epoch    24: reducing learning rate of group 15 to 7.8125e-06.\n",
      "Epoch    24: reducing learning rate of group 16 to 7.8125e-06.\n",
      "Epoch    24: reducing learning rate of group 17 to 7.8125e-06.\n",
      "Epoch    24: reducing learning rate of group 18 to 7.8125e-06.\n",
      "Epoch    24: reducing learning rate of group 19 to 7.8125e-06.\n",
      "Epoch    24: reducing learning rate of group 20 to 7.8125e-06.\n",
      "Epoch    24: reducing learning rate of group 21 to 7.8125e-06.\n",
      "Epoch    24: reducing learning rate of group 22 to 7.8125e-06.\n",
      "Epoch    24: reducing learning rate of group 23 to 7.8125e-06.\n",
      "Epoch    24: reducing learning rate of group 24 to 7.8125e-06.\n",
      "Epoch    24: reducing learning rate of group 25 to 7.8125e-06.\n",
      "Epoch    24: reducing learning rate of group 26 to 7.8125e-06.\n",
      "Epoch    24: reducing learning rate of group 27 to 7.8125e-06.\n",
      "Epoch    24: reducing learning rate of group 28 to 7.8125e-06.\n",
      "Epoch    24: reducing learning rate of group 29 to 7.8125e-06.\n",
      "Epoch    24: reducing learning rate of group 30 to 7.8125e-06.\n",
      "Epoch    24: reducing learning rate of group 31 to 7.8125e-06.\n",
      "Epoch    24: reducing learning rate of group 32 to 7.8125e-06.\n",
      "Epoch    24: reducing learning rate of group 33 to 7.8125e-06.\n",
      "Epoch    24: reducing learning rate of group 34 to 7.8125e-06.\n",
      "Epoch    24: reducing learning rate of group 35 to 7.8125e-06.\n",
      "Epoch    24: reducing learning rate of group 36 to 7.8125e-06.\n",
      "Epoch    24: reducing learning rate of group 37 to 7.8125e-06.\n",
      "Epoch    24: reducing learning rate of group 38 to 7.8125e-06.\n",
      "Epoch    24: reducing learning rate of group 39 to 7.8125e-06.\n",
      "Epoch    24: reducing learning rate of group 40 to 7.8125e-06.\n",
      "Epoch    24: reducing learning rate of group 41 to 7.8125e-06.\n",
      "Epoch    24: reducing learning rate of group 42 to 7.8125e-06.\n",
      "Epoch    24: reducing learning rate of group 43 to 7.8125e-06.\n",
      "Epoch    24: reducing learning rate of group 44 to 7.8125e-06.\n",
      "Epoch    24: reducing learning rate of group 45 to 7.8125e-06.\n",
      "Epoch    24: reducing learning rate of group 46 to 7.8125e-06.\n",
      "Epoch    24: reducing learning rate of group 47 to 7.8125e-06.\n",
      "Epoch    24: reducing learning rate of group 48 to 7.8125e-06.\n",
      "Epoch    24: reducing learning rate of group 49 to 7.8125e-06.\n",
      "Epoch    24: reducing learning rate of group 50 to 7.8125e-06.\n",
      "Epoch    24: reducing learning rate of group 51 to 7.8125e-06.\n",
      "Epoch    24: reducing learning rate of group 52 to 7.8125e-06.\n",
      "Epoch    24: reducing learning rate of group 53 to 7.8125e-06.\n",
      "Epoch    24: reducing learning rate of group 54 to 7.8125e-06.\n",
      "Epoch    24: reducing learning rate of group 55 to 7.8125e-06.\n",
      "Epoch    24: reducing learning rate of group 56 to 7.8125e-06.\n",
      "Epoch    24: reducing learning rate of group 57 to 7.8125e-06.\n",
      "Epoch    24: reducing learning rate of group 58 to 7.8125e-06.\n",
      "Epoch    24: reducing learning rate of group 59 to 7.8125e-06.\n",
      "Epoch    24: reducing learning rate of group 60 to 7.8125e-06.\n",
      "Epoch    24: reducing learning rate of group 61 to 7.8125e-06.\n",
      "Epoch    24: reducing learning rate of group 62 to 7.8125e-06.\n",
      "Epoch    24: reducing learning rate of group 63 to 7.8125e-06.\n",
      "Epoch    24: reducing learning rate of group 64 to 7.8125e-06.\n",
      "Epoch    24: reducing learning rate of group 65 to 7.8125e-06.\n",
      "Epoch    24: reducing learning rate of group 66 to 7.8125e-06.\n",
      "Epoch    24: reducing learning rate of group 67 to 7.8125e-06.\n",
      "Epoch    24: reducing learning rate of group 68 to 7.8125e-06.\n",
      "Epoch    24: reducing learning rate of group 69 to 7.8125e-06.\n",
      "Epoch    24: reducing learning rate of group 70 to 7.8125e-06.\n",
      "Epoch    24: reducing learning rate of group 71 to 7.8125e-06.\n",
      "Epoch    24: reducing learning rate of group 72 to 7.8125e-06.\n",
      "Epoch    24: reducing learning rate of group 73 to 7.8125e-06.\n",
      "Epoch    24: reducing learning rate of group 74 to 7.8125e-06.\n",
      "Epoch    24: reducing learning rate of group 75 to 7.8125e-06.\n",
      "Epoch    24: reducing learning rate of group 76 to 7.8125e-06.\n",
      "Epoch    24: reducing learning rate of group 77 to 7.8125e-06.\n",
      "Epoch    24: reducing learning rate of group 78 to 7.8125e-06.\n",
      "Epoch    24: reducing learning rate of group 79 to 7.8125e-06.\n",
      "Epoch    24: reducing learning rate of group 80 to 7.8125e-06.\n",
      "Epoch    24: reducing learning rate of group 81 to 7.8125e-06.\n",
      "Epoch    24: reducing learning rate of group 82 to 7.8125e-06.\n",
      "Epoch    24: reducing learning rate of group 83 to 7.8125e-06.\n",
      "Epoch    24: reducing learning rate of group 84 to 7.8125e-06.\n",
      "Epoch    24: reducing learning rate of group 85 to 7.8125e-06.\n",
      "Epoch    24: reducing learning rate of group 86 to 7.8125e-06.\n",
      "Epoch    24: reducing learning rate of group 87 to 7.8125e-06.\n",
      "Epoch    24: reducing learning rate of group 88 to 7.8125e-06.\n",
      "Epoch    24: reducing learning rate of group 89 to 7.8125e-06.\n",
      "Epoch    24: reducing learning rate of group 90 to 7.8125e-06.\n",
      "Epoch    24: reducing learning rate of group 91 to 7.8125e-06.\n",
      "Epoch    24: reducing learning rate of group 92 to 7.8125e-06.\n",
      "Epoch    24: reducing learning rate of group 93 to 7.8125e-06.\n",
      "Epoch    24: reducing learning rate of group 94 to 7.8125e-06.\n",
      "Epoch    24: reducing learning rate of group 95 to 7.8125e-06.\n",
      "Epoch    24: reducing learning rate of group 96 to 7.8125e-06.\n",
      "Epoch    24: reducing learning rate of group 97 to 7.8125e-06.\n",
      "Epoch    24: reducing learning rate of group 98 to 7.8125e-06.\n",
      "Epoch    24: reducing learning rate of group 99 to 7.8125e-06.\n",
      "Epoch    24: reducing learning rate of group 100 to 7.8125e-06.\n",
      "Epoch    24: reducing learning rate of group 101 to 7.8125e-06.\n",
      "Epoch    24: reducing learning rate of group 102 to 7.8125e-06.\n",
      "Epoch    24: reducing learning rate of group 103 to 7.8125e-06.\n",
      "Epoch    24: reducing learning rate of group 104 to 7.8125e-06.\n",
      "Epoch    24: reducing learning rate of group 105 to 7.8125e-06.\n",
      "Epoch    24: reducing learning rate of group 106 to 7.8125e-06.\n",
      "Epoch    24: reducing learning rate of group 107 to 7.8125e-06.\n",
      "Epoch    24: reducing learning rate of group 108 to 7.8125e-06.\n",
      "Epoch    24: reducing learning rate of group 109 to 7.8125e-06.\n",
      "Epoch    24: reducing learning rate of group 110 to 7.8125e-06.\n",
      "Epoch    24: reducing learning rate of group 111 to 7.8125e-06.\n",
      "Epoch    24: reducing learning rate of group 112 to 7.8125e-06.\n",
      "Epoch    24: reducing learning rate of group 113 to 7.8125e-06.\n",
      "Epoch    24: reducing learning rate of group 114 to 7.8125e-06.\n",
      "Epoch    24: reducing learning rate of group 115 to 7.8125e-06.\n",
      "Epoch    24: reducing learning rate of group 116 to 7.8125e-06.\n",
      "Epoch    24: reducing learning rate of group 117 to 7.8125e-06.\n",
      "Epoch    24: reducing learning rate of group 118 to 7.8125e-06.\n",
      "Epoch    24: reducing learning rate of group 119 to 7.8125e-06.\n",
      "Epoch    24: reducing learning rate of group 120 to 7.8125e-06.\n",
      "Epoch    24: reducing learning rate of group 121 to 7.8125e-06.\n",
      "Epoch    24: reducing learning rate of group 122 to 7.8125e-06.\n",
      "Epoch    24: reducing learning rate of group 123 to 7.8125e-06.\n",
      "Epoch    24: reducing learning rate of group 124 to 7.8125e-06.\n",
      "Epoch    24: reducing learning rate of group 125 to 7.8125e-06.\n",
      "Epoch    24: reducing learning rate of group 126 to 7.8125e-06.\n",
      "Epoch    24: reducing learning rate of group 127 to 7.8125e-06.\n",
      "Epoch    24: reducing learning rate of group 128 to 7.8125e-06.\n",
      "Epoch    24: reducing learning rate of group 129 to 7.8125e-06.\n",
      "Epoch    24: reducing learning rate of group 130 to 7.8125e-06.\n",
      "Epoch    24: reducing learning rate of group 131 to 7.8125e-06.\n",
      "Epoch    24: reducing learning rate of group 132 to 7.8125e-06.\n",
      "Epoch    24: reducing learning rate of group 133 to 7.8125e-06.\n",
      "Epoch    24: reducing learning rate of group 134 to 7.8125e-06.\n",
      "Epoch    24: reducing learning rate of group 135 to 7.8125e-06.\n",
      "Epoch    24: reducing learning rate of group 136 to 7.8125e-06.\n",
      "Epoch    24: reducing learning rate of group 137 to 7.8125e-06.\n",
      "Epoch    24: reducing learning rate of group 138 to 7.8125e-06.\n",
      "Epoch    24: reducing learning rate of group 139 to 7.8125e-06.\n",
      "Epoch    24: reducing learning rate of group 140 to 7.8125e-06.\n",
      "Epoch    24: reducing learning rate of group 141 to 7.8125e-06.\n",
      "Epoch    24: reducing learning rate of group 142 to 7.8125e-06.\n",
      "Epoch    24: reducing learning rate of group 143 to 7.8125e-06.\n",
      "Epoch    24: reducing learning rate of group 144 to 7.8125e-06.\n",
      "Epoch    24: reducing learning rate of group 145 to 7.8125e-06.\n",
      "Epoch    24: reducing learning rate of group 146 to 7.8125e-06.\n",
      "Epoch    24: reducing learning rate of group 147 to 7.8125e-06.\n",
      "Epoch    24: reducing learning rate of group 148 to 7.8125e-06.\n",
      "Epoch    24: reducing learning rate of group 149 to 7.8125e-06.\n",
      "Epoch    24: reducing learning rate of group 150 to 7.8125e-06.\n",
      "Epoch    24: reducing learning rate of group 151 to 7.8125e-06.\n",
      "Epoch    24: reducing learning rate of group 152 to 7.8125e-06.\n",
      "Epoch    24: reducing learning rate of group 153 to 7.8125e-06.\n",
      "Epoch    24: reducing learning rate of group 154 to 7.8125e-06.\n",
      "Epoch    24: reducing learning rate of group 155 to 7.8125e-06.\n",
      "Epoch    24: reducing learning rate of group 156 to 7.8125e-06.\n",
      "Epoch    24: reducing learning rate of group 157 to 7.8125e-06.\n",
      "Epoch    24: reducing learning rate of group 158 to 7.8125e-06.\n",
      "Epoch    24: reducing learning rate of group 159 to 1.5625e-05.\n",
      "Epoch    24: reducing learning rate of group 160 to 1.5625e-05.\n",
      "Epoch    24: reducing learning rate of group 161 to 1.5625e-05.\n",
      "Epoch    24: reducing learning rate of group 162 to 1.5625e-05.\n",
      "Epoch    24: reducing learning rate of group 163 to 1.5625e-05.\n",
      "Epoch    24: reducing learning rate of group 164 to 1.5625e-05.\n",
      "Epoch    24: reducing learning rate of group 165 to 1.5625e-05.\n",
      "Epoch    24: reducing learning rate of group 166 to 1.5625e-05.\n",
      "Epoch    24: reducing learning rate of group 167 to 1.5625e-05.\n",
      "Epoch    24: reducing learning rate of group 168 to 1.5625e-05.\n",
      "Epoch    24: reducing learning rate of group 169 to 1.5625e-05.\n",
      "Epoch    24: reducing learning rate of group 170 to 1.5625e-05.\n",
      "Epoch    24: reducing learning rate of group 171 to 1.5625e-05.\n",
      "Epoch    24: reducing learning rate of group 172 to 1.5625e-05.\n",
      "Epoch    24: reducing learning rate of group 173 to 1.5625e-05.\n",
      "Epoch    24: reducing learning rate of group 174 to 1.5625e-05.\n",
      "Epoch    24: reducing learning rate of group 175 to 1.5625e-05.\n",
      "Epoch    24: reducing learning rate of group 176 to 1.5625e-05.\n",
      "Epoch    24: reducing learning rate of group 177 to 1.5625e-05.\n",
      "Epoch    24: reducing learning rate of group 178 to 1.5625e-05.\n",
      "Epoch    24: reducing learning rate of group 179 to 1.5625e-05.\n",
      "Epoch    24: reducing learning rate of group 180 to 1.5625e-05.\n",
      "Epoch    24: reducing learning rate of group 181 to 1.5625e-05.\n",
      "Epoch    24: reducing learning rate of group 182 to 1.5625e-05.\n",
      "Epoch    24: reducing learning rate of group 183 to 1.5625e-05.\n",
      "Epoch    24: reducing learning rate of group 184 to 1.5625e-05.\n",
      "Epoch    24: reducing learning rate of group 185 to 1.5625e-05.\n",
      "Epoch    24: reducing learning rate of group 186 to 1.5625e-05.\n",
      "Epoch    24: reducing learning rate of group 187 to 1.5625e-05.\n",
      "Epoch    24: reducing learning rate of group 188 to 1.5625e-05.\n",
      "Epoch    24: reducing learning rate of group 189 to 1.5625e-05.\n"
     ]
    },
    {
     "data": {
      "application/vnd.jupyter.widget-view+json": {
       "model_id": "",
       "version_major": 2,
       "version_minor": 0
      },
      "text/plain": [
       "HBox(children=(FloatProgress(value=1.0, bar_style='info', description='Validating', layout=Layout(flex='2'), m…"
      ]
     },
     "metadata": {},
     "output_type": "display_data"
    },
    {
     "name": "stderr",
     "output_type": "stream",
     "text": [
      "\n",
      "Epoch 00024: val_loss  was not in top 1\n"
     ]
    },
    {
     "data": {
      "application/vnd.jupyter.widget-view+json": {
       "model_id": "",
       "version_major": 2,
       "version_minor": 0
      },
      "text/plain": [
       "HBox(children=(FloatProgress(value=1.0, bar_style='info', description='Validating', layout=Layout(flex='2'), m…"
      ]
     },
     "metadata": {},
     "output_type": "display_data"
    },
    {
     "name": "stderr",
     "output_type": "stream",
     "text": [
      "\n",
      "Epoch 00025: val_loss  was not in top 1\n"
     ]
    },
    {
     "data": {
      "application/vnd.jupyter.widget-view+json": {
       "model_id": "",
       "version_major": 2,
       "version_minor": 0
      },
      "text/plain": [
       "HBox(children=(FloatProgress(value=1.0, bar_style='info', description='Validating', layout=Layout(flex='2'), m…"
      ]
     },
     "metadata": {},
     "output_type": "display_data"
    },
    {
     "name": "stderr",
     "output_type": "stream",
     "text": [
      "\n",
      "Epoch 00026: val_loss  was not in top 1\n"
     ]
    },
    {
     "name": "stdout",
     "output_type": "stream",
     "text": [
      "Epoch    27: reducing learning rate of group 0 to 1.9531e-06.\n",
      "Epoch    27: reducing learning rate of group 1 to 1.9531e-06.\n",
      "Epoch    27: reducing learning rate of group 2 to 1.9531e-06.\n",
      "Epoch    27: reducing learning rate of group 3 to 1.9531e-06.\n",
      "Epoch    27: reducing learning rate of group 4 to 1.9531e-06.\n",
      "Epoch    27: reducing learning rate of group 5 to 1.9531e-06.\n",
      "Epoch    27: reducing learning rate of group 6 to 1.9531e-06.\n",
      "Epoch    27: reducing learning rate of group 7 to 1.9531e-06.\n",
      "Epoch    27: reducing learning rate of group 8 to 1.9531e-06.\n",
      "Epoch    27: reducing learning rate of group 9 to 1.9531e-06.\n",
      "Epoch    27: reducing learning rate of group 10 to 1.9531e-06.\n",
      "Epoch    27: reducing learning rate of group 11 to 1.9531e-06.\n",
      "Epoch    27: reducing learning rate of group 12 to 1.9531e-06.\n",
      "Epoch    27: reducing learning rate of group 13 to 1.9531e-06.\n",
      "Epoch    27: reducing learning rate of group 14 to 1.9531e-06.\n",
      "Epoch    27: reducing learning rate of group 15 to 1.9531e-06.\n",
      "Epoch    27: reducing learning rate of group 16 to 1.9531e-06.\n",
      "Epoch    27: reducing learning rate of group 17 to 1.9531e-06.\n",
      "Epoch    27: reducing learning rate of group 18 to 1.9531e-06.\n",
      "Epoch    27: reducing learning rate of group 19 to 1.9531e-06.\n",
      "Epoch    27: reducing learning rate of group 20 to 1.9531e-06.\n",
      "Epoch    27: reducing learning rate of group 21 to 1.9531e-06.\n",
      "Epoch    27: reducing learning rate of group 22 to 1.9531e-06.\n",
      "Epoch    27: reducing learning rate of group 23 to 1.9531e-06.\n",
      "Epoch    27: reducing learning rate of group 24 to 1.9531e-06.\n",
      "Epoch    27: reducing learning rate of group 25 to 1.9531e-06.\n",
      "Epoch    27: reducing learning rate of group 26 to 1.9531e-06.\n",
      "Epoch    27: reducing learning rate of group 27 to 1.9531e-06.\n",
      "Epoch    27: reducing learning rate of group 28 to 1.9531e-06.\n",
      "Epoch    27: reducing learning rate of group 29 to 1.9531e-06.\n",
      "Epoch    27: reducing learning rate of group 30 to 1.9531e-06.\n",
      "Epoch    27: reducing learning rate of group 31 to 1.9531e-06.\n",
      "Epoch    27: reducing learning rate of group 32 to 1.9531e-06.\n",
      "Epoch    27: reducing learning rate of group 33 to 1.9531e-06.\n",
      "Epoch    27: reducing learning rate of group 34 to 1.9531e-06.\n",
      "Epoch    27: reducing learning rate of group 35 to 1.9531e-06.\n",
      "Epoch    27: reducing learning rate of group 36 to 1.9531e-06.\n",
      "Epoch    27: reducing learning rate of group 37 to 1.9531e-06.\n",
      "Epoch    27: reducing learning rate of group 38 to 1.9531e-06.\n",
      "Epoch    27: reducing learning rate of group 39 to 1.9531e-06.\n",
      "Epoch    27: reducing learning rate of group 40 to 1.9531e-06.\n",
      "Epoch    27: reducing learning rate of group 41 to 1.9531e-06.\n",
      "Epoch    27: reducing learning rate of group 42 to 1.9531e-06.\n",
      "Epoch    27: reducing learning rate of group 43 to 1.9531e-06.\n",
      "Epoch    27: reducing learning rate of group 44 to 1.9531e-06.\n",
      "Epoch    27: reducing learning rate of group 45 to 1.9531e-06.\n",
      "Epoch    27: reducing learning rate of group 46 to 1.9531e-06.\n",
      "Epoch    27: reducing learning rate of group 47 to 1.9531e-06.\n",
      "Epoch    27: reducing learning rate of group 48 to 1.9531e-06.\n",
      "Epoch    27: reducing learning rate of group 49 to 1.9531e-06.\n",
      "Epoch    27: reducing learning rate of group 50 to 1.9531e-06.\n",
      "Epoch    27: reducing learning rate of group 51 to 1.9531e-06.\n",
      "Epoch    27: reducing learning rate of group 52 to 1.9531e-06.\n",
      "Epoch    27: reducing learning rate of group 53 to 1.9531e-06.\n",
      "Epoch    27: reducing learning rate of group 54 to 1.9531e-06.\n",
      "Epoch    27: reducing learning rate of group 55 to 1.9531e-06.\n",
      "Epoch    27: reducing learning rate of group 56 to 1.9531e-06.\n",
      "Epoch    27: reducing learning rate of group 57 to 1.9531e-06.\n",
      "Epoch    27: reducing learning rate of group 58 to 1.9531e-06.\n",
      "Epoch    27: reducing learning rate of group 59 to 1.9531e-06.\n",
      "Epoch    27: reducing learning rate of group 60 to 1.9531e-06.\n",
      "Epoch    27: reducing learning rate of group 61 to 1.9531e-06.\n",
      "Epoch    27: reducing learning rate of group 62 to 1.9531e-06.\n",
      "Epoch    27: reducing learning rate of group 63 to 1.9531e-06.\n",
      "Epoch    27: reducing learning rate of group 64 to 1.9531e-06.\n",
      "Epoch    27: reducing learning rate of group 65 to 1.9531e-06.\n",
      "Epoch    27: reducing learning rate of group 66 to 1.9531e-06.\n",
      "Epoch    27: reducing learning rate of group 67 to 1.9531e-06.\n",
      "Epoch    27: reducing learning rate of group 68 to 1.9531e-06.\n",
      "Epoch    27: reducing learning rate of group 69 to 1.9531e-06.\n",
      "Epoch    27: reducing learning rate of group 70 to 1.9531e-06.\n",
      "Epoch    27: reducing learning rate of group 71 to 1.9531e-06.\n",
      "Epoch    27: reducing learning rate of group 72 to 1.9531e-06.\n",
      "Epoch    27: reducing learning rate of group 73 to 1.9531e-06.\n",
      "Epoch    27: reducing learning rate of group 74 to 1.9531e-06.\n",
      "Epoch    27: reducing learning rate of group 75 to 1.9531e-06.\n",
      "Epoch    27: reducing learning rate of group 76 to 1.9531e-06.\n",
      "Epoch    27: reducing learning rate of group 77 to 1.9531e-06.\n",
      "Epoch    27: reducing learning rate of group 78 to 1.9531e-06.\n",
      "Epoch    27: reducing learning rate of group 79 to 1.9531e-06.\n",
      "Epoch    27: reducing learning rate of group 80 to 1.9531e-06.\n",
      "Epoch    27: reducing learning rate of group 81 to 1.9531e-06.\n",
      "Epoch    27: reducing learning rate of group 82 to 1.9531e-06.\n",
      "Epoch    27: reducing learning rate of group 83 to 1.9531e-06.\n",
      "Epoch    27: reducing learning rate of group 84 to 1.9531e-06.\n",
      "Epoch    27: reducing learning rate of group 85 to 1.9531e-06.\n",
      "Epoch    27: reducing learning rate of group 86 to 1.9531e-06.\n",
      "Epoch    27: reducing learning rate of group 87 to 1.9531e-06.\n",
      "Epoch    27: reducing learning rate of group 88 to 1.9531e-06.\n",
      "Epoch    27: reducing learning rate of group 89 to 1.9531e-06.\n",
      "Epoch    27: reducing learning rate of group 90 to 1.9531e-06.\n",
      "Epoch    27: reducing learning rate of group 91 to 1.9531e-06.\n",
      "Epoch    27: reducing learning rate of group 92 to 1.9531e-06.\n",
      "Epoch    27: reducing learning rate of group 93 to 1.9531e-06.\n",
      "Epoch    27: reducing learning rate of group 94 to 1.9531e-06.\n",
      "Epoch    27: reducing learning rate of group 95 to 1.9531e-06.\n",
      "Epoch    27: reducing learning rate of group 96 to 1.9531e-06.\n",
      "Epoch    27: reducing learning rate of group 97 to 1.9531e-06.\n",
      "Epoch    27: reducing learning rate of group 98 to 1.9531e-06.\n",
      "Epoch    27: reducing learning rate of group 99 to 1.9531e-06.\n",
      "Epoch    27: reducing learning rate of group 100 to 1.9531e-06.\n",
      "Epoch    27: reducing learning rate of group 101 to 1.9531e-06.\n",
      "Epoch    27: reducing learning rate of group 102 to 1.9531e-06.\n",
      "Epoch    27: reducing learning rate of group 103 to 1.9531e-06.\n",
      "Epoch    27: reducing learning rate of group 104 to 1.9531e-06.\n",
      "Epoch    27: reducing learning rate of group 105 to 1.9531e-06.\n",
      "Epoch    27: reducing learning rate of group 106 to 1.9531e-06.\n",
      "Epoch    27: reducing learning rate of group 107 to 1.9531e-06.\n",
      "Epoch    27: reducing learning rate of group 108 to 1.9531e-06.\n",
      "Epoch    27: reducing learning rate of group 109 to 1.9531e-06.\n",
      "Epoch    27: reducing learning rate of group 110 to 1.9531e-06.\n",
      "Epoch    27: reducing learning rate of group 111 to 1.9531e-06.\n",
      "Epoch    27: reducing learning rate of group 112 to 1.9531e-06.\n",
      "Epoch    27: reducing learning rate of group 113 to 1.9531e-06.\n",
      "Epoch    27: reducing learning rate of group 114 to 1.9531e-06.\n",
      "Epoch    27: reducing learning rate of group 115 to 1.9531e-06.\n",
      "Epoch    27: reducing learning rate of group 116 to 1.9531e-06.\n",
      "Epoch    27: reducing learning rate of group 117 to 1.9531e-06.\n",
      "Epoch    27: reducing learning rate of group 118 to 1.9531e-06.\n",
      "Epoch    27: reducing learning rate of group 119 to 1.9531e-06.\n",
      "Epoch    27: reducing learning rate of group 120 to 1.9531e-06.\n",
      "Epoch    27: reducing learning rate of group 121 to 1.9531e-06.\n",
      "Epoch    27: reducing learning rate of group 122 to 1.9531e-06.\n",
      "Epoch    27: reducing learning rate of group 123 to 1.9531e-06.\n",
      "Epoch    27: reducing learning rate of group 124 to 1.9531e-06.\n",
      "Epoch    27: reducing learning rate of group 125 to 1.9531e-06.\n",
      "Epoch    27: reducing learning rate of group 126 to 1.9531e-06.\n",
      "Epoch    27: reducing learning rate of group 127 to 1.9531e-06.\n",
      "Epoch    27: reducing learning rate of group 128 to 1.9531e-06.\n",
      "Epoch    27: reducing learning rate of group 129 to 1.9531e-06.\n",
      "Epoch    27: reducing learning rate of group 130 to 1.9531e-06.\n",
      "Epoch    27: reducing learning rate of group 131 to 1.9531e-06.\n",
      "Epoch    27: reducing learning rate of group 132 to 1.9531e-06.\n",
      "Epoch    27: reducing learning rate of group 133 to 1.9531e-06.\n",
      "Epoch    27: reducing learning rate of group 134 to 1.9531e-06.\n",
      "Epoch    27: reducing learning rate of group 135 to 1.9531e-06.\n",
      "Epoch    27: reducing learning rate of group 136 to 1.9531e-06.\n",
      "Epoch    27: reducing learning rate of group 137 to 1.9531e-06.\n",
      "Epoch    27: reducing learning rate of group 138 to 1.9531e-06.\n",
      "Epoch    27: reducing learning rate of group 139 to 1.9531e-06.\n",
      "Epoch    27: reducing learning rate of group 140 to 1.9531e-06.\n",
      "Epoch    27: reducing learning rate of group 141 to 1.9531e-06.\n",
      "Epoch    27: reducing learning rate of group 142 to 1.9531e-06.\n",
      "Epoch    27: reducing learning rate of group 143 to 1.9531e-06.\n",
      "Epoch    27: reducing learning rate of group 144 to 1.9531e-06.\n",
      "Epoch    27: reducing learning rate of group 145 to 1.9531e-06.\n",
      "Epoch    27: reducing learning rate of group 146 to 1.9531e-06.\n",
      "Epoch    27: reducing learning rate of group 147 to 1.9531e-06.\n",
      "Epoch    27: reducing learning rate of group 148 to 1.9531e-06.\n",
      "Epoch    27: reducing learning rate of group 149 to 1.9531e-06.\n",
      "Epoch    27: reducing learning rate of group 150 to 1.9531e-06.\n",
      "Epoch    27: reducing learning rate of group 151 to 1.9531e-06.\n",
      "Epoch    27: reducing learning rate of group 152 to 1.9531e-06.\n",
      "Epoch    27: reducing learning rate of group 153 to 1.9531e-06.\n",
      "Epoch    27: reducing learning rate of group 154 to 1.9531e-06.\n",
      "Epoch    27: reducing learning rate of group 155 to 1.9531e-06.\n",
      "Epoch    27: reducing learning rate of group 156 to 1.9531e-06.\n",
      "Epoch    27: reducing learning rate of group 157 to 1.9531e-06.\n",
      "Epoch    27: reducing learning rate of group 158 to 1.9531e-06.\n",
      "Epoch    27: reducing learning rate of group 159 to 3.9063e-06.\n",
      "Epoch    27: reducing learning rate of group 160 to 3.9063e-06.\n",
      "Epoch    27: reducing learning rate of group 161 to 3.9063e-06.\n",
      "Epoch    27: reducing learning rate of group 162 to 3.9063e-06.\n",
      "Epoch    27: reducing learning rate of group 163 to 3.9063e-06.\n",
      "Epoch    27: reducing learning rate of group 164 to 3.9063e-06.\n",
      "Epoch    27: reducing learning rate of group 165 to 3.9063e-06.\n",
      "Epoch    27: reducing learning rate of group 166 to 3.9063e-06.\n",
      "Epoch    27: reducing learning rate of group 167 to 3.9063e-06.\n",
      "Epoch    27: reducing learning rate of group 168 to 3.9063e-06.\n",
      "Epoch    27: reducing learning rate of group 169 to 3.9063e-06.\n",
      "Epoch    27: reducing learning rate of group 170 to 3.9063e-06.\n",
      "Epoch    27: reducing learning rate of group 171 to 3.9063e-06.\n",
      "Epoch    27: reducing learning rate of group 172 to 3.9063e-06.\n",
      "Epoch    27: reducing learning rate of group 173 to 3.9063e-06.\n",
      "Epoch    27: reducing learning rate of group 174 to 3.9063e-06.\n",
      "Epoch    27: reducing learning rate of group 175 to 3.9063e-06.\n",
      "Epoch    27: reducing learning rate of group 176 to 3.9063e-06.\n",
      "Epoch    27: reducing learning rate of group 177 to 3.9063e-06.\n",
      "Epoch    27: reducing learning rate of group 178 to 3.9063e-06.\n",
      "Epoch    27: reducing learning rate of group 179 to 3.9063e-06.\n",
      "Epoch    27: reducing learning rate of group 180 to 3.9063e-06.\n",
      "Epoch    27: reducing learning rate of group 181 to 3.9063e-06.\n",
      "Epoch    27: reducing learning rate of group 182 to 3.9063e-06.\n",
      "Epoch    27: reducing learning rate of group 183 to 3.9063e-06.\n",
      "Epoch    27: reducing learning rate of group 184 to 3.9063e-06.\n",
      "Epoch    27: reducing learning rate of group 185 to 3.9063e-06.\n",
      "Epoch    27: reducing learning rate of group 186 to 3.9063e-06.\n",
      "Epoch    27: reducing learning rate of group 187 to 3.9063e-06.\n",
      "Epoch    27: reducing learning rate of group 188 to 3.9063e-06.\n",
      "Epoch    27: reducing learning rate of group 189 to 3.9063e-06.\n"
     ]
    },
    {
     "data": {
      "application/vnd.jupyter.widget-view+json": {
       "model_id": "",
       "version_major": 2,
       "version_minor": 0
      },
      "text/plain": [
       "HBox(children=(FloatProgress(value=1.0, bar_style='info', description='Validating', layout=Layout(flex='2'), m…"
      ]
     },
     "metadata": {},
     "output_type": "display_data"
    },
    {
     "name": "stderr",
     "output_type": "stream",
     "text": [
      "\n",
      "Epoch 00027: val_loss  was not in top 1\n"
     ]
    },
    {
     "data": {
      "application/vnd.jupyter.widget-view+json": {
       "model_id": "",
       "version_major": 2,
       "version_minor": 0
      },
      "text/plain": [
       "HBox(children=(FloatProgress(value=1.0, bar_style='info', description='Validating', layout=Layout(flex='2'), m…"
      ]
     },
     "metadata": {},
     "output_type": "display_data"
    },
    {
     "name": "stderr",
     "output_type": "stream",
     "text": [
      "\n",
      "Epoch 00028: val_loss  was not in top 1\n"
     ]
    },
    {
     "data": {
      "application/vnd.jupyter.widget-view+json": {
       "model_id": "",
       "version_major": 2,
       "version_minor": 0
      },
      "text/plain": [
       "HBox(children=(FloatProgress(value=1.0, bar_style='info', description='Validating', layout=Layout(flex='2'), m…"
      ]
     },
     "metadata": {},
     "output_type": "display_data"
    },
    {
     "name": "stderr",
     "output_type": "stream",
     "text": [
      "\n",
      "Epoch 00029: val_loss  was not in top 1\n"
     ]
    },
    {
     "name": "stdout",
     "output_type": "stream",
     "text": [
      "Epoch    30: reducing learning rate of group 0 to 4.8828e-07.\n",
      "Epoch    30: reducing learning rate of group 1 to 4.8828e-07.\n",
      "Epoch    30: reducing learning rate of group 2 to 4.8828e-07.\n",
      "Epoch    30: reducing learning rate of group 3 to 4.8828e-07.\n",
      "Epoch    30: reducing learning rate of group 4 to 4.8828e-07.\n",
      "Epoch    30: reducing learning rate of group 5 to 4.8828e-07.\n",
      "Epoch    30: reducing learning rate of group 6 to 4.8828e-07.\n",
      "Epoch    30: reducing learning rate of group 7 to 4.8828e-07.\n",
      "Epoch    30: reducing learning rate of group 8 to 4.8828e-07.\n",
      "Epoch    30: reducing learning rate of group 9 to 4.8828e-07.\n",
      "Epoch    30: reducing learning rate of group 10 to 4.8828e-07.\n",
      "Epoch    30: reducing learning rate of group 11 to 4.8828e-07.\n",
      "Epoch    30: reducing learning rate of group 12 to 4.8828e-07.\n",
      "Epoch    30: reducing learning rate of group 13 to 4.8828e-07.\n",
      "Epoch    30: reducing learning rate of group 14 to 4.8828e-07.\n",
      "Epoch    30: reducing learning rate of group 15 to 4.8828e-07.\n",
      "Epoch    30: reducing learning rate of group 16 to 4.8828e-07.\n",
      "Epoch    30: reducing learning rate of group 17 to 4.8828e-07.\n",
      "Epoch    30: reducing learning rate of group 18 to 4.8828e-07.\n",
      "Epoch    30: reducing learning rate of group 19 to 4.8828e-07.\n",
      "Epoch    30: reducing learning rate of group 20 to 4.8828e-07.\n",
      "Epoch    30: reducing learning rate of group 21 to 4.8828e-07.\n",
      "Epoch    30: reducing learning rate of group 22 to 4.8828e-07.\n",
      "Epoch    30: reducing learning rate of group 23 to 4.8828e-07.\n",
      "Epoch    30: reducing learning rate of group 24 to 4.8828e-07.\n",
      "Epoch    30: reducing learning rate of group 25 to 4.8828e-07.\n",
      "Epoch    30: reducing learning rate of group 26 to 4.8828e-07.\n",
      "Epoch    30: reducing learning rate of group 27 to 4.8828e-07.\n",
      "Epoch    30: reducing learning rate of group 28 to 4.8828e-07.\n",
      "Epoch    30: reducing learning rate of group 29 to 4.8828e-07.\n",
      "Epoch    30: reducing learning rate of group 30 to 4.8828e-07.\n",
      "Epoch    30: reducing learning rate of group 31 to 4.8828e-07.\n",
      "Epoch    30: reducing learning rate of group 32 to 4.8828e-07.\n",
      "Epoch    30: reducing learning rate of group 33 to 4.8828e-07.\n",
      "Epoch    30: reducing learning rate of group 34 to 4.8828e-07.\n",
      "Epoch    30: reducing learning rate of group 35 to 4.8828e-07.\n",
      "Epoch    30: reducing learning rate of group 36 to 4.8828e-07.\n",
      "Epoch    30: reducing learning rate of group 37 to 4.8828e-07.\n",
      "Epoch    30: reducing learning rate of group 38 to 4.8828e-07.\n",
      "Epoch    30: reducing learning rate of group 39 to 4.8828e-07.\n",
      "Epoch    30: reducing learning rate of group 40 to 4.8828e-07.\n",
      "Epoch    30: reducing learning rate of group 41 to 4.8828e-07.\n",
      "Epoch    30: reducing learning rate of group 42 to 4.8828e-07.\n",
      "Epoch    30: reducing learning rate of group 43 to 4.8828e-07.\n",
      "Epoch    30: reducing learning rate of group 44 to 4.8828e-07.\n",
      "Epoch    30: reducing learning rate of group 45 to 4.8828e-07.\n",
      "Epoch    30: reducing learning rate of group 46 to 4.8828e-07.\n",
      "Epoch    30: reducing learning rate of group 47 to 4.8828e-07.\n",
      "Epoch    30: reducing learning rate of group 48 to 4.8828e-07.\n",
      "Epoch    30: reducing learning rate of group 49 to 4.8828e-07.\n",
      "Epoch    30: reducing learning rate of group 50 to 4.8828e-07.\n",
      "Epoch    30: reducing learning rate of group 51 to 4.8828e-07.\n",
      "Epoch    30: reducing learning rate of group 52 to 4.8828e-07.\n",
      "Epoch    30: reducing learning rate of group 53 to 4.8828e-07.\n",
      "Epoch    30: reducing learning rate of group 54 to 4.8828e-07.\n",
      "Epoch    30: reducing learning rate of group 55 to 4.8828e-07.\n",
      "Epoch    30: reducing learning rate of group 56 to 4.8828e-07.\n",
      "Epoch    30: reducing learning rate of group 57 to 4.8828e-07.\n",
      "Epoch    30: reducing learning rate of group 58 to 4.8828e-07.\n",
      "Epoch    30: reducing learning rate of group 59 to 4.8828e-07.\n",
      "Epoch    30: reducing learning rate of group 60 to 4.8828e-07.\n",
      "Epoch    30: reducing learning rate of group 61 to 4.8828e-07.\n",
      "Epoch    30: reducing learning rate of group 62 to 4.8828e-07.\n",
      "Epoch    30: reducing learning rate of group 63 to 4.8828e-07.\n",
      "Epoch    30: reducing learning rate of group 64 to 4.8828e-07.\n",
      "Epoch    30: reducing learning rate of group 65 to 4.8828e-07.\n",
      "Epoch    30: reducing learning rate of group 66 to 4.8828e-07.\n",
      "Epoch    30: reducing learning rate of group 67 to 4.8828e-07.\n",
      "Epoch    30: reducing learning rate of group 68 to 4.8828e-07.\n",
      "Epoch    30: reducing learning rate of group 69 to 4.8828e-07.\n",
      "Epoch    30: reducing learning rate of group 70 to 4.8828e-07.\n",
      "Epoch    30: reducing learning rate of group 71 to 4.8828e-07.\n",
      "Epoch    30: reducing learning rate of group 72 to 4.8828e-07.\n",
      "Epoch    30: reducing learning rate of group 73 to 4.8828e-07.\n",
      "Epoch    30: reducing learning rate of group 74 to 4.8828e-07.\n",
      "Epoch    30: reducing learning rate of group 75 to 4.8828e-07.\n",
      "Epoch    30: reducing learning rate of group 76 to 4.8828e-07.\n",
      "Epoch    30: reducing learning rate of group 77 to 4.8828e-07.\n",
      "Epoch    30: reducing learning rate of group 78 to 4.8828e-07.\n",
      "Epoch    30: reducing learning rate of group 79 to 4.8828e-07.\n",
      "Epoch    30: reducing learning rate of group 80 to 4.8828e-07.\n",
      "Epoch    30: reducing learning rate of group 81 to 4.8828e-07.\n",
      "Epoch    30: reducing learning rate of group 82 to 4.8828e-07.\n",
      "Epoch    30: reducing learning rate of group 83 to 4.8828e-07.\n",
      "Epoch    30: reducing learning rate of group 84 to 4.8828e-07.\n",
      "Epoch    30: reducing learning rate of group 85 to 4.8828e-07.\n",
      "Epoch    30: reducing learning rate of group 86 to 4.8828e-07.\n",
      "Epoch    30: reducing learning rate of group 87 to 4.8828e-07.\n",
      "Epoch    30: reducing learning rate of group 88 to 4.8828e-07.\n",
      "Epoch    30: reducing learning rate of group 89 to 4.8828e-07.\n",
      "Epoch    30: reducing learning rate of group 90 to 4.8828e-07.\n",
      "Epoch    30: reducing learning rate of group 91 to 4.8828e-07.\n",
      "Epoch    30: reducing learning rate of group 92 to 4.8828e-07.\n",
      "Epoch    30: reducing learning rate of group 93 to 4.8828e-07.\n",
      "Epoch    30: reducing learning rate of group 94 to 4.8828e-07.\n",
      "Epoch    30: reducing learning rate of group 95 to 4.8828e-07.\n",
      "Epoch    30: reducing learning rate of group 96 to 4.8828e-07.\n",
      "Epoch    30: reducing learning rate of group 97 to 4.8828e-07.\n",
      "Epoch    30: reducing learning rate of group 98 to 4.8828e-07.\n",
      "Epoch    30: reducing learning rate of group 99 to 4.8828e-07.\n",
      "Epoch    30: reducing learning rate of group 100 to 4.8828e-07.\n",
      "Epoch    30: reducing learning rate of group 101 to 4.8828e-07.\n",
      "Epoch    30: reducing learning rate of group 102 to 4.8828e-07.\n",
      "Epoch    30: reducing learning rate of group 103 to 4.8828e-07.\n",
      "Epoch    30: reducing learning rate of group 104 to 4.8828e-07.\n",
      "Epoch    30: reducing learning rate of group 105 to 4.8828e-07.\n",
      "Epoch    30: reducing learning rate of group 106 to 4.8828e-07.\n",
      "Epoch    30: reducing learning rate of group 107 to 4.8828e-07.\n",
      "Epoch    30: reducing learning rate of group 108 to 4.8828e-07.\n",
      "Epoch    30: reducing learning rate of group 109 to 4.8828e-07.\n",
      "Epoch    30: reducing learning rate of group 110 to 4.8828e-07.\n",
      "Epoch    30: reducing learning rate of group 111 to 4.8828e-07.\n",
      "Epoch    30: reducing learning rate of group 112 to 4.8828e-07.\n",
      "Epoch    30: reducing learning rate of group 113 to 4.8828e-07.\n",
      "Epoch    30: reducing learning rate of group 114 to 4.8828e-07.\n",
      "Epoch    30: reducing learning rate of group 115 to 4.8828e-07.\n",
      "Epoch    30: reducing learning rate of group 116 to 4.8828e-07.\n",
      "Epoch    30: reducing learning rate of group 117 to 4.8828e-07.\n",
      "Epoch    30: reducing learning rate of group 118 to 4.8828e-07.\n",
      "Epoch    30: reducing learning rate of group 119 to 4.8828e-07.\n",
      "Epoch    30: reducing learning rate of group 120 to 4.8828e-07.\n",
      "Epoch    30: reducing learning rate of group 121 to 4.8828e-07.\n",
      "Epoch    30: reducing learning rate of group 122 to 4.8828e-07.\n",
      "Epoch    30: reducing learning rate of group 123 to 4.8828e-07.\n",
      "Epoch    30: reducing learning rate of group 124 to 4.8828e-07.\n",
      "Epoch    30: reducing learning rate of group 125 to 4.8828e-07.\n",
      "Epoch    30: reducing learning rate of group 126 to 4.8828e-07.\n",
      "Epoch    30: reducing learning rate of group 127 to 4.8828e-07.\n",
      "Epoch    30: reducing learning rate of group 128 to 4.8828e-07.\n",
      "Epoch    30: reducing learning rate of group 129 to 4.8828e-07.\n",
      "Epoch    30: reducing learning rate of group 130 to 4.8828e-07.\n",
      "Epoch    30: reducing learning rate of group 131 to 4.8828e-07.\n",
      "Epoch    30: reducing learning rate of group 132 to 4.8828e-07.\n",
      "Epoch    30: reducing learning rate of group 133 to 4.8828e-07.\n",
      "Epoch    30: reducing learning rate of group 134 to 4.8828e-07.\n",
      "Epoch    30: reducing learning rate of group 135 to 4.8828e-07.\n",
      "Epoch    30: reducing learning rate of group 136 to 4.8828e-07.\n",
      "Epoch    30: reducing learning rate of group 137 to 4.8828e-07.\n",
      "Epoch    30: reducing learning rate of group 138 to 4.8828e-07.\n",
      "Epoch    30: reducing learning rate of group 139 to 4.8828e-07.\n",
      "Epoch    30: reducing learning rate of group 140 to 4.8828e-07.\n",
      "Epoch    30: reducing learning rate of group 141 to 4.8828e-07.\n",
      "Epoch    30: reducing learning rate of group 142 to 4.8828e-07.\n",
      "Epoch    30: reducing learning rate of group 143 to 4.8828e-07.\n",
      "Epoch    30: reducing learning rate of group 144 to 4.8828e-07.\n",
      "Epoch    30: reducing learning rate of group 145 to 4.8828e-07.\n",
      "Epoch    30: reducing learning rate of group 146 to 4.8828e-07.\n",
      "Epoch    30: reducing learning rate of group 147 to 4.8828e-07.\n",
      "Epoch    30: reducing learning rate of group 148 to 4.8828e-07.\n",
      "Epoch    30: reducing learning rate of group 149 to 4.8828e-07.\n",
      "Epoch    30: reducing learning rate of group 150 to 4.8828e-07.\n",
      "Epoch    30: reducing learning rate of group 151 to 4.8828e-07.\n",
      "Epoch    30: reducing learning rate of group 152 to 4.8828e-07.\n",
      "Epoch    30: reducing learning rate of group 153 to 4.8828e-07.\n",
      "Epoch    30: reducing learning rate of group 154 to 4.8828e-07.\n",
      "Epoch    30: reducing learning rate of group 155 to 4.8828e-07.\n",
      "Epoch    30: reducing learning rate of group 156 to 4.8828e-07.\n",
      "Epoch    30: reducing learning rate of group 157 to 4.8828e-07.\n",
      "Epoch    30: reducing learning rate of group 158 to 4.8828e-07.\n",
      "Epoch    30: reducing learning rate of group 159 to 9.7656e-07.\n",
      "Epoch    30: reducing learning rate of group 160 to 9.7656e-07.\n",
      "Epoch    30: reducing learning rate of group 161 to 9.7656e-07.\n",
      "Epoch    30: reducing learning rate of group 162 to 9.7656e-07.\n",
      "Epoch    30: reducing learning rate of group 163 to 9.7656e-07.\n",
      "Epoch    30: reducing learning rate of group 164 to 9.7656e-07.\n",
      "Epoch    30: reducing learning rate of group 165 to 9.7656e-07.\n",
      "Epoch    30: reducing learning rate of group 166 to 9.7656e-07.\n",
      "Epoch    30: reducing learning rate of group 167 to 9.7656e-07.\n",
      "Epoch    30: reducing learning rate of group 168 to 9.7656e-07.\n",
      "Epoch    30: reducing learning rate of group 169 to 9.7656e-07.\n",
      "Epoch    30: reducing learning rate of group 170 to 9.7656e-07.\n",
      "Epoch    30: reducing learning rate of group 171 to 9.7656e-07.\n",
      "Epoch    30: reducing learning rate of group 172 to 9.7656e-07.\n",
      "Epoch    30: reducing learning rate of group 173 to 9.7656e-07.\n",
      "Epoch    30: reducing learning rate of group 174 to 9.7656e-07.\n",
      "Epoch    30: reducing learning rate of group 175 to 9.7656e-07.\n",
      "Epoch    30: reducing learning rate of group 176 to 9.7656e-07.\n",
      "Epoch    30: reducing learning rate of group 177 to 9.7656e-07.\n",
      "Epoch    30: reducing learning rate of group 178 to 9.7656e-07.\n",
      "Epoch    30: reducing learning rate of group 179 to 9.7656e-07.\n",
      "Epoch    30: reducing learning rate of group 180 to 9.7656e-07.\n",
      "Epoch    30: reducing learning rate of group 181 to 9.7656e-07.\n",
      "Epoch    30: reducing learning rate of group 182 to 9.7656e-07.\n",
      "Epoch    30: reducing learning rate of group 183 to 9.7656e-07.\n",
      "Epoch    30: reducing learning rate of group 184 to 9.7656e-07.\n",
      "Epoch    30: reducing learning rate of group 185 to 9.7656e-07.\n",
      "Epoch    30: reducing learning rate of group 186 to 9.7656e-07.\n",
      "Epoch    30: reducing learning rate of group 187 to 9.7656e-07.\n",
      "Epoch    30: reducing learning rate of group 188 to 9.7656e-07.\n",
      "Epoch    30: reducing learning rate of group 189 to 9.7656e-07.\n",
      "\n"
     ]
    },
    {
     "data": {
      "text/plain": [
       "1"
      ]
     },
     "execution_count": 8,
     "metadata": {},
     "output_type": "execute_result"
    }
   ],
   "source": [
    "lightning_model = SegModel(model=model, criterion = criterion, hparams = conf)\n",
    "trainer = pl.Trainer(\n",
    "    default_root_dir=model_dir,\n",
    "    max_epochs=30, \n",
    "    gpus=1, \n",
    "    checkpoint_callback=checkpoint_callback, \n",
    "    logger=logger\n",
    ")\n",
    "trainer.fit(lightning_model)"
   ]
  }
 ],
 "metadata": {
  "kernelspec": {
   "display_name": "Python 3",
   "language": "python",
   "name": "python3"
  },
  "language_info": {
   "codemirror_mode": {
    "name": "ipython",
    "version": 3
   },
   "file_extension": ".py",
   "mimetype": "text/x-python",
   "name": "python",
   "nbconvert_exporter": "python",
   "pygments_lexer": "ipython3",
   "version": "3.6.9"
  }
 },
 "nbformat": 4,
 "nbformat_minor": 4
}
