{
 "cells": [
  {
   "cell_type": "code",
   "execution_count": 1,
   "metadata": {},
   "outputs": [],
   "source": [
    "import warnings\n",
    "warnings.filterwarnings('ignore')\n",
    "\n",
    "import sys\n",
    "sys.path.append('..')"
   ]
  },
  {
   "cell_type": "code",
   "execution_count": 2,
   "metadata": {},
   "outputs": [
    {
     "name": "stderr",
     "output_type": "stream",
     "text": [
      "/usr/lib/python3.6/importlib/_bootstrap.py:219: RuntimeWarning:\n",
      "\n",
      "numpy.ufunc size changed, may indicate binary incompatibility. Expected 192 from C header, got 216 from PyObject\n",
      "\n",
      "/usr/lib/python3.6/importlib/_bootstrap.py:219: RuntimeWarning:\n",
      "\n",
      "numpy.ufunc size changed, may indicate binary incompatibility. Expected 192 from C header, got 216 from PyObject\n",
      "\n",
      "/usr/lib/python3.6/importlib/_bootstrap.py:219: RuntimeWarning:\n",
      "\n",
      "numpy.ufunc size changed, may indicate binary incompatibility. Expected 192 from C header, got 216 from PyObject\n",
      "\n",
      "/usr/lib/python3.6/importlib/_bootstrap.py:219: RuntimeWarning:\n",
      "\n",
      "numpy.ufunc size changed, may indicate binary incompatibility. Expected 216, got 192\n",
      "\n",
      "/usr/lib/python3.6/importlib/_bootstrap.py:219: ImportWarning:\n",
      "\n",
      "can't resolve package from __spec__ or __package__, falling back on __name__ and __path__\n",
      "\n",
      "/usr/lib/python3.6/importlib/_bootstrap.py:219: RuntimeWarning:\n",
      "\n",
      "numpy.ufunc size changed, may indicate binary incompatibility. Expected 216, got 192\n",
      "\n",
      "/usr/lib/python3.6/importlib/_bootstrap.py:219: ImportWarning:\n",
      "\n",
      "can't resolve package from __spec__ or __package__, falling back on __name__ and __path__\n",
      "\n"
     ]
    }
   ],
   "source": [
    "from omegaconf import OmegaConf\n",
    "import torch\n",
    "import segmentation_models_pytorch as smp\n",
    "from torch import nn\n",
    "from pytorch_lightning.logging import TestTubeLogger\n",
    "from pytorch_lightning.callbacks import ModelCheckpoint\n",
    "from dl.lightning_model import *"
   ]
  },
  {
   "cell_type": "code",
   "execution_count": 3,
   "metadata": {},
   "outputs": [],
   "source": [
    "model = smp.FPN(encoder_name=\"resnext50_32x4d\", classes=2, decoder_merge_policy='cat')\n",
    "\n",
    "criterion = nn.CrossEntropyLoss(\n",
    "    ignore_index = -100,\n",
    "    reduction = 'none'\n",
    ")"
   ]
  },
  {
   "cell_type": "code",
   "execution_count": 4,
   "metadata": {},
   "outputs": [
    {
     "name": "stdout",
     "output_type": "stream",
     "text": [
      "experiment_root_dir: ../../../../results/tests/\n",
      "dataset: kumar\n",
      "model_name: FPN\n",
      "experiment_version: test5\n",
      "resume_training: true\n",
      "num_epochs: 6\n",
      "num_gpus: 1\n",
      "n_classes: 2\n",
      "patch_size: 224\n",
      "batch_size: 6\n",
      "optimizer_args:\n",
      "  lr: 0.001\n",
      "  encoder_lr: 0.0005\n",
      "  weight_decay: 0.0003\n",
      "  encoder_weight_decay: 3.0e-05\n",
      "scheduler_args:\n",
      "  factor: 0.25\n",
      "  patience: 2\n",
      "loss_args:\n",
      "  edge_weight: 1.1\n",
      "inference_args:\n",
      "  smoothen: true\n",
      "\n"
     ]
    }
   ],
   "source": [
    "conf = OmegaConf.create(\n",
    "    {   \n",
    "        'experiment_root_dir':\"../../../../results/tests/\",\n",
    "        'dataset':'kumar',\n",
    "        'model_name':'FPN',\n",
    "        'experiment_version':'test5',\n",
    "        'resume_training':True,\n",
    "        'num_epochs':6,\n",
    "        'num_gpus':1,\n",
    "        'n_classes':2,\n",
    "        'patch_size':224, # input size of the images in the network\n",
    "        'batch_size':6,\n",
    "        \n",
    "        'optimizer_args':{\n",
    "            'lr':0.001,\n",
    "            'encoder_lr':0.0005,\n",
    "            'weight_decay':0.0003,\n",
    "            'encoder_weight_decay':0.00003\n",
    "        },\n",
    "        \n",
    "        'scheduler_args': {\n",
    "            'factor':0.25,\n",
    "            'patience':2\n",
    "        },\n",
    "    \n",
    "        'loss_args' : {\n",
    "            'edge_weight' : 1.1,\n",
    "        },\n",
    "        \n",
    "        'inference_args' : {\n",
    "            'smoothen':True\n",
    "        }\n",
    "\n",
    "    }\n",
    ")\n",
    "print(conf.pretty())"
   ]
  },
  {
   "cell_type": "code",
   "execution_count": 5,
   "metadata": {},
   "outputs": [
    {
     "name": "stderr",
     "output_type": "stream",
     "text": [
      "GPU available: True, used: True\n",
      "TPU available: False, using: 0 TPU cores\n",
      "CUDA_VISIBLE_DEVICES: [0]\n"
     ]
    }
   ],
   "source": [
    "tt_logger = TestTubeLogger(\n",
    "    save_dir=conf['experiment_root_dir'],\n",
    "    name=conf['model_name'],\n",
    "    version=conf['experiment_version']\n",
    ")\n",
    "\n",
    "checkpoint_dir = (\n",
    "    Path(tt_logger.save_dir)\n",
    "    / tt_logger.experiment.name\n",
    "    / f\"version_{tt_logger.experiment.version}\"\n",
    "    / \"checkpoints\"\n",
    ")\n",
    "\n",
    "checkpoint_callback = ModelCheckpoint(\n",
    "    filepath = str(checkpoint_dir),\n",
    "    save_top_k = 1,\n",
    "    save_last = True,\n",
    "    verbose = True, \n",
    "    monitor = 'avg_val_loss',\n",
    "    mode = 'min',\n",
    "    prefix = ''\n",
    ")\n",
    "\n",
    "lightning_model = SegModel(\n",
    "    model=model, \n",
    "    criterion = criterion, \n",
    "    conf = conf\n",
    ")\n",
    "\n",
    "if conf['resume_training']:   \n",
    "    last_checkpoint_path = (\n",
    "        Path(tt_logger.save_dir)\n",
    "        / tt_logger.experiment.name\n",
    "        / f\"version_{tt_logger.experiment.version}\"\n",
    "        / \"last.ckpt\"\n",
    "    )\n",
    "    \n",
    "    trainer = pl.Trainer(\n",
    "        default_root_dir=conf['experiment_root_dir'],\n",
    "        max_epochs=conf['num_epochs'], \n",
    "        gpus=conf['num_gpus'],  \n",
    "        logger=tt_logger,\n",
    "        checkpoint_callback=checkpoint_callback,\n",
    "        resume_from_checkpoint=str(last_checkpoint_path)\n",
    "    )\n",
    "    \n",
    "else:\n",
    "    trainer = pl.Trainer(\n",
    "        default_root_dir=conf['experiment_root_dir'],\n",
    "        max_epochs=conf['num_epochs'], \n",
    "        gpus=conf['num_gpus'],  \n",
    "        logger=tt_logger,\n",
    "        checkpoint_callback=checkpoint_callback,\n",
    "    )"
   ]
  },
  {
   "cell_type": "code",
   "execution_count": 6,
   "metadata": {},
   "outputs": [],
   "source": [
    "log_dir = (\n",
    "    Path(tt_logger.save_dir)\n",
    "    / tt_logger.experiment.name\n",
    "    / f\"version_{tt_logger.experiment.version}\"\n",
    "    / \"tf\"\n",
    ")"
   ]
  },
  {
   "cell_type": "code",
   "execution_count": 7,
   "metadata": {},
   "outputs": [
    {
     "data": {
      "text/plain": [
       "Reusing TensorBoard on port 6007 (pid 10726), started 2:15:45 ago. (Use '!kill 10726' to kill it.)"
      ]
     },
     "metadata": {},
     "output_type": "display_data"
    },
    {
     "data": {
      "text/html": [
       "\n",
       "      <iframe id=\"tensorboard-frame-c021c641a18cd55d\" width=\"100%\" height=\"800\" frameborder=\"0\">\n",
       "      </iframe>\n",
       "      <script>\n",
       "        (function() {\n",
       "          const frame = document.getElementById(\"tensorboard-frame-c021c641a18cd55d\");\n",
       "          const url = new URL(\"/\", window.location);\n",
       "          url.port = 6007;\n",
       "          frame.src = url;\n",
       "        })();\n",
       "      </script>\n",
       "  "
      ],
      "text/plain": [
       "<IPython.core.display.HTML object>"
      ]
     },
     "metadata": {},
     "output_type": "display_data"
    }
   ],
   "source": [
    "%load_ext tensorboard\n",
    "%tensorboard --logdir {log_dir}"
   ]
  },
  {
   "cell_type": "code",
   "execution_count": 8,
   "metadata": {},
   "outputs": [
    {
     "name": "stderr",
     "output_type": "stream",
     "text": [
      "\n",
      "  | Name      | Type             | Params\n",
      "-----------------------------------------------\n",
      "0 | model     | FPN              | 25 M  \n",
      "1 | criterion | CrossEntropyLoss | 0     \n"
     ]
    },
    {
     "data": {
      "application/vnd.jupyter.widget-view+json": {
       "model_id": "",
       "version_major": 2,
       "version_minor": 0
      },
      "text/plain": [
       "HBox(children=(FloatProgress(value=1.0, bar_style='info', description='Validation sanity check', layout=Layout…"
      ]
     },
     "metadata": {},
     "output_type": "display_data"
    },
    {
     "data": {
      "application/vnd.jupyter.widget-view+json": {
       "model_id": "8892b33718774b09a7c98896243e656c",
       "version_major": 2,
       "version_minor": 0
      },
      "text/plain": [
       "HBox(children=(FloatProgress(value=1.0, bar_style='info', description='Training', layout=Layout(flex='2'), max…"
      ]
     },
     "metadata": {},
     "output_type": "display_data"
    },
    {
     "data": {
      "application/vnd.jupyter.widget-view+json": {
       "model_id": "",
       "version_major": 2,
       "version_minor": 0
      },
      "text/plain": [
       "HBox(children=(FloatProgress(value=1.0, bar_style='info', description='Validating', layout=Layout(flex='2'), m…"
      ]
     },
     "metadata": {},
     "output_type": "display_data"
    },
    {
     "name": "stderr",
     "output_type": "stream",
     "text": [
      "\n",
      "Epoch 00003: avg_val_loss reached 0.19332 (best 0.19332), saving model to /home/local/leos/Dippa/results/tests/FPN/version_test5/_ckpt_epoch_3.ckpt as top 1\n"
     ]
    },
    {
     "data": {
      "application/vnd.jupyter.widget-view+json": {
       "model_id": "",
       "version_major": 2,
       "version_minor": 0
      },
      "text/plain": [
       "HBox(children=(FloatProgress(value=1.0, bar_style='info', description='Validating', layout=Layout(flex='2'), m…"
      ]
     },
     "metadata": {},
     "output_type": "display_data"
    },
    {
     "name": "stderr",
     "output_type": "stream",
     "text": [
      "\n",
      "Epoch 00004: avg_val_loss reached 0.19139 (best 0.19139), saving model to /home/local/leos/Dippa/results/tests/FPN/version_test5/_ckpt_epoch_4.ckpt as top 1\n"
     ]
    },
    {
     "data": {
      "application/vnd.jupyter.widget-view+json": {
       "model_id": "",
       "version_major": 2,
       "version_minor": 0
      },
      "text/plain": [
       "HBox(children=(FloatProgress(value=1.0, bar_style='info', description='Validating', layout=Layout(flex='2'), m…"
      ]
     },
     "metadata": {},
     "output_type": "display_data"
    },
    {
     "name": "stderr",
     "output_type": "stream",
     "text": [
      "\n",
      "Epoch 00005: avg_val_loss reached 0.18320 (best 0.18320), saving model to /home/local/leos/Dippa/results/tests/FPN/version_test5/_ckpt_epoch_5.ckpt as top 1\n"
     ]
    },
    {
     "name": "stdout",
     "output_type": "stream",
     "text": [
      "\n"
     ]
    },
    {
     "data": {
      "text/plain": [
       "1"
      ]
     },
     "execution_count": 8,
     "metadata": {},
     "output_type": "execute_result"
    }
   ],
   "source": [
    "trainer.fit(lightning_model)"
   ]
  },
  {
   "cell_type": "code",
   "execution_count": 9,
   "metadata": {},
   "outputs": [
    {
     "data": {
      "image/png": "[encoded data removed]",
      "text/plain": [
       "<Figure size 1440x720 with 1 Axes>"
      ]
     },
     "metadata": {
      "needs_background": "light"
     },
     "output_type": "display_data"
    }
   ],
   "source": [
    "plot_metrics(conf=conf, metric='accuracy', scale='linear')"
   ]
  }
 ],
 "metadata": {
  "kernelspec": {
   "display_name": "Python 3",
   "language": "python",
   "name": "python3"
  },
  "language_info": {
   "codemirror_mode": {
    "name": "ipython",
    "version": 3
   },
   "file_extension": ".py",
   "mimetype": "text/x-python",
   "name": "python",
   "nbconvert_exporter": "python",
   "pygments_lexer": "ipython3",
   "version": "3.6.9"
  }
 },
 "nbformat": 4,
 "nbformat_minor": 4
}
