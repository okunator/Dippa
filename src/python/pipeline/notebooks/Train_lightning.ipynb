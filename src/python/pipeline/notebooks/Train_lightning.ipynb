{
 "cells": [
  {
   "cell_type": "code",
   "execution_count": 16,
   "metadata": {},
   "outputs": [],
   "source": [
    "import warnings\n",
    "warnings.filterwarnings('ignore')\n",
    "\n",
    "import sys\n",
    "sys.path.append('..')"
   ]
  },
  {
   "cell_type": "code",
   "execution_count": 17,
   "metadata": {},
   "outputs": [],
   "source": [
    "from omegaconf import OmegaConf\n",
    "import torch\n",
    "import segmentation_models_pytorch as smp\n",
    "from torch import nn\n",
    "from pytorch_lightning.logging import TensorBoardLogger\n",
    "from dl.lightning_model import *"
   ]
  },
  {
   "cell_type": "code",
   "execution_count": 18,
   "metadata": {},
   "outputs": [],
   "source": [
    "model = smp.FPN(encoder_name=\"resnext50_32x4d\", classes=2, decoder_merge_policy='cat')\n",
    "# class_weight = dataset[\"train\"].numpixels[1,0:2]\n",
    "# class_weight = torch.from_numpy(1-class_weight/class_weight.sum()).type('torch.FloatTensor')\n",
    "\n",
    "criterion = nn.CrossEntropyLoss(\n",
    "    ignore_index = -100,\n",
    "    reduction = 'none'\n",
    ")"
   ]
  },
  {
   "cell_type": "code",
   "execution_count": 19,
   "metadata": {},
   "outputs": [
    {
     "name": "stdout",
     "output_type": "stream",
     "text": [
      "dataloader_args:\n",
      "  batch_size: 6\n",
      "  n_classes: 2\n",
      "optimizer_args:\n",
      "  lr: 0.001\n",
      "  encoder_lr: 0.0005\n",
      "  weight_decay: 0.0003\n",
      "  encoder_weight_decay: 3.0e-05\n",
      "scheduler_args:\n",
      "  factor: 0.25\n",
      "  patience: 2\n",
      "loss_args:\n",
      "  edge_weight: 1.1\n",
      "\n"
     ]
    }
   ],
   "source": [
    "conf = OmegaConf.create(\n",
    "    {        \n",
    "        'dataloader_args': {\n",
    "            'batch_size':6,\n",
    "            'n_classes':2\n",
    "        },\n",
    "        \n",
    "        'optimizer_args':{\n",
    "            'lr':0.001,\n",
    "            'encoder_lr':0.0005,\n",
    "            'weight_decay':0.0003,\n",
    "            'encoder_weight_decay':0.00003\n",
    "        },\n",
    "        \n",
    "        'scheduler_args': {\n",
    "            'factor':0.25,\n",
    "            'patience':2\n",
    "        },\n",
    "    \n",
    "        'loss_args' : {\n",
    "            'edge_weight' : 1.1,\n",
    "        }\n",
    "\n",
    "    }\n",
    ")\n",
    "print(conf.pretty())"
   ]
  },
  {
   "cell_type": "code",
   "execution_count": 20,
   "metadata": {},
   "outputs": [],
   "source": [
    "logdir = \"../../../../results/tensorboard_logs/\"\n",
    "model_dir = \"../../../../results/trained_models/\""
   ]
  },
  {
   "cell_type": "code",
   "execution_count": 21,
   "metadata": {},
   "outputs": [
    {
     "name": "stdout",
     "output_type": "stream",
     "text": [
      "The tensorboard extension is already loaded. To reload it, use:\n",
      "  %reload_ext tensorboard\n"
     ]
    },
    {
     "data": {
      "text/plain": [
       "Reusing TensorBoard on port 6006 (pid 17604), started 2:32:57 ago. (Use '!kill 17604' to kill it.)"
      ]
     },
     "metadata": {},
     "output_type": "display_data"
    },
    {
     "data": {
      "text/html": [
       "\n",
       "      <iframe id=\"tensorboard-frame-a9d9afb0c6b69e69\" width=\"100%\" height=\"800\" frameborder=\"0\">\n",
       "      </iframe>\n",
       "      <script>\n",
       "        (function() {\n",
       "          const frame = document.getElementById(\"tensorboard-frame-a9d9afb0c6b69e69\");\n",
       "          const url = new URL(\"/\", window.location);\n",
       "          url.port = 6006;\n",
       "          frame.src = url;\n",
       "        })();\n",
       "      </script>\n",
       "  "
      ],
      "text/plain": [
       "<IPython.core.display.HTML object>"
      ]
     },
     "metadata": {},
     "output_type": "display_data"
    }
   ],
   "source": [
    "%load_ext tensorboard\n",
    "%tensorboard --logdir {logdir}"
   ]
  },
  {
   "cell_type": "code",
   "execution_count": 22,
   "metadata": {},
   "outputs": [],
   "source": [
    "checkpoint_callback = pl.callbacks.ModelCheckpoint(\n",
    "    filepath = model_dir,\n",
    "    save_top_k = 1,\n",
    "    save_last = True,\n",
    "    verbose = True, \n",
    "    monitor = 'val_loss',\n",
    "    mode = 'min',\n",
    "    prefix = ''\n",
    ")\n",
    "\n",
    "logger = TensorBoardLogger(save_dir=logdir, name=\"FPN\")"
   ]
  },
  {
   "cell_type": "code",
   "execution_count": 23,
   "metadata": {
    "scrolled": true
   },
   "outputs": [
    {
     "name": "stderr",
     "output_type": "stream",
     "text": [
      "GPU available: False, used: False\n",
      "TPU available: False, using: 0 TPU cores\n"
     ]
    }
   ],
   "source": [
    "lightning_model = SegModel(model=model, criterion = criterion, hparams = conf, dataset='kumar')\n",
    "trainer = pl.Trainer(\n",
    "    default_root_dir=model_dir,\n",
    "    max_epochs=30, \n",
    "    gpus=0, \n",
    "    checkpoint_callback=checkpoint_callback, \n",
    "    logger=logger\n",
    ")"
   ]
  },
  {
   "cell_type": "code",
   "execution_count": 24,
   "metadata": {},
   "outputs": [],
   "source": [
    "#trainer.logger.log_dir"
   ]
  },
  {
   "cell_type": "code",
   "execution_count": 25,
   "metadata": {},
   "outputs": [],
   "source": [
    "#trainer.fit(lightning_model)"
   ]
  }
 ],
 "metadata": {
  "kernelspec": {
   "display_name": "Python 3",
   "language": "python",
   "name": "python3"
  },
  "language_info": {
   "codemirror_mode": {
    "name": "ipython",
    "version": 3
   },
   "file_extension": ".py",
   "mimetype": "text/x-python",
   "name": "python",
   "nbconvert_exporter": "python",
   "pygments_lexer": "ipython3",
   "version": "3.6.9"
  }
 },
 "nbformat": 4,
 "nbformat_minor": 4
}
