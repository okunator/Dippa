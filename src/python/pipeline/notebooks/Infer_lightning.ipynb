{
 "cells": [
  {
   "cell_type": "code",
   "execution_count": 1,
   "metadata": {},
   "outputs": [],
   "source": [
    "import warnings\n",
    "warnings.filterwarnings('ignore')\n",
    "\n",
    "import sys\n",
    "sys.path.append('..')"
   ]
  },
  {
   "cell_type": "code",
   "execution_count": 3,
   "metadata": {},
   "outputs": [
    {
     "name": "stderr",
     "output_type": "stream",
     "text": [
      "/usr/lib/python3.6/importlib/_bootstrap.py:219: RuntimeWarning:\n",
      "\n",
      "numpy.ufunc size changed, may indicate binary incompatibility. Expected 192 from C header, got 216 from PyObject\n",
      "\n",
      "/usr/lib/python3.6/importlib/_bootstrap.py:219: RuntimeWarning:\n",
      "\n",
      "numpy.ufunc size changed, may indicate binary incompatibility. Expected 192 from C header, got 216 from PyObject\n",
      "\n",
      "/usr/lib/python3.6/importlib/_bootstrap.py:219: RuntimeWarning:\n",
      "\n",
      "numpy.ufunc size changed, may indicate binary incompatibility. Expected 192 from C header, got 216 from PyObject\n",
      "\n",
      "/usr/lib/python3.6/importlib/_bootstrap.py:219: RuntimeWarning:\n",
      "\n",
      "numpy.ufunc size changed, may indicate binary incompatibility. Expected 216, got 192\n",
      "\n",
      "/usr/lib/python3.6/importlib/_bootstrap.py:219: ImportWarning:\n",
      "\n",
      "can't resolve package from __spec__ or __package__, falling back on __name__ and __path__\n",
      "\n",
      "/usr/lib/python3.6/importlib/_bootstrap.py:219: RuntimeWarning:\n",
      "\n",
      "numpy.ufunc size changed, may indicate binary incompatibility. Expected 216, got 192\n",
      "\n",
      "/usr/lib/python3.6/importlib/_bootstrap.py:219: ImportWarning:\n",
      "\n",
      "can't resolve package from __spec__ or __package__, falling back on __name__ and __path__\n",
      "\n"
     ]
    }
   ],
   "source": [
    "import torch\n",
    "import segmentation_models_pytorch as smp\n",
    "from omegaconf import OmegaConf\n",
    "from torch import nn\n",
    "\n",
    "from dl.inferer import *\n",
    "from dl.lightning_model import *"
   ]
  },
  {
   "cell_type": "code",
   "execution_count": 4,
   "metadata": {},
   "outputs": [
    {
     "data": {
      "text/plain": [
       "<All keys matched successfully>"
      ]
     },
     "execution_count": 4,
     "metadata": {},
     "output_type": "execute_result"
    }
   ],
   "source": [
    "segmodel = smp.FPN(encoder_name=\"resnext50_32x4d\", classes=2, decoder_merge_policy='cat')\n",
    "\n",
    "criterion = nn.CrossEntropyLoss(\n",
    "    ignore_index = -100,\n",
    "    reduction = 'none'\n",
    ")\n",
    "\n",
    "PATH = \"/home/leos/IMAGE_ANALYSIS/trained_dl_models/smp/Kumar/V1/patch_224/test_lightning/epoch=17.ckpt\"\n",
    "\n",
    "conf = OmegaConf.create(\n",
    "    {\n",
    "        'dirs': {\n",
    "            'test_dir': \"/home/leos/IMAGE_ANALYSIS/HDF5_data/databases/Kumar/patch_224/test_Kumar.pytable\",\n",
    "            'train_dir': \"/home/leos/IMAGE_ANALYSIS/HDF5_data/databases/Kumar/patch_224/train_Kumar.pytable\"\n",
    "        },\n",
    "        \n",
    "        'dataloader_args': {\n",
    "            'batch_size':6,\n",
    "            'n_classes':2\n",
    "        },\n",
    "        \n",
    "        'optimizer_args':{\n",
    "            'lr':0.001,\n",
    "            'encoder_lr':0.0005,\n",
    "            'weight_decay':0.0003,\n",
    "            'encoder_weight_decay':0.00003\n",
    "        },\n",
    "        \n",
    "        'scheduler_args': {\n",
    "            'factor':0.25,\n",
    "            'patience':2\n",
    "        },\n",
    "    \n",
    "        'loss_args' : {\n",
    "            'edge_weight' : 1.1,\n",
    "        }\n",
    "\n",
    "    }\n",
    ")\n",
    "\n",
    "model = SegModel(model=segmodel, criterion=criterion, hparams=conf)\n",
    "checkpoint = torch.load(PATH, map_location = lambda storage, loc : storage)\n",
    "\n",
    "model.load_state_dict(checkpoint['state_dict'])"
   ]
  },
  {
   "cell_type": "code",
   "execution_count": 5,
   "metadata": {},
   "outputs": [
    {
     "name": "stderr",
     "output_type": "stream",
     "text": [
      "2020-07-09 18:39:33,656\tINFO resource_spec.py:212 -- Starting Ray with 15.04 GiB memory available for workers and up to 7.53 GiB for objects. You can adjust these settings with ray.init(memory=<bytes>, object_store_memory=<bytes>).\n",
      "/home/leos/.local/lib/python3.6/site-packages/ray/node.py:649: ResourceWarning:\n",
      "\n",
      "unclosed file <_io.TextIOWrapper name='/tmp/ray/session_2020-07-09_18-39-33_655807_3419/logs/redis-shard_0.err' mode='a' encoding='UTF-8'>\n",
      "\n",
      "/home/leos/.local/lib/python3.6/site-packages/ray/node.py:649: ResourceWarning:\n",
      "\n",
      "unclosed file <_io.TextIOWrapper name='/tmp/ray/session_2020-07-09_18-39-33_655807_3419/logs/redis-shard_0.out' mode='a' encoding='UTF-8'>\n",
      "\n",
      "/home/leos/.local/lib/python3.6/site-packages/ray/node.py:649: ResourceWarning:\n",
      "\n",
      "unclosed file <_io.TextIOWrapper name='/tmp/ray/session_2020-07-09_18-39-33_655807_3419/logs/redis.err' mode='a' encoding='UTF-8'>\n",
      "\n",
      "/home/leos/.local/lib/python3.6/site-packages/ray/node.py:649: ResourceWarning:\n",
      "\n",
      "unclosed file <_io.TextIOWrapper name='/tmp/ray/session_2020-07-09_18-39-33_655807_3419/logs/redis.out' mode='a' encoding='UTF-8'>\n",
      "\n",
      "/home/leos/.local/lib/python3.6/site-packages/ray/node.py:652: ResourceWarning:\n",
      "\n",
      "unclosed file <_io.TextIOWrapper name='/tmp/ray/session_2020-07-09_18-39-33_655807_3419/logs/gcs_server.out' mode='a' encoding='UTF-8'>\n",
      "\n",
      "/home/leos/.local/lib/python3.6/site-packages/ray/node.py:652: ResourceWarning:\n",
      "\n",
      "unclosed file <_io.TextIOWrapper name='/tmp/ray/session_2020-07-09_18-39-33_655807_3419/logs/gcs_server.err' mode='a' encoding='UTF-8'>\n",
      "\n",
      "/home/leos/.local/lib/python3.6/site-packages/ray/node.py:656: ResourceWarning:\n",
      "\n",
      "unclosed file <_io.TextIOWrapper name='/tmp/ray/session_2020-07-09_18-39-33_655807_3419/logs/monitor.out' mode='a' encoding='UTF-8'>\n",
      "\n",
      "/home/leos/.local/lib/python3.6/site-packages/ray/node.py:656: ResourceWarning:\n",
      "\n",
      "unclosed file <_io.TextIOWrapper name='/tmp/ray/session_2020-07-09_18-39-33_655807_3419/logs/monitor.err' mode='a' encoding='UTF-8'>\n",
      "\n",
      "2020-07-09 18:39:34,162\tINFO services.py:1170 -- View the Ray dashboard at \u001b[1m\u001b[32mlocalhost:8265\u001b[39m\u001b[22m\n",
      "/home/leos/.local/lib/python3.6/site-packages/ray/node.py:661: ResourceWarning:\n",
      "\n",
      "unclosed file <_io.TextIOWrapper name='/tmp/ray/session_2020-07-09_18-39-33_655807_3419/logs/dashboard.out' mode='a' encoding='UTF-8'>\n",
      "\n",
      "/home/leos/.local/lib/python3.6/site-packages/ray/node.py:661: ResourceWarning:\n",
      "\n",
      "unclosed file <_io.TextIOWrapper name='/tmp/ray/session_2020-07-09_18-39-33_655807_3419/logs/dashboard.err' mode='a' encoding='UTF-8'>\n",
      "\n",
      "/home/leos/.local/lib/python3.6/site-packages/ray/node.py:669: ResourceWarning:\n",
      "\n",
      "unclosed file <_io.TextIOWrapper name='/tmp/ray/session_2020-07-09_18-39-33_655807_3419/logs/plasma_store.out' mode='a' encoding='UTF-8'>\n",
      "\n",
      "/home/leos/.local/lib/python3.6/site-packages/ray/node.py:669: ResourceWarning:\n",
      "\n",
      "unclosed file <_io.TextIOWrapper name='/tmp/ray/session_2020-07-09_18-39-33_655807_3419/logs/plasma_store.err' mode='a' encoding='UTF-8'>\n",
      "\n",
      "/home/leos/.local/lib/python3.6/site-packages/ray/node.py:670: ResourceWarning:\n",
      "\n",
      "unclosed file <_io.TextIOWrapper name='/tmp/ray/session_2020-07-09_18-39-33_655807_3419/logs/raylet.out' mode='a' encoding='UTF-8'>\n",
      "\n",
      "/home/leos/.local/lib/python3.6/site-packages/ray/node.py:670: ResourceWarning:\n",
      "\n",
      "unclosed file <_io.TextIOWrapper name='/tmp/ray/session_2020-07-09_18-39-33_655807_3419/logs/raylet.err' mode='a' encoding='UTF-8'>\n",
      "\n",
      "/home/leos/.local/lib/python3.6/site-packages/ray/node.py:671: ResourceWarning:\n",
      "\n",
      "unclosed file <_io.TextIOWrapper name='/tmp/ray/session_2020-07-09_18-39-33_655807_3419/logs/reporter.out' mode='a' encoding='UTF-8'>\n",
      "\n",
      "/home/leos/.local/lib/python3.6/site-packages/ray/node.py:671: ResourceWarning:\n",
      "\n",
      "unclosed file <_io.TextIOWrapper name='/tmp/ray/session_2020-07-09_18-39-33_655807_3419/logs/reporter.err' mode='a' encoding='UTF-8'>\n",
      "\n",
      "/home/leos/.local/lib/python3.6/site-packages/ray/node.py:674: ResourceWarning:\n",
      "\n",
      "unclosed file <_io.TextIOWrapper name='/tmp/ray/session_2020-07-09_18-39-33_655807_3419/logs/log_monitor.out' mode='a' encoding='UTF-8'>\n",
      "\n",
      "/home/leos/.local/lib/python3.6/site-packages/ray/node.py:674: ResourceWarning:\n",
      "\n",
      "unclosed file <_io.TextIOWrapper name='/tmp/ray/session_2020-07-09_18-39-33_655807_3419/logs/log_monitor.err' mode='a' encoding='UTF-8'>\n",
      "\n"
     ]
    },
    {
     "data": {
      "text/plain": [
       "{'node_ip_address': '192.168.10.221',\n",
       " 'raylet_ip_address': '192.168.10.221',\n",
       " 'redis_address': '192.168.10.221:55482',\n",
       " 'object_store_address': '/tmp/ray/session_2020-07-09_18-39-33_655807_3419/sockets/plasma_store',\n",
       " 'raylet_socket_name': '/tmp/ray/session_2020-07-09_18-39-33_655807_3419/sockets/raylet',\n",
       " 'webui_url': 'localhost:8265',\n",
       " 'session_dir': '/tmp/ray/session_2020-07-09_18-39-33_655807_3419'}"
      ]
     },
     "execution_count": 5,
     "metadata": {},
     "output_type": "execute_result"
    }
   ],
   "source": [
    "ray.init()"
   ]
  },
  {
   "cell_type": "code",
   "execution_count": 6,
   "metadata": {},
   "outputs": [],
   "source": [
    "inf = Inferer.remote(\n",
    "    batch_size = 6,\n",
    "    patch_size = 224,\n",
    "    model = model,\n",
    "    n_classes = 2,\n",
    "    smoothen=False,\n",
    "    dataset='consep'\n",
    ")"
   ]
  },
  {
   "cell_type": "code",
   "execution_count": 7,
   "metadata": {},
   "outputs": [
    {
     "name": "stderr",
     "output_type": "stream",
     "text": [
      "2020-07-09 18:39:43,440\tERROR worker.py:1030 -- Possible unhandled error from worker: \u001b[36mray::Inferer.__init__()\u001b[39m (pid=3542, ip=192.168.10.221)\n",
      "  File \"python/ray/_raylet.pyx\", line 427, in ray._raylet.execute_task\n",
      "  File \"python/ray/_raylet.pyx\", line 444, in ray._raylet.execute_task\n",
      "  File \"/home/leos/.local/lib/python3.6/site-packages/ray/serialization.py\", line 317, in deserialize_objects\n",
      "    self._deserialize_object(data, metadata, object_id))\n",
      "  File \"/home/leos/.local/lib/python3.6/site-packages/ray/serialization.py\", line 257, in _deserialize_object\n",
      "    return self._deserialize_msgpack_data(data, metadata)\n",
      "  File \"/home/leos/.local/lib/python3.6/site-packages/ray/serialization.py\", line 238, in _deserialize_msgpack_data\n",
      "    python_objects = self._deserialize_pickle5_data(pickle5_data)\n",
      "  File \"/home/leos/.local/lib/python3.6/site-packages/ray/serialization.py\", line 226, in _deserialize_pickle5_data\n",
      "    obj = pickle.loads(in_band)\n",
      "ModuleNotFoundError: No module named 'dl'\n",
      "2020-07-09 18:39:47,445\tERROR worker.py:1030 -- Possible unhandled error from worker: \u001b[36mray::Inferer.run()\u001b[39m (pid=3542, ip=192.168.10.221)\n",
      "  File \"python/ray/_raylet.pyx\", line 424, in ray._raylet.execute_task\n",
      "  File \"python/ray/_raylet.pyx\", line 427, in ray._raylet.execute_task\n",
      "  File \"python/ray/_raylet.pyx\", line 444, in ray._raylet.execute_task\n",
      "  File \"/home/leos/.local/lib/python3.6/site-packages/ray/serialization.py\", line 317, in deserialize_objects\n",
      "    self._deserialize_object(data, metadata, object_id))\n",
      "  File \"/home/leos/.local/lib/python3.6/site-packages/ray/serialization.py\", line 257, in _deserialize_object\n",
      "    return self._deserialize_msgpack_data(data, metadata)\n",
      "  File \"/home/leos/.local/lib/python3.6/site-packages/ray/serialization.py\", line 238, in _deserialize_msgpack_data\n",
      "    python_objects = self._deserialize_pickle5_data(pickle5_data)\n",
      "  File \"/home/leos/.local/lib/python3.6/site-packages/ray/serialization.py\", line 226, in _deserialize_pickle5_data\n",
      "    obj = pickle.loads(in_band)\n",
      "ModuleNotFoundError: No module named 'dl'\n"
     ]
    }
   ],
   "source": [
    "infobj = inf.run.remote()"
   ]
  },
  {
   "cell_type": "code",
   "execution_count": 7,
   "metadata": {},
   "outputs": [
    {
     "ename": "TypeError",
     "evalue": "Actor methods cannot be called directly. Instead of running 'object.plot_histograms()', try 'object.plot_histograms.remote()'.",
     "output_type": "error",
     "traceback": [
      "\u001b[0;31m---------------------------------------------------------------------------\u001b[0m",
      "\u001b[0;31mTypeError\u001b[0m                                 Traceback (most recent call last)",
      "\u001b[0;32m<ipython-input-7-55632a7d22f2>\u001b[0m in \u001b[0;36m<module>\u001b[0;34m\u001b[0m\n\u001b[0;32m----> 1\u001b[0;31m \u001b[0minf\u001b[0m\u001b[0;34m.\u001b[0m\u001b[0mplot_histograms\u001b[0m\u001b[0;34m(\u001b[0m\u001b[0;34m)\u001b[0m\u001b[0;34m\u001b[0m\u001b[0;34m\u001b[0m\u001b[0m\n\u001b[0m",
      "\u001b[0;32m~/.local/lib/python3.6/site-packages/ray/actor.py\u001b[0m in \u001b[0;36m__call__\u001b[0;34m(self, *args, **kwargs)\u001b[0m\n\u001b[1;32m     97\u001b[0m                         \u001b[0;34m\"of running 'object.{}()', try \"\u001b[0m\u001b[0;34m\u001b[0m\u001b[0;34m\u001b[0m\u001b[0m\n\u001b[1;32m     98\u001b[0m                         \"'object.{}.remote()'.\".format(self._method_name,\n\u001b[0;32m---> 99\u001b[0;31m                                                        self._method_name))\n\u001b[0m\u001b[1;32m    100\u001b[0m \u001b[0;34m\u001b[0m\u001b[0m\n\u001b[1;32m    101\u001b[0m     \u001b[0;32mdef\u001b[0m \u001b[0mremote\u001b[0m\u001b[0;34m(\u001b[0m\u001b[0mself\u001b[0m\u001b[0;34m,\u001b[0m \u001b[0;34m*\u001b[0m\u001b[0margs\u001b[0m\u001b[0;34m,\u001b[0m \u001b[0;34m**\u001b[0m\u001b[0mkwargs\u001b[0m\u001b[0;34m)\u001b[0m\u001b[0;34m:\u001b[0m\u001b[0;34m\u001b[0m\u001b[0;34m\u001b[0m\u001b[0m\n",
      "\u001b[0;31mTypeError\u001b[0m: Actor methods cannot be called directly. Instead of running 'object.plot_histograms()', try 'object.plot_histograms.remote()'."
     ]
    }
   ],
   "source": [
    "inf.plot_histograms()"
   ]
  },
  {
   "cell_type": "code",
   "execution_count": null,
   "metadata": {},
   "outputs": [],
   "source": [
    "inf.save_outputs('pöö/pö/pöö/image.png')"
   ]
  },
  {
   "cell_type": "code",
   "execution_count": null,
   "metadata": {},
   "outputs": [
    {
     "name": "stderr",
     "output_type": "stream",
     "text": [
      "2020-07-09 18:29:44,911\tERROR worker.py:1030 -- Possible unhandled error from worker: \u001b[36mray::Inferer.__init__()\u001b[39m (pid=3072, ip=192.168.10.221)\n",
      "  File \"python/ray/_raylet.pyx\", line 427, in ray._raylet.execute_task\n",
      "  File \"python/ray/_raylet.pyx\", line 444, in ray._raylet.execute_task\n",
      "  File \"/home/leos/.local/lib/python3.6/site-packages/ray/serialization.py\", line 317, in deserialize_objects\n",
      "    self._deserialize_object(data, metadata, object_id))\n",
      "  File \"/home/leos/.local/lib/python3.6/site-packages/ray/serialization.py\", line 257, in _deserialize_object\n",
      "    return self._deserialize_msgpack_data(data, metadata)\n",
      "  File \"/home/leos/.local/lib/python3.6/site-packages/ray/serialization.py\", line 238, in _deserialize_msgpack_data\n",
      "    python_objects = self._deserialize_pickle5_data(pickle5_data)\n",
      "  File \"/home/leos/.local/lib/python3.6/site-packages/ray/serialization.py\", line 226, in _deserialize_pickle5_data\n",
      "    obj = pickle.loads(in_band)\n",
      "ModuleNotFoundError: No module named 'dl'\n",
      "2020-07-09 18:29:44,913\tERROR worker.py:1030 -- Possible unhandled error from worker: \u001b[36mray::Inferer.run()\u001b[39m (pid=3072, ip=192.168.10.221)\n",
      "  File \"python/ray/_raylet.pyx\", line 424, in ray._raylet.execute_task\n",
      "  File \"python/ray/_raylet.pyx\", line 427, in ray._raylet.execute_task\n",
      "  File \"python/ray/_raylet.pyx\", line 444, in ray._raylet.execute_task\n",
      "  File \"/home/leos/.local/lib/python3.6/site-packages/ray/serialization.py\", line 317, in deserialize_objects\n",
      "    self._deserialize_object(data, metadata, object_id))\n",
      "  File \"/home/leos/.local/lib/python3.6/site-packages/ray/serialization.py\", line 257, in _deserialize_object\n",
      "    return self._deserialize_msgpack_data(data, metadata)\n",
      "  File \"/home/leos/.local/lib/python3.6/site-packages/ray/serialization.py\", line 238, in _deserialize_msgpack_data\n",
      "    python_objects = self._deserialize_pickle5_data(pickle5_data)\n",
      "  File \"/home/leos/.local/lib/python3.6/site-packages/ray/serialization.py\", line 226, in _deserialize_pickle5_data\n",
      "    obj = pickle.loads(in_band)\n",
      "ModuleNotFoundError: No module named 'dl'\n"
     ]
    }
   ],
   "source": [
    "inf.plot_predictions()"
   ]
  }
 ],
 "metadata": {
  "kernelspec": {
   "display_name": "Python 3",
   "language": "python",
   "name": "python3"
  },
  "language_info": {
   "codemirror_mode": {
    "name": "ipython",
    "version": 3
   },
   "file_extension": ".py",
   "mimetype": "text/x-python",
   "name": "python",
   "nbconvert_exporter": "python",
   "pygments_lexer": "ipython3",
   "version": "3.6.9"
  }
 },
 "nbformat": 4,
 "nbformat_minor": 4
}
