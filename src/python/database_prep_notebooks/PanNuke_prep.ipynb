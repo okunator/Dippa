{
 "cells": [
  {
   "cell_type": "code",
   "execution_count": 3,
   "metadata": {},
   "outputs": [],
   "source": [
    "import numpy as np\n",
    "import cv2\n",
    "import scipy.io\n",
    "import matplotlib.pyplot as plt\n",
    "import glob\n",
    "from scipy import ndimage as ndi\n",
    "\n",
    "import sys\n",
    "sys.path.append('..')\n",
    "sys.path.append('../pipeline')\n",
    "from pipeline.dl.viz_utils import *"
   ]
  },
  {
   "cell_type": "code",
   "execution_count": 5,
   "metadata": {},
   "outputs": [],
   "source": [
    "def write_imgs(npy_imgs, outdir, fold=\"train\"):\n",
    "    for i in range(npy_imgs.shape[0]):\n",
    "        fn = f\"{outdir}/{fold}_{i}.png\"\n",
    "        cv2.imwrite(fn, npy_imgs[i, ...])\n",
    "\n",
    "# Load images in .npy format\n",
    "fold1_imgs_dir = \"../../../datasets/Nucleisegmentation-PanNuke/orig/Fold 1/images/fold1/images.npy\"\n",
    "fold2_imgs_dir = \"../../../datasets/Nucleisegmentation-PanNuke/orig/Fold 2/images/fold2/images.npy\"\n",
    "fold3_imgs_dir = \"../../../datasets/Nucleisegmentation-PanNuke/orig/Fold 3/images/fold3/images.npy\"\n",
    "fold1_imgs = np.load(fold1_imgs_dir).astype('uint8')\n",
    "fold2_imgs = np.load(fold2_imgs_dir).astype('uint8')\n",
    "fold3_imgs = np.load(fold3_imgs_dir).astype('uint8')\n",
    "\n",
    "# Write images to .png to corresponding dirs\n",
    "train_imgs_dir = \"../../../datasets/Nucleisegmentation-PanNuke/train/Images\"\n",
    "valid_imgs_dir = \"../../../datasets/Nucleisegmentation-PanNuke/valid/Images\"\n",
    "test_imgs_dir = \"../../../datasets/Nucleisegmentation-PanNuke/test/Images\"\n",
    "\n",
    "write_imgs(fold1_imgs, train_imgs_dir, fold=\"train\")\n",
    "write_imgs(fold2_imgs, valid_imgs_dir, fold=\"valid\")\n",
    "write_imgs(fold3_imgs, test_imgs_dir, fold=\"test\")"
   ]
  },
  {
   "cell_type": "code",
   "execution_count": 24,
   "metadata": {},
   "outputs": [],
   "source": [
    "def write_masks(npy_masks, outdir, fold=\"train\"):\n",
    "    for i in range(npy_masks.shape[0]):\n",
    "        t = npy_masks[i, ...]\n",
    "        inst_map = np.zeros(t.shape[:2], dtype=np.uint32)\n",
    "        for l in range(t.shape[-1]-1):\n",
    "            inst_map += t[..., l]\n",
    "        fn = f\"{outdir}/{fold}_{i}.mat\"\n",
    "        scipy.io.savemat(fn, mdict={'inst_map': inst_map})\n",
    "\n",
    "# load masks in the .npy format\n",
    "fold1_masks_dir = \"../../../datasets/Nucleisegmentation-PanNuke/orig/Fold 1/masks/fold1/masks.npy\"\n",
    "fold2_masks_dir = \"../../../datasets/Nucleisegmentation-PanNuke/orig/Fold 2/masks/fold2/masks.npy\"\n",
    "fold3_masks_dir = \"../../../datasets/Nucleisegmentation-PanNuke/orig/Fold 3/masks/fold3/masks.npy\"        \n",
    "fold1_masks = np.load(fold1_masks_dir).astype('uint32')\n",
    "fold2_masks = np.load(fold2_masks_dir).astype('uint32')\n",
    "fold3_masks = np.load(fold3_masks_dir).astype('uint32')\n",
    "\n",
    "# specify output dirs\n",
    "train_masks_dir = \"../../../datasets/Nucleisegmentation-PanNuke/train/Labels\"\n",
    "valid_masks_dir = \"../../../datasets/Nucleisegmentation-PanNuke/valid/Labels\"\n",
    "test_masks_dir = \"../../../datasets/Nucleisegmentation-PanNuke/test/Labels\"\n",
    "    \n",
    "# write masks to corresponding directories as .mat format\n",
    "write_masks(fold1_masks, train_masks_dir, fold=\"train\")\n",
    "write_masks(fold2_masks, valid_masks_dir, fold=\"valid\")\n",
    "write_masks(fold3_masks, test_masks_dir, fold=\"test\")"
   ]
  },
  {
   "cell_type": "code",
   "execution_count": 36,
   "metadata": {},
   "outputs": [],
   "source": [
    "def write_overlays(gts, ims, outdir, fold=\"train\"):\n",
    "    for j, (g, i) in enumerate(zip(gts, ims)):\n",
    "        gt = scipy.io.loadmat(g)\n",
    "        gt = gt['inst_map']\n",
    "        im = cv2.imread(i)\n",
    "        _, overlay = draw_contours(gt, im) \n",
    "        fn = f\"{dir_train_ol}/{fold}_{j}_overlay.png\"\n",
    "        cv2.imwrite(fn, overlay)\n",
    "        \n",
    "\n",
    "# specify output dirs\n",
    "dir_train_ol = \"../../../datasets/Nucleisegmentation-PanNuke/train/Overlay_binary\"\n",
    "dir_valid_ol = \"../../../datasets/Nucleisegmentation-PanNuke/valid/Overlay_binary\"\n",
    "dir_test_ol = \"../../../datasets/Nucleisegmentation-PanNuke/test/Overlay_binary\"\n",
    "\n",
    "# List the image and gt files\n",
    "train_gts = sorted(glob.glob(train_mask_dir + \"/*.mat\"))\n",
    "train_ims = sorted(glob.glob(dir_train + \"/*.png\"))\n",
    "valid_gts = sorted(glob.glob(valid_mask_dir + \"/*.mat\"))\n",
    "valid_ims = sorted(glob.glob(dir_valid + \"/*.png\"))\n",
    "test_gts = sorted(glob.glob(test_mask_dir + \"/*.mat\"))\n",
    "test_ims = sorted(glob.glob(dir_test + \"/*.png\"))\n",
    "\n",
    "# write mask image overlays to corresponding directories as .png\n",
    "write_overlays(train_gts, train_ims, dir_train_ol, fold=\"train\")\n",
    "write_overlays(valid_gts, valid_ims, dir_valid_ol, fold=\"valid\")\n",
    "write_overlays(train_gts, train_ims, dir_test_ol, fold=\"test\")"
   ]
  }
 ],
 "metadata": {
  "kernelspec": {
   "display_name": "Python 3",
   "language": "python",
   "name": "python3"
  },
  "language_info": {
   "codemirror_mode": {
    "name": "ipython",
    "version": 3
   },
   "file_extension": ".py",
   "mimetype": "text/x-python",
   "name": "python",
   "nbconvert_exporter": "python",
   "pygments_lexer": "ipython3",
   "version": "3.6.9"
  }
 },
 "nbformat": 4,
 "nbformat_minor": 4
}
