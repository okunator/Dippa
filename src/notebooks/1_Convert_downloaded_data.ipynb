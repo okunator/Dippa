{
 "cells": [
  {
   "cell_type": "markdown",
   "metadata": {},
   "source": [
    "# File format and folder structure\n",
    "\n",
    "The folder structure for this project is designed so that there won't be any hassling with folders and paths when using these codes. After downloading the data files from the given github links all that is needed is to place the .zip files or extract the contents of the .zip files to the right folders inside the `datasets/` folder of the repository.\n",
    "\n",
    "Images can be of any format cv2 can read and the masks are in the same format as in the the HoVer-Net paper which is:\n",
    "\n",
    "- .mat files\n",
    "- 'inst_map' is the key for accessing the nuclei instance maps\n",
    "- 'type_map' is the key for accessing the nuclei type maps if the dataset contains them. \n",
    "- For now consep and pannuke has type maps so 'type_map' so 'type_map' key only works on them.\n",
    "- Only exception to the HoVer-Net paper is that nuclei centroids and instance types are not saved to the .mat files\n",
    "\n",
    "By running these, also the instance and type map overlays can be drawn to theis corresponding folders for further visual investigations..."
   ]
  },
  {
   "cell_type": "code",
   "execution_count": 1,
   "metadata": {},
   "outputs": [],
   "source": [
    "import sys\n",
    "sys.path.append(\"..\")\n",
    "sys.path.append(\"../utils\")\n",
    "from file_manager import *\n",
    "from config import *"
   ]
  },
  {
   "cell_type": "code",
   "execution_count": 2,
   "metadata": {},
   "outputs": [],
   "source": [
    "fm = ProjectFileManager.from_conf(conf)"
   ]
  },
  {
   "cell_type": "markdown",
   "metadata": {},
   "source": [
    "# Kumar\n",
    "\n",
    "This moves the raw data to it's own folder and and writes .mat masks and copies images to their own folders"
   ]
  },
  {
   "cell_type": "code",
   "execution_count": 4,
   "metadata": {},
   "outputs": [],
   "source": [
    "kumar_raw_data_dir = conf['paths']['raw_data_dirs']['kumar']\n",
    "fm.handle_raw_data(\"kumar\", kumar_raw_data_dir, rm_zips=False, overlays=True)"
   ]
  },
  {
   "cell_type": "markdown",
   "metadata": {},
   "source": [
    "# Consep\n",
    "\n",
    "This moves the raw original data to it's own folder and copies the .mat masks and images to right folders"
   ]
  },
  {
   "cell_type": "code",
   "execution_count": 3,
   "metadata": {},
   "outputs": [],
   "source": [
    "consep_raw_data_dir = conf['paths']['raw_data_dirs']['consep']\n",
    "fm.handle_raw_data(\"consep\", consep_raw_data_dir, rm_zips=False, overlays=True)"
   ]
  },
  {
   "cell_type": "markdown",
   "metadata": {},
   "source": [
    "# Pannuke\n",
    "\n",
    "This converts the .npy files to png and .mat files and moves them to their corresponding folders\n",
    "- Takes a couple of mins"
   ]
  },
  {
   "cell_type": "code",
   "execution_count": 3,
   "metadata": {
    "scrolled": true
   },
   "outputs": [],
   "source": [
    "pannuke_raw_data_dir = conf['paths']['raw_data_dirs']['pannuke']\n",
    "fm.handle_raw_data(\"pannuke\", pannuke_raw_data_dir, rm_zips=False, overlays=True)"
   ]
  },
  {
   "cell_type": "code",
   "execution_count": 3,
   "metadata": {},
   "outputs": [],
   "source": [
    "dd = fm.data_dirs[\"pannuke\"]"
   ]
  },
  {
   "cell_type": "code",
   "execution_count": 15,
   "metadata": {},
   "outputs": [
    {
     "name": "stdout",
     "output_type": "stream",
     "text": [
      "omegaconf.dictconfig.DictConfig\n"
     ]
    },
    {
     "data": {
      "text/plain": [
       "True"
      ]
     },
     "execution_count": 15,
     "metadata": {},
     "output_type": "execute_result"
    }
   ],
   "source": [
    "from omegaconf.dictconfig import DictConfig\n",
    "print(type(dd))\n",
    "isinstance(dd, DictConfig)"
   ]
  },
  {
   "cell_type": "code",
   "execution_count": 4,
   "metadata": {},
   "outputs": [
    {
     "data": {
      "text/plain": [
       "{'train_im': '../../datasets/pannuke/train/images',\n",
       " 'train_gt': '../../datasets/pannuke/train/labels',\n",
       " 'test_im': '../../datasets/pannuke/test/images',\n",
       " 'test_gt': '../../datasets/pannuke/test/labels'}"
      ]
     },
     "execution_count": 4,
     "metadata": {},
     "output_type": "execute_result"
    }
   ],
   "source": [
    "OmegaConf.to_container(dd)"
   ]
  },
  {
   "cell_type": "code",
   "execution_count": 19,
   "metadata": {},
   "outputs": [
    {
     "name": "stdout",
     "output_type": "stream",
     "text": [
      "['fold1', 'fold3']\n",
      "['Adrenal_gland', 'Breast']\n"
     ]
    }
   ],
   "source": [
    "g = set([\"Adrenal_gland\", \"Breast\", \"Breast\"])\n",
    "e = set(['fold1', 'fold3', \"fold3\"])\n",
    "r = \"both\"\n",
    "# list(map(lambda x : f\"{g}_{x}\", ['fold1', 'fold2', 'fold3']))\n",
    "print(sorted(list(e)))\n",
    "print(sorted(list(g)))"
   ]
  },
  {
   "cell_type": "code",
   "execution_count": 22,
   "metadata": {
    "scrolled": true
   },
   "outputs": [
    {
     "data": {
      "text/plain": [
       "PosixPath('../../datasets/pannuke/train/labels/Breast_fold1_99.mat')"
      ]
     },
     "execution_count": 22,
     "metadata": {},
     "output_type": "execute_result"
    }
   ],
   "source": [
    "if r == \"img\":\n",
    "    wc2 = \".png\"\n",
    "elif r == \"mask\":\n",
    "    wc2 = \".mat\"\n",
    "else:\n",
    "    wc2 = \"\"\n",
    "\n",
    "g = sorted(list(g))\n",
    "e = sorted(list(e))\n",
    "    \n",
    "paths = []\n",
    "for d in dict(fm.data_dirs[\"pannuke\"]).values():\n",
    "    for tissue in g:\n",
    "        tf = list(map(lambda fold : f\"{tissue}_{fold}\", e))\n",
    "        for wc in tf:\n",
    "            for f in sorted(Path(d).glob(f\"*{wc}*{wc2}\")):\n",
    "                paths.append(f)\n",
    "                \n",
    "                \n",
    "                    \n",
    "paths = sorted(paths)\n",
    "path_dict = {}\n",
    "if r == \"both\":\n",
    "    imgs = [path for path in paths if path.suffix == \".png\"]\n",
    "    masks = [path for path in paths if path.suffix == \".mat\"]\n",
    "    path_dict[\"img\"] = imgs\n",
    "    path_dict[\"mask\"] = masks\n",
    "else:\n",
    "    path_dict[r] = paths\n",
    "    \n",
    "path_dict['mask']"
   ]
  },
  {
   "cell_type": "code",
   "execution_count": 5,
   "metadata": {},
   "outputs": [
    {
     "data": {
      "text/plain": [
       "{'img': [PosixPath('../../datasets/pannuke/test/images/Ovarian_fold3_0.png'),\n",
       "  PosixPath('../../datasets/pannuke/test/images/Ovarian_fold3_1.png'),\n",
       "  PosixPath('../../datasets/pannuke/test/images/Ovarian_fold3_10.png'),\n",
       "  PosixPath('../../datasets/pannuke/test/images/Ovarian_fold3_11.png'),\n",
       "  PosixPath('../../datasets/pannuke/test/images/Ovarian_fold3_12.png'),\n",
       "  PosixPath('../../datasets/pannuke/test/images/Ovarian_fold3_13.png'),\n",
       "  PosixPath('../../datasets/pannuke/test/images/Ovarian_fold3_14.png'),\n",
       "  PosixPath('../../datasets/pannuke/test/images/Ovarian_fold3_15.png'),\n",
       "  PosixPath('../../datasets/pannuke/test/images/Ovarian_fold3_16.png'),\n",
       "  PosixPath('../../datasets/pannuke/test/images/Ovarian_fold3_17.png'),\n",
       "  PosixPath('../../datasets/pannuke/test/images/Ovarian_fold3_18.png'),\n",
       "  PosixPath('../../datasets/pannuke/test/images/Ovarian_fold3_19.png'),\n",
       "  PosixPath('../../datasets/pannuke/test/images/Ovarian_fold3_2.png'),\n",
       "  PosixPath('../../datasets/pannuke/test/images/Ovarian_fold3_20.png'),\n",
       "  PosixPath('../../datasets/pannuke/test/images/Ovarian_fold3_21.png'),\n",
       "  PosixPath('../../datasets/pannuke/test/images/Ovarian_fold3_22.png'),\n",
       "  PosixPath('../../datasets/pannuke/test/images/Ovarian_fold3_23.png'),\n",
       "  PosixPath('../../datasets/pannuke/test/images/Ovarian_fold3_24.png'),\n",
       "  PosixPath('../../datasets/pannuke/test/images/Ovarian_fold3_25.png'),\n",
       "  PosixPath('../../datasets/pannuke/test/images/Ovarian_fold3_26.png'),\n",
       "  PosixPath('../../datasets/pannuke/test/images/Ovarian_fold3_27.png'),\n",
       "  PosixPath('../../datasets/pannuke/test/images/Ovarian_fold3_28.png'),\n",
       "  PosixPath('../../datasets/pannuke/test/images/Ovarian_fold3_29.png'),\n",
       "  PosixPath('../../datasets/pannuke/test/images/Ovarian_fold3_3.png'),\n",
       "  PosixPath('../../datasets/pannuke/test/images/Ovarian_fold3_30.png'),\n",
       "  PosixPath('../../datasets/pannuke/test/images/Ovarian_fold3_31.png'),\n",
       "  PosixPath('../../datasets/pannuke/test/images/Ovarian_fold3_32.png'),\n",
       "  PosixPath('../../datasets/pannuke/test/images/Ovarian_fold3_33.png'),\n",
       "  PosixPath('../../datasets/pannuke/test/images/Ovarian_fold3_34.png'),\n",
       "  PosixPath('../../datasets/pannuke/test/images/Ovarian_fold3_35.png'),\n",
       "  PosixPath('../../datasets/pannuke/test/images/Ovarian_fold3_36.png'),\n",
       "  PosixPath('../../datasets/pannuke/test/images/Ovarian_fold3_37.png'),\n",
       "  PosixPath('../../datasets/pannuke/test/images/Ovarian_fold3_38.png'),\n",
       "  PosixPath('../../datasets/pannuke/test/images/Ovarian_fold3_39.png'),\n",
       "  PosixPath('../../datasets/pannuke/test/images/Ovarian_fold3_4.png'),\n",
       "  PosixPath('../../datasets/pannuke/test/images/Ovarian_fold3_40.png'),\n",
       "  PosixPath('../../datasets/pannuke/test/images/Ovarian_fold3_41.png'),\n",
       "  PosixPath('../../datasets/pannuke/test/images/Ovarian_fold3_42.png'),\n",
       "  PosixPath('../../datasets/pannuke/test/images/Ovarian_fold3_43.png'),\n",
       "  PosixPath('../../datasets/pannuke/test/images/Ovarian_fold3_44.png'),\n",
       "  PosixPath('../../datasets/pannuke/test/images/Ovarian_fold3_45.png'),\n",
       "  PosixPath('../../datasets/pannuke/test/images/Ovarian_fold3_46.png'),\n",
       "  PosixPath('../../datasets/pannuke/test/images/Ovarian_fold3_47.png'),\n",
       "  PosixPath('../../datasets/pannuke/test/images/Ovarian_fold3_48.png'),\n",
       "  PosixPath('../../datasets/pannuke/test/images/Ovarian_fold3_49.png'),\n",
       "  PosixPath('../../datasets/pannuke/test/images/Ovarian_fold3_5.png'),\n",
       "  PosixPath('../../datasets/pannuke/test/images/Ovarian_fold3_50.png'),\n",
       "  PosixPath('../../datasets/pannuke/test/images/Ovarian_fold3_51.png'),\n",
       "  PosixPath('../../datasets/pannuke/test/images/Ovarian_fold3_6.png'),\n",
       "  PosixPath('../../datasets/pannuke/test/images/Ovarian_fold3_7.png'),\n",
       "  PosixPath('../../datasets/pannuke/test/images/Ovarian_fold3_8.png'),\n",
       "  PosixPath('../../datasets/pannuke/test/images/Ovarian_fold3_9.png'),\n",
       "  PosixPath('../../datasets/pannuke/train/images/Ovarian_fold2_0.png'),\n",
       "  PosixPath('../../datasets/pannuke/train/images/Ovarian_fold2_1.png'),\n",
       "  PosixPath('../../datasets/pannuke/train/images/Ovarian_fold2_10.png'),\n",
       "  PosixPath('../../datasets/pannuke/train/images/Ovarian_fold2_11.png'),\n",
       "  PosixPath('../../datasets/pannuke/train/images/Ovarian_fold2_12.png'),\n",
       "  PosixPath('../../datasets/pannuke/train/images/Ovarian_fold2_13.png'),\n",
       "  PosixPath('../../datasets/pannuke/train/images/Ovarian_fold2_14.png'),\n",
       "  PosixPath('../../datasets/pannuke/train/images/Ovarian_fold2_15.png'),\n",
       "  PosixPath('../../datasets/pannuke/train/images/Ovarian_fold2_16.png'),\n",
       "  PosixPath('../../datasets/pannuke/train/images/Ovarian_fold2_17.png'),\n",
       "  PosixPath('../../datasets/pannuke/train/images/Ovarian_fold2_18.png'),\n",
       "  PosixPath('../../datasets/pannuke/train/images/Ovarian_fold2_19.png'),\n",
       "  PosixPath('../../datasets/pannuke/train/images/Ovarian_fold2_2.png'),\n",
       "  PosixPath('../../datasets/pannuke/train/images/Ovarian_fold2_20.png'),\n",
       "  PosixPath('../../datasets/pannuke/train/images/Ovarian_fold2_21.png'),\n",
       "  PosixPath('../../datasets/pannuke/train/images/Ovarian_fold2_22.png'),\n",
       "  PosixPath('../../datasets/pannuke/train/images/Ovarian_fold2_23.png'),\n",
       "  PosixPath('../../datasets/pannuke/train/images/Ovarian_fold2_24.png'),\n",
       "  PosixPath('../../datasets/pannuke/train/images/Ovarian_fold2_25.png'),\n",
       "  PosixPath('../../datasets/pannuke/train/images/Ovarian_fold2_26.png'),\n",
       "  PosixPath('../../datasets/pannuke/train/images/Ovarian_fold2_27.png'),\n",
       "  PosixPath('../../datasets/pannuke/train/images/Ovarian_fold2_28.png'),\n",
       "  PosixPath('../../datasets/pannuke/train/images/Ovarian_fold2_29.png'),\n",
       "  PosixPath('../../datasets/pannuke/train/images/Ovarian_fold2_3.png'),\n",
       "  PosixPath('../../datasets/pannuke/train/images/Ovarian_fold2_30.png'),\n",
       "  PosixPath('../../datasets/pannuke/train/images/Ovarian_fold2_31.png'),\n",
       "  PosixPath('../../datasets/pannuke/train/images/Ovarian_fold2_32.png'),\n",
       "  PosixPath('../../datasets/pannuke/train/images/Ovarian_fold2_33.png'),\n",
       "  PosixPath('../../datasets/pannuke/train/images/Ovarian_fold2_34.png'),\n",
       "  PosixPath('../../datasets/pannuke/train/images/Ovarian_fold2_35.png'),\n",
       "  PosixPath('../../datasets/pannuke/train/images/Ovarian_fold2_36.png'),\n",
       "  PosixPath('../../datasets/pannuke/train/images/Ovarian_fold2_37.png'),\n",
       "  PosixPath('../../datasets/pannuke/train/images/Ovarian_fold2_38.png'),\n",
       "  PosixPath('../../datasets/pannuke/train/images/Ovarian_fold2_39.png'),\n",
       "  PosixPath('../../datasets/pannuke/train/images/Ovarian_fold2_4.png'),\n",
       "  PosixPath('../../datasets/pannuke/train/images/Ovarian_fold2_5.png'),\n",
       "  PosixPath('../../datasets/pannuke/train/images/Ovarian_fold2_6.png'),\n",
       "  PosixPath('../../datasets/pannuke/train/images/Ovarian_fold2_7.png'),\n",
       "  PosixPath('../../datasets/pannuke/train/images/Ovarian_fold2_8.png'),\n",
       "  PosixPath('../../datasets/pannuke/train/images/Ovarian_fold2_9.png')],\n",
       " 'mask': [PosixPath('../../datasets/pannuke/test/labels/Ovarian_fold3_0.mat'),\n",
       "  PosixPath('../../datasets/pannuke/test/labels/Ovarian_fold3_1.mat'),\n",
       "  PosixPath('../../datasets/pannuke/test/labels/Ovarian_fold3_10.mat'),\n",
       "  PosixPath('../../datasets/pannuke/test/labels/Ovarian_fold3_11.mat'),\n",
       "  PosixPath('../../datasets/pannuke/test/labels/Ovarian_fold3_12.mat'),\n",
       "  PosixPath('../../datasets/pannuke/test/labels/Ovarian_fold3_13.mat'),\n",
       "  PosixPath('../../datasets/pannuke/test/labels/Ovarian_fold3_14.mat'),\n",
       "  PosixPath('../../datasets/pannuke/test/labels/Ovarian_fold3_15.mat'),\n",
       "  PosixPath('../../datasets/pannuke/test/labels/Ovarian_fold3_16.mat'),\n",
       "  PosixPath('../../datasets/pannuke/test/labels/Ovarian_fold3_17.mat'),\n",
       "  PosixPath('../../datasets/pannuke/test/labels/Ovarian_fold3_18.mat'),\n",
       "  PosixPath('../../datasets/pannuke/test/labels/Ovarian_fold3_19.mat'),\n",
       "  PosixPath('../../datasets/pannuke/test/labels/Ovarian_fold3_2.mat'),\n",
       "  PosixPath('../../datasets/pannuke/test/labels/Ovarian_fold3_20.mat'),\n",
       "  PosixPath('../../datasets/pannuke/test/labels/Ovarian_fold3_21.mat'),\n",
       "  PosixPath('../../datasets/pannuke/test/labels/Ovarian_fold3_22.mat'),\n",
       "  PosixPath('../../datasets/pannuke/test/labels/Ovarian_fold3_23.mat'),\n",
       "  PosixPath('../../datasets/pannuke/test/labels/Ovarian_fold3_24.mat'),\n",
       "  PosixPath('../../datasets/pannuke/test/labels/Ovarian_fold3_25.mat'),\n",
       "  PosixPath('../../datasets/pannuke/test/labels/Ovarian_fold3_26.mat'),\n",
       "  PosixPath('../../datasets/pannuke/test/labels/Ovarian_fold3_27.mat'),\n",
       "  PosixPath('../../datasets/pannuke/test/labels/Ovarian_fold3_28.mat'),\n",
       "  PosixPath('../../datasets/pannuke/test/labels/Ovarian_fold3_29.mat'),\n",
       "  PosixPath('../../datasets/pannuke/test/labels/Ovarian_fold3_3.mat'),\n",
       "  PosixPath('../../datasets/pannuke/test/labels/Ovarian_fold3_30.mat'),\n",
       "  PosixPath('../../datasets/pannuke/test/labels/Ovarian_fold3_31.mat'),\n",
       "  PosixPath('../../datasets/pannuke/test/labels/Ovarian_fold3_32.mat'),\n",
       "  PosixPath('../../datasets/pannuke/test/labels/Ovarian_fold3_33.mat'),\n",
       "  PosixPath('../../datasets/pannuke/test/labels/Ovarian_fold3_34.mat'),\n",
       "  PosixPath('../../datasets/pannuke/test/labels/Ovarian_fold3_35.mat'),\n",
       "  PosixPath('../../datasets/pannuke/test/labels/Ovarian_fold3_36.mat'),\n",
       "  PosixPath('../../datasets/pannuke/test/labels/Ovarian_fold3_37.mat'),\n",
       "  PosixPath('../../datasets/pannuke/test/labels/Ovarian_fold3_38.mat'),\n",
       "  PosixPath('../../datasets/pannuke/test/labels/Ovarian_fold3_39.mat'),\n",
       "  PosixPath('../../datasets/pannuke/test/labels/Ovarian_fold3_4.mat'),\n",
       "  PosixPath('../../datasets/pannuke/test/labels/Ovarian_fold3_40.mat'),\n",
       "  PosixPath('../../datasets/pannuke/test/labels/Ovarian_fold3_41.mat'),\n",
       "  PosixPath('../../datasets/pannuke/test/labels/Ovarian_fold3_42.mat'),\n",
       "  PosixPath('../../datasets/pannuke/test/labels/Ovarian_fold3_43.mat'),\n",
       "  PosixPath('../../datasets/pannuke/test/labels/Ovarian_fold3_44.mat'),\n",
       "  PosixPath('../../datasets/pannuke/test/labels/Ovarian_fold3_45.mat'),\n",
       "  PosixPath('../../datasets/pannuke/test/labels/Ovarian_fold3_46.mat'),\n",
       "  PosixPath('../../datasets/pannuke/test/labels/Ovarian_fold3_47.mat'),\n",
       "  PosixPath('../../datasets/pannuke/test/labels/Ovarian_fold3_48.mat'),\n",
       "  PosixPath('../../datasets/pannuke/test/labels/Ovarian_fold3_49.mat'),\n",
       "  PosixPath('../../datasets/pannuke/test/labels/Ovarian_fold3_5.mat'),\n",
       "  PosixPath('../../datasets/pannuke/test/labels/Ovarian_fold3_50.mat'),\n",
       "  PosixPath('../../datasets/pannuke/test/labels/Ovarian_fold3_51.mat'),\n",
       "  PosixPath('../../datasets/pannuke/test/labels/Ovarian_fold3_6.mat'),\n",
       "  PosixPath('../../datasets/pannuke/test/labels/Ovarian_fold3_7.mat'),\n",
       "  PosixPath('../../datasets/pannuke/test/labels/Ovarian_fold3_8.mat'),\n",
       "  PosixPath('../../datasets/pannuke/test/labels/Ovarian_fold3_9.mat'),\n",
       "  PosixPath('../../datasets/pannuke/train/labels/Ovarian_fold2_0.mat'),\n",
       "  PosixPath('../../datasets/pannuke/train/labels/Ovarian_fold2_1.mat'),\n",
       "  PosixPath('../../datasets/pannuke/train/labels/Ovarian_fold2_10.mat'),\n",
       "  PosixPath('../../datasets/pannuke/train/labels/Ovarian_fold2_11.mat'),\n",
       "  PosixPath('../../datasets/pannuke/train/labels/Ovarian_fold2_12.mat'),\n",
       "  PosixPath('../../datasets/pannuke/train/labels/Ovarian_fold2_13.mat'),\n",
       "  PosixPath('../../datasets/pannuke/train/labels/Ovarian_fold2_14.mat'),\n",
       "  PosixPath('../../datasets/pannuke/train/labels/Ovarian_fold2_15.mat'),\n",
       "  PosixPath('../../datasets/pannuke/train/labels/Ovarian_fold2_16.mat'),\n",
       "  PosixPath('../../datasets/pannuke/train/labels/Ovarian_fold2_17.mat'),\n",
       "  PosixPath('../../datasets/pannuke/train/labels/Ovarian_fold2_18.mat'),\n",
       "  PosixPath('../../datasets/pannuke/train/labels/Ovarian_fold2_19.mat'),\n",
       "  PosixPath('../../datasets/pannuke/train/labels/Ovarian_fold2_2.mat'),\n",
       "  PosixPath('../../datasets/pannuke/train/labels/Ovarian_fold2_20.mat'),\n",
       "  PosixPath('../../datasets/pannuke/train/labels/Ovarian_fold2_21.mat'),\n",
       "  PosixPath('../../datasets/pannuke/train/labels/Ovarian_fold2_22.mat'),\n",
       "  PosixPath('../../datasets/pannuke/train/labels/Ovarian_fold2_23.mat'),\n",
       "  PosixPath('../../datasets/pannuke/train/labels/Ovarian_fold2_24.mat'),\n",
       "  PosixPath('../../datasets/pannuke/train/labels/Ovarian_fold2_25.mat'),\n",
       "  PosixPath('../../datasets/pannuke/train/labels/Ovarian_fold2_26.mat'),\n",
       "  PosixPath('../../datasets/pannuke/train/labels/Ovarian_fold2_27.mat'),\n",
       "  PosixPath('../../datasets/pannuke/train/labels/Ovarian_fold2_28.mat'),\n",
       "  PosixPath('../../datasets/pannuke/train/labels/Ovarian_fold2_29.mat'),\n",
       "  PosixPath('../../datasets/pannuke/train/labels/Ovarian_fold2_3.mat'),\n",
       "  PosixPath('../../datasets/pannuke/train/labels/Ovarian_fold2_30.mat'),\n",
       "  PosixPath('../../datasets/pannuke/train/labels/Ovarian_fold2_31.mat'),\n",
       "  PosixPath('../../datasets/pannuke/train/labels/Ovarian_fold2_32.mat'),\n",
       "  PosixPath('../../datasets/pannuke/train/labels/Ovarian_fold2_33.mat'),\n",
       "  PosixPath('../../datasets/pannuke/train/labels/Ovarian_fold2_34.mat'),\n",
       "  PosixPath('../../datasets/pannuke/train/labels/Ovarian_fold2_35.mat'),\n",
       "  PosixPath('../../datasets/pannuke/train/labels/Ovarian_fold2_36.mat'),\n",
       "  PosixPath('../../datasets/pannuke/train/labels/Ovarian_fold2_37.mat'),\n",
       "  PosixPath('../../datasets/pannuke/train/labels/Ovarian_fold2_38.mat'),\n",
       "  PosixPath('../../datasets/pannuke/train/labels/Ovarian_fold2_39.mat'),\n",
       "  PosixPath('../../datasets/pannuke/train/labels/Ovarian_fold2_4.mat'),\n",
       "  PosixPath('../../datasets/pannuke/train/labels/Ovarian_fold2_5.mat'),\n",
       "  PosixPath('../../datasets/pannuke/train/labels/Ovarian_fold2_6.mat'),\n",
       "  PosixPath('../../datasets/pannuke/train/labels/Ovarian_fold2_7.mat'),\n",
       "  PosixPath('../../datasets/pannuke/train/labels/Ovarian_fold2_8.mat'),\n",
       "  PosixPath('../../datasets/pannuke/train/labels/Ovarian_fold2_9.mat')]}"
      ]
     },
     "execution_count": 5,
     "metadata": {},
     "output_type": "execute_result"
    }
   ],
   "source": [
    "fm.get_pannuke_fold(['fold3', 'fold2'], ['Ovarian'], \"both\")"
   ]
  }
 ],
 "metadata": {
  "kernelspec": {
   "display_name": "Python 3",
   "language": "python",
   "name": "python3"
  },
  "language_info": {
   "codemirror_mode": {
    "name": "ipython",
    "version": 3
   },
   "file_extension": ".py",
   "mimetype": "text/x-python",
   "name": "python",
   "nbconvert_exporter": "python",
   "pygments_lexer": "ipython3",
   "version": "3.6.9"
  }
 },
 "nbformat": 4,
 "nbformat_minor": 4
}
