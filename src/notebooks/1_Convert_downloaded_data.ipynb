{
 "cells": [
  {
   "cell_type": "markdown",
   "metadata": {},
   "source": [
    "# File format and folder structure\n",
    "\n",
    "The folder structure for this project is designed so that there won't be any hassling with folders and paths when using these codes. After downloading the data files from the given github links all that is needed is to place the .zip files or extract the contents of the .zip files to the right folders inside the `datasets/` folder of the repository.\n",
    "\n",
    "Images can be of any format cv2 can read and the masks are in the same format as in the the HoVer-Net paper which is:\n",
    "\n",
    "- .mat files\n",
    "- 'inst_map' is the key for accessing the nuclei instance maps\n",
    "- 'type_map' is the key for accessing the nuclei type maps if the dataset contains them. \n",
    "- For now consep and pannuke has type maps so 'type_map' so 'type_map' key only works on them.\n",
    "- Only exception to the HoVer-Net paper is that nuclei centroids and instance types are not saved to the .mat files\n",
    "\n",
    "By running these, also the instance and type map overlays can be drawn to theis correspondin gfolders for further visual investigations of the data"
   ]
  },
  {
   "cell_type": "code",
   "execution_count": 1,
   "metadata": {},
   "outputs": [],
   "source": [
    "import sys\n",
    "sys.path.append(\"..\")\n",
    "sys.path.append(\"../utils\")\n",
    "from file_manager import *\n",
    "from config import conf"
   ]
  },
  {
   "cell_type": "code",
   "execution_count": 2,
   "metadata": {},
   "outputs": [],
   "source": [
    "fm = ProjectFileManager.from_conf(conf)"
   ]
  },
  {
   "cell_type": "markdown",
   "metadata": {},
   "source": [
    "# Kumar\n",
    "\n",
    "This moves the raw data to it's own folder and and writes .mat masks and copies images to their own folders"
   ]
  },
  {
   "cell_type": "code",
   "execution_count": 4,
   "metadata": {},
   "outputs": [],
   "source": [
    "kumar_raw_data_dir = conf['paths']['raw_data_dirs']['kumar']\n",
    "fm.handle_raw_data(\"kumar\", kumar_raw_data_dir, rm_zips=False, overlays=True)"
   ]
  },
  {
   "cell_type": "markdown",
   "metadata": {},
   "source": [
    "# Consep\n",
    "\n",
    "This moves the raw original data to it's own folder and copies the .mat masks and images to right folders"
   ]
  },
  {
   "cell_type": "code",
   "execution_count": 3,
   "metadata": {},
   "outputs": [],
   "source": [
    "consep_raw_data_dir = conf['paths']['raw_data_dirs']['consep']\n",
    "fm.handle_raw_data(\"consep\", consep_raw_data_dir, rm_zips=False, overlays=True)"
   ]
  },
  {
   "cell_type": "markdown",
   "metadata": {},
   "source": [
    "# Pannuke\n",
    "\n",
    "This converts the .npy files to png and .mat files and moves them to their corresponding folders\n",
    "- Takes a couple of mins"
   ]
  },
  {
   "cell_type": "code",
   "execution_count": 3,
   "metadata": {
    "scrolled": true
   },
   "outputs": [],
   "source": [
    "pannuke_raw_data_dir = conf['paths']['raw_data_dirs']['pannuke']\n",
    "fm.handle_raw_data(\"pannuke\", pannuke_raw_data_dir, rm_zips=False, overlays=True)"
   ]
  }
 ],
 "metadata": {
  "kernelspec": {
   "display_name": "Python 3",
   "language": "python",
   "name": "python3"
  },
  "language_info": {
   "codemirror_mode": {
    "name": "ipython",
    "version": 3
   },
   "file_extension": ".py",
   "mimetype": "text/x-python",
   "name": "python",
   "nbconvert_exporter": "python",
   "pygments_lexer": "ipython3",
   "version": "3.6.9"
  }
 },
 "nbformat": 4,
 "nbformat_minor": 4
}
